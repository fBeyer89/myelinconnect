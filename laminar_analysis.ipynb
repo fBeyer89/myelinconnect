{
 "cells": [
  {
   "cell_type": "code",
   "execution_count": 1,
   "metadata": {
    "collapsed": true
   },
   "outputs": [],
   "source": [
    "%matplotlib inline"
   ]
  },
  {
   "cell_type": "code",
   "execution_count": 2,
   "metadata": {
    "collapsed": false
   },
   "outputs": [
    {
     "name": "stderr",
     "output_type": "stream",
     "text": [
      "/home/raid3/huntenburg/workspace/anaconda2/envs/myelinconnect/lib/python2.7/site-packages/IPython/html.py:14: ShimWarning: The `IPython.html` package has been deprecated. You should import from `notebook` instead. `IPython.html.widgets` has moved to `ipywidgets`.\n",
      "  \"`IPython.html.widgets` has moved to `ipywidgets`.\", ShimWarning)\n"
     ]
    }
   ],
   "source": [
    "from __future__ import division\n",
    "import numpy as np\n",
    "import pandas as pd\n",
    "import matplotlib.pyplot as plt\n",
    "import pickle\n",
    "import seaborn as sns\n",
    "from vtk_rw import read_vtk\n",
    "from plotting import plot_surf_stat_map, crop_img # from https://github.com/juhuntenburg/brainsurfacescripts\n",
    "import matplotlib as mpl\n",
    "import cmocean \n",
    "from nilearn import plotting\n",
    "import scipy.stats as stats"
   ]
  },
  {
   "cell_type": "code",
   "execution_count": 3,
   "metadata": {
    "collapsed": true
   },
   "outputs": [],
   "source": [
    "def load_pickle(pkl_file):\n",
    "    pkl_in = open(pkl_file, 'r')\n",
    "    pkl_dict = pickle.load(pkl_in)\n",
    "    pkl_in.close()\n",
    "    return pkl_dict"
   ]
  },
  {
   "cell_type": "code",
   "execution_count": 75,
   "metadata": {
    "collapsed": true
   },
   "outputs": [],
   "source": [
    "def brain_fig(plot_list):\n",
    "    sns.set_style('white')\n",
    "    n = len(plot_list)\n",
    "    rows = int(n/2)\n",
    "    fig = plt.figure(figsize=(12,rows*5))\n",
    "    for img in range(n):\n",
    "        ax = fig.add_subplot(rows,2,img+1)\n",
    "        plt.imshow(plot_list[img])\n",
    "        ax.set_axis_off()\n",
    "    fig.tight_layout()\n",
    "    return fig\n",
    "\n",
    "def dorsal_fig(plot_list):\n",
    "    sns.set_style('white')\n",
    "    n = len(plot_list)\n",
    "    rows = int(n/2)\n",
    "    fig = plt.figure(figsize=(8,rows*10))\n",
    "    for img in range(n):\n",
    "        ax = fig.add_subplot(rows,2,img+1)\n",
    "        plt.imshow(plot_list[img])\n",
    "        ax.set_axis_off()\n",
    "    fig.tight_layout()\n",
    "    return fig\n",
    "\n",
    "def occ_fig(plot_list):\n",
    "    sns.set_style('white')\n",
    "    n = len(plot_list)\n",
    "    rows = int(n/2)\n",
    "    fig = plt.figure(figsize=(6,rows*5))\n",
    "    for img in range(n):\n",
    "        ax = fig.add_subplot(rows,2,img+1)\n",
    "        plt.imshow(plot_list[img])\n",
    "        ax.set_axis_off()\n",
    "    fig.tight_layout()\n",
    "    return fig"
   ]
  },
  {
   "cell_type": "code",
   "execution_count": 6,
   "metadata": {
    "collapsed": false
   },
   "outputs": [],
   "source": [
    "infl=150\n",
    "lh_mesh_file = '/nobackup/ilz3/myelinconnect/new_groupavg/surfs/lowres/inflated/lh_lowres_new_taubin_%i.vtk'%infl\n",
    "lh_sulc_file = '/nobackup/ilz3/myelinconnect/new_groupavg/surfs/lowres/inflated/lh_lowres_new_taubin_%i_sulc.npy'%infl\n",
    "rh_mesh_file = '/nobackup/ilz3/myelinconnect/new_groupavg/surfs/lowres/inflated/rh_lowres_new_taubin_%i.vtk'%infl\n",
    "rh_sulc_file = '/nobackup/ilz3/myelinconnect/new_groupavg/surfs/lowres/inflated/rh_lowres_new_taubin_%i_sulc.npy'%infl\n",
    "fullmask_file = '/nobackup/ilz3/myelinconnect/new_groupavg/masks/fullmask_lh_rh_new.npy'\n",
    "vizmaks_file = '/nobackup/ilz3/myelinconnect/new_groupavg/masks/fullmask_lh_rh_viz.npy'\n",
    "lh_sulc = np.load(lh_sulc_file)\n",
    "lv, lf, _ = read_vtk(lh_mesh_file)\n",
    "rh_sulc = np.load(rh_sulc_file)\n",
    "rv, rf, _ = read_vtk(rh_mesh_file)\n",
    "fullmask = np.load(fullmask_file)\n",
    "vizmask = np.load(vizmaks_file)"
   ]
  },
  {
   "cell_type": "code",
   "execution_count": 7,
   "metadata": {
    "collapsed": false
   },
   "outputs": [],
   "source": [
    "embed_file='/nobackup/ilz3/myelinconnect/new_groupavg/embed/both_smooth_3_embed.npy'\n",
    "#embed_viz_file='/scr/ilz3/myelinconnect/new_groupavg/embed/both_smooth_3_embed_viz.npy'\n",
    "dict_file='/nobackup/ilz3/myelinconnect/new_groupavg/embed/both_smooth_3_embed_dict.pkl'\n",
    "#dict_viz_file='/scr/ilz3/myelinconnect/new_groupavg/embed/both_smooth_3_embed_dict_viz.pkl'\n",
    "\n",
    "embed_dict = load_pickle(dict_file)\n",
    "eigenval=embed_dict['lambdas']\n",
    "perc_var = eigenval/np.sum(eigenval)*100\n",
    "# normalize vectors\n",
    "embed_masked = np.zeros((embed_dict['vectors'].shape[0], embed_dict['vectors'].shape[1]-1))\n",
    "for comp in range(100):\n",
    "    embed_masked[:,comp]=(embed_dict['vectors'][:,comp+1]/embed_dict['vectors'][:,0])\n",
    "\n",
    "# unmask the embedding, that has been saved in masked form\n",
    "idcs=np.arange(0,(lv.shape[0]+rv.shape[0]))\n",
    "nonmask=np.delete(idcs, fullmask)\n",
    "embed = np.zeros(((lv.shape[0]+rv.shape[0]),100))\n",
    "embed[nonmask] = embed_masked"
   ]
  },
  {
   "cell_type": "code",
   "execution_count": 40,
   "metadata": {
    "collapsed": false
   },
   "outputs": [],
   "source": [
    "profiles_lh = np.load('/nobackup/ilz3/myelinconnect/new_groupavg/profiles/smooth_3/lh_group_avg_profiles_smooth_3.npy')\n",
    "profiles_rh = np.load('/nobackup/ilz3/myelinconnect/new_groupavg/profiles/smooth_3/rh_group_avg_profiles_smooth_3.npy')\n",
    "profiles = np.concatenate((profiles_lh, profiles_rh))\n",
    "profiles[fullmask] = 0\n",
    "profiles_masked = profiles[nonmask, 3:8]"
   ]
  },
  {
   "cell_type": "code",
   "execution_count": 58,
   "metadata": {
    "collapsed": true
   },
   "outputs": [],
   "source": [
    "t1_predict_file_best = '/nobackup/ilz3/myelinconnect/new_groupavg/model/linear_combination/t1avg/smooth_1.5/both_t1avg_by_fc_maps_best.pkl'\n",
    "t1_predict_best = load_pickle(t1_predict_file_best)\n",
    "best = t1_predict_best['modelled_fit'][nonmask]"
   ]
  },
  {
   "cell_type": "code",
   "execution_count": 94,
   "metadata": {
    "collapsed": false
   },
   "outputs": [
    {
     "name": "stdout",
     "output_type": "stream",
     "text": [
      "mean (-0.51506980315433759, 0.0)\n",
      "low (-0.56248839344379176, 0.0)\n",
      "middle (-0.52926064598764755, 0.0)\n",
      "high (-0.40944078898285158, 0.0)\n"
     ]
    }
   ],
   "source": [
    "print 'mean', stats.pearsonr(embed_masked[:,0], np.mean(profiles_masked, axis=1))\n",
    "print 'low', stats.pearsonr(embed_masked[:,0], profiles_masked[:,0])\n",
    "print 'middle', stats.pearsonr(embed_masked[:,0], profiles_masked[:,2])\n",
    "print 'high', stats.pearsonr(embed_masked[:,0], profiles_masked[:,4])"
   ]
  },
  {
   "cell_type": "code",
   "execution_count": 95,
   "metadata": {
    "collapsed": false
   },
   "outputs": [
    {
     "name": "stdout",
     "output_type": "stream",
     "text": [
      "mean (0.63631873806866257, 0.0)\n",
      "low (0.65512719562073718, 0.0)\n",
      "middle (0.63718274920554541, 0.0)\n",
      "high (0.57793837343431176, 0.0)\n"
     ]
    }
   ],
   "source": [
    "print 'mean',stats.pearsonr(best, np.mean(profiles_masked, axis=1))\n",
    "print 'low',stats.pearsonr(best, profiles_masked[:,0])\n",
    "print 'middle', stats.pearsonr(best, profiles_masked[:,2])\n",
    "print 'high', stats.pearsonr(best, profiles_masked[:,4])"
   ]
  },
  {
   "cell_type": "code",
   "execution_count": 96,
   "metadata": {
    "collapsed": false
   },
   "outputs": [
    {
     "name": "stdout",
     "output_type": "stream",
     "text": [
      "mean (-0.24755901965380095, 0.0)\n",
      "low (-0.22264744155688726, 0.0)\n",
      "middle (-0.24680526050672796, 0.0)\n",
      "high (-0.25578892306297485, 0.0)\n"
     ]
    }
   ],
   "source": [
    "print 'mean', stats.pearsonr(embed_masked[:,4], np.mean(profiles_masked, axis=1))\n",
    "print 'low', stats.pearsonr(embed_masked[:,4], profiles_masked[:,0])\n",
    "print 'middle', stats.pearsonr(embed_masked[:,4], profiles_masked[:,2])\n",
    "print 'high', stats.pearsonr(embed_masked[:,4], profiles_masked[:,4])"
   ]
  },
  {
   "cell_type": "code",
   "execution_count": 97,
   "metadata": {
    "collapsed": false
   },
   "outputs": [
    {
     "name": "stdout",
     "output_type": "stream",
     "text": [
      "mean (-0.30430598584264079, 0.0)\n",
      "low (-0.32033920726427462, 0.0)\n",
      "middle (-0.31190334944960524, 0.0)\n",
      "high (-0.25470930940508107, 0.0)\n"
     ]
    }
   ],
   "source": [
    "print 'mean', stats.pearsonr(embed_masked[:,5], np.mean(profiles_masked, axis=1))\n",
    "print 'low', stats.pearsonr(embed_masked[:,5], profiles_masked[:,0])\n",
    "print 'middle', stats.pearsonr(embed_masked[:,5], profiles_masked[:,2])\n",
    "print 'high', stats.pearsonr(embed_masked[:,5], profiles_masked[:,4])"
   ]
  },
  {
   "cell_type": "code",
   "execution_count": 98,
   "metadata": {
    "collapsed": false
   },
   "outputs": [
    {
     "data": {
      "text/plain": [
       "(array([  1.70300000e+03,   3.81790000e+04,   6.82150000e+04,\n",
       "          9.70500000e+03,   5.86000000e+02,   4.48000000e+02,\n",
       "          4.37000000e+02,   3.04000000e+02,   1.49000000e+02,\n",
       "          2.00000000e+01]),\n",
       " array([ 1500.08153534,  1568.23323593,  1636.38493652,  1704.53663712,\n",
       "         1772.68833771,  1840.8400383 ,  1908.99173889,  1977.14343948,\n",
       "         2045.29514008,  2113.44684067,  2181.59854126]),\n",
       " <a list of 10 Patch objects>)"
      ]
     },
     "execution_count": 98,
     "metadata": {},
     "output_type": "execute_result"
    },
    {
     "data": {
      "image/png": "[encoded data removed]",
      "text/plain": [
       "<matplotlib.figure.Figure at 0x7f2c59eb9190>"
      ]
     },
     "metadata": {},
     "output_type": "display_data"
    }
   ],
   "source": [
    "plt.hist(profiles[:,0][np.where(profiles[:,0]>1500)], alpha=0.5);\n",
    "#plt.hist(profiles[:,2][np.where(profiles[:,0]>1500)], alpha=0.5)\n",
    "#plt.hist(profiles[:,4][np.where(profiles[:,0]>1500)], alpha=0.5)"
   ]
  },
  {
   "cell_type": "code",
   "execution_count": 80,
   "metadata": {
    "collapsed": false
   },
   "outputs": [],
   "source": [
    "profiles_viz=np.copy(profiles)\n",
    "profiles_viz[vizmask]=0"
   ]
  },
  {
   "cell_type": "code",
   "execution_count": 85,
   "metadata": {
    "collapsed": true
   },
   "outputs": [],
   "source": [
    "darkness=0.6\n",
    "figsize_left = (10,9)\n",
    "figsize_right = (10,7.3)\n",
    "figsize_dorsal = (10,10)\n",
    "darkness=0.6"
   ]
  },
  {
   "cell_type": "code",
   "execution_count": null,
   "metadata": {
    "collapsed": false
   },
   "outputs": [],
   "source": [
    "sns.set_context(None)\n",
    "cropped_img = []\n",
    "vmin=1500\n",
    "vmax=1800\n",
    "data = profiles_viz[:,0]\n",
    "cmap=cmocean.cm.tempo_r\n",
    "sns.set_style('white')\n",
    "for (elev, azim) in [(180, 0), (180, 180)]:\n",
    "    plot=plot_surf_stat_map(lv, lf, stat_map=data[:lv.shape[0]], cmap=cmap,\n",
    "                            bg_map=lh_sulc, bg_on_stat=True,darkness=darkness, \n",
    "                            elev=elev,azim=azim, figsize=figsize_left,threshold=1200, \n",
    "                            symmetric_cbar=False, vmin=vmin, vmax=vmax)\n",
    "    cropped_img.append(crop_img(plot))\n",
    "\n",
    "for (elev, azim) in [(180, 0), (180, 180)]:\n",
    "    plot=plot_surf_stat_map(rv, rf, stat_map=data[lv.shape[0]:],  cmap=cmap, \n",
    "                            bg_map=rh_sulc, bg_on_stat=True,darkness=darkness, \n",
    "                            elev=elev,azim=azim, figsize=figsize_right,threshold=1200, \n",
    "                            symmetric_cbar=False, vmin=vmin, vmax=vmax)\n",
    "    cropped_img.append(crop_img(plot))\n",
    "\n",
    "for (elev, azim) in [(270, 90)]:\n",
    "    plot=plot_surf_stat_map(lv, lf, stat_map=data[:lv.shape[0]], cmap=cmap,\n",
    "                            bg_map=lh_sulc, bg_on_stat=True,darkness=darkness, \n",
    "                            elev=elev,azim=azim, figsize=figsize_dorsal,threshold=1200, \n",
    "                            symmetric_cbar=False, vmin=vmin, vmax=vmax)\n",
    "    cropped_img.append(crop_img(plot))\n",
    "\n",
    "\n",
    "for (elev, azim) in [(270, 90)]:\n",
    "    plot=plot_surf_stat_map(rv, rf, stat_map=data[lv.shape[0]:], cmap=cmap,\n",
    "                            bg_map=rh_sulc, bg_on_stat=True,darkness=darkness, \n",
    "                            elev=elev,azim=azim, figsize=figsize_dorsal,threshold=1200, \n",
    "                            symmetric_cbar=False, vmin=vmin, vmax=vmax)\n",
    "    cropped_img.append(crop_img(plot))\n",
    "#(occ, 200, 90)\n",
    "\n",
    "for (elev, azim) in [(190, 90)]:\n",
    "    plot=plot_surf_stat_map(lv, lf, stat_map=data[:lv.shape[0]], cmap=cmap,\n",
    "                            bg_map=lh_sulc, bg_on_stat=True,darkness=darkness, \n",
    "                            elev=elev,azim=azim, figsize=figsize_left,threshold=1200, \n",
    "                            symmetric_cbar=False, vmin=vmin, vmax=vmax)\n",
    "    cropped_img.append(crop_img(plot))\n",
    "\n",
    "\n",
    "for (elev, azim) in [(190, 85)]:\n",
    "    plot=plot_surf_stat_map(rv, rf, stat_map=data[lv.shape[0]:], cmap=cmap,\n",
    "                            bg_map=rh_sulc, bg_on_stat=True,darkness=darkness, \n",
    "                            elev=elev,azim=azim, figsize=figsize_right,threshold=1200, \n",
    "                            symmetric_cbar=False, vmin=vmin, vmax=vmax)\n",
    "    cropped_img.append(crop_img(plot))"
   ]
  },
  {
   "cell_type": "code",
   "execution_count": null,
   "metadata": {
    "collapsed": false
   },
   "outputs": [],
   "source": [
    "fig=brain_fig(cropped_img[0:4])\n",
    "#fig.savefig(pic_folder+'myelin_lateral_medial.png')\n",
    "\n",
    "fig=dorsal_fig(cropped_img[4:6])\n",
    "#fig.savefig(pic_folder+'myelin_dorsal.png')\n",
    "\n",
    "fig=brain_fig(cropped_img[6:8])\n",
    "#fig.savefig(pic_folder+'myelin_occ.png')\n",
    "\n",
    "sns.set_style('whitegrid')\n",
    "sns.set_context('notebook', font_scale=4)\n",
    "cmap = cmocean.cm.tempo_r\n",
    "norm = mpl.colors.Normalize(vmin=1700, vmax=2300)\n",
    "\n",
    "fig = plt.figure(figsize=(10, 5))\n",
    "ax1 = fig.add_axes([0.05, 0.05, 0.05, 0.9])\n",
    "mpl.colorbar.ColorbarBase(ax1, cmap=cmap,norm=norm,orientation='vertical', ticks=[1700, 1900, 2100, 2300])\n",
    "#fig.savefig(pic_folder+'myelin_cbar.svg')\n",
    "fig = plt.figure(figsize=(6.5, 4))\n",
    "ax1 = fig.add_axes([0.05, 0.80, 0.9, 0.15])\n",
    "mpl.colorbar.ColorbarBase(ax1, cmap=cmap,norm=norm,orientation='horizontal', ticks=[1700, 1900, 2100, 2300])\n",
    "#fig.savefig(pic_folder+'myelin_cbar_horizontal.svg')\n",
    "sns.set()"
   ]
  },
  {
   "cell_type": "code",
   "execution_count": null,
   "metadata": {
    "collapsed": true
   },
   "outputs": [],
   "source": []
  }
 ],
 "metadata": {
  "kernelspec": {
   "display_name": "Python 2",
   "language": "python",
   "name": "python2"
  },
  "language_info": {
   "codemirror_mode": {
    "name": "ipython",
    "version": 2
   },
   "file_extension": ".py",
   "mimetype": "text/x-python",
   "name": "python",
   "nbconvert_exporter": "python",
   "pygments_lexer": "ipython2",
   "version": "2.7.11"
  }
 },
 "nbformat": 4,
 "nbformat_minor": 0
}
