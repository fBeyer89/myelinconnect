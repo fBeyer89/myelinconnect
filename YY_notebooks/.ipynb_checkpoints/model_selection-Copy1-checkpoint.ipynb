{
 "cells": [
  {
   "cell_type": "code",
   "execution_count": 1,
   "metadata": {
    "collapsed": true
   },
   "outputs": [],
   "source": [
    "%matplotlib inline"
   ]
  },
  {
   "cell_type": "code",
   "execution_count": 2,
   "metadata": {
    "collapsed": true
   },
   "outputs": [],
   "source": [
    "from __future__ import division"
   ]
  },
  {
   "cell_type": "code",
   "execution_count": 3,
   "metadata": {
    "collapsed": false
   },
   "outputs": [
    {
     "name": "stderr",
     "output_type": "stream",
     "text": [
      "/home/raid3/huntenburg/workspace/anaconda2/envs/myelinconnect/lib/python2.7/site-packages/IPython/html.py:14: ShimWarning: The `IPython.html` package has been deprecated. You should import from `notebook` instead. `IPython.html.widgets` has moved to `ipywidgets`.\n",
      "  \"`IPython.html.widgets` has moved to `ipywidgets`.\", ShimWarning)\n"
     ]
    }
   ],
   "source": [
    "import numpy as np\n",
    "from vtk_rw import read_vtk\n",
    "from sklearn import linear_model\n",
    "import scipy.stats as stats\n",
    "import pickle\n",
    "import matplotlib.pyplot as plt\n",
    "import itertools\n",
    "import pandas as pd\n",
    "import seaborn as sns\n",
    "from graphs import graph_from_mesh\n",
    "import gdist"
   ]
  },
  {
   "cell_type": "code",
   "execution_count": 4,
   "metadata": {
    "collapsed": true
   },
   "outputs": [],
   "source": [
    "colors = sns.color_palette('cubehelix', 10)\n"
   ]
  },
  {
   "cell_type": "markdown",
   "metadata": {},
   "source": [
    "### prepare data"
   ]
  },
  {
   "cell_type": "code",
   "execution_count": 25,
   "metadata": {
    "collapsed": true
   },
   "outputs": [],
   "source": [
    "rh_mesh_file='/scr/ilz3/myelinconnect/new_groupavg/surfs/lowres/inflated/rh_lowres_new_infl50.vtk'\n",
    "lh_mesh_file='/scr/ilz3/myelinconnect/new_groupavg/surfs/lowres/inflated/lh_lowres_new_infl50.vtk'\n",
    "full_mask_file='/scr/ilz3/myelinconnect/new_groupavg/masks/fullmask_lh_rh_new.npy'\n",
    "rh_t1_file='/scr/ilz3/myelinconnect/new_groupavg/t1/smooth_1.5/rh_t1_avg_smooth_1.5.npy'\n",
    "lh_t1_file='/scr/ilz3/myelinconnect/new_groupavg/t1/smooth_1.5/lh_t1_avg_smooth_1.5.npy'\n",
    "embed_file='/scr/ilz3/myelinconnect/new_groupavg/embed/both_smooth_3_embed.npy'\n",
    "embed_dict_file='/scr/ilz3/myelinconnect/new_groupavg/embed/both_smooth_3_embed_dict.pkl'"
   ]
  },
  {
   "cell_type": "code",
   "execution_count": 26,
   "metadata": {
    "collapsed": false
   },
   "outputs": [],
   "source": [
    "lv,lf,_ = read_vtk(lh_mesh_file)\n",
    "lh_t1 = np.load(lh_t1_file)\n",
    "rv,rf,_ = read_vtk(rh_mesh_file)\n",
    "rh_t1 = np.load(rh_t1_file)\n",
    "\n",
    "mask = np.load(full_mask_file)\n",
    "\n",
    "# prepare embedding (normalized from entry in dict)\n",
    "pkl_in = open(embed_dict_file, 'r')\n",
    "embed_dict=pickle.load(pkl_in)\n",
    "pkl_in.close()\n",
    "\n",
    "embed_masked = np.zeros((embed_dict['vectors'].shape[0], embed_dict['vectors'].shape[1]-1))\n",
    "for comp in range(100):\n",
    "    embed_masked[:,comp]=(embed_dict['vectors'][:,comp+1]/embed_dict['vectors'][:,0])\n",
    "    #embed_masked /= np.linalg.norm(embed_masked, axis=0)\n",
    "\n",
    "# unmask the embedding, that has been saved in masked form\n",
    "idcs=np.arange(0,(lv.shape[0]+rv.shape[0]))\n",
    "nonmask=np.delete(idcs, mask)\n",
    "embed = np.zeros(((lv.shape[0]+rv.shape[0]),100))\n",
    "embed[nonmask] = embed_masked\n",
    "\n",
    "# extend mask to nodes that have a t1avg < 1500\n",
    "full_t1 = np.concatenate((lh_t1, rh_t1))\n",
    "fullmask = np.unique(np.concatenate((mask,np.where(full_t1<=1500)[0])))\n",
    "fullmask = np.asarray(fullmask, dtype='int64')\n",
    "nonmask_bigmask=np.delete(idcs, fullmask)\n",
    "\n",
    "# mask embedding and t1\n",
    "masked_t1 = np.delete(full_t1, fullmask)\n",
    "masked_embed = np.delete(embed, fullmask, axis=0)\n",
    "\n",
    "# mean center t1\n",
    "#masked_t1 = masked_t1 - np.mean(masked_t1)\n",
    "\n",
    "# normalize vectors so that BIC derivation works\n",
    "#embed_norm =  np.sqrt(masked_embed.shape[0] / np.sum(masked_embed**2, axis=0))\n",
    "#masked_embed *= embed_norm"
   ]
  },
  {
   "cell_type": "code",
   "execution_count": 27,
   "metadata": {
    "collapsed": false
   },
   "outputs": [
    {
     "data": {
      "text/plain": [
       "<matplotlib.legend.Legend at 0x7fd1779630d0>"
      ]
     },
     "execution_count": 27,
     "metadata": {},
     "output_type": "execute_result"
    },
    {
     "data": {
      "image/png": "[encoded data removed]",
      "text/plain": [
       "<matplotlib.figure.Figure at 0x7fd1a6ecf4d0>"
      ]
     },
     "metadata": {},
     "output_type": "display_data"
    }
   ],
   "source": [
    "sns.set_context('notebook')\n",
    "fig = plt.figure(figsize=(10,4))\n",
    "fig.add_subplot(121)\n",
    "for i in range(10):\n",
    "    plt.hist(masked_embed[:,i], label=str(i), alpha=0.5, color=sns.color_palette('husl', 10)[i]);\n",
    "    plt.legend()\n",
    "fig.add_subplot(122)\n",
    "plt.hist(masked_t1, label='t1', color='black', alpha=0.6);\n",
    "plt.legend()"
   ]
  },
  {
   "cell_type": "markdown",
   "metadata": {},
   "source": [
    "### Estimate sigma2_res as noise in T1"
   ]
  },
  {
   "cell_type": "code",
   "execution_count": 28,
   "metadata": {
    "collapsed": true
   },
   "outputs": [],
   "source": [
    "Gl = graph_from_mesh(lv, lf)\n",
    "Gr = graph_from_mesh(rv, rf)"
   ]
  },
  {
   "cell_type": "raw",
   "metadata": {},
   "source": [
    "# estimate from radius=3 neighbours\n",
    "\n",
    "inradius_matrix_l=gdist.local_gdist_matrix(lv.astype(np.float64), lf.astype(np.int32), max_distance=3)\n",
    "inradius_matrix_r=gdist.local_gdist_matrix(rv.astype(np.float64), rf.astype(np.int32), max_distance=3)\n",
    "\n",
    "full_t1[fullmask] = 0\n",
    "\n",
    "left_medians= []\n",
    "for li in range(lv.shape[0]):\n",
    "    neigh = inradius_matrix_l[:,li].indices\n",
    "    neigh_t1 = [full_t1[n] for n in neigh if not full_t1[n]==0]\n",
    "    neigh_dist = [np.abs(full_t1[li] - nt) for nt in neigh_t1]\n",
    "    left_medians.append(np.median(neigh_dist))\n",
    "    \n",
    "right_medians = []\n",
    "for ri in range(rv.shape[0]):\n",
    "    neigh = [x + lv.shape[0] for x in inradius_matrix_r[:,ri].indices]\n",
    "    neigh_t1 = [full_t1[n] for n in neigh if not full_t1[n]==0]\n",
    "    neigh_dist = [np.abs(full_t1[ri+lv.shape[0]] - nt) for nt in neigh_t1]\n",
    "    right_medians.append(np.median(neigh_dist))"
   ]
  },
  {
   "cell_type": "raw",
   "metadata": {
    "collapsed": false
   },
   "source": [
    "# estimate from direct neighbours\n",
    "left_medians= []\n",
    "for li in range(lv.shape[0]):\n",
    "    neigh = Gl.neighbors(li)\n",
    "    neigh_t1 = [full_t1[n] for n in neigh if not full_t1[n]==0]\n",
    "    neigh_dist = [np.abs(full_t1[li] - nt) for nt in neigh_t1]\n",
    "    left_medians.append(np.median(neigh_dist))\n",
    "    \n",
    "    \n",
    "right_medians = []\n",
    "for ri in range(rv.shape[0]):\n",
    "    neigh = [x + lv.shape[0] for x in Gr.neighbors(ri)]\n",
    "    neigh_t1 = [full_t1[n] for n in neigh if not full_t1[n]==0]\n",
    "    neigh_dist = [np.abs(full_t1[ri+lv.shape[0]] - nt) for nt in neigh_t1]\n",
    "    right_medians.append(np.median(neigh_dist))"
   ]
  },
  {
   "cell_type": "raw",
   "metadata": {
    "collapsed": false
   },
   "source": [
    "all_medians = np.concatenate((left_medians, right_medians))\n",
    "masked_medians = np.delete(all_medians, fullmask)\n",
    "noise_median = np.nanmedian(masked_medians)\n",
    "sigma2_res = noise_median**2\n",
    "print noise_median\n",
    "print sigma2_res"
   ]
  },
  {
   "cell_type": "code",
   "execution_count": 30,
   "metadata": {
    "collapsed": false
   },
   "outputs": [
    {
     "name": "stdout",
     "output_type": "stream",
     "text": [
      "11.5441449936\n",
      "133.267283633\n"
     ]
    }
   ],
   "source": [
    "# estimate precisely form direct neighbours\n",
    "#sigma = 0.5*median_vertex(median_neighbor(abs(val(vertex)-val(neighbor))))/0.67448975\n",
    "#the 0.5 is because the stdev of X-Y is 2x the stdev of X, Y; \n",
    "# the 0.67448975 because the median of a half gaussian distribution is sigma x sqrt(2) x erf-1(1/2) = sigma x 0.67448975\n",
    "\n",
    "left_medians= []\n",
    "for li in range(lv.shape[0]):\n",
    "    neigh = Gl.neighbors(li)\n",
    "    neigh_t1 = [full_t1[n] for n in neigh if not full_t1[n]==0]\n",
    "    neigh_dist = [np.abs(full_t1[li] - nt) for nt in neigh_t1]\n",
    "    left_medians.append(np.median(neigh_dist))\n",
    "    \n",
    "    \n",
    "right_medians = []\n",
    "for ri in range(rv.shape[0]):\n",
    "    neigh = [x + lv.shape[0] for x in Gr.neighbors(ri)]\n",
    "    neigh_t1 = [full_t1[n] for n in neigh if not full_t1[n]==0]\n",
    "    neigh_dist = [np.abs(full_t1[ri+lv.shape[0]] - nt) for nt in neigh_t1]\n",
    "    right_medians.append(np.median(neigh_dist))\n",
    "    \n",
    "    \n",
    "all_medians = np.concatenate((left_medians, right_medians))\n",
    "masked_medians = np.delete(all_medians, fullmask)\n",
    "noise_median = 0.5*np.nanmedian(masked_medians)/0.67448975\n",
    "sigma2_res = noise_median**2\n",
    "print noise_median\n",
    "print sigma2_res"
   ]
  },
  {
   "cell_type": "markdown",
   "metadata": {},
   "source": [
    "### set variance as % of T1 range"
   ]
  },
  {
   "cell_type": "code",
   "execution_count": 33,
   "metadata": {
    "collapsed": false
   },
   "outputs": [
    {
     "name": "stdout",
     "output_type": "stream",
     "text": [
      "1001.01828093\n"
     ]
    }
   ],
   "source": [
    "t1_range = masked_t1.max()-masked_t1.min()\n",
    "print t1_range"
   ]
  },
  {
   "cell_type": "code",
   "execution_count": 34,
   "metadata": {
    "collapsed": false
   },
   "outputs": [
    {
     "name": "stdout",
     "output_type": "stream",
     "text": [
      "1.55569735719\n"
     ]
    }
   ],
   "source": [
    "percent_estimated = noise_median  * 100 / t1_range\n",
    "print percent_estimated"
   ]
  },
  {
   "cell_type": "code",
   "execution_count": 84,
   "metadata": {
    "collapsed": false
   },
   "outputs": [
    {
     "name": "stdout",
     "output_type": "stream",
     "text": [
      "93.5140480518\n",
      "8744.87718304\n"
     ]
    }
   ],
   "source": [
    "#set_percent = 10\n",
    "#sigma_res = set_percent * t1_range / 100\n",
    "#sigma2_res = sigma_res**2\n",
    "#print sigma_res\n",
    "#print sigma2_res"
   ]
  },
  {
   "cell_type": "markdown",
   "metadata": {},
   "source": [
    "### BIC"
   ]
  },
  {
   "cell_type": "code",
   "execution_count": 35,
   "metadata": {
    "collapsed": true
   },
   "outputs": [],
   "source": [
    "def BIC(params, residuals, data, sigma2_res):\n",
    "    \n",
    "    p = params.shape[0]\n",
    "    n = residuals.shape[0]\n",
    "    data_range = data.max()-data.min()\n",
    "    \n",
    "    bic = (1-p) * np.log(2*np.pi*sigma2_res) + (1./sigma2_res) * (1./n) * np.sum(residuals**2) + p*np.log(data_range**2)\n",
    "    \n",
    "    return bic"
   ]
  },
  {
   "cell_type": "raw",
   "metadata": {
    "collapsed": true
   },
   "source": [
    "def BIC(params, residuals, data):\n",
    "    \n",
    "    p = params.shape[0]\n",
    "    n = residuals.shape[0]\n",
    "    data_range = data.max()-data.min()\n",
    "    sigma2_res = (1./n) * np.sum(residuals**2)\n",
    "    \n",
    "    bic = np.log(2*np.pi*sigma2_res) - p * np.log((2*np.pi*sigma2_res)/(data_range**2))\n",
    "    \n",
    "    return bic"
   ]
  },
  {
   "cell_type": "raw",
   "metadata": {
    "collapsed": false
   },
   "source": [
    "def BIC(params, residuals, var_t1):\n",
    "    '''\n",
    "    parameters : free parameters to the model\n",
    "    residuals : residuals resulting from predicting the actual data using the model with parameters p (not squared)\n",
    "    '''\n",
    "    # infer number of free parameters and sample points\n",
    "    p = params.shape[0]\n",
    "    n = residuals.shape[0]\n",
    "    \n",
    "    # estimate for parameter and residual variance, both assumed to be Gaussian distributed\n",
    "    sigma2_p = var_t1\n",
    "    sigma2_res = (1./n) * np.sum(residuals**2)\n",
    "    \n",
    "    # approximation for bic through taylor expansion around optimal parameters\n",
    "    bic = 1 + p * np.log(1+(sigma2_p/sigma2_res)) + (np.sum(params**2)/sigma2_p) + np.log(2*np.pi*sigma2_res)\n",
    "    \n",
    "    return bic"
   ]
  },
  {
   "cell_type": "markdown",
   "metadata": {},
   "source": [
    "### run single model for testing"
   ]
  },
  {
   "cell_type": "code",
   "execution_count": 38,
   "metadata": {
    "collapsed": false
   },
   "outputs": [
    {
     "name": "stdout",
     "output_type": "stream",
     "text": [
      "coeffs [-71.11913278  24.9353592    4.68860363   4.21976017 -34.9781779\n",
      " -41.89772823 -29.65496524  11.51373708  22.62030019 -26.25885703]\n",
      "R squared 0.605028683534\n",
      "BIC 101.640654898\n"
     ]
    }
   ],
   "source": [
    "maps = range(10)\n",
    "clf = linear_model.LinearRegression()\n",
    "clf.fit(masked_embed[:,maps], masked_t1)\n",
    "\n",
    "modelled_fit = clf.predict(masked_embed[:,maps])\n",
    "residuals = masked_t1 - clf.predict(masked_embed[:,maps])\n",
    "\n",
    "print 'coeffs', clf.coef_\n",
    "print 'R squared', clf.score(masked_embed[:,maps], masked_t1)\n",
    "print 'BIC', BIC(clf.coef_, residuals, masked_t1, sigma2_res)"
   ]
  },
  {
   "cell_type": "markdown",
   "metadata": {},
   "source": [
    "### iterate over all possible models"
   ]
  },
  {
   "cell_type": "code",
   "execution_count": null,
   "metadata": {
    "collapsed": false
   },
   "outputs": [],
   "source": [
    "maps = range(20)\n",
    "combinations = []\n",
    "\n",
    "for i in range(len(maps)):\n",
    "    element = [list(x) for x in itertools.combinations(maps, i+1)]\n",
    "    combinations.extend(element)"
   ]
  },
  {
   "cell_type": "code",
   "execution_count": null,
   "metadata": {
    "collapsed": false,
    "scrolled": true
   },
   "outputs": [],
   "source": [
    "df = pd.DataFrame(columns=[\"Maps\", \"Pearson's r\", \"R squared\", \"BIC\", \"Residuals\"], index=range(len(combinations)))\n",
    "for c in range(len(combinations)):\n",
    "    maps=combinations[c]\n",
    "    clf = linear_model.LinearRegression()\n",
    "    clf.fit(masked_embed[:,maps], masked_t1)\n",
    "\n",
    "    modelled_fit = clf.predict(masked_embed[:,maps])\n",
    "    residuals = masked_t1 - clf.predict(masked_embed[:,maps])\n",
    "\n",
    "    df[\"Maps\"][c] = tuple(maps)\n",
    "    df[\"Pearson's r\"][c] = stats.pearsonr(modelled_fit, masked_t1)[0]\n",
    "    df[\"R squared\"][c] = clf.score(masked_embed[:,maps], masked_t1)\n",
    "    df[\"BIC\"][c] = BIC(clf.coef_, residuals, masked_t1, sigma2_res)\n",
    "    df[\"Residuals\"][c] = (1./residuals.shape[0]) * np.sum(residuals**2)"
   ]
  },
  {
   "cell_type": "code",
   "execution_count": null,
   "metadata": {
    "collapsed": false
   },
   "outputs": [],
   "source": [
    "df.iloc[np.argmin(df[\"BIC\"])]"
   ]
  },
  {
   "cell_type": "code",
   "execution_count": null,
   "metadata": {
    "collapsed": true
   },
   "outputs": [],
   "source": [
    "len_maps = [len(df['Maps'][i]) for i in range(len(df['Maps']))]\n",
    "map_transitions = np.asarray([(x+.5) for x in range(len(len_maps)-1) if len_maps[x]!=len_maps[x+1]])\n",
    "map_transitions = map_transitions[:-1]"
   ]
  },
  {
   "cell_type": "code",
   "execution_count": null,
   "metadata": {
    "collapsed": false
   },
   "outputs": [],
   "source": [
    "import seaborn as sns\n",
    "sns.set_context('notebook', font_scale=2)\n",
    "sns.set_style('whitegrid')\n",
    "fig = plt.figure(figsize=(15,15))\n",
    "ax1 = fig.add_subplot(211)\n",
    "plt.plot(df[\"BIC\"], color=colors[3], alpha=1)\n",
    "ax1.vlines(map_transitions, df[\"BIC\"].min(), df[\"BIC\"].max(), linestyle='--', linewidth=3, colors=colors[0])\n",
    "plt.ylabel('BIC')\n",
    "plt.xlabel('# Model [increasing complexity]')\n",
    "plt.xticks(np.arange(0,1023, 100));\n",
    "plt.xlim([0,1023])\n",
    "ax2 = fig.add_subplot(212)\n",
    "norm_res = df[\"Residuals\"]/sigma2_res\n",
    "plt.plot(norm_res, color=colors[5], alpha=1)\n",
    "ax2.vlines(map_transitions, norm_res.min(), norm_res.max(), linestyle='--', linewidth=3, colors=colors[0])\n",
    "plt.ylabel('Normalized residuals')\n",
    "plt.xlabel('# Model [increasing complexity]')\n",
    "plt.xticks(np.arange(0,1023, 100));\n",
    "plt.xlim([0,1023])\n",
    "fig.tight_layout()\n",
    "#fig.savefig('/scr/ilz3/myelinconnect/new_groupavg/pics/model_comparison_10maps_allmodels_neighb_prec.png')"
   ]
  },
  {
   "cell_type": "code",
   "execution_count": null,
   "metadata": {
    "collapsed": false
   },
   "outputs": [],
   "source": [
    "upper_bound = 300\n",
    "sns.set_context('notebook', font_scale=2)\n",
    "sns.set_style('whitegrid')\n",
    "fig = plt.figure(figsize=(15,15))\n",
    "ax1 = fig.add_subplot(211)\n",
    "plt.plot(df[\"BIC\"][:upper_bound], color=colors[3], alpha=1)\n",
    "ax1.vlines(map_transitions[np.where(map_transitions<upper_bound)], df[\"BIC\"][:upper_bound].min(), df[\"BIC\"][:upper_bound].max(), linestyle='--', linewidth=3, colors=colors[0])\n",
    "plt.ylabel('BIC')\n",
    "plt.xlabel('# Model [increasing complexity]')\n",
    "#plt.xticks(np.arange(0,upper_bound, 10));\n",
    "plt.xlim([0,upper_bound])\n",
    "ax2 = fig.add_subplot(212)\n",
    "norm_res = df[\"Residuals\"][:upper_bound]/sigma2_res\n",
    "plt.plot(norm_res, color=colors[5], alpha=1)\n",
    "ax2.vlines(map_transitions[np.where(map_transitions<upper_bound)], norm_res.min(), norm_res.max(), linestyle='--', linewidth=3, colors=colors[0])\n",
    "plt.ylabel('Normalized Residuals')\n",
    "plt.xlabel('# Model [increasing complexity]')\n",
    "#plt.xticks(np.arange(0,upper_bound, 10));\n",
    "plt.xlim([0,upper_bound])\n",
    "fig.tight_layout()\n",
    "#fig.savefig('/scr/ilz3/myelinconnect/new_groupavg/pics/model_comparison_10maps_100models_neighb_prec.png')"
   ]
  },
  {
   "cell_type": "code",
   "execution_count": 22,
   "metadata": {
    "collapsed": false
   },
   "outputs": [],
   "source": [
    "df.to_csv('/scr/ilz3/myelinconnect/new_groupavg/model/linear_combination/t1avg/model_comparison_10maps.csv')"
   ]
  },
  {
   "cell_type": "markdown",
   "metadata": {},
   "source": [
    "### Schwartz weights"
   ]
  },
  {
   "cell_type": "markdown",
   "metadata": {},
   "source": [
    "schwartz[i] can be interpreted as the probability that i is the best model ( in the BIC sense, ie the true generating model is beyond the candidate models, hence schwartz[i] is the probability for i to be the true generating model)"
   ]
  },
  {
   "cell_type": "code",
   "execution_count": 51,
   "metadata": {
    "collapsed": true
   },
   "outputs": [],
   "source": [
    "def Schwartz(bic_all):\n",
    "    \n",
    "    best = bic_all[np.argmin(bic_all)]\n",
    "    schwartz = []\n",
    "    \n",
    "    for model in bic_all:\n",
    "        bic_diff = model - best\n",
    "        schwartz.append(np.exp(-bic_diff/2.))\n",
    "    \n",
    "    schwartz = schwartz / np.sum(schwartz)\n",
    "    \n",
    "    return schwartz\n",
    "    "
   ]
  },
  {
   "cell_type": "markdown",
   "metadata": {},
   "source": [
    "### Evidence ration of Schwartz weights\n",
    "expressing how many times more likely model i is than model j\n",
    "resp. normalized probability that i is preferred over j"
   ]
  },
  {
   "cell_type": "raw",
   "metadata": {
    "collapsed": true
   },
   "source": [
    "evidence = schwartz[i]/schwartz[j]\n",
    "norm_evidence = schwartz[i] / (schwartz[i]+schwartz[j])"
   ]
  }
 ],
 "metadata": {
  "kernelspec": {
   "display_name": "Python 2",
   "language": "python",
   "name": "python2"
  },
  "language_info": {
   "codemirror_mode": {
    "name": "ipython",
    "version": 2
   },
   "file_extension": ".py",
   "mimetype": "text/x-python",
   "name": "python",
   "nbconvert_exporter": "python",
   "pygments_lexer": "ipython2",
   "version": "2.7.11"
  }
 },
 "nbformat": 4,
 "nbformat_minor": 0
}
