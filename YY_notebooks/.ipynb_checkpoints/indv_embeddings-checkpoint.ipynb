{
 "cells": [
  {
   "cell_type": "code",
   "execution_count": 1,
   "metadata": {
    "collapsed": true
   },
   "outputs": [],
   "source": [
    "%matplotlib inline"
   ]
  },
  {
   "cell_type": "code",
   "execution_count": 2,
   "metadata": {
    "collapsed": false
   },
   "outputs": [
    {
     "name": "stderr",
     "output_type": "stream",
     "text": [
      "/home/raid3/huntenburg/workspace/anaconda2/envs/myelinconnect/lib/python2.7/site-packages/IPython/html.py:14: ShimWarning: The `IPython.html` package has been deprecated. You should import from `notebook` instead. `IPython.html.widgets` has moved to `ipywidgets`.\n",
      "  \"`IPython.html.widgets` has moved to `ipywidgets`.\", ShimWarning)\n"
     ]
    }
   ],
   "source": [
    "import numpy as np\n",
    "import pandas as pd\n",
    "import matplotlib.pyplot as plt\n",
    "import pickle\n",
    "import seaborn as sns\n",
    "from vtk_rw import read_vtk\n",
    "from plotting import plot_surf_stat_map, crop_img\n",
    "import matplotlib as mpl"
   ]
  },
  {
   "cell_type": "code",
   "execution_count": 3,
   "metadata": {
    "collapsed": true
   },
   "outputs": [],
   "source": [
    "def load_pickle(pkl_file):\n",
    "    pkl_in = open(pkl_file, 'r')\n",
    "    pkl_dict = pickle.load(pkl_in)\n",
    "    pkl_in.close()\n",
    "    return pkl_dict"
   ]
  },
  {
   "cell_type": "code",
   "execution_count": 4,
   "metadata": {
    "collapsed": true
   },
   "outputs": [],
   "source": [
    "lh_mesh_file = '/scr/ilz3/myelinconnect/new_groupavg/surfs/lowres/inflated/lh_lowres_new_infl100.vtk'\n",
    "lh_sulc_file = '/scr/ilz3/myelinconnect/new_groupavg/surfs/lowres/sulc/lh_sulc.npy'\n",
    "rh_mesh_file = '/scr/ilz3/myelinconnect/new_groupavg/surfs/lowres/inflated/rh_lowres_new_infl100.vtk'\n",
    "rh_sulc_file = '/scr/ilz3/myelinconnect/new_groupavg/surfs/lowres/sulc/rh_sulc.npy'\n",
    "fullmask_file = '/scr/ilz3/myelinconnect/new_groupavg/masks/fullmask_lh_rh_new.npy'\n",
    "lh_sulc = np.load(lh_sulc_file)\n",
    "lv, lf, _ = read_vtk(lh_mesh_file)\n",
    "rh_sulc = np.load(rh_sulc_file)\n",
    "rv, rf, _ = read_vtk(rh_mesh_file)\n",
    "fullmask = np.load(fullmask_file)"
   ]
  },
  {
   "cell_type": "code",
   "execution_count": null,
   "metadata": {
    "collapsed": true
   },
   "outputs": [],
   "source": [
    "subjects = pd.read_csv('/scr/ilz3/myelinconnect/subjects.csv')\n",
    "subjects=list(subjects['DB'])\n",
    "subjects.remove('KSMT')"
   ]
  },
  {
   "cell_type": "code",
   "execution_count": null,
   "metadata": {
    "collapsed": false,
    "scrolled": true
   },
   "outputs": [],
   "source": [
    "sns.set_style('white')\n",
    "cropped_embed = []\n",
    "\n",
    "for sub in subjects:\n",
    "    for sess in ['sess1', 'sess2']:\n",
    "        embed_dict=load_pickle('/scr/ilz3/myelinconnect/new_groupavg/embed/indv/%s_%s_both_smooth_3_embed_dict.pkl'%(sub, sess))\n",
    "        \n",
    "        # normalize vectors\n",
    "        embed_masked = np.zeros((embed_dict['vectors'].shape[0], embed_dict['vectors'].shape[1]-1))\n",
    "        for comp in range(100):\n",
    "            embed_masked[:,comp]=(embed_dict['vectors'][:,comp+1]/embed_dict['vectors'][:,0])\n",
    "\n",
    "        # unmask the embedding, that has been saved in masked form\n",
    "        idcs=np.arange(0,(lv.shape[0]+rv.shape[0]))\n",
    "        nonmask=np.delete(idcs, fullmask)\n",
    "        embed = np.zeros(((lv.shape[0]+rv.shape[0]),100))\n",
    "        embed[nonmask] = embed_masked \n",
    "        \n",
    "        # create plots\n",
    "        for (elev, azim) in [(180, 0), (180, 180)]:\n",
    "            plot=plot_surf_stat_map(lv, lf, stat_map=embed[:lv.shape[0],0], bg_map=lh_sulc, bg_on_stat=True, darkness=0.5, \n",
    "                                elev=elev,azim=azim, figsize=(10,7.5) ,threshold=1e-50, cmap='inferno',symmetric_cbar='auto')\n",
    "            cropped_embed.append(crop_img(plot))\n",
    "\n",
    "        for (elev, azim) in [(180, 0), (180, 180)]:\n",
    "            plot=plot_surf_stat_map(rv, rf, stat_map=embed[lv.shape[0]:,0], bg_map=rh_sulc, bg_on_stat=True, darkness=0.5, \n",
    "                                elev=elev,azim=azim, figsize=(10,7.5) ,threshold=1e-50, cmap='inferno',symmetric_cbar='auto')\n",
    "            cropped_embed.append(crop_img(plot))\n",
    "        "
   ]
  },
  {
   "cell_type": "code",
   "execution_count": null,
   "metadata": {
    "collapsed": false
   },
   "outputs": [],
   "source": [
    "sns.set_style('white')\n",
    "plots = int(len(cropped_embed)/4)\n",
    "height = plots*5\n",
    "fig = plt.figure(figsize=(40,height))\n",
    "for img in range(len(cropped_embed)):\n",
    "    ax = fig.add_subplot(plots,4,img+1)\n",
    "    plt.imshow(cropped_embed[img])\n",
    "    ax.set_axis_off\n",
    "    ax.set_axis_off()\n",
    "fig.tight_layout()\n",
    "fig.subplots_adjust(right=0.7)"
   ]
  },
  {
   "cell_type": "code",
   "execution_count": null,
   "metadata": {
    "collapsed": true
   },
   "outputs": [],
   "source": []
  }
 ],
 "metadata": {
  "kernelspec": {
   "display_name": "Python 2",
   "language": "python",
   "name": "python2"
  },
  "language_info": {
   "codemirror_mode": {
    "name": "ipython",
    "version": 2
   },
   "file_extension": ".py",
   "mimetype": "text/x-python",
   "name": "python",
   "nbconvert_exporter": "python",
   "pygments_lexer": "ipython2",
   "version": "2.7.11"
  }
 },
 "nbformat": 4,
 "nbformat_minor": 0
}
