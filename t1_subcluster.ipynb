{
 "metadata": {
  "name": ""
 },
 "nbformat": 3,
 "nbformat_minor": 0,
 "worksheets": [
  {
   "cells": [
    {
     "cell_type": "code",
     "collapsed": false,
     "input": [
      "%gui wx\n",
      "%pylab inline"
     ],
     "language": "python",
     "metadata": {},
     "outputs": [
      {
       "output_type": "stream",
       "stream": "stdout",
       "text": [
        "Populating the interactive namespace from numpy and matplotlib\n"
       ]
      }
     ],
     "prompt_number": 1
    },
    {
     "cell_type": "heading",
     "level": 4,
     "metadata": {},
     "source": [
      "load libraries, functions, colormap"
     ]
    },
    {
     "cell_type": "code",
     "collapsed": false,
     "input": [
      "import numpy as np\n",
      "import pandas as pd\n",
      "import scipy.stats as stats\n",
      "import matplotlib.pyplot as plt\n",
      "from mayavi import mlab\n",
      "from sklearn.utils.arpack import eigsh\n",
      "from sklearn.cluster import KMeans\n",
      "import seaborn as sns"
     ],
     "language": "python",
     "metadata": {},
     "outputs": [
      {
       "output_type": "stream",
       "stream": "stderr",
       "text": [
        "/usr/lib/python2.7/dist-packages/nose/util.py:14: DeprecationWarning: The compiler package is deprecated and removed in Python 3.x.\n",
        "  from compiler.consts import CO_GENERATOR\n"
       ]
      }
     ],
     "prompt_number": 2
    },
    {
     "cell_type": "markdown",
     "metadata": {},
     "source": [
      "this version of read_vtk only works if there is data attached to the nodes, need to make it optional"
     ]
    },
    {
     "cell_type": "code",
     "collapsed": false,
     "input": [
      "def read_vtk(file):\n",
      "    # read full file while dropping empty lines \n",
      "    vtk_df=pd.read_csv(file, header=None)\n",
      "    vtk_df=vtk_df.dropna()\n",
      "    # extract number of vertices and faces\n",
      "    number_vertices=int(vtk_df[vtk_df[0].str.contains('POINTS')][0].iloc[0].split()[1])\n",
      "    number_faces=int(vtk_df[vtk_df[0].str.contains('POLYGONS')][0].iloc[0].split()[1])\n",
      "    # read vertices into df and array\n",
      "    start_vertices= (vtk_df[vtk_df[0].str.contains('POINTS')].index.tolist()[0])+1\n",
      "    vertex_df=pd.read_csv(file, skiprows=range(start_vertices), nrows=number_vertices, sep='\\s*', header=None)\n",
      "    if np.array(vertex_df).shape[1]==3:\n",
      "        vertex_array=np.array(vertex_df)\n",
      "    # sometimes the vtk format is weird with 9 indices per line, then it has to be reshaped\n",
      "    elif np.array(vertex_df).shape[1]==9:\n",
      "        vertex_df=pd.read_csv(file, skiprows=range(start_vertices), nrows=number_vertices/3+1, sep='\\s*', header=None)\n",
      "        vertex_array=np.array(vertex_df.iloc[0:1,0:3])\n",
      "        vertex_array=np.append(vertex_array, vertex_df.iloc[0:1,3:6], axis=0)\n",
      "        vertex_array=np.append(vertex_array, vertex_df.iloc[0:1,6:9], axis=0)\n",
      "        for row in range(1,(number_vertices/3+1)):\n",
      "            for col in [0,3,6]:\n",
      "                vertex_array=np.append(vertex_array, array(vertex_df.iloc[row:(row+1),col:(col+3)]),axis=0) \n",
      "        # strip rows containing nans\n",
      "        vertex_array=vertex_array[ ~np.isnan(vertex_array) ].reshape(number_vertices,3)\n",
      "    else:\n",
      "        print \"vertex indices out of shape\"\n",
      "    vertices = {'val' : vertex_array, 'number' : number_vertices}\n",
      "    # read faces into df and array\n",
      "    start_faces= (vtk_df[vtk_df[0].str.contains('POLYGONS')].index.tolist()[0])+1\n",
      "    face_df=pd.read_csv(file, skiprows=range(start_faces), nrows=number_faces, sep='\\s*', header=None)\n",
      "    face_array=np.array(face_df.iloc[:,1:4])\n",
      "    faces = {'val' : face_array, 'number' : number_faces}\n",
      "    # read data into df and array\n",
      "    start_data= (vtk_df[vtk_df[0].str.contains('POINT_DATA')].index.tolist()[0])+3\n",
      "    number_data = number_vertices\n",
      "    data_df=pd.read_csv(file, skiprows=range(start_data), nrows=number_data, sep='\\s*', header=None)\n",
      "    data_array=np.array(data_df)\n",
      "    data = {'val' : data_array, 'number' : number_data}\n",
      "    \n",
      "    return vertices, faces, data\n",
      "\n",
      "#TO DO: add reading comments"
     ],
     "language": "python",
     "metadata": {},
     "outputs": [],
     "prompt_number": 3
    },
    {
     "cell_type": "markdown",
     "metadata": {},
     "source": [
      "cmap created with sns.palplot(sns.color_palette(\"Set2\", 7)), then adding grey in the beginning. For use with mayavi transformed to array, added alpha value and multiply all by 255"
     ]
    },
    {
     "cell_type": "code",
     "collapsed": false,
     "input": [
      "cmap=np.zeros((8,4))\n",
      "cmap[0,:]=[0.6, 0.6, 0.6, 1]\n",
      "cmap[1,:]=[0.40000000596046448, 0.7607843279838562, 0.64705884456634521, 1]\n",
      "cmap[2,:]=[0.98131487965583808, 0.55538641635109398, 0.38740485135246722,1]\n",
      "cmap[3,:]=[0.55432528607985565, 0.62711267120697922, 0.79595541393055635,1]\n",
      "cmap[4,:]=[0.90311419262605563, 0.54185316071790801, 0.76495195557089413,1]\n",
      "cmap[5,:]=[0.65371782148585622, 0.84708959004458262, 0.32827375098770734,1]\n",
      "cmap[6,:]=[0.9986312957370983, 0.85096502233954041, 0.18488274134841617,1]\n",
      "cmap[7,:]=[0.89573241682613591, 0.76784315109252932, 0.58182240093455595,1]\n",
      "cmap_255=np.zeros_like(cmap)\n",
      "for row in range(cmap.shape[0]):\n",
      "    cmap_255[row]=[np.floor(i * 255) for i in cmap[row]]\n",
      "cmap_255=cmap_255.astype(int)"
     ],
     "language": "python",
     "metadata": {},
     "outputs": [],
     "prompt_number": 4
    },
    {
     "cell_type": "code",
     "collapsed": false,
     "input": [
      "cmap_9=np.zeros((10,4))\n",
      "cmap_9[0,:]=[0.6, 0.6, 0.6, 1]\n",
      "cmap_9[9,:]=[0.8, 0.6151497514677574, 0.11111, 1]\n",
      "cmap_9[2,:]=[0.89573241682613591, 0.76784315109252932, 0.58182240093455595,1]\n",
      "cmap_9[3,:]=[0.86, 0.37119999999999997, 0.34,1]\n",
      "cmap_9[4,:]=[0.9677975592919913, 0.44127456009157356, 0.5358103155058701,1]\n",
      "cmap_9[5,:]=[0.75, 0.4, 0.5,1]\n",
      "cmap_9[6,:]=[0.8616090647292522, 0.536495730113334, 0.19548899031476086,1]\n",
      "cmap_9[7,:]=[0.46810256823426105, 0.6699492535792404, 0.1928958739904499,1]\n",
      "cmap_9[8,:]=[0.20125317221201128, 0.6907920815379025, 0.6,1]\n",
      "cmap_9[1,:]=[0.21044753832183283, 0.55, 0.7,1]\n",
      "#cmap_9[0,:]=[0.0,0.0,0.0,1.0]\n",
      "cmap_255_9=np.zeros_like(cmap_9)\n",
      "for row in range(cmap_9.shape[0]):\n",
      "    cmap_255_9[row]=[np.floor(i * 255) for i in cmap_9[row]]\n",
      "cmap_255_9=cmap_255_9.astype(int)"
     ],
     "language": "python",
     "metadata": {},
     "outputs": [],
     "prompt_number": 43
    },
    {
     "cell_type": "heading",
     "level": 4,
     "metadata": {},
     "source": [
      "load relevant files for subject and hemisphere"
     ]
    },
    {
     "cell_type": "raw",
     "metadata": {},
     "source": [
      "BP4T, lh, smooth 2, 7 cluster, 6,2,3,5,12\n",
      "BP4T, lh, smooth 3, 7 cluster, 7,4,1,4,3"
     ]
    },
    {
     "cell_type": "code",
     "collapsed": false,
     "input": [
      "sub='BP4T'\n",
      "hemi='lh'\n",
      "n_components_embedding=3\n",
      "n_components_kmeans=9\n",
      "smooth='3'\n",
      "data_dir='/scr/ilz3/myelinconnect/final_struct_space/'\n",
      "func_file=data_dir+'rest1_1_meshsmooth_%s/%s_%s_mid_simple_0.01_rest_%s_smoothdata.vtk'%(smooth, sub, hemi, hemi)\n",
      "t1_file=data_dir+'t1_smooth_1.5_mesh/%s_%s_mid_simple_0.01_t1_smooth1.5_%s.vtk'%(sub, hemi, hemi)\n",
      "embed_file=data_dir+\"clustering_%s/%s_%s_mid_simple_0.01_rest_%s_smoothdata_embed_%s.csv\"%(smooth, sub, hemi, hemi, str(n_components_embedding))\n",
      "#clust_file=data_dir+\"clustering_%s/%s_%s_mid_simple_0.01_rest_%s_smoothdata_embed_%s_kmeans_%s.csv\"%(smooth, sub, hemi, hemi, str(n_components_embedding), str(n_components_kmeans))\n",
      "clust_file=data_dir+\"clustering_%s/%s_%s_mid_simple_0.01_rest_%s_smoothdata_embed_%s_kmeans_%s_subclust.csv\"%(smooth, sub, hemi, hemi, str(n_components_embedding), str(n_components_kmeans))"
     ],
     "language": "python",
     "metadata": {},
     "outputs": [],
     "prompt_number": 101
    },
    {
     "cell_type": "code",
     "collapsed": false,
     "input": [
      "vt,ft,dt=read_vtk(t1_file)\n",
      "t1=dt['val'][:,0]\n",
      "\n",
      "embed=np.loadtxt(embed_file, delimiter=',')\n",
      "clust=np.loadtxt(clust_file, delimiter=',')"
     ],
     "language": "python",
     "metadata": {},
     "outputs": [],
     "prompt_number": 102
    },
    {
     "cell_type": "heading",
     "level": 4,
     "metadata": {},
     "source": [
      "look at clustering"
     ]
    },
    {
     "cell_type": "code",
     "collapsed": false,
     "input": [
      "xt=vt['val'][:,0]\n",
      "yt=vt['val'][:,1]\n",
      "zt=vt['val'][:,2]\n",
      "trianglest=ft['val']"
     ],
     "language": "python",
     "metadata": {},
     "outputs": [],
     "prompt_number": 103
    },
    {
     "cell_type": "code",
     "collapsed": false,
     "input": [
      "#cmap from 0 to 7 to detect relevant clusters\n",
      "sns.palplot(cmap_9)"
     ],
     "language": "python",
     "metadata": {},
     "outputs": [
      {
       "metadata": {},
       "output_type": "display_data",
       "png": "[encoded data removed]",
       "text": [
        "<matplotlib.figure.Figure at 0x9297d90>"
       ]
      }
     ],
     "prompt_number": 104
    },
    {
     "cell_type": "code",
     "collapsed": false,
     "input": [
      "mlab.figure(bgcolor=(1, 1, 1))\n",
      "img = mlab.triangular_mesh(xt,yt,zt,trianglest,scalars=clust[:,0], colormap='Set2')\n",
      "lut = img.module_manager.scalar_lut_manager.lut.table.to_array()\n",
      "img.module_manager.scalar_lut_manager.lut.table = cmap_255_9\n",
      "mlab.draw()\n",
      "mlab.show()"
     ],
     "language": "python",
     "metadata": {},
     "outputs": [],
     "prompt_number": 105
    },
    {
     "cell_type": "heading",
     "level": 4,
     "metadata": {},
     "source": [
      "decide on cluster of interest, neighbour and relevant subcluster"
     ]
    },
    {
     "cell_type": "code",
     "collapsed": false,
     "input": [
      "cluster=7\n",
      "neighbour=4\n",
      "\n",
      "coi=clust[:,cluster+1]\n",
      "neigh=clust[:,neighbour+1]"
     ],
     "language": "python",
     "metadata": {},
     "outputs": [],
     "prompt_number": 68
    },
    {
     "cell_type": "code",
     "collapsed": false,
     "input": [
      "mlab.figure(bgcolor=(1, 1, 1))\n",
      "img = mlab.triangular_mesh(xt,yt,zt,trianglest,scalars=coi, colormap='Set2')\n",
      "#img = mlab.triangular_mesh(xt,yt,zt,trianglest,scalars=neigh, colormap='Set2')\n",
      "lut = img.module_manager.scalar_lut_manager.lut.table.to_array()\n",
      "img.module_manager.scalar_lut_manager.lut.table = cmap_255\n",
      "mlab.draw()\n",
      "mlab.show()"
     ],
     "language": "python",
     "metadata": {},
     "outputs": [],
     "prompt_number": 69
    },
    {
     "cell_type": "markdown",
     "metadata": {},
     "source": [
      "in this case better not to use the colormap which is restricted to 8 colors as there might be more subclusters"
     ]
    },
    {
     "cell_type": "markdown",
     "metadata": {},
     "source": [
      "to get an idea of how many clusters there are"
     ]
    },
    {
     "cell_type": "code",
     "collapsed": false,
     "input": [
      "print clust[:,cluster+1].max()\n",
      "print clust[:,neighbour+1].max()"
     ],
     "language": "python",
     "metadata": {},
     "outputs": [
      {
       "output_type": "stream",
       "stream": "stdout",
       "text": [
        "7.0\n",
        "8.0\n"
       ]
      }
     ],
     "prompt_number": 70
    },
    {
     "cell_type": "code",
     "collapsed": false,
     "input": [
      "sub_cluster=1\n",
      "sub_cluster2=4\n",
      "sub_neighbour=3"
     ],
     "language": "python",
     "metadata": {},
     "outputs": [],
     "prompt_number": 71
    },
    {
     "cell_type": "code",
     "collapsed": false,
     "input": [
      "coi_sub=np.zeros_like(coi)\n",
      "coi_sub[coi == sub_cluster] = 1\n",
      "\n",
      "coi_sub2=np.zeros_like(coi)\n",
      "coi_sub2[coi == sub_cluster2] = 1\n",
      "\n",
      "neigh_sub=np.zeros_like(neigh)\n",
      "neigh_sub[neigh == sub_neighbour] = 1\n",
      "\n",
      "all_sub=np.zeros_like(coi)\n",
      "all_sub[coi == sub_cluster] = 1\n",
      "all_sub[coi == sub_cluster2] = 1\n",
      "all_sub[neigh == sub_neighbour] = 7"
     ],
     "language": "python",
     "metadata": {},
     "outputs": [],
     "prompt_number": 72
    },
    {
     "cell_type": "code",
     "collapsed": false,
     "input": [
      "mlab.figure(bgcolor=(1, 1, 1))\n",
      "#img = mlab.triangular_mesh(xt,yt,zt,trianglest,scalars=coi_sub, colormap='hsv')\n",
      "#img = mlab.triangular_mesh(xt,yt,zt,trianglest,scalars=coi_sub2, colormap='hsv')\n",
      "#img = mlab.triangular_mesh(xt,yt,zt,trianglest,scalars=neigh_sub, colormap='hsv')\n",
      "img = mlab.triangular_mesh(xt,yt,zt,trianglest,scalars=all_sub, colormap='hsv')\n",
      "lut = img.module_manager.scalar_lut_manager.lut.table.to_array()\n",
      "img.module_manager.scalar_lut_manager.lut.table = cmap_255\n",
      "mlab.draw()\n",
      "mlab.show()"
     ],
     "language": "python",
     "metadata": {},
     "outputs": [],
     "prompt_number": 73
    },
    {
     "cell_type": "heading",
     "level": 4,
     "metadata": {},
     "source": [
      "get t1 values within all subclusters"
     ]
    },
    {
     "cell_type": "code",
     "collapsed": false,
     "input": [
      "# make a list of dictionaries for each cluster k0, k1, ...(0=mask to max kmeans) \n",
      "# and subcluster s0_1, s1_1, s1_2, ..(1 to max subcluster, no 0 subcluster)\n",
      "t1_clust={}\n",
      "for c in range(int(clust[:,0].max()+1)):\n",
      "    t1_clust['k'+str(c)]=[]\n",
      "    for s in range(int(clust[:,c+1].max())):\n",
      "        t1_clust['s'+str(c)+'_'+str(s+1)]=[]\n",
      "\n",
      "# write all t1 values in one cluster into the list of its dictionary\n",
      "for i in range(len(t1)):\n",
      "    #if t1[i]>1000:\n",
      "        k=int(clust[:,0][i])\n",
      "        sub=int(clust[:,(k+1)][i])\n",
      "        t1_clust['k'+str(k)].append(t1[i])\n",
      "        t1_clust['s'+str(k)+'_'+str(sub)].append(t1[i])"
     ],
     "language": "python",
     "metadata": {},
     "outputs": [],
     "prompt_number": 106
    },
    {
     "cell_type": "heading",
     "level": 4,
     "metadata": {},
     "source": [
      "Compare variances when adding different subclusters"
     ]
    },
    {
     "cell_type": "markdown",
     "metadata": {},
     "source": [
      "The levene test is more robust than the F test for different sample sizes and non-normally distributed data. \n",
      "In particular the variation after Brown & Forsythe using the deviation from the median (instead of mean) as used here. \n",
      "\n",
      "A p-value (second output) below a given alpha (e.g. 0.05) indicates the variances of the two samples are significantly different from each other."
     ]
    },
    {
     "cell_type": "code",
     "collapsed": false,
     "input": [
      "t1_cluster=t1_clust['k'+str(cluster)]\n",
      "t1_neighbour=t1_clust['k'+str(neighbour)]\n",
      "t1_sub_cluster=t1_clust['s'+str(cluster)+'_'+str(sub_cluster)]\n",
      "t1_sub_cluster2=t1_clust['s'+str(cluster)+'_'+str(sub_cluster2)]\n",
      "t1_sub_neighbour=t1_clust['s'+str(neighbour)+'_'+str(sub_neighbour)]"
     ],
     "language": "python",
     "metadata": {},
     "outputs": [],
     "prompt_number": 75
    },
    {
     "cell_type": "code",
     "collapsed": false,
     "input": [
      "print 'sub_cluster vs sub_cluster+sub_cluster2', stats.levene(t1_sub_cluster, (t1_sub_cluster+t1_sub_cluster2))\n",
      "print 'sub_cluster vs sub_cluster+sub_neighbour', stats.levene(t1_sub_cluster, (t1_sub_cluster+t1_sub_neighbour))"
     ],
     "language": "python",
     "metadata": {},
     "outputs": [
      {
       "output_type": "stream",
       "stream": "stdout",
       "text": [
        "sub_cluster vs sub_cluster+sub_cluster2 (54.248530392387323, 1.2459762748968151e-12)\n",
        "sub_cluster vs sub_cluster+sub_neighbour (0.89090080495827018, 0.35845563764863064)\n"
       ]
      }
     ],
     "prompt_number": 76
    },
    {
     "cell_type": "code",
     "collapsed": false,
     "input": [
      "print 'sub_cluster vs cluster', stats.levene(t1_sub_cluster, t1_cluster)\n",
      "print 'sub_neighbour vs neighbour', stats.levene(t1_sub_neighbour, t1_neighbour)"
     ],
     "language": "python",
     "metadata": {},
     "outputs": [
      {
       "output_type": "stream",
       "stream": "stdout",
       "text": [
        "sub_cluster vs cluster (44.491103410794402, 6.1902593488655142e-11)\n",
        "sub_neighbour vs neighbour (2.0525144076648796, 0.15253368743023638)\n"
       ]
      }
     ],
     "prompt_number": 77
    },
    {
     "cell_type": "markdown",
     "metadata": {},
     "source": [
      "just to make sure the variance doesn't actually decrease"
     ]
    },
    {
     "cell_type": "code",
     "collapsed": false,
     "input": [
      "print 'cluster', np.var(t1_cluster)\n",
      "print 'neighbour', np.var(t1_neighbour)\n",
      "print 'sub_cluster', np.var(t1_sub_cluster)\n",
      "print 'sub_cluster2', np.var(t1_sub_cluster2)\n",
      "print 'sub_neighbour', np.var(t1_sub_neighbour)\n",
      "print 'sub_cluster+sub_cluster2', np.var((t1_sub_cluster+t1_sub_cluster2))\n",
      "print 'sub_cluster+sub_neighbour', np.var((t1_sub_cluster+t1_sub_neighbour))"
     ],
     "language": "python",
     "metadata": {},
     "outputs": [
      {
       "output_type": "stream",
       "stream": "stdout",
       "text": [
        "cluster 56408.2614065\n",
        "neighbour 874747.718474\n",
        "sub_cluster 739415.695585\n",
        "sub_cluster2 18781.0217671\n",
        "sub_neighbour 0.0\n",
        "sub_cluster+sub_cluster2 42549.1298363\n",
        "sub_cluster+sub_neighbour 965250.492519\n"
       ]
      }
     ],
     "prompt_number": 78
    },
    {
     "cell_type": "heading",
     "level": 4,
     "metadata": {},
     "source": [
      "Simple t test between subclusters and subcluster vs their cluster (not sure if this is appropriate)"
     ]
    },
    {
     "cell_type": "code",
     "collapsed": false,
     "input": [
      "print 'sub_cluster vs sub_cluster2', stats.ttest_ind(t1_sub_cluster, t1_sub_cluster2)\n",
      "print 'sub_cluster vs sub_neighbour', stats.ttest_ind(t1_sub_cluster, t1_sub_neighbour)"
     ],
     "language": "python",
     "metadata": {},
     "outputs": [
      {
       "output_type": "stream",
       "stream": "stdout",
       "text": [
        "sub_cluster vs sub_cluster2 (-8.4416061153428537, 8.6296811317448184e-16)\n",
        "sub_cluster vs sub_neighbour (2.6748109448143467, 0.02542127316978458)\n"
       ]
      }
     ],
     "prompt_number": 79
    },
    {
     "cell_type": "code",
     "collapsed": false,
     "input": [
      "hist(t1_sub_cluster, color='red',alpha=0.3)\n",
      "hist(t1_sub_cluster2, color='green',alpha=0.3)\n",
      "hist(t1_sub_neighbour, color='blue',alpha=0.3)"
     ],
     "language": "python",
     "metadata": {},
     "outputs": [
      {
       "metadata": {},
       "output_type": "pyout",
       "prompt_number": 80,
       "text": [
        "(array([0, 0, 0, 0, 0, 3, 0, 0, 0, 0]),\n",
        " array([-0.5, -0.4, -0.3, -0.2, -0.1,  0. ,  0.1,  0.2,  0.3,  0.4,  0.5]),\n",
        " <a list of 10 Patch objects>)"
       ]
      },
      {
       "metadata": {},
       "output_type": "display_data",
       "png": "[encoded data removed]",
       "text": [
        "<matplotlib.figure.Figure at 0x89ea910>"
       ]
      }
     ],
     "prompt_number": 80
    },
    {
     "cell_type": "code",
     "collapsed": false,
     "input": [
      "print 'sub_cluster vs cluster', stats.ttest_ind(t1_sub_cluster, t1_cluster)\n",
      "print 'sub_neighbour vs neighbour', stats.ttest_ind(t1_sub_neighbour, t1_neighbour)"
     ],
     "language": "python",
     "metadata": {},
     "outputs": [
      {
       "output_type": "stream",
       "stream": "stdout",
       "text": [
        "sub_cluster vs cluster (-5.9495627102035415, 4.763874865898841e-09)\n",
        "sub_neighbour vs neighbour (-2.746128276452394, 0.0062314479100377277)\n"
       ]
      }
     ],
     "prompt_number": 81
    },
    {
     "cell_type": "markdown",
     "metadata": {},
     "source": [
      "At least there is no significant difference between the subcluster and their cluster."
     ]
    },
    {
     "cell_type": "heading",
     "level": 4,
     "metadata": {},
     "source": [
      "T test between subcluster of one cluster"
     ]
    },
    {
     "cell_type": "code",
     "collapsed": false,
     "input": [
      "# test the same for the subclusters of each cluster\n",
      "k=4\n",
      "sub_t_array=np.zeros((int(clust[:,k+1].max()),int(clust[:,k+1].max())))\n",
      "sub_p_array=np.zeros((int(clust[:,k+1].max()),int(clust[:,k+1].max())))\n",
      "for c1 in range(int(clust[:,k+1].max())):\n",
      "    for c2 in range(int(clust[:,k+1].max())):\n",
      "        a=t1_clust['s'+str(k)+'_'+str(c1+1)]\n",
      "        b=t1_clust['s'+str(k)+'_'+str(c2+1)]\n",
      "        if len(a)>1 and len(b)>1:\n",
      "            t,p=stats.ttest_ind(a, b)\n",
      "            sub_t_array[c1][c2]=t\n",
      "            sub_p_array[c1][c2]=p\n",
      "sub_t_df=pd.DataFrame(sub_t_array)\n",
      "sub_p_df=pd.DataFrame(sub_p_array)"
     ],
     "language": "python",
     "metadata": {},
     "outputs": [],
     "prompt_number": 43
    },
    {
     "cell_type": "code",
     "collapsed": false,
     "input": [
      "sub_p_df"
     ],
     "language": "python",
     "metadata": {},
     "outputs": [
      {
       "html": [
        "<div style=\"max-height:1000px;max-width:1500px;overflow:auto;\">\n",
        "<table border=\"1\" class=\"dataframe\">\n",
        "  <thead>\n",
        "    <tr style=\"text-align: right;\">\n",
        "      <th></th>\n",
        "      <th>0</th>\n",
        "      <th>1</th>\n",
        "      <th>2</th>\n",
        "      <th>3</th>\n",
        "      <th>4</th>\n",
        "      <th>5</th>\n",
        "      <th>6</th>\n",
        "      <th>7</th>\n",
        "    </tr>\n",
        "  </thead>\n",
        "  <tbody>\n",
        "    <tr>\n",
        "      <th>0</th>\n",
        "      <td> 1.000000e+00</td>\n",
        "      <td> 1.012065e-29</td>\n",
        "      <td> 4.088348e-02</td>\n",
        "      <td> 1.277344e-10</td>\n",
        "      <td> 4.631164e-03</td>\n",
        "      <td> 0</td>\n",
        "      <td> 0</td>\n",
        "      <td> 0</td>\n",
        "    </tr>\n",
        "    <tr>\n",
        "      <th>1</th>\n",
        "      <td> 1.012065e-29</td>\n",
        "      <td> 1.000000e+00</td>\n",
        "      <td> 2.029873e-55</td>\n",
        "      <td> 2.044329e-06</td>\n",
        "      <td> 8.344969e-01</td>\n",
        "      <td> 0</td>\n",
        "      <td> 0</td>\n",
        "      <td> 0</td>\n",
        "    </tr>\n",
        "    <tr>\n",
        "      <th>2</th>\n",
        "      <td> 4.088348e-02</td>\n",
        "      <td> 2.029873e-55</td>\n",
        "      <td> 3.739010e-01</td>\n",
        "      <td> 3.518766e-34</td>\n",
        "      <td> 1.387879e-12</td>\n",
        "      <td> 0</td>\n",
        "      <td> 0</td>\n",
        "      <td> 0</td>\n",
        "    </tr>\n",
        "    <tr>\n",
        "      <th>3</th>\n",
        "      <td> 1.277344e-10</td>\n",
        "      <td> 2.044329e-06</td>\n",
        "      <td> 3.518766e-34</td>\n",
        "      <td> 1.000000e+00</td>\n",
        "      <td> 2.154313e-02</td>\n",
        "      <td> 0</td>\n",
        "      <td> 0</td>\n",
        "      <td> 0</td>\n",
        "    </tr>\n",
        "    <tr>\n",
        "      <th>4</th>\n",
        "      <td> 4.631164e-03</td>\n",
        "      <td> 8.344969e-01</td>\n",
        "      <td> 1.387879e-12</td>\n",
        "      <td> 2.154313e-02</td>\n",
        "      <td> 1.000000e+00</td>\n",
        "      <td> 0</td>\n",
        "      <td> 0</td>\n",
        "      <td> 0</td>\n",
        "    </tr>\n",
        "    <tr>\n",
        "      <th>5</th>\n",
        "      <td> 0.000000e+00</td>\n",
        "      <td> 0.000000e+00</td>\n",
        "      <td> 0.000000e+00</td>\n",
        "      <td> 0.000000e+00</td>\n",
        "      <td> 0.000000e+00</td>\n",
        "      <td> 0</td>\n",
        "      <td> 0</td>\n",
        "      <td> 0</td>\n",
        "    </tr>\n",
        "    <tr>\n",
        "      <th>6</th>\n",
        "      <td> 0.000000e+00</td>\n",
        "      <td> 0.000000e+00</td>\n",
        "      <td> 0.000000e+00</td>\n",
        "      <td> 0.000000e+00</td>\n",
        "      <td> 0.000000e+00</td>\n",
        "      <td> 0</td>\n",
        "      <td> 0</td>\n",
        "      <td> 0</td>\n",
        "    </tr>\n",
        "    <tr>\n",
        "      <th>7</th>\n",
        "      <td> 0.000000e+00</td>\n",
        "      <td> 0.000000e+00</td>\n",
        "      <td> 0.000000e+00</td>\n",
        "      <td> 0.000000e+00</td>\n",
        "      <td> 0.000000e+00</td>\n",
        "      <td> 0</td>\n",
        "      <td> 0</td>\n",
        "      <td> 0</td>\n",
        "    </tr>\n",
        "  </tbody>\n",
        "</table>\n",
        "</div>"
       ],
       "metadata": {},
       "output_type": "pyout",
       "prompt_number": 44,
       "text": [
        "              0             1             2             3             4  5  6  \\\n",
        "0  1.000000e+00  1.012065e-29  4.088348e-02  1.277344e-10  4.631164e-03  0  0   \n",
        "1  1.012065e-29  1.000000e+00  2.029873e-55  2.044329e-06  8.344969e-01  0  0   \n",
        "2  4.088348e-02  2.029873e-55  3.739010e-01  3.518766e-34  1.387879e-12  0  0   \n",
        "3  1.277344e-10  2.044329e-06  3.518766e-34  1.000000e+00  2.154313e-02  0  0   \n",
        "4  4.631164e-03  8.344969e-01  1.387879e-12  2.154313e-02  1.000000e+00  0  0   \n",
        "5  0.000000e+00  0.000000e+00  0.000000e+00  0.000000e+00  0.000000e+00  0  0   \n",
        "6  0.000000e+00  0.000000e+00  0.000000e+00  0.000000e+00  0.000000e+00  0  0   \n",
        "7  0.000000e+00  0.000000e+00  0.000000e+00  0.000000e+00  0.000000e+00  0  0   \n",
        "\n",
        "   7  \n",
        "0  0  \n",
        "1  0  \n",
        "2  0  \n",
        "3  0  \n",
        "4  0  \n",
        "5  0  \n",
        "6  0  \n",
        "7  0  "
       ]
      }
     ],
     "prompt_number": 44
    },
    {
     "cell_type": "code",
     "collapsed": false,
     "input": [],
     "language": "python",
     "metadata": {},
     "outputs": []
    }
   ],
   "metadata": {}
  }
 ]
}