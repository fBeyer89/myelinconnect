{
 "metadata": {
  "name": ""
 },
 "nbformat": 3,
 "nbformat_minor": 0,
 "worksheets": [
  {
   "cells": [
    {
     "cell_type": "code",
     "collapsed": false,
     "input": [
      "%gui wx\n",
      "%pylab inline"
     ],
     "language": "python",
     "metadata": {},
     "outputs": [
      {
       "output_type": "stream",
       "stream": "stdout",
       "text": [
        "Populating the interactive namespace from numpy and matplotlib\n"
       ]
      }
     ],
     "prompt_number": 1
    },
    {
     "cell_type": "heading",
     "level": 4,
     "metadata": {},
     "source": [
      "load libraries, functions, colormap"
     ]
    },
    {
     "cell_type": "code",
     "collapsed": false,
     "input": [
      "import numpy as np\n",
      "import pandas as pd\n",
      "import scipy.stats as stats\n",
      "import matplotlib.pyplot as plt\n",
      "from mayavi import mlab\n",
      "from sklearn.utils.arpack import eigsh\n",
      "from sklearn.cluster import KMeans\n",
      "import seaborn as sns"
     ],
     "language": "python",
     "metadata": {},
     "outputs": [
      {
       "output_type": "stream",
       "stream": "stderr",
       "text": [
        "/usr/lib/python2.7/dist-packages/nose/util.py:14: DeprecationWarning: The compiler package is deprecated and removed in Python 3.x.\n",
        "  from compiler.consts import CO_GENERATOR\n"
       ]
      }
     ],
     "prompt_number": 2
    },
    {
     "cell_type": "markdown",
     "metadata": {},
     "source": [
      "this version of read_vtk only works if there is data attached to the nodes, need to make it optional"
     ]
    },
    {
     "cell_type": "code",
     "collapsed": false,
     "input": [
      "def read_vtk(file):\n",
      "    # read full file while dropping empty lines \n",
      "    vtk_df=pd.read_csv(file, header=None)\n",
      "    vtk_df=vtk_df.dropna()\n",
      "    # extract number of vertices and faces\n",
      "    number_vertices=int(vtk_df[vtk_df[0].str.contains('POINTS')][0].iloc[0].split()[1])\n",
      "    number_faces=int(vtk_df[vtk_df[0].str.contains('POLYGONS')][0].iloc[0].split()[1])\n",
      "    # read vertices into df and array\n",
      "    start_vertices= (vtk_df[vtk_df[0].str.contains('POINTS')].index.tolist()[0])+1\n",
      "    vertex_df=pd.read_csv(file, skiprows=range(start_vertices), nrows=number_vertices, sep='\\s*', header=None)\n",
      "    if np.array(vertex_df).shape[1]==3:\n",
      "        vertex_array=np.array(vertex_df)\n",
      "    # sometimes the vtk format is weird with 9 indices per line, then it has to be reshaped\n",
      "    elif np.array(vertex_df).shape[1]==9:\n",
      "        vertex_df=pd.read_csv(file, skiprows=range(start_vertices), nrows=number_vertices/3+1, sep='\\s*', header=None)\n",
      "        vertex_array=np.array(vertex_df.iloc[0:1,0:3])\n",
      "        vertex_array=np.append(vertex_array, vertex_df.iloc[0:1,3:6], axis=0)\n",
      "        vertex_array=np.append(vertex_array, vertex_df.iloc[0:1,6:9], axis=0)\n",
      "        for row in range(1,(number_vertices/3+1)):\n",
      "            for col in [0,3,6]:\n",
      "                vertex_array=np.append(vertex_array, array(vertex_df.iloc[row:(row+1),col:(col+3)]),axis=0) \n",
      "        # strip rows containing nans\n",
      "        vertex_array=vertex_array[ ~np.isnan(vertex_array) ].reshape(number_vertices,3)\n",
      "    else:\n",
      "        print \"vertex indices out of shape\"\n",
      "    vertices = {'val' : vertex_array, 'number' : number_vertices}\n",
      "    # read faces into df and array\n",
      "    start_faces= (vtk_df[vtk_df[0].str.contains('POLYGONS')].index.tolist()[0])+1\n",
      "    face_df=pd.read_csv(file, skiprows=range(start_faces), nrows=number_faces, sep='\\s*', header=None)\n",
      "    face_array=np.array(face_df.iloc[:,1:4])\n",
      "    faces = {'val' : face_array, 'number' : number_faces}\n",
      "    # read data into df and array\n",
      "    start_data= (vtk_df[vtk_df[0].str.contains('POINT_DATA')].index.tolist()[0])+3\n",
      "    number_data = number_vertices\n",
      "    data_df=pd.read_csv(file, skiprows=range(start_data), nrows=number_data, sep='\\s*', header=None)\n",
      "    data_array=np.array(data_df)\n",
      "    data = {'val' : data_array, 'number' : number_data}\n",
      "    \n",
      "    return vertices, faces, data\n",
      "\n",
      "#TO DO: add reading comments"
     ],
     "language": "python",
     "metadata": {},
     "outputs": [],
     "prompt_number": 3
    },
    {
     "cell_type": "markdown",
     "metadata": {},
     "source": [
      "cmap created with sns.palplot(sns.color_palette(\"Set2\", 7)), then adding grey in the beginning. For use with mayavi transformed to array, added alpha value and multiply all by 255"
     ]
    },
    {
     "cell_type": "code",
     "collapsed": false,
     "input": [
      "cmap_7=np.zeros((8,4))\n",
      "cmap_7[0,:]=[0.6, 0.6, 0.6, 1]\n",
      "cmap_7[1,:]=[0.40000000596046448, 0.7607843279838562, 0.64705884456634521, 1]\n",
      "cmap_7[2,:]=[0.98131487965583808, 0.55538641635109398, 0.38740485135246722,1]\n",
      "cmap_7[3,:]=[0.55432528607985565, 0.62711267120697922, 0.79595541393055635,1]\n",
      "cmap_7[4,:]=[0.90311419262605563, 0.54185316071790801, 0.76495195557089413,1]\n",
      "cmap_7[5,:]=[0.65371782148585622, 0.84708959004458262, 0.32827375098770734,1]\n",
      "cmap_7[6,:]=[0.9986312957370983, 0.85096502233954041, 0.18488274134841617,1]\n",
      "cmap_7[7,:]=[0.89573241682613591, 0.76784315109252932, 0.58182240093455595,1]\n",
      "cmap_255_7=np.zeros_like(cmap_7)\n",
      "for row in range(cmap_7.shape[0]):\n",
      "    cmap_255_7[row]=[np.floor(i * 255) for i in cmap_7[row]]\n",
      "cmap_255_7=cmap_255_7.astype(int)"
     ],
     "language": "python",
     "metadata": {},
     "outputs": [],
     "prompt_number": 4
    },
    {
     "cell_type": "code",
     "collapsed": false,
     "input": [
      "cmap_8=np.zeros((9,4))\n",
      "cmap_8[0,:]=[0.6, 0.6, 0.6, 1]\n",
      "cmap_8[8,:]=[0.8, 0.6151497514677574, 0.11111, 1]\n",
      "cmap_8[2,:]=[0.89573241682613591, 0.76784315109252932, 0.58182240093455595,1]\n",
      "cmap_8[3,:]=[0.86, 0.37119999999999997, 0.34,1]\n",
      "#cmap_8[4,:]=[0.9677975592919913, 0.44127456009157356, 0.5358103155058701,1]\n",
      "cmap_8[4,:]=[0.75, 0.4, 0.5,1]\n",
      "cmap_8[5,:]=[0.8616090647292522, 0.536495730113334, 0.19548899031476086,1]\n",
      "cmap_8[6,:]=[0.46810256823426105, 0.6699492535792404, 0.1928958739904499,1]\n",
      "cmap_8[7,:]=[0.20125317221201128, 0.6907920815379025, 0.6,1]\n",
      "cmap_8[1,:]=[0.21044753832183283, 0.55, 0.7,1]\n",
      "#cmap_9[0,:]=[0.0,0.0,0.0,1.0]\n",
      "cmap_255_8=np.zeros_like(cmap_8)\n",
      "for row in range(cmap_8.shape[0]):\n",
      "    cmap_255_8[row]=[np.floor(i * 255) for i in cmap_8[row]]\n",
      "cmap_255_8=cmap_255_8.astype(int)"
     ],
     "language": "python",
     "metadata": {},
     "outputs": [],
     "prompt_number": 5
    },
    {
     "cell_type": "code",
     "collapsed": false,
     "input": [
      "cmap_9=np.zeros((10,4))\n",
      "cmap_9[0,:]=[0.6, 0.6, 0.6, 1]\n",
      "cmap_9[9,:]=[0.8, 0.6151497514677574, 0.11111, 1]\n",
      "cmap_9[2,:]=[0.89573241682613591, 0.76784315109252932, 0.58182240093455595,1]\n",
      "cmap_9[3,:]=[0.86, 0.37119999999999997, 0.34,1]\n",
      "cmap_9[4,:]=[0.9677975592919913, 0.44127456009157356, 0.5358103155058701,1]\n",
      "cmap_9[5,:]=[0.75, 0.4, 0.5,1]\n",
      "cmap_9[6,:]=[0.8616090647292522, 0.536495730113334, 0.19548899031476086,1]\n",
      "cmap_9[7,:]=[0.46810256823426105, 0.6699492535792404, 0.1928958739904499,1]\n",
      "cmap_9[8,:]=[0.20125317221201128, 0.6907920815379025, 0.6,1]\n",
      "cmap_9[1,:]=[0.21044753832183283, 0.55, 0.7,1]\n",
      "#cmap_9[0,:]=[0.0,0.0,0.0,1.0]\n",
      "cmap_255_9=np.zeros_like(cmap_9)\n",
      "for row in range(cmap_9.shape[0]):\n",
      "    cmap_255_9[row]=[np.floor(i * 255) for i in cmap_9[row]]\n",
      "cmap_255_9=cmap_255_9.astype(int)"
     ],
     "language": "python",
     "metadata": {},
     "outputs": [],
     "prompt_number": 6
    },
    {
     "cell_type": "code",
     "collapsed": false,
     "input": [
      "cmap=[cmap_7, cmap_8, cmap_9]\n",
      "cmap_255=[cmap_255_7, cmap_255_8, cmap_255_9]"
     ],
     "language": "python",
     "metadata": {},
     "outputs": [],
     "prompt_number": 7
    },
    {
     "cell_type": "heading",
     "level": 4,
     "metadata": {},
     "source": [
      "load relevant files for subject and hemisphere"
     ]
    },
    {
     "cell_type": "code",
     "collapsed": false,
     "input": [
      "sub='BP4T'\n",
      "hemi='rh'\n",
      "n_components_embedding=3\n",
      "n_components_kmeans=7\n",
      "smooth='3'\n",
      "\n",
      "data_dir='/scr/ilz3/myelinconnect/final_struct_space/'\n",
      "func_file=data_dir+'rest1_1_meshsmooth_%s/%s_%s_mid_simple_0.01_rest_%s_smoothdata.vtk'%(smooth, sub, hemi, hemi)\n",
      "t1_file=data_dir+'t1_smooth_1.5_mesh/%s_%s_mid_simple_0.01_t1_smooth1.5_%s.vtk'%(sub, hemi, hemi)\n",
      "embed_file=data_dir+\"clustering_%s/%s_%s_mid_simple_0.01_rest_%s_smoothdata_embed_%s.csv\"%(smooth, sub, hemi, hemi, str(n_components_embedding))\n",
      "clust_file=data_dir+\"clustering_%s/%s_%s_mid_simple_0.01_rest_%s_smoothdata_embed_%s_kmeans_%s.csv\"%(smooth, sub, hemi, hemi, str(n_components_embedding), str(n_components_kmeans))\n",
      "\n",
      "pal=cmap[n_components_kmeans-7]\n",
      "pal_255=cmap_255[n_components_kmeans-7]"
     ],
     "language": "python",
     "metadata": {},
     "outputs": [],
     "prompt_number": 39
    },
    {
     "cell_type": "code",
     "collapsed": false,
     "input": [
      "vt,ft,dt=read_vtk(t1_file)\n",
      "t1=dt['val'][:,0]\n",
      "\n",
      "embed=np.loadtxt(embed_file, delimiter=',')\n",
      "clust=np.loadtxt(clust_file, delimiter=',')\n",
      "\n",
      "xt=vt['val'][:,0]\n",
      "yt=vt['val'][:,1]\n",
      "zt=vt['val'][:,2]\n",
      "trianglest=ft['val']"
     ],
     "language": "python",
     "metadata": {},
     "outputs": [],
     "prompt_number": 40
    },
    {
     "cell_type": "heading",
     "level": 4,
     "metadata": {},
     "source": [
      "Get T1 values in all clusters"
     ]
    },
    {
     "cell_type": "code",
     "collapsed": false,
     "input": [
      "# make a list of dictionaries for each cluster k0, k1, ...(0=mask to max kmeans) \n",
      "# and subcluster s0_1, s1_1, s1_2, ..(1 to max subcluster, no 0 subcluster)\n",
      "t1_clust={}\n",
      "for c in range(int(clust.max()+1)):\n",
      "    t1_clust['k'+str(c)]=[]\n",
      "\n",
      "# write all t1 values in one cluster into the list of its dictionary\n",
      "for i in range(len(t1)):\n",
      "    if t1[i]>1000:\n",
      "        k=int(clust[i])\n",
      "        t1_clust['k'+str(k)].append(t1[i])"
     ],
     "language": "python",
     "metadata": {},
     "outputs": [],
     "prompt_number": 41
    },
    {
     "cell_type": "heading",
     "level": 4,
     "metadata": {},
     "source": [
      "Compare variance of kmeans cluster vs all other clusters and mean between all clusters"
     ]
    },
    {
     "cell_type": "code",
     "collapsed": false,
     "input": [
      "levene_array=np.zeros((4,int(clust.max())))\n",
      "col=[]\n",
      "for c1 in range(int(clust.max())):\n",
      "    a=t1_clust['k'+str(c1+1)]\n",
      "    b=[]\n",
      "    for c2 in range(int(clust.max())):\n",
      "        if (c2+1) != (c1+1):\n",
      "            b+=t1_clust['k'+str(c2+1)]\n",
      "    W,p=stats.levene(a, b)\n",
      "    col.append(int(c1+1))\n",
      "    levene_array[0,c1]=W\n",
      "    levene_array[1,c1]=float(p)\n",
      "    levene_array[2,c1]=np.var(a)\n",
      "    levene_array[3,c1]=np.var(b)\n",
      "    #print 'levene k'+str(c1+1)+' vs all other clusters:', W, p\n",
      "    #print 'variance k'+str(c1+1), np.var(a)\n",
      "    #print 'variance all others', np.var(b)\n",
      "    #print ''\n",
      "\n",
      "levene_df=pd.DataFrame(levene_array, columns=col, index=['W', 'p', 'var k', 'var other'])"
     ],
     "language": "python",
     "metadata": {},
     "outputs": [],
     "prompt_number": 52
    },
    {
     "cell_type": "code",
     "collapsed": false,
     "input": [
      "t_array=np.zeros((int(clust.max()),int(clust.max())))\n",
      "p_array=np.zeros((int(clust.max()),int(clust.max())))\n",
      "col2=[]\n",
      "for c1 in range(int(clust.max())):\n",
      "    for c2 in range(int(clust.max())):\n",
      "        if c2>=c1:\n",
      "            a=t1_clust['k'+str(c1+1)]\n",
      "            b=t1_clust['k'+str(c2+1)]\n",
      "            t,p=stats.ttest_ind(a, b)\n",
      "            t_array[c1][c2]=t\n",
      "            p_array[c1][c2]=p\n",
      "    col2.append(c1+1)\n",
      "t_df=pd.DataFrame(t_array, columns=col2, index=col2)\n",
      "p_df=pd.DataFrame(p_array, columns=col2, index=col2)"
     ],
     "language": "python",
     "metadata": {},
     "outputs": [],
     "prompt_number": 43
    },
    {
     "cell_type": "heading",
     "level": 4,
     "metadata": {},
     "source": [
      "Plot clustering, T1 values, Levene's statistics and T statistics"
     ]
    },
    {
     "cell_type": "code",
     "collapsed": false,
     "input": [
      "plot_list=[]\n",
      "for c in range(int(clust.max())):\n",
      "    plot_list+=[np.array(t1_clust['k'+str(c+1)])]\n",
      "    \n",
      "names=[]\n",
      "for c in range(int(clust.max())):\n",
      "    names.append(str(c+1))"
     ],
     "language": "python",
     "metadata": {},
     "outputs": [],
     "prompt_number": 44
    },
    {
     "cell_type": "code",
     "collapsed": false,
     "input": [
      "sns.palplot(pal)"
     ],
     "language": "python",
     "metadata": {},
     "outputs": [
      {
       "metadata": {},
       "output_type": "display_data",
       "png": "[encoded data removed]",
       "text": [
        "<matplotlib.figure.Figure at 0x9218ad0>"
       ]
      }
     ],
     "prompt_number": 45
    },
    {
     "cell_type": "code",
     "collapsed": false,
     "input": [
      "fig = plt.figure(figsize=(10,10))\n",
      "sns.violinplot(plot_list, color=pal[1:], names=names, saturation=1)\n",
      "sns.axlabel('cluster','T1 value')"
     ],
     "language": "python",
     "metadata": {},
     "outputs": [
      {
       "output_type": "stream",
       "stream": "stderr",
       "text": [
        "/usr/lib/python2.7/dist-packages/scipy/stats/stats.py:1367: DeprecationWarning: using a non-integer number instead of an integer will result in an error in the future\n",
        "  return values[idx]\n",
        "/usr/lib/python2.7/dist-packages/scipy/stats/stats.py:1367: DeprecationWarning: using a non-integer number instead of an integer will result in an error in the future\n",
        "  return values[idx]\n",
        "/usr/lib/python2.7/dist-packages/scipy/stats/stats.py:1367: DeprecationWarning: using a non-integer number instead of an integer will result in an error in the future\n",
        "  return values[idx]\n",
        "/usr/lib/python2.7/dist-packages/scipy/stats/stats.py:1367: DeprecationWarning: using a non-integer number instead of an integer will result in an error in the future\n",
        "  return values[idx]\n"
       ]
      },
      {
       "metadata": {},
       "output_type": "display_data",
       "png": "[encoded data removed]",
       "text": [
        "<matplotlib.figure.Figure at 0x9ee66d0>"
       ]
      }
     ],
     "prompt_number": 46
    },
    {
     "cell_type": "code",
     "collapsed": false,
     "input": [
      "mlab.figure(bgcolor=(1, 1, 1))\n",
      "img = mlab.triangular_mesh(xt,yt,zt,trianglest,scalars=clust, colormap='Set2')\n",
      "lut = img.module_manager.scalar_lut_manager.lut.table.to_array()\n",
      "img.module_manager.scalar_lut_manager.lut.table = pal_255\n",
      "mlab.draw()\n",
      "mlab.show()"
     ],
     "language": "python",
     "metadata": {},
     "outputs": [],
     "prompt_number": 49
    },
    {
     "cell_type": "markdown",
     "metadata": {},
     "source": [
      "Variance comparison"
     ]
    },
    {
     "cell_type": "code",
     "collapsed": false,
     "input": [
      "pd.options.display.float_format = '{:,.2e}'.format\n",
      "levene_df"
     ],
     "language": "python",
     "metadata": {},
     "outputs": [
      {
       "html": [
        "<div style=\"max-height:1000px;max-width:1500px;overflow:auto;\">\n",
        "<table border=\"1\" class=\"dataframe\">\n",
        "  <thead>\n",
        "    <tr style=\"text-align: right;\">\n",
        "      <th></th>\n",
        "      <th>1</th>\n",
        "      <th>2</th>\n",
        "      <th>3</th>\n",
        "      <th>4</th>\n",
        "      <th>5</th>\n",
        "      <th>6</th>\n",
        "      <th>7</th>\n",
        "    </tr>\n",
        "  </thead>\n",
        "  <tbody>\n",
        "    <tr>\n",
        "      <th>W</th>\n",
        "      <td>1.32e+01</td>\n",
        "      <td>1.05e+02</td>\n",
        "      <td>1.68e+02</td>\n",
        "      <td>3.82e+01</td>\n",
        "      <td>7.40e-02</td>\n",
        "      <td>4.39e+01</td>\n",
        "      <td>7.53e+01</td>\n",
        "    </tr>\n",
        "    <tr>\n",
        "      <th>p</th>\n",
        "      <td>2.89e-04</td>\n",
        "      <td>2.33e-24</td>\n",
        "      <td>6.49e-38</td>\n",
        "      <td>6.70e-10</td>\n",
        "      <td>7.86e-01</td>\n",
        "      <td>3.66e-11</td>\n",
        "      <td>5.06e-18</td>\n",
        "    </tr>\n",
        "    <tr>\n",
        "      <th>var k</th>\n",
        "      <td>2.42e+04</td>\n",
        "      <td>1.99e+04</td>\n",
        "      <td>1.52e+04</td>\n",
        "      <td>2.83e+04</td>\n",
        "      <td>3.42e+04</td>\n",
        "      <td>4.81e+04</td>\n",
        "      <td>1.49e+04</td>\n",
        "    </tr>\n",
        "    <tr>\n",
        "      <th>var all</th>\n",
        "      <td>3.28e+04</td>\n",
        "      <td>3.30e+04</td>\n",
        "      <td>3.43e+04</td>\n",
        "      <td>3.09e+04</td>\n",
        "      <td>3.14e+04</td>\n",
        "      <td>2.86e+04</td>\n",
        "      <td>3.10e+04</td>\n",
        "    </tr>\n",
        "  </tbody>\n",
        "</table>\n",
        "</div>"
       ],
       "metadata": {},
       "output_type": "pyout",
       "prompt_number": 48,
       "text": [
        "               1        2        3        4        5        6        7\n",
        "W       1.32e+01 1.05e+02 1.68e+02 3.82e+01 7.40e-02 4.39e+01 7.53e+01\n",
        "p       2.89e-04 2.33e-24 6.49e-38 6.70e-10 7.86e-01 3.66e-11 5.06e-18\n",
        "var k   2.42e+04 1.99e+04 1.52e+04 2.83e+04 3.42e+04 4.81e+04 1.49e+04\n",
        "var all 3.28e+04 3.30e+04 3.43e+04 3.09e+04 3.14e+04 2.86e+04 3.10e+04"
       ]
      }
     ],
     "prompt_number": 48
    },
    {
     "cell_type": "markdown",
     "metadata": {},
     "source": [
      "T test (T values, p values)"
     ]
    },
    {
     "cell_type": "code",
     "collapsed": false,
     "input": [
      "pd.options.display.float_format = '{:,.2f}'.format\n",
      "t_df"
     ],
     "language": "python",
     "metadata": {},
     "outputs": [
      {
       "html": [
        "<div style=\"max-height:1000px;max-width:1500px;overflow:auto;\">\n",
        "<table border=\"1\" class=\"dataframe\">\n",
        "  <thead>\n",
        "    <tr style=\"text-align: right;\">\n",
        "      <th></th>\n",
        "      <th>1</th>\n",
        "      <th>2</th>\n",
        "      <th>3</th>\n",
        "      <th>4</th>\n",
        "      <th>5</th>\n",
        "      <th>6</th>\n",
        "      <th>7</th>\n",
        "    </tr>\n",
        "  </thead>\n",
        "  <tbody>\n",
        "    <tr>\n",
        "      <th>1</th>\n",
        "      <td>0.00</td>\n",
        "      <td>-17.07</td>\n",
        "      <td>-3.88</td>\n",
        "      <td>-18.35</td>\n",
        "      <td>-4.70</td>\n",
        "      <td>-11.23</td>\n",
        "      <td>14.19</td>\n",
        "    </tr>\n",
        "    <tr>\n",
        "      <th>2</th>\n",
        "      <td>0.00</td>\n",
        "      <td>  0.00</td>\n",
        "      <td>14.21</td>\n",
        "      <td> -3.08</td>\n",
        "      <td>10.44</td>\n",
        "      <td>  2.06</td>\n",
        "      <td>33.72</td>\n",
        "    </tr>\n",
        "    <tr>\n",
        "      <th>3</th>\n",
        "      <td>0.00</td>\n",
        "      <td>  0.00</td>\n",
        "      <td> 0.00</td>\n",
        "      <td>-15.64</td>\n",
        "      <td>-1.43</td>\n",
        "      <td> -8.35</td>\n",
        "      <td>20.05</td>\n",
        "    </tr>\n",
        "    <tr>\n",
        "      <th>4</th>\n",
        "      <td>0.00</td>\n",
        "      <td>  0.00</td>\n",
        "      <td> 0.00</td>\n",
        "      <td>  0.00</td>\n",
        "      <td>12.19</td>\n",
        "      <td>  4.30</td>\n",
        "      <td>32.96</td>\n",
        "    </tr>\n",
        "    <tr>\n",
        "      <th>5</th>\n",
        "      <td>0.00</td>\n",
        "      <td>  0.00</td>\n",
        "      <td> 0.00</td>\n",
        "      <td>  0.00</td>\n",
        "      <td> 0.00</td>\n",
        "      <td> -6.50</td>\n",
        "      <td>17.51</td>\n",
        "    </tr>\n",
        "    <tr>\n",
        "      <th>6</th>\n",
        "      <td>0.00</td>\n",
        "      <td>  0.00</td>\n",
        "      <td> 0.00</td>\n",
        "      <td>  0.00</td>\n",
        "      <td> 0.00</td>\n",
        "      <td>  0.00</td>\n",
        "      <td>22.64</td>\n",
        "    </tr>\n",
        "    <tr>\n",
        "      <th>7</th>\n",
        "      <td>0.00</td>\n",
        "      <td>  0.00</td>\n",
        "      <td> 0.00</td>\n",
        "      <td>  0.00</td>\n",
        "      <td> 0.00</td>\n",
        "      <td>  0.00</td>\n",
        "      <td> 0.00</td>\n",
        "    </tr>\n",
        "  </tbody>\n",
        "</table>\n",
        "</div>"
       ],
       "metadata": {},
       "output_type": "pyout",
       "prompt_number": 50,
       "text": [
        "     1      2     3      4     5      6     7\n",
        "1 0.00 -17.07 -3.88 -18.35 -4.70 -11.23 14.19\n",
        "2 0.00   0.00 14.21  -3.08 10.44   2.06 33.72\n",
        "3 0.00   0.00  0.00 -15.64 -1.43  -8.35 20.05\n",
        "4 0.00   0.00  0.00   0.00 12.19   4.30 32.96\n",
        "5 0.00   0.00  0.00   0.00  0.00  -6.50 17.51\n",
        "6 0.00   0.00  0.00   0.00  0.00   0.00 22.64\n",
        "7 0.00   0.00  0.00   0.00  0.00   0.00  0.00"
       ]
      }
     ],
     "prompt_number": 50
    },
    {
     "cell_type": "code",
     "collapsed": false,
     "input": [
      "pd.options.display.float_format = '{:,.2e}'.format\n",
      "p_df"
     ],
     "language": "python",
     "metadata": {},
     "outputs": [
      {
       "html": [
        "<div style=\"max-height:1000px;max-width:1500px;overflow:auto;\">\n",
        "<table border=\"1\" class=\"dataframe\">\n",
        "  <thead>\n",
        "    <tr style=\"text-align: right;\">\n",
        "      <th></th>\n",
        "      <th>1</th>\n",
        "      <th>2</th>\n",
        "      <th>3</th>\n",
        "      <th>4</th>\n",
        "      <th>5</th>\n",
        "      <th>6</th>\n",
        "      <th>7</th>\n",
        "    </tr>\n",
        "  </thead>\n",
        "  <tbody>\n",
        "    <tr>\n",
        "      <th>1</th>\n",
        "      <td>1.00e+00</td>\n",
        "      <td>5.58e-61</td>\n",
        "      <td>1.08e-04</td>\n",
        "      <td>2.87e-69</td>\n",
        "      <td>2.72e-06</td>\n",
        "      <td>2.20e-28</td>\n",
        "      <td> 1.78e-43</td>\n",
        "    </tr>\n",
        "    <tr>\n",
        "      <th>2</th>\n",
        "      <td>0.00e+00</td>\n",
        "      <td>1.00e+00</td>\n",
        "      <td>1.77e-43</td>\n",
        "      <td>2.08e-03</td>\n",
        "      <td>7.93e-25</td>\n",
        "      <td>3.98e-02</td>\n",
        "      <td>1.84e-194</td>\n",
        "    </tr>\n",
        "    <tr>\n",
        "      <th>3</th>\n",
        "      <td>0.00e+00</td>\n",
        "      <td>0.00e+00</td>\n",
        "      <td>1.00e+00</td>\n",
        "      <td>1.10e-51</td>\n",
        "      <td>1.53e-01</td>\n",
        "      <td>1.33e-16</td>\n",
        "      <td> 1.78e-80</td>\n",
        "    </tr>\n",
        "    <tr>\n",
        "      <th>4</th>\n",
        "      <td>0.00e+00</td>\n",
        "      <td>0.00e+00</td>\n",
        "      <td>0.00e+00</td>\n",
        "      <td>1.00e+00</td>\n",
        "      <td>6.26e-33</td>\n",
        "      <td>1.79e-05</td>\n",
        "      <td>3.16e-186</td>\n",
        "    </tr>\n",
        "    <tr>\n",
        "      <th>5</th>\n",
        "      <td>0.00e+00</td>\n",
        "      <td>0.00e+00</td>\n",
        "      <td>0.00e+00</td>\n",
        "      <td>0.00e+00</td>\n",
        "      <td>1.00e+00</td>\n",
        "      <td>1.03e-10</td>\n",
        "      <td> 1.37e-63</td>\n",
        "    </tr>\n",
        "    <tr>\n",
        "      <th>6</th>\n",
        "      <td>0.00e+00</td>\n",
        "      <td>0.00e+00</td>\n",
        "      <td>0.00e+00</td>\n",
        "      <td>0.00e+00</td>\n",
        "      <td>0.00e+00</td>\n",
        "      <td>1.00e+00</td>\n",
        "      <td>5.45e-100</td>\n",
        "    </tr>\n",
        "    <tr>\n",
        "      <th>7</th>\n",
        "      <td>0.00e+00</td>\n",
        "      <td>0.00e+00</td>\n",
        "      <td>0.00e+00</td>\n",
        "      <td>0.00e+00</td>\n",
        "      <td>0.00e+00</td>\n",
        "      <td>0.00e+00</td>\n",
        "      <td> 1.00e+00</td>\n",
        "    </tr>\n",
        "  </tbody>\n",
        "</table>\n",
        "</div>"
       ],
       "metadata": {},
       "output_type": "pyout",
       "prompt_number": 51,
       "text": [
        "         1        2        3        4        5        6         7\n",
        "1 1.00e+00 5.58e-61 1.08e-04 2.87e-69 2.72e-06 2.20e-28  1.78e-43\n",
        "2 0.00e+00 1.00e+00 1.77e-43 2.08e-03 7.93e-25 3.98e-02 1.84e-194\n",
        "3 0.00e+00 0.00e+00 1.00e+00 1.10e-51 1.53e-01 1.33e-16  1.78e-80\n",
        "4 0.00e+00 0.00e+00 0.00e+00 1.00e+00 6.26e-33 1.79e-05 3.16e-186\n",
        "5 0.00e+00 0.00e+00 0.00e+00 0.00e+00 1.00e+00 1.03e-10  1.37e-63\n",
        "6 0.00e+00 0.00e+00 0.00e+00 0.00e+00 0.00e+00 1.00e+00 5.45e-100\n",
        "7 0.00e+00 0.00e+00 0.00e+00 0.00e+00 0.00e+00 0.00e+00  1.00e+00"
       ]
      }
     ],
     "prompt_number": 51
    },
    {
     "cell_type": "code",
     "collapsed": false,
     "input": [],
     "language": "python",
     "metadata": {},
     "outputs": []
    }
   ],
   "metadata": {}
  }
 ]
}