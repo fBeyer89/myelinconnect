{
 "metadata": {
  "name": ""
 },
 "nbformat": 3,
 "nbformat_minor": 0,
 "worksheets": [
  {
   "cells": [
    {
     "cell_type": "code",
     "collapsed": false,
     "input": [
      "%gui wx\n",
      "%pylab inline"
     ],
     "language": "python",
     "metadata": {},
     "outputs": [
      {
       "output_type": "stream",
       "stream": "stdout",
       "text": [
        "Populating the interactive namespace from numpy and matplotlib\n"
       ]
      },
      {
       "output_type": "stream",
       "stream": "stderr",
       "text": [
        "WARNING: pylab import has clobbered these variables: ['mlab']\n",
        "`%pylab --no-import-all` prevents importing * from pylab and numpy\n"
       ]
      }
     ],
     "prompt_number": 76
    },
    {
     "cell_type": "heading",
     "level": 4,
     "metadata": {},
     "source": [
      "load libraries, functions, colormap"
     ]
    },
    {
     "cell_type": "code",
     "collapsed": false,
     "input": [
      "import numpy as np\n",
      "import pandas as pd\n",
      "import scipy.stats as stats\n",
      "import matplotlib.pyplot as plt\n",
      "from mayavi import mlab\n",
      "from sklearn.utils.arpack import eigsh\n",
      "from sklearn.cluster import KMeans\n",
      "import seaborn as sns"
     ],
     "language": "python",
     "metadata": {},
     "outputs": [],
     "prompt_number": 77
    },
    {
     "cell_type": "markdown",
     "metadata": {},
     "source": [
      "this version of read_vtk only works if there is data attached to the nodes, need to make it optional"
     ]
    },
    {
     "cell_type": "code",
     "collapsed": false,
     "input": [
      "def read_vtk(file):\n",
      "    # read full file while dropping empty lines \n",
      "    vtk_df=pd.read_csv(file, header=None)\n",
      "    vtk_df=vtk_df.dropna()\n",
      "    # extract number of vertices and faces\n",
      "    number_vertices=int(vtk_df[vtk_df[0].str.contains('POINTS')][0].iloc[0].split()[1])\n",
      "    number_faces=int(vtk_df[vtk_df[0].str.contains('POLYGONS')][0].iloc[0].split()[1])\n",
      "    # read vertices into df and array\n",
      "    start_vertices= (vtk_df[vtk_df[0].str.contains('POINTS')].index.tolist()[0])+1\n",
      "    vertex_df=pd.read_csv(file, skiprows=range(start_vertices), nrows=number_vertices, sep='\\s*', header=None)\n",
      "    if np.array(vertex_df).shape[1]==3:\n",
      "        vertex_array=np.array(vertex_df)\n",
      "    # sometimes the vtk format is weird with 9 indices per line, then it has to be reshaped\n",
      "    elif np.array(vertex_df).shape[1]==9:\n",
      "        vertex_df=pd.read_csv(file, skiprows=range(start_vertices), nrows=number_vertices/3+1, sep='\\s*', header=None)\n",
      "        vertex_array=np.array(vertex_df.iloc[0:1,0:3])\n",
      "        vertex_array=np.append(vertex_array, vertex_df.iloc[0:1,3:6], axis=0)\n",
      "        vertex_array=np.append(vertex_array, vertex_df.iloc[0:1,6:9], axis=0)\n",
      "        for row in range(1,(number_vertices/3+1)):\n",
      "            for col in [0,3,6]:\n",
      "                vertex_array=np.append(vertex_array, array(vertex_df.iloc[row:(row+1),col:(col+3)]),axis=0) \n",
      "        # strip rows containing nans\n",
      "        vertex_array=vertex_array[ ~np.isnan(vertex_array) ].reshape(number_vertices,3)\n",
      "    else:\n",
      "        print \"vertex indices out of shape\"\n",
      "    vertices = {'val' : vertex_array, 'number' : number_vertices}\n",
      "    # read faces into df and array\n",
      "    start_faces= (vtk_df[vtk_df[0].str.contains('POLYGONS')].index.tolist()[0])+1\n",
      "    face_df=pd.read_csv(file, skiprows=range(start_faces), nrows=number_faces, sep='\\s*', header=None)\n",
      "    face_array=np.array(face_df.iloc[:,1:4])\n",
      "    faces = {'val' : face_array, 'number' : number_faces}\n",
      "    # read data into df and array\n",
      "    start_data= (vtk_df[vtk_df[0].str.contains('POINT_DATA')].index.tolist()[0])+3\n",
      "    number_data = number_vertices\n",
      "    data_df=pd.read_csv(file, skiprows=range(start_data), nrows=number_data, sep='\\s*', header=None)\n",
      "    data_array=np.array(data_df)\n",
      "    data = {'val' : data_array, 'number' : number_data}\n",
      "    \n",
      "    return vertices, faces, data\n",
      "\n",
      "#TO DO: add reading comments"
     ],
     "language": "python",
     "metadata": {},
     "outputs": [],
     "prompt_number": 78
    },
    {
     "cell_type": "markdown",
     "metadata": {},
     "source": [
      "cmap created with sns.palplot(sns.color_palette(\"Set2\", 7)), then adding grey in the beginning. For use with mayavi transformed to array, added alpha value and multiply all by 255"
     ]
    },
    {
     "cell_type": "code",
     "collapsed": false,
     "input": [
      "cmap=np.zeros((8,4))\n",
      "cmap[0,:]=[0.6, 0.6, 0.6, 1]\n",
      "cmap[1,:]=[0.40000000596046448, 0.7607843279838562, 0.64705884456634521, 1]\n",
      "cmap[2,:]=[0.98131487965583808, 0.55538641635109398, 0.38740485135246722,1]\n",
      "cmap[3,:]=[0.55432528607985565, 0.62711267120697922, 0.79595541393055635,1]\n",
      "cmap[4,:]=[0.90311419262605563, 0.54185316071790801, 0.76495195557089413,1]\n",
      "cmap[5,:]=[0.65371782148585622, 0.84708959004458262, 0.32827375098770734,1]\n",
      "cmap[6,:]=[0.9986312957370983, 0.85096502233954041, 0.18488274134841617,1]\n",
      "cmap[7,:]=[0.89573241682613591, 0.76784315109252932, 0.58182240093455595,1]\n",
      "cmap_255=np.zeros_like(cmap)\n",
      "for row in range(cmap.shape[0]):\n",
      "    cmap_255[row]=[np.floor(i * 255) for i in cmap[row]]\n",
      "cmap_255=cmap_255.astype(int)"
     ],
     "language": "python",
     "metadata": {},
     "outputs": [],
     "prompt_number": 79
    },
    {
     "cell_type": "heading",
     "level": 4,
     "metadata": {},
     "source": [
      "load relevant files for subject and hemisphere"
     ]
    },
    {
     "cell_type": "code",
     "collapsed": false,
     "input": [
      "sub='OL1T'\n",
      "hemi='rh'\n",
      "n_components_embedding=3\n",
      "n_components_kmeans=7\n",
      "smooth='meshsmooth_3'\n",
      "data_dir='/scr/ilz3/myelinconnect/final_struct_space/'\n",
      "func_file=data_dir+'rest1_1_%s/%s_%s_mid_simple_0.01_rest_%s_smoothdata.vtk'%(smooth, sub, hemi, hemi)\n",
      "t1_file=data_dir+'t1_smooth_1.5_mesh/%s_%s_mid_simple_0.01_t1_smooth1.5_%s.vtk'%(sub, hemi, hemi)\n",
      "embed_file=data_dir+\"clustering/%s_%s_mid_simple_0.01_rest_%s_smoothdata_embed_%s.csv\"%(sub, hemi, hemi, str(n_components_embedding))\n",
      "clust_file=data_dir+\"clustering/%s_%s_mid_simple_0.01_rest_%s_smoothdata_embed_%s_kmeans_%s_subclust.csv\"%(sub, hemi, hemi, str(n_components_embedding), str(n_components_kmeans))"
     ],
     "language": "python",
     "metadata": {},
     "outputs": [],
     "prompt_number": 80
    },
    {
     "cell_type": "code",
     "collapsed": false,
     "input": [
      "vt,ft,dt=read_vtk(t1_file)\n",
      "t1=dt['val'][:,0]\n",
      "\n",
      "embed=np.loadtxt(embed_file, delimiter=',')\n",
      "clust=np.loadtxt(clust_file, delimiter=',')"
     ],
     "language": "python",
     "metadata": {},
     "outputs": [],
     "prompt_number": 81
    },
    {
     "cell_type": "heading",
     "level": 4,
     "metadata": {},
     "source": [
      "look at clustering"
     ]
    },
    {
     "cell_type": "code",
     "collapsed": false,
     "input": [
      "xt=vt['val'][:,0]\n",
      "yt=vt['val'][:,1]\n",
      "zt=vt['val'][:,2]\n",
      "trianglest=ft['val']"
     ],
     "language": "python",
     "metadata": {},
     "outputs": [],
     "prompt_number": 82
    },
    {
     "cell_type": "code",
     "collapsed": false,
     "input": [
      "#cmap from 0 to 7 to detect relevant clusters\n",
      "sns.palplot(cmap)"
     ],
     "language": "python",
     "metadata": {},
     "outputs": [
      {
       "metadata": {},
       "output_type": "display_data",
       "png": "[encoded data removed]",
       "text": [
        "<matplotlib.figure.Figure at 0xf60e590>"
       ]
      }
     ],
     "prompt_number": 83
    },
    {
     "cell_type": "code",
     "collapsed": false,
     "input": [
      "mlab.figure(bgcolor=(1, 1, 1))\n",
      "img = mlab.triangular_mesh(xt,yt,zt,trianglest,scalars=clust[:,0], colormap='hsv')\n",
      "lut = img.module_manager.scalar_lut_manager.lut.table.to_array()\n",
      "img.module_manager.scalar_lut_manager.lut.table = cmap_255\n",
      "mlab.draw()\n",
      "mlab.show()"
     ],
     "language": "python",
     "metadata": {},
     "outputs": [],
     "prompt_number": 84
    },
    {
     "cell_type": "heading",
     "level": 4,
     "metadata": {},
     "source": [
      "decide on cluster of interest, neighbour and relevant subcluster"
     ]
    },
    {
     "cell_type": "code",
     "collapsed": false,
     "input": [
      "cluster=4\n",
      "neighbour=1\n",
      "\n",
      "coi=clust[:,cluster+1]\n",
      "neigh=clust[:,neighbour+1]"
     ],
     "language": "python",
     "metadata": {},
     "outputs": [],
     "prompt_number": 85
    },
    {
     "cell_type": "markdown",
     "metadata": {},
     "source": [
      "in this case better not to use the colormap which is restricted to 8 colors as there might be more subclusters"
     ]
    },
    {
     "cell_type": "code",
     "collapsed": false,
     "input": [
      "mlab.figure(bgcolor=(1, 1, 1))\n",
      "img = mlab.triangular_mesh(xt,yt,zt,trianglest,scalars=coi)\n",
      "#img = mlab.triangular_mesh(xt,yt,zt,trianglest,scalars=neigh, colormap='hsv')\n",
      "#lut = img.module_manager.scalar_lut_manager.lut.table.to_array()\n",
      "#img.module_manager.scalar_lut_manager.lut.table = cmap_255\n",
      "mlab.draw()\n",
      "mlab.show()"
     ],
     "language": "python",
     "metadata": {},
     "outputs": [],
     "prompt_number": 86
    },
    {
     "cell_type": "markdown",
     "metadata": {},
     "source": [
      "to get an idea of how many clusters there are"
     ]
    },
    {
     "cell_type": "code",
     "collapsed": false,
     "input": [
      "print clust[:,cluster+1].max()\n",
      "print clust[:,neighbour+1].max()"
     ],
     "language": "python",
     "metadata": {},
     "outputs": [
      {
       "output_type": "stream",
       "stream": "stdout",
       "text": [
        "6.0\n",
        "16.0\n"
       ]
      }
     ],
     "prompt_number": 87
    },
    {
     "cell_type": "code",
     "collapsed": false,
     "input": [
      "sub_cluster=6\n",
      "sub_cluster2=4\n",
      "sub_neighbour=15"
     ],
     "language": "python",
     "metadata": {},
     "outputs": [],
     "prompt_number": 88
    },
    {
     "cell_type": "code",
     "collapsed": false,
     "input": [
      "coi_sub=np.zeros_like(coi)\n",
      "coi_sub[coi == sub_cluster] = 1\n",
      "\n",
      "coi_sub2=np.zeros_like(coi)\n",
      "coi_sub2[coi == sub_cluster2] = 1\n",
      "\n",
      "neigh_sub=np.zeros_like(neigh)\n",
      "neigh_sub[neigh == sub_neighbour] = 1\n",
      "\n",
      "all_sub=np.zeros_like(coi)\n",
      "all_sub[coi == sub_cluster] = 1\n",
      "all_sub[coi == sub_cluster2] = 1\n",
      "all_sub[neigh == sub_neighbour] = 7"
     ],
     "language": "python",
     "metadata": {},
     "outputs": [],
     "prompt_number": 89
    },
    {
     "cell_type": "code",
     "collapsed": false,
     "input": [
      "mlab.figure(bgcolor=(1, 1, 1))\n",
      "#img = mlab.triangular_mesh(xt,yt,zt,trianglest,scalars=coi_sub, colormap='hsv')\n",
      "#img = mlab.triangular_mesh(xt,yt,zt,trianglest,scalars=coi_sub2, colormap='hsv')\n",
      "#img = mlab.triangular_mesh(xt,yt,zt,trianglest,scalars=neigh_sub, colormap='hsv')\n",
      "img = mlab.triangular_mesh(xt,yt,zt,trianglest,scalars=all_sub, colormap='hsv')\n",
      "lut = img.module_manager.scalar_lut_manager.lut.table.to_array()\n",
      "img.module_manager.scalar_lut_manager.lut.table = cmap_255\n",
      "mlab.draw()\n",
      "mlab.show()"
     ],
     "language": "python",
     "metadata": {},
     "outputs": [],
     "prompt_number": 90
    },
    {
     "cell_type": "heading",
     "level": 4,
     "metadata": {},
     "source": [
      "get t1 values within all subclusters"
     ]
    },
    {
     "cell_type": "code",
     "collapsed": false,
     "input": [
      "# make a list of dictionaries for each cluster k0, k1, ...(0=mask to max kmeans) \n",
      "# and subcluster s0_1, s1_1, s1_2, ..(1 to max subcluster, no 0 subcluster)\n",
      "t1_clust={}\n",
      "for c in range(int(clust[:,0].max()+1)):\n",
      "    t1_clust['k'+str(c)]=[]\n",
      "    for s in range(int(clust[:,c+1].max())):\n",
      "        t1_clust['s'+str(c)+'_'+str(s+1)]=[]\n",
      "\n",
      "# write all t1 values in one cluster into the list of its dictionary\n",
      "for i in range(len(t1)):\n",
      "    if t1[i]>1000:\n",
      "        k=int(clust[:,0][i])\n",
      "        sub=int(clust[:,(k+1)][i])\n",
      "        t1_clust['k'+str(k)].append(t1[i])\n",
      "        t1_clust['s'+str(k)+'_'+str(sub)].append(t1[i])"
     ],
     "language": "python",
     "metadata": {},
     "outputs": [],
     "prompt_number": 91
    },
    {
     "cell_type": "heading",
     "level": 4,
     "metadata": {},
     "source": [
      "Compare variances when adding different subclusters"
     ]
    },
    {
     "cell_type": "markdown",
     "metadata": {},
     "source": [
      "The levene test is more robust than the F test for different sample sizes and non-normally distributed data. \n",
      "In particular the variation after Brown & Forsythe using the deviation from the median (instead of mean) as used here. \n",
      "\n",
      "A p-value (second output) below a given alpha (e.g. 0.05) indicates the variances of the two samples are significantly different from each other."
     ]
    },
    {
     "cell_type": "code",
     "collapsed": false,
     "input": [
      "t1_cluster=t1_clust['k'+str(cluster)]\n",
      "t1_neighbour=t1_clust['k'+str(neighbour)]\n",
      "t1_sub_cluster=t1_clust['s'+str(cluster)+'_'+str(sub_cluster)]\n",
      "t1_sub_cluster2=t1_clust['s'+str(cluster)+'_'+str(sub_cluster2)]\n",
      "t1_sub_neighbour=t1_clust['s'+str(neighbour)+'_'+str(sub_neighbour)]"
     ],
     "language": "python",
     "metadata": {},
     "outputs": [],
     "prompt_number": 92
    },
    {
     "cell_type": "code",
     "collapsed": false,
     "input": [
      "print 'sub_cluster vs sub_cluster+sub_cluster2', stats.levene(t1_sub_cluster, (t1_sub_cluster+t1_sub_cluster2))\n",
      "print 'sub_cluster vs sub_cluster+sub_neighbour', stats.levene(t1_sub_cluster, (t1_sub_cluster+t1_sub_neighbour))"
     ],
     "language": "python",
     "metadata": {},
     "outputs": [
      {
       "output_type": "stream",
       "stream": "stdout",
       "text": [
        "sub_cluster vs sub_cluster+sub_cluster2 (19.60474763193524, 1.1828034359915484e-05)\n",
        "sub_cluster vs sub_cluster+sub_neighbour (0.010498159525079544, 0.91844366920039755)\n"
       ]
      }
     ],
     "prompt_number": 93
    },
    {
     "cell_type": "code",
     "collapsed": false,
     "input": [
      "print 'sub_cluster vs cluster', stats.levene(t1_sub_cluster, t1_cluster)\n",
      "print 'sub_neighbour vs neighbour', stats.levene(t1_sub_neighbour, t1_neighbour)"
     ],
     "language": "python",
     "metadata": {},
     "outputs": [
      {
       "output_type": "stream",
       "stream": "stdout",
       "text": [
        "sub_cluster vs cluster (31.223712783080927, 2.8883167330943229e-08)\n",
        "sub_neighbour vs neighbour (13.744342353627772, 0.00021918980446672984)\n"
       ]
      }
     ],
     "prompt_number": 94
    },
    {
     "cell_type": "markdown",
     "metadata": {},
     "source": [
      "just to make sure the variance doesn't actually decrease"
     ]
    },
    {
     "cell_type": "code",
     "collapsed": false,
     "input": [
      "print 'cluster', np.var(t1_cluster)\n",
      "print 'neighbour', np.var(t1_neighbour)\n",
      "print 'sub_cluster', np.var(t1_sub_cluster)\n",
      "print 'sub_neighbour', np.var(t1_sub_neighbour)\n",
      "print 'sub_cluster+sub_cluster2', np.var((t1_sub_cluster+t1_sub_cluster2))\n",
      "print 'sub_cluster+sub_neighbour', np.var((t1_sub_cluster+t1_sub_neighbour))"
     ],
     "language": "python",
     "metadata": {},
     "outputs": [
      {
       "output_type": "stream",
       "stream": "stdout",
       "text": [
        "cluster 31774.7180619\n",
        "neighbour 33187.9989372\n",
        "sub_cluster 11479.37713\n",
        "sub_neighbour 12219.6861993\n",
        "sub_cluster+sub_cluster2 22512.2845347\n",
        "sub_cluster+sub_neighbour 11764.2096421\n"
       ]
      }
     ],
     "prompt_number": 95
    },
    {
     "cell_type": "heading",
     "level": 4,
     "metadata": {},
     "source": [
      "Simple t test between subclusters and subcluster vs their cluster (not sure if this is appropriate)"
     ]
    },
    {
     "cell_type": "code",
     "collapsed": false,
     "input": [
      "print 'sub_cluster vs sub_cluster2', stats.ttest_ind(t1_sub_cluster, t1_sub_cluster2)\n",
      "print 'sub_cluster vs sub_neighbour', stats.ttest_ind(t1_sub_cluster, t1_sub_neighbour)"
     ],
     "language": "python",
     "metadata": {},
     "outputs": [
      {
       "output_type": "stream",
       "stream": "stdout",
       "text": [
        "sub_cluster vs sub_cluster2 (15.837738848713677, 3.0699046811190418e-42)\n",
        "sub_cluster vs sub_neighbour (0.36289818199431279, 0.7170003436973269)\n"
       ]
      }
     ],
     "prompt_number": 96
    },
    {
     "cell_type": "code",
     "collapsed": false,
     "input": [
      "hist(t1_sub_cluster, color='red',alpha=0.3)\n",
      "hist(t1_sub_cluster2, color='green',alpha=0.3)\n",
      "hist(t1_sub_neighbour, color='blue',alpha=0.3)"
     ],
     "language": "python",
     "metadata": {},
     "outputs": [
      {
       "metadata": {},
       "output_type": "pyout",
       "prompt_number": 97,
       "text": [
        "(array([ 2, 17, 30, 25,  8,  5,  2,  0,  1,  1]),\n",
        " array([ 1884.43518066,  1957.7631958 ,  2031.09121094,  2104.41922607,\n",
        "        2177.74724121,  2251.07525635,  2324.40327148,  2397.73128662,\n",
        "        2471.05930176,  2544.38731689,  2617.71533203]),\n",
        " <a list of 10 Patch objects>)"
       ]
      },
      {
       "metadata": {},
       "output_type": "display_data",
       "png": "[encoded data removed]",
       "text": [
        "<matplotlib.figure.Figure at 0xf3a7e90>"
       ]
      }
     ],
     "prompt_number": 97
    },
    {
     "cell_type": "code",
     "collapsed": false,
     "input": [
      "print 'sub_cluster vs cluster', stats.ttest_ind(t1_sub_cluster, t1_cluster)\n",
      "print 'sub_neighbour vs neighbour', stats.ttest_ind(t1_sub_neighbour, t1_neighbour)"
     ],
     "language": "python",
     "metadata": {},
     "outputs": [
      {
       "output_type": "stream",
       "stream": "stdout",
       "text": [
        "sub_cluster vs cluster (-0.088497691837679096, 0.92949699644125605)\n",
        "sub_neighbour vs neighbour (0.6727845906463813, 0.50121629300590809)\n"
       ]
      }
     ],
     "prompt_number": 98
    },
    {
     "cell_type": "markdown",
     "metadata": {},
     "source": [
      "At least there is no significant difference between the subcluster and their cluster."
     ]
    },
    {
     "cell_type": "heading",
     "level": 4,
     "metadata": {},
     "source": [
      "T test between the full cluster"
     ]
    },
    {
     "cell_type": "code",
     "collapsed": false,
     "input": [
      "print 'cluster vs neighbour', stats.ttest_ind(t1_cluster, t1_neighbour)"
     ],
     "language": "python",
     "metadata": {},
     "outputs": [
      {
       "output_type": "stream",
       "stream": "stdout",
       "text": [
        "cluster vs neighbour (2.460969552772923, 0.013937929399988539)\n"
       ]
      }
     ],
     "prompt_number": 99
    },
    {
     "cell_type": "code",
     "collapsed": false,
     "input": [
      "hist(t1_cluster, color='red',alpha=0.3)\n",
      "hist(t1_neighbour, color='green',alpha=0.3)"
     ],
     "language": "python",
     "metadata": {},
     "outputs": [
      {
       "metadata": {},
       "output_type": "pyout",
       "prompt_number": 100,
       "text": [
        "(array([  5,   5,  11,  28, 107, 441, 365,  95,  28,   4]),\n",
        " array([ 1138.15063477,  1301.62758789,  1465.10454102,  1628.58149414,\n",
        "        1792.05844727,  1955.53540039,  2119.01235352,  2282.48930664,\n",
        "        2445.96625977,  2609.44321289,  2772.92016602]),\n",
        " <a list of 10 Patch objects>)"
       ]
      },
      {
       "metadata": {},
       "output_type": "display_data",
       "png": "[encoded data removed]",
       "text": [
        "<matplotlib.figure.Figure at 0xf3ae650>"
       ]
      }
     ],
     "prompt_number": 100
    },
    {
     "cell_type": "code",
     "collapsed": false,
     "input": [
      "t_array=np.zeros((int(clust[:,0].max()+1),int(clust[:,0].max()+1)))\n",
      "p_array=np.zeros((int(clust[:,0].max()+1),int(clust[:,0].max()+1)))\n",
      "for c1 in range(int(clust[:,0].max()+1)):\n",
      "    for c2 in range(int(clust[:,0].max()+1)):\n",
      "        a=t1_clust['k'+str(c1)]\n",
      "        b=t1_clust['k'+str(c2)]\n",
      "        t,p=stats.ttest_ind(a, b)\n",
      "        t_array[c1][c2]=t\n",
      "        p_array[c1][c2]=p\n",
      "t_df=pd.DataFrame(t_array)\n",
      "p_df=pd.DataFrame(p_array)"
     ],
     "language": "python",
     "metadata": {},
     "outputs": [],
     "prompt_number": 124
    },
    {
     "cell_type": "code",
     "collapsed": false,
     "input": [
      "plot_list=[]\n",
      "for c in range(int(clust[:,0].max()+1)):\n",
      "    plot_list+=[np.array(t1_clust['k'+str(c)])]\n"
     ],
     "language": "python",
     "metadata": {},
     "outputs": [],
     "prompt_number": 101
    },
    {
     "cell_type": "code",
     "collapsed": false,
     "input": [
      "fig = plt.figure(figsize=(10,10))\n",
      "sns.violinplot(plot_list, color=cmap, names=['0','1','2','3','4','5','6','7'])\n",
      "sns.axlabel('cluster','T1 value')"
     ],
     "language": "python",
     "metadata": {},
     "outputs": [
      {
       "output_type": "stream",
       "stream": "stderr",
       "text": [
        "/usr/lib/python2.7/dist-packages/scipy/stats/stats.py:1367: DeprecationWarning: using a non-integer number instead of an integer will result in an error in the future\n",
        "  return values[idx]\n",
        "/usr/lib/python2.7/dist-packages/scipy/stats/stats.py:1367: DeprecationWarning: using a non-integer number instead of an integer will result in an error in the future\n",
        "  return values[idx]\n"
       ]
      },
      {
       "metadata": {},
       "output_type": "display_data",
       "png": "[encoded data removed]",
       "text": [
        "<matplotlib.figure.Figure at 0xfa44cd0>"
       ]
      }
     ],
     "prompt_number": 130
    },
    {
     "cell_type": "code",
     "collapsed": false,
     "input": [
      "p_df"
     ],
     "language": "python",
     "metadata": {},
     "outputs": [
      {
       "html": [
        "<div style=\"max-height:1000px;max-width:1500px;overflow:auto;\">\n",
        "<table border=\"1\" class=\"dataframe\">\n",
        "  <thead>\n",
        "    <tr style=\"text-align: right;\">\n",
        "      <th></th>\n",
        "      <th>0</th>\n",
        "      <th>1</th>\n",
        "      <th>2</th>\n",
        "      <th>3</th>\n",
        "      <th>4</th>\n",
        "      <th>5</th>\n",
        "      <th>6</th>\n",
        "      <th>7</th>\n",
        "    </tr>\n",
        "  </thead>\n",
        "  <tbody>\n",
        "    <tr>\n",
        "      <th>0</th>\n",
        "      <td> 1.000000e+00</td>\n",
        "      <td> 9.275387e-68</td>\n",
        "      <td> 3.487958e-27</td>\n",
        "      <td> 2.662061e-54</td>\n",
        "      <td>  8.823263e-73</td>\n",
        "      <td> 6.984666e-62</td>\n",
        "      <td>  2.284152e-14</td>\n",
        "      <td> 3.263234e-54</td>\n",
        "    </tr>\n",
        "    <tr>\n",
        "      <th>1</th>\n",
        "      <td> 9.275387e-68</td>\n",
        "      <td> 1.000000e+00</td>\n",
        "      <td> 9.163864e-71</td>\n",
        "      <td> 8.279412e-35</td>\n",
        "      <td>  1.393793e-02</td>\n",
        "      <td> 4.447359e-01</td>\n",
        "      <td>  4.347037e-87</td>\n",
        "      <td> 7.127603e-28</td>\n",
        "    </tr>\n",
        "    <tr>\n",
        "      <th>2</th>\n",
        "      <td> 3.487958e-27</td>\n",
        "      <td> 9.163864e-71</td>\n",
        "      <td> 1.000000e+00</td>\n",
        "      <td> 2.340202e-23</td>\n",
        "      <td>  3.584331e-85</td>\n",
        "      <td> 8.351518e-67</td>\n",
        "      <td>  6.327152e-10</td>\n",
        "      <td> 9.501241e-25</td>\n",
        "    </tr>\n",
        "    <tr>\n",
        "      <th>3</th>\n",
        "      <td> 2.662061e-54</td>\n",
        "      <td> 8.279412e-35</td>\n",
        "      <td> 2.340202e-23</td>\n",
        "      <td> 1.000000e+00</td>\n",
        "      <td>  1.984796e-48</td>\n",
        "      <td> 7.380368e-37</td>\n",
        "      <td>  1.192094e-45</td>\n",
        "      <td> 7.747298e-01</td>\n",
        "    </tr>\n",
        "    <tr>\n",
        "      <th>4</th>\n",
        "      <td> 8.823263e-73</td>\n",
        "      <td> 1.393793e-02</td>\n",
        "      <td> 3.584331e-85</td>\n",
        "      <td> 1.984796e-48</td>\n",
        "      <td>  1.000000e+00</td>\n",
        "      <td> 1.055610e-01</td>\n",
        "      <td> 1.885425e-100</td>\n",
        "      <td> 6.500168e-40</td>\n",
        "    </tr>\n",
        "    <tr>\n",
        "      <th>5</th>\n",
        "      <td> 6.984666e-62</td>\n",
        "      <td> 4.447359e-01</td>\n",
        "      <td> 8.351518e-67</td>\n",
        "      <td> 7.380368e-37</td>\n",
        "      <td>  1.055610e-01</td>\n",
        "      <td> 1.000000e+00</td>\n",
        "      <td>  9.807573e-80</td>\n",
        "      <td> 1.604143e-28</td>\n",
        "    </tr>\n",
        "    <tr>\n",
        "      <th>6</th>\n",
        "      <td> 2.284152e-14</td>\n",
        "      <td> 4.347037e-87</td>\n",
        "      <td> 6.327152e-10</td>\n",
        "      <td> 1.192094e-45</td>\n",
        "      <td> 1.885425e-100</td>\n",
        "      <td> 9.807573e-80</td>\n",
        "      <td>  1.000000e+00</td>\n",
        "      <td> 2.084769e-50</td>\n",
        "    </tr>\n",
        "    <tr>\n",
        "      <th>7</th>\n",
        "      <td> 3.263234e-54</td>\n",
        "      <td> 7.127603e-28</td>\n",
        "      <td> 9.501241e-25</td>\n",
        "      <td> 7.747298e-01</td>\n",
        "      <td>  6.500168e-40</td>\n",
        "      <td> 1.604143e-28</td>\n",
        "      <td>  2.084769e-50</td>\n",
        "      <td> 1.000000e+00</td>\n",
        "    </tr>\n",
        "  </tbody>\n",
        "</table>\n",
        "</div>"
       ],
       "metadata": {},
       "output_type": "pyout",
       "prompt_number": 126,
       "text": [
        "              0             1             2             3              4  \\\n",
        "0  1.000000e+00  9.275387e-68  3.487958e-27  2.662061e-54   8.823263e-73   \n",
        "1  9.275387e-68  1.000000e+00  9.163864e-71  8.279412e-35   1.393793e-02   \n",
        "2  3.487958e-27  9.163864e-71  1.000000e+00  2.340202e-23   3.584331e-85   \n",
        "3  2.662061e-54  8.279412e-35  2.340202e-23  1.000000e+00   1.984796e-48   \n",
        "4  8.823263e-73  1.393793e-02  3.584331e-85  1.984796e-48   1.000000e+00   \n",
        "5  6.984666e-62  4.447359e-01  8.351518e-67  7.380368e-37   1.055610e-01   \n",
        "6  2.284152e-14  4.347037e-87  6.327152e-10  1.192094e-45  1.885425e-100   \n",
        "7  3.263234e-54  7.127603e-28  9.501241e-25  7.747298e-01   6.500168e-40   \n",
        "\n",
        "              5              6             7  \n",
        "0  6.984666e-62   2.284152e-14  3.263234e-54  \n",
        "1  4.447359e-01   4.347037e-87  7.127603e-28  \n",
        "2  8.351518e-67   6.327152e-10  9.501241e-25  \n",
        "3  7.380368e-37   1.192094e-45  7.747298e-01  \n",
        "4  1.055610e-01  1.885425e-100  6.500168e-40  \n",
        "5  1.000000e+00   9.807573e-80  1.604143e-28  \n",
        "6  9.807573e-80   1.000000e+00  2.084769e-50  \n",
        "7  1.604143e-28   2.084769e-50  1.000000e+00  "
       ]
      }
     ],
     "prompt_number": 126
    },
    {
     "cell_type": "code",
     "collapsed": false,
     "input": [
      "t_df"
     ],
     "language": "python",
     "metadata": {},
     "outputs": [
      {
       "html": [
        "<div style=\"max-height:1000px;max-width:1500px;overflow:auto;\">\n",
        "<table border=\"1\" class=\"dataframe\">\n",
        "  <thead>\n",
        "    <tr style=\"text-align: right;\">\n",
        "      <th></th>\n",
        "      <th>0</th>\n",
        "      <th>1</th>\n",
        "      <th>2</th>\n",
        "      <th>3</th>\n",
        "      <th>4</th>\n",
        "      <th>5</th>\n",
        "      <th>6</th>\n",
        "      <th>7</th>\n",
        "    </tr>\n",
        "  </thead>\n",
        "  <tbody>\n",
        "    <tr>\n",
        "      <th>0</th>\n",
        "      <td>  0.000000</td>\n",
        "      <td>-18.585028</td>\n",
        "      <td>-11.375523</td>\n",
        "      <td>-16.230295</td>\n",
        "      <td>-19.545584</td>\n",
        "      <td>-17.570111</td>\n",
        "      <td> -7.930784</td>\n",
        "      <td>-16.623979</td>\n",
        "    </tr>\n",
        "    <tr>\n",
        "      <th>1</th>\n",
        "      <td> 18.585028</td>\n",
        "      <td>  0.000000</td>\n",
        "      <td> 18.716487</td>\n",
        "      <td> 12.507806</td>\n",
        "      <td> -2.460970</td>\n",
        "      <td> -0.764355</td>\n",
        "      <td> 21.252376</td>\n",
        "      <td> 11.120736</td>\n",
        "    </tr>\n",
        "    <tr>\n",
        "      <th>2</th>\n",
        "      <td> 11.375523</td>\n",
        "      <td>-18.716487</td>\n",
        "      <td>  0.000000</td>\n",
        "      <td>-10.099497</td>\n",
        "      <td>-20.915739</td>\n",
        "      <td>-18.079516</td>\n",
        "      <td>  6.258240</td>\n",
        "      <td>-10.485909</td>\n",
        "    </tr>\n",
        "    <tr>\n",
        "      <th>3</th>\n",
        "      <td> 16.230295</td>\n",
        "      <td>-12.507806</td>\n",
        "      <td> 10.099497</td>\n",
        "      <td>  0.000000</td>\n",
        "      <td>-14.979994</td>\n",
        "      <td>-12.895824</td>\n",
        "      <td> 14.643261</td>\n",
        "      <td> -0.286231</td>\n",
        "    </tr>\n",
        "    <tr>\n",
        "      <th>4</th>\n",
        "      <td> 19.545584</td>\n",
        "      <td>  2.460970</td>\n",
        "      <td> 20.915739</td>\n",
        "      <td> 14.979994</td>\n",
        "      <td>  0.000000</td>\n",
        "      <td>  1.619162</td>\n",
        "      <td> 23.313956</td>\n",
        "      <td> 13.558105</td>\n",
        "    </tr>\n",
        "    <tr>\n",
        "      <th>5</th>\n",
        "      <td> 17.570111</td>\n",
        "      <td>  0.764355</td>\n",
        "      <td> 18.079516</td>\n",
        "      <td> 12.895824</td>\n",
        "      <td> -1.619162</td>\n",
        "      <td>  0.000000</td>\n",
        "      <td> 20.122666</td>\n",
        "      <td> 11.255074</td>\n",
        "    </tr>\n",
        "    <tr>\n",
        "      <th>6</th>\n",
        "      <td>  7.930784</td>\n",
        "      <td>-21.252376</td>\n",
        "      <td> -6.258240</td>\n",
        "      <td>-14.643261</td>\n",
        "      <td>-23.313956</td>\n",
        "      <td>-20.122666</td>\n",
        "      <td>  0.000000</td>\n",
        "      <td>-15.713427</td>\n",
        "    </tr>\n",
        "    <tr>\n",
        "      <th>7</th>\n",
        "      <td> 16.623979</td>\n",
        "      <td>-11.120736</td>\n",
        "      <td> 10.485909</td>\n",
        "      <td>  0.286231</td>\n",
        "      <td>-13.558105</td>\n",
        "      <td>-11.255074</td>\n",
        "      <td> 15.713427</td>\n",
        "      <td>  0.000000</td>\n",
        "    </tr>\n",
        "  </tbody>\n",
        "</table>\n",
        "</div>"
       ],
       "metadata": {},
       "output_type": "pyout",
       "prompt_number": 125,
       "text": [
        "           0          1          2          3          4          5  \\\n",
        "0   0.000000 -18.585028 -11.375523 -16.230295 -19.545584 -17.570111   \n",
        "1  18.585028   0.000000  18.716487  12.507806  -2.460970  -0.764355   \n",
        "2  11.375523 -18.716487   0.000000 -10.099497 -20.915739 -18.079516   \n",
        "3  16.230295 -12.507806  10.099497   0.000000 -14.979994 -12.895824   \n",
        "4  19.545584   2.460970  20.915739  14.979994   0.000000   1.619162   \n",
        "5  17.570111   0.764355  18.079516  12.895824  -1.619162   0.000000   \n",
        "6   7.930784 -21.252376  -6.258240 -14.643261 -23.313956 -20.122666   \n",
        "7  16.623979 -11.120736  10.485909   0.286231 -13.558105 -11.255074   \n",
        "\n",
        "           6          7  \n",
        "0  -7.930784 -16.623979  \n",
        "1  21.252376  11.120736  \n",
        "2   6.258240 -10.485909  \n",
        "3  14.643261  -0.286231  \n",
        "4  23.313956  13.558105  \n",
        "5  20.122666  11.255074  \n",
        "6   0.000000 -15.713427  \n",
        "7  15.713427   0.000000  "
       ]
      }
     ],
     "prompt_number": 125
    }
   ],
   "metadata": {}
  }
 ]
}