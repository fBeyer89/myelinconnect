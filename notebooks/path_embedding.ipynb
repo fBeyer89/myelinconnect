{
 "cells": [
  {
   "cell_type": "code",
   "execution_count": null,
   "metadata": {
    "collapsed": true
   },
   "outputs": [],
   "source": [
    "from __future__ import division"
   ]
  },
  {
   "cell_type": "code",
   "execution_count": null,
   "metadata": {
    "collapsed": false
   },
   "outputs": [],
   "source": [
    "%matplotlib inline"
   ]
  },
  {
   "cell_type": "markdown",
   "metadata": {},
   "source": [
    "#### libraries and functions"
   ]
  },
  {
   "cell_type": "markdown",
   "metadata": {},
   "source": [
    "https://github.com/juhuntenburg/brainsurfacescripts"
   ]
  },
  {
   "cell_type": "code",
   "execution_count": 1,
   "metadata": {
    "collapsed": false
   },
   "outputs": [
    {
     "name": "stderr",
     "output_type": "stream",
     "text": [
      "/home/raid3/huntenburg/workspace/try_openblas/local/lib/python2.7/site-packages/matplotlib/__init__.py:872: UserWarning: axes.color_cycle is deprecated and replaced with axes.prop_cycle; please use the latter.\n",
      "  warnings.warn(self.msg_depr % (key, alt_key))\n"
     ]
    }
   ],
   "source": [
    "import gdist\n",
    "import numpy as np\n",
    "import pandas as pd\n",
    "from pqdict import PQDict\n",
    "from mayavi import mlab\n",
    "import seaborn as sns\n",
    "from scipy import stats as stats\n",
    "import scipy as sp\n",
    "import matplotlib.pyplot as plt\n",
    "from vtk_rw import read_vtk, write_vtk\n",
    "from graphs import graph_from_mesh, dijkstra, shortest_path, sorted_path\n",
    "from plotting import plot_surf_stat_map"
   ]
  },
  {
   "cell_type": "markdown",
   "metadata": {},
   "source": [
    "### Read and convert data"
   ]
  },
  {
   "cell_type": "code",
   "execution_count": 2,
   "metadata": {
    "collapsed": false
   },
   "outputs": [],
   "source": [
    "mesh_file = '/scr/ilz3/myelinconnect/all_data_on_simple_surf/surfs/lowres_rh_d.vtk'\n",
    "sulc_file = '/scr/ilz3/myelinconnect/all_data_on_simple_surf/surfs/lowres_rh_sulc.npy'\n",
    "embed_file = '/scr/ilz3/myelinconnect/all_data_on_simple_surf/clust/smooth_3/mask_025_5/rh_embed_10.npy'\n",
    "t1_file = '/scr/ilz3/myelinconnect/all_data_on_simple_surf/t1/avg_rh_profiles.npy'\n",
    "path_file = '/scr/ilz3/myelinconnect/all_data_on_simple_surf/path/rh_lateral_path.1D.roi'\n",
    "\n",
    "#mesh_file = '/SCR/data/ohbm2016/lowres_rh_d.vtk'\n",
    "#sulc_file = '/SCR/data/ohbm2016/lowres_rh_sulc.npy'\n",
    "#embed_file = '/SCR/data/ohbm2016/mask_025_5/rh_embed_10.npy'\n",
    "#t1_file = '/SCR/data/ohbm2016/avg_rh_profiles.npy'"
   ]
  },
  {
   "cell_type": "code",
   "execution_count": 5,
   "metadata": {
    "collapsed": false
   },
   "outputs": [],
   "source": [
    "v,f,d=read_vtk(mesh_file)\n",
    "vertices = v.astype(np.float64)\n",
    "faces = f.astype(np.int32)\n",
    "sulc = np.load(sulc_file)\n",
    "profiles = np.load(t1_file)\n",
    "embed = np.load(embed_file)\n",
    "unsorted_path = np.loadtxt(path_file, dtype='int64')[:,0]"
   ]
  },
  {
   "cell_type": "code",
   "execution_count": 4,
   "metadata": {
    "collapsed": true
   },
   "outputs": [],
   "source": [
    "G=graph_from_mesh(vertices, faces, edge_length=True)"
   ]
  },
  {
   "cell_type": "markdown",
   "metadata": {},
   "source": [
    "### Create path and windows"
   ]
  },
  {
   "cell_type": "markdown",
   "metadata": {},
   "source": [
    "The graph representation of the surface is used to find the shortest path between the chosen source and target node. For each node on the path a window is created containing all other nodes that lie within a given radius and are closer to this node that to any other node on the path. These single node windows are then combined into a larger window with the chosen width that is sliding along the path."
   ]
  },
  {
   "cell_type": "code",
   "execution_count": 7,
   "metadata": {
    "collapsed": false
   },
   "outputs": [],
   "source": [
    "radius=5\n",
    "halfwidth=3 # if len(path) cannot be divided by 2*halfwidth, some end nodes will be dropped\n",
    "overlap=0 # in single windows\n",
    "source=46644\n",
    "target=59276"
   ]
  },
  {
   "cell_type": "code",
   "execution_count": 6,
   "metadata": {
    "collapsed": false
   },
   "outputs": [],
   "source": [
    "#path=shortest_path(G,source,target)\n",
    "#path=list(np.load('/scr/ilz3/myelinconnect/all_data_on_simple_surf/path/rh_4664_59276.npy'))\n",
    "path = sorted_path(G, unsorted_path)\n",
    "#np.save('/scr/ilz3/myelinconnect/all_data_on_simple_surf/path/rh_4664_59276.npy', np.asarray(path))"
   ]
  },
  {
   "cell_type": "code",
   "execution_count": null,
   "metadata": {
    "collapsed": true
   },
   "outputs": [],
   "source": [
    "sns.set_style('white')\n",
    "plot=plot_surf_stat_map(vertices, faces, stat_map=embed[:,0],\n",
    "                        bg_map=sulc, bg_on_stat=True, \n",
    "                        elev=200,azim=20, figsize=(11,10))"
   ]
  },
  {
   "cell_type": "code",
   "execution_count": null,
   "metadata": {
    "collapsed": false
   },
   "outputs": [],
   "source": [
    "source_target = np.zeros_like(embed[:,0])\n",
    "source_target[path[0]]=-1\n",
    "source_target[path[-1]]=1\n",
    "#source_target[np.where(embed[:,0]-np.min(embed[:,0])<0.005)]=1\n",
    "#source_target[np.where(np.max(embed[:,0])-embed[:,0]<0.005)]=-1"
   ]
  },
  {
   "cell_type": "code",
   "execution_count": null,
   "metadata": {
    "collapsed": false
   },
   "outputs": [],
   "source": [
    "sns.set_style('white')\n",
    "plot=plot_surf_stat_map(vertices, faces, stat_map=source_target,\n",
    "                        threshold=0.5, alpha=0.1, \n",
    "                        elev=200,azim=20, figsize=(11,10))"
   ]
  },
  {
   "cell_type": "code",
   "execution_count": null,
   "metadata": {
    "collapsed": true
   },
   "outputs": [],
   "source": [
    "pathbrain = np.zeros_like(vertices[:,0])\n",
    "pathbrain[path] = 1"
   ]
  },
  {
   "cell_type": "code",
   "execution_count": null,
   "metadata": {
    "collapsed": false
   },
   "outputs": [],
   "source": [
    "sns.set_style('white')\n",
    "plot=plot_surf_stat_map(vertices, faces, stat_map=pathbrain, bg_map=sulc, bg_on_stat=True, elev=200,azim=20, figsize=(11,10))"
   ]
  },
  {
   "cell_type": "code",
   "execution_count": null,
   "metadata": {
    "collapsed": false
   },
   "outputs": [],
   "source": [
    "# for each vertex show only those vertices in the sparse matrix, that have a distance < radius\n",
    "# for these give the precise distance\n",
    "inradius_matrix=gdist.local_gdist_matrix(vertices, faces, max_distance=radius)"
   ]
  },
  {
   "cell_type": "code",
   "execution_count": null,
   "metadata": {
    "collapsed": false
   },
   "outputs": [],
   "source": [
    "# get only the vertices that are in a distance < radius to any node in path\n",
    "inradius_path=[]\n",
    "for pnode in path:\n",
    "    inradius_path=list(np.unique(inradius_matrix[:,path].indices))"
   ]
  },
  {
   "cell_type": "code",
   "execution_count": null,
   "metadata": {
    "collapsed": false
   },
   "outputs": [],
   "source": [
    "# make an array with the radius neighbours in columns and the path nodes in rows\n",
    "path_x_neighbours=np.zeros((len(inradius_path), len(path)))\n",
    "for pnode in range(len(path)):\n",
    "    path_x_neighbours[:,pnode]=np.reshape(inradius_matrix[inradius_path,path[pnode]].toarray(),\n",
    "                                          (len(inradius_path),))\n",
    "path_x_neighbours[path_x_neighbours==0]=np.nan"
   ]
  },
  {
   "cell_type": "code",
   "execution_count": null,
   "metadata": {
    "collapsed": false
   },
   "outputs": [],
   "source": [
    "# for each vertex in this list, find the node on path it is closest to\n",
    "path_x_neighbours_min=np.zeros((len(inradius_path),1))\n",
    "for nnode in range(len(inradius_path)):\n",
    "    path_x_neighbours_min[nnode]=np.nanargmin(path_x_neighbours[nnode,:])"
   ]
  },
  {
   "cell_type": "code",
   "execution_count": null,
   "metadata": {
    "collapsed": false
   },
   "outputs": [],
   "source": [
    "#for each node on the path, extract those neighbour nodes, that fall into its window\n",
    "windows=[]\n",
    "for pnode in range(len(path)):\n",
    "    window=[path[pnode]]\n",
    "    indices = [i for i, x in enumerate(list(path_x_neighbours_min)) if x == pnode]\n",
    "    [window.append(inradius_path[y]) for y in indices]\n",
    "    windows.append(window)"
   ]
  },
  {
   "cell_type": "code",
   "execution_count": null,
   "metadata": {
    "collapsed": false
   },
   "outputs": [],
   "source": [
    "# combine single windows for sliding\n",
    "combined_windows=[]\n",
    "for window in np.arange(start=halfwidth, stop=len(windows)-halfwidth, step=2*halfwidth-overlap):\n",
    "    combined_window=[]\n",
    "    for k in range(window-halfwidth,window+halfwidth):\n",
    "        combined_window+=[k]#windows[k]\n",
    "    combined_windows.append(combined_window)"
   ]
  },
  {
   "cell_type": "markdown",
   "metadata": {},
   "source": [
    "Get windows back to surface space"
   ]
  },
  {
   "cell_type": "code",
   "execution_count": null,
   "metadata": {
    "collapsed": false
   },
   "outputs": [],
   "source": [
    "# construct a full surface for each window, with only the window nodes set to 1\n",
    "window_surfs=[]\n",
    "for combined_window in range(len(combined_windows)):\n",
    "    window_surf=np.zeros((len(vertices),))\n",
    "\n",
    "    for j in path:\n",
    "        window_surf[j]=1\n",
    "        \n",
    "    for i in combined_windows[combined_window]:\n",
    "        window_surf[i]=100\n",
    "    window_surfs.append(window_surf)"
   ]
  },
  {
   "cell_type": "code",
   "execution_count": null,
   "metadata": {
    "collapsed": false
   },
   "outputs": [],
   "source": [
    "# construct single surface with all windows differently carrying a different number\n",
    "allwindow_surf=np.zeros((len(vertices),))\n",
    "for window in range(len(windows)):\n",
    "        \n",
    "    for i in windows[window]:\n",
    "        allwindow_surf[i]=window+2"
   ]
  },
  {
   "cell_type": "code",
   "execution_count": null,
   "metadata": {
    "collapsed": false
   },
   "outputs": [],
   "source": [
    "sns.set_style('white')\n",
    "plot=plot_surf_stat_map(vertices, faces, stat_map=allwindow_surf, bg_map=sulc, bg_on_stat=True, \n",
    "                        elev=200,azim=20, figsize=(11,10))"
   ]
  },
  {
   "cell_type": "code",
   "execution_count": null,
   "metadata": {
    "collapsed": false
   },
   "outputs": [],
   "source": [
    "wsize=[]\n",
    "for window in combined_windows:\n",
    "    wsize.append(len(window))\n",
    "sns.set_style('darkgrid')\n",
    "plt.plot(wsize)\n",
    "sns.axlabel=('Window', '# Vertices')"
   ]
  },
  {
   "cell_type": "raw",
   "metadata": {
    "collapsed": false
   },
   "source": [
    "# dispay windows moving on surface\n",
    "mlab.figure(bgcolor=(1, 1, 1))\n",
    "img = mlab.triangular_mesh(vertices[:,0],vertices[:,1],vertices[:,2],faces,scalars=window_surfs[0], colormap='gist_gray')\n",
    "lut = img.module_manager.scalar_lut_manager.lut.table.to_array()\n",
    "img.module_manager.scalar_lut_manager.lut.table = cmap\n",
    "mlab.view(300,495, 300, np.array([120,100,90]))\n",
    "mlab.draw()\n",
    "for j in range(len(window_surfs)):\n",
    "    img.mlab_source.scalars = window_surfs[j]\n",
    "mlab.show()"
   ]
  },
  {
   "cell_type": "code",
   "execution_count": null,
   "metadata": {
    "collapsed": false
   },
   "outputs": [],
   "source": [
    "sns.set_style('white')\n",
    "surf_1 = plot_surf_stat_map(vertices, faces, stat_map=window_surfs[0], elev=200, azim=20, \n",
    "                            threshold=0.5, alpha=0.1, \n",
    "                            #cmap='Spectral', \n",
    "                            figsize=(11,10))"
   ]
  },
  {
   "cell_type": "code",
   "execution_count": null,
   "metadata": {
    "collapsed": false
   },
   "outputs": [],
   "source": [
    "sns.set_style('white')\n",
    "surf_1 = plot_surf_stat_map(vertices, faces, stat_map=window_surfs[20], elev=200, azim=20, \n",
    "                            threshold=0.5, alpha=0.1, \n",
    "                            #cmap='Spectral', \n",
    "                            figsize=(11,10))"
   ]
  },
  {
   "cell_type": "code",
   "execution_count": null,
   "metadata": {
    "collapsed": false
   },
   "outputs": [],
   "source": [
    "sns.set_style('white')\n",
    "surf_1 = plot_surf_stat_map(vertices, faces, stat_map=window_surfs[30], elev=200, azim=20, \n",
    "                            threshold=0.5, alpha=0.1, \n",
    "                            #cmap='Spectral', \n",
    "                            figsize=(11,10))"
   ]
  },
  {
   "cell_type": "code",
   "execution_count": null,
   "metadata": {
    "collapsed": false
   },
   "outputs": [],
   "source": [
    "sns.set_style('white')\n",
    "surf_1 = plot_surf_stat_map(vertices, faces, stat_map=window_surfs[40], elev=200, azim=20, \n",
    "                            threshold=0.5, alpha=0.1, \n",
    "                            #cmap='Spectral', \n",
    "                            figsize=(11,10))"
   ]
  },
  {
   "cell_type": "code",
   "execution_count": null,
   "metadata": {
    "collapsed": false
   },
   "outputs": [],
   "source": [
    "sns.set_style('white')\n",
    "surf_1 = plot_surf_stat_map(vertices, faces, stat_map=window_surfs[-1], elev=200, azim=20, \n",
    "                            threshold=0.5, alpha=0.1, \n",
    "                            #cmap='Spectral', \n",
    "                            figsize=(11,10))"
   ]
  },
  {
   "cell_type": "markdown",
   "metadata": {},
   "source": [
    "### Sample profiles in windows"
   ]
  },
  {
   "cell_type": "code",
   "execution_count": null,
   "metadata": {
    "collapsed": false
   },
   "outputs": [],
   "source": [
    "profiles = profiles[:,3:8]"
   ]
  },
  {
   "cell_type": "code",
   "execution_count": null,
   "metadata": {
    "collapsed": false
   },
   "outputs": [],
   "source": [
    "# sample t1 per window, calc mean profile and sdv\n",
    "profile_windows=[]\n",
    "profile_avg=[]\n",
    "profile_sdv=[]\n",
    "for window in combined_windows:\n",
    "    profile_windows.append(profiles[window])\n",
    "    profile_avg.append(np.mean(profiles[window], axis=0))\n",
    "    profile_sdv.append(np.std(profiles[window], axis=0))"
   ]
  },
  {
   "cell_type": "code",
   "execution_count": null,
   "metadata": {
    "collapsed": true
   },
   "outputs": [],
   "source": [
    "sns.set_style('darkgrid')"
   ]
  },
  {
   "cell_type": "code",
   "execution_count": null,
   "metadata": {
    "collapsed": true
   },
   "outputs": [],
   "source": [
    "colors = sns.color_palette('cubehelix', 10)"
   ]
  },
  {
   "cell_type": "code",
   "execution_count": null,
   "metadata": {
    "collapsed": false
   },
   "outputs": [],
   "source": [
    "fig = plt.figure(figsize=(15,30))\n",
    "for i in range(len(profile_avg)):\n",
    "    ax = fig.add_subplot(int(np.ceil(len(profile_avg)/4)),4,i+1)\n",
    "    plt.plot(profile_avg[i], label=str(i+1), color=colors[3])\n",
    "    plt.legend(loc=2)"
   ]
  },
  {
   "cell_type": "code",
   "execution_count": null,
   "metadata": {
    "collapsed": false
   },
   "outputs": [],
   "source": [
    "fig = plt.figure(figsize=(15,30))\n",
    "for i in range(len(profile_avg)):\n",
    "    ax = fig.add_subplot(int(np.ceil(len(profile_avg)/4)),4,i+1)\n",
    "    plt.plot(profile_avg[i], label=str(i+1), color=colors[3])\n",
    "    ax.set_ylim([1500,2500])"
   ]
  },
  {
   "cell_type": "code",
   "execution_count": null,
   "metadata": {
    "collapsed": false
   },
   "outputs": [],
   "source": [
    "fig = plt.figure(figsize=(15,30))\n",
    "for i in range(len(profile_avg)):\n",
    "    ax = fig.add_subplot(int(np.ceil(len(profile_avg)/4)),4,i+1)\n",
    "    for pro in range(len(profile_windows[i])):\n",
    "        plt.plot(profile_windows[i][pro],color='gray', alpha=0.3)\n",
    "        plt.plot(profile_avg[i], color='red', linewidth=0.1)"
   ]
  },
  {
   "cell_type": "code",
   "execution_count": null,
   "metadata": {
    "collapsed": false
   },
   "outputs": [],
   "source": [
    "etamap=np.array(sns.diverging_palette(220, 20, n=len(profile_avg), center='dark'))\n",
    "fig = plt.figure(figsize=(16,20))\n",
    "fig.add_subplot(221)\n",
    "for i in range(len(profile_avg)):\n",
    "    r=etamap[i][0]\n",
    "    g=etamap[i][1]\n",
    "    b=etamap[i][2]\n",
    "    if i==0:\n",
    "        plt.plot(profile_avg[i], color=(r,g,b),label='source')\n",
    "    elif i==len(profile_avg)-1:\n",
    "        plt.plot(profile_avg[i], color=(r,g,b),label='target')\n",
    "    else:\n",
    "        plt.plot(profile_avg[i], color=(r,g,b))\n",
    "plt.legend(loc=4, fontsize=14)\n",
    "\n",
    "\n",
    "fig.add_subplot(222)\n",
    "for i in range(len(profile_avg)):\n",
    "    r=etamap[i][0]\n",
    "    g=etamap[i][1]\n",
    "    b=etamap[i][2]\n",
    "    if i==0:\n",
    "        plt.plot(profile_avg[i]-np.mean(profile_avg[i]), color=(r,g,b),label='source', alpha=0.7)\n",
    "    elif i==len(profile_avg)-1:\n",
    "        plt.plot(profile_avg[i]-np.mean(profile_avg[i]), color=(r,g,b),label='target', alpha=0.7)\n",
    "    else:\n",
    "        plt.plot(profile_avg[i]-np.mean(profile_avg[i]), color=(r,g,b), alpha=0.7)\n",
    "plt.legend(loc=4, fontsize=14)\n",
    "\n",
    "\n",
    "fig.add_subplot(223)\n",
    "for i in range(len(profile_avg)):\n",
    "    r=etamap[i][0]\n",
    "    g=etamap[i][1]\n",
    "    b=etamap[i][2]\n",
    "    if i==0:\n",
    "        plt.plot(profile_avg[i]-np.mean(profile_avg, axis=0), color=(r,g,b),label='source')\n",
    "    elif i==len(profile_avg)-1:\n",
    "        plt.plot(profile_avg[i]-np.mean(profile_avg, axis=0), color=(r,g,b),label='target')\n",
    "    else:\n",
    "        plt.plot(profile_avg[i]-np.mean(profile_avg, axis=0), color=(r,g,b))\n",
    "plt.legend(loc=4, fontsize=14)"
   ]
  },
  {
   "cell_type": "markdown",
   "metadata": {},
   "source": [
    "### euclidian distance between chebychev coefficients"
   ]
  },
  {
   "cell_type": "code",
   "execution_count": null,
   "metadata": {
    "collapsed": false
   },
   "outputs": [],
   "source": [
    "euclid_list=[]\n",
    "for w in range(len(combined_windows)-1):\n",
    "    diff=sp.spatial.distance.euclidean(cheb_coeffs[w],cheb_coeffs[w+1])\n",
    "    euclid_list.append(diff)"
   ]
  },
  {
   "cell_type": "code",
   "execution_count": null,
   "metadata": {
    "collapsed": false
   },
   "outputs": [],
   "source": [
    "sns.set_context('notebook', font_scale=1.5)\n",
    "fig = plt.figure(figsize=(15,10))\n",
    "\n",
    "euclidplot=fig.add_subplot(2,1,1)\n",
    "plt.plot(euclid_list)\n",
    "euclidplot.set_xlim([0, len(windows)])\n",
    "euclidplot.set_xticks(range(0, len(combined_windows), 2))\n",
    "sns.axlabel('','euclidian distance \\nchebychev coefficients', fontsize=20)\n",
    "\n",
    "corr=fig.add_subplot(2,1,2)\n",
    "plt.plot(r_corr_avgs)\n",
    "corr.set_xlim([0,len(windows)])\n",
    "corr.set_xticks(range(0, len(combined_windows), 2))\n",
    "sns.axlabel('','corr', fontsize=20)"
   ]
  },
  {
   "cell_type": "code",
   "execution_count": null,
   "metadata": {
    "collapsed": false
   },
   "outputs": [],
   "source": [
    "def euclid(coeffs):\n",
    "    euclid_array=np.zeros((coeffs.shape[0], coeffs.shape[0]))\n",
    "    for i in range(coeffs.shape[0]):\n",
    "        for j in range(coeffs.shape[0]):\n",
    "            euclid_array[i,j]=sp.spatial.distance.euclidean(cheb_coeffs[i],cheb_coeffs[j])\n",
    "    return euclid_array"
   ]
  },
  {
   "cell_type": "code",
   "execution_count": null,
   "metadata": {
    "collapsed": false
   },
   "outputs": [],
   "source": [
    "euclid_windows=euclid(cheb_coeffs)"
   ]
  }
 ],
 "metadata": {
  "kernelspec": {
   "display_name": "Python 2",
   "language": "python",
   "name": "python2"
  },
  "language_info": {
   "codemirror_mode": {
    "name": "ipython",
    "version": 2
   },
   "file_extension": ".py",
   "mimetype": "text/x-python",
   "name": "python",
   "nbconvert_exporter": "python",
   "pygments_lexer": "ipython2",
   "version": "2.7.3"
  }
 },
 "nbformat": 4,
 "nbformat_minor": 0
}
