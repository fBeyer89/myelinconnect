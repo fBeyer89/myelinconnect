{
 "cells": [
  {
   "cell_type": "code",
   "execution_count": 1,
   "metadata": {
    "collapsed": true
   },
   "outputs": [],
   "source": [
    "%matplotlib inline"
   ]
  },
  {
   "cell_type": "code",
   "execution_count": 3,
   "metadata": {
    "collapsed": false
   },
   "outputs": [],
   "source": [
    "from __future__ import division\n",
    "import numpy as np\n",
    "import pandas as pd\n",
    "import matplotlib.pyplot as plt\n",
    "import pickle\n",
    "import seaborn as sns\n",
    "from vtk_rw import read_vtk\n",
    "from plotting import plot_surf_stat_map, crop_img\n",
    "import matplotlib as mpl"
   ]
  },
  {
   "cell_type": "code",
   "execution_count": 4,
   "metadata": {
    "collapsed": true
   },
   "outputs": [],
   "source": [
    "def load_pickle(pkl_file):\n",
    "    pkl_in = open(pkl_file, 'r')\n",
    "    pkl_dict = pickle.load(pkl_in)\n",
    "    pkl_in.close()\n",
    "    return pkl_dict"
   ]
  },
  {
   "cell_type": "code",
   "execution_count": 5,
   "metadata": {
    "collapsed": true
   },
   "outputs": [],
   "source": [
    "def brain_fig(plot_list):\n",
    "    sns.set_style('white')\n",
    "    n = len(plot_list)\n",
    "    rows = int(n/4)\n",
    "    fig = plt.figure(figsize=(40,rows*5))\n",
    "    for img in range(n):\n",
    "        ax = fig.add_subplot(rows,4,img+1)\n",
    "        plt.imshow(plot_list[img])\n",
    "        ax.set_axis_off()\n",
    "    fig.tight_layout()\n",
    "    fig.subplots_adjust(right=0.7)\n",
    "    return fig"
   ]
  },
  {
   "cell_type": "code",
   "execution_count": 6,
   "metadata": {
    "collapsed": true
   },
   "outputs": [],
   "source": [
    "lh_mesh_file = '/scr/ilz3/myelinconnect/new_groupavg/surfs/lowres/inflated/lh_lowres_new_infl1000.vtk'\n",
    "lh_sulc_file = '/scr/ilz3/myelinconnect/new_groupavg/surfs/lowres/sulc/lh_sulc.npy'\n",
    "rh_mesh_file = '/scr/ilz3/myelinconnect/new_groupavg/surfs/lowres/inflated/rh_lowres_new_infl1000.vtk'\n",
    "rh_sulc_file = '/scr/ilz3/myelinconnect/new_groupavg/surfs/lowres/sulc/rh_sulc.npy'\n",
    "fullmask_file = '/scr/ilz3/myelinconnect/new_groupavg/masks/fullmask_lh_rh_new.npy'\n",
    "lh_sulc = np.load(lh_sulc_file)\n",
    "lv, lf, _ = read_vtk(lh_mesh_file)\n",
    "rh_sulc = np.load(rh_sulc_file)\n",
    "rv, rf, _ = read_vtk(rh_mesh_file)\n",
    "fullmask = np.load(fullmask_file)"
   ]
  },
  {
   "cell_type": "code",
   "execution_count": 9,
   "metadata": {
    "collapsed": true
   },
   "outputs": [],
   "source": [
    "#embed_file='/scr/ilz3/myelinconnect/new_groupavg/embed/both_smooth_3_embed.npy'\n",
    "dict_file='/scr/ilz3/myelinconnect/new_groupavg/embed/both_smooth_3_embed_dict.pkl'\n",
    "embed_dict = load_pickle(dict_file)"
   ]
  },
  {
   "cell_type": "code",
   "execution_count": 10,
   "metadata": {
    "collapsed": false
   },
   "outputs": [],
   "source": [
    "# normalize vectors\n",
    "embed_masked = np.zeros((embed_dict['vectors'].shape[0], embed_dict['vectors'].shape[1]-1))\n",
    "for comp in range(100):\n",
    "    embed_masked[:,comp]=(embed_dict['vectors'][:,comp+1]/embed_dict['vectors'][:,0])\n",
    "\n",
    "# unmask the embedding, that has been saved in masked form\n",
    "idcs=np.arange(0,(lv.shape[0]+rv.shape[0]))\n",
    "nonmask=np.delete(idcs, fullmask)\n",
    "embed = np.zeros(((lv.shape[0]+rv.shape[0]),100))\n",
    "embed[nonmask] = embed_masked"
   ]
  },
  {
   "cell_type": "code",
   "execution_count": null,
   "metadata": {
    "collapsed": true
   },
   "outputs": [],
   "source": [
    "lower_file = \n",
    "upper_file = \n",
    "lower= np.load(lower_file)\n",
    "upper = np.load(upper_file)"
   ]
  },
  {
   "cell_type": "code",
   "execution_count": null,
   "metadata": {
    "collapsed": true
   },
   "outputs": [],
   "source": [
    "lower[fullmask]=0\n",
    "upper[fullmask]=0"
   ]
  },
  {
   "cell_type": "code",
   "execution_count": null,
   "metadata": {
    "collapsed": true
   },
   "outputs": [],
   "source": [
    "sns.set_style('white')\n",
    "plots_fig1 = []\n",
    "vmin = 1700 \n",
    "vmax = 2300 \n",
    "embed_vmin=-2.2\n",
    "embed_vmax=2.4\n",
    "\n",
    "for (elev, azim) in [(180, 0), (180, 180)]:\n",
    "    plot=plot_surf_stat_map(lv, lf, stat_map=upper[:lv.shape[0]], bg_map=lh_sulc, \n",
    "                            bg_on_stat=False, darkness=0.8, elev=elev,azim=azim, figsize=(10,7.5) ,\n",
    "                            threshold=1700, cmap='cubehelix_r', vmin=vmin, vmax = vmax, symmetric_cbar=False)\n",
    "    plots_fig1.append(crop_img(plot))\n",
    "\n",
    "for (elev, azim) in [(180, 0), (180, 180)]:\n",
    "    plot=plot_surf_stat_map(rv, rf, stat_map=upper[lv.shape[0]:], bg_map=rh_sulc, \n",
    "                            bg_on_stat=False, darkness=0.8, elev=elev,azim=azim, figsize=(10,7.7) ,\n",
    "                            threshold=1700, cmap='cubehelix_r', vmin=vmin, vmax=vmax,symmetric_cbar=False)\n",
    "    plots_fig1.append(crop_img(plot))\n",
    "\n",
    "for (elev, azim) in [(180, 0), (180, 180)]:\n",
    "    plot=plot_surf_stat_map(lv, lf, stat_map=lower[:lv.shape[0]], bg_map=lh_sulc, \n",
    "                            bg_on_stat=False, darkness=0.8, elev=elev,azim=azim, figsize=(10,7.5) ,\n",
    "                            threshold=1700, cmap='cubehelix_r', vmin=vmin, vmax = vmax, symmetric_cbar=False)\n",
    "    plots_fig1.append(crop_img(plot))\n",
    "\n",
    "for (elev, azim) in [(180, 0), (180, 180)]:\n",
    "    plot=plot_surf_stat_map(rv, rf, stat_map=lower[lv.shape[0]:], bg_map=rh_sulc, \n",
    "                            bg_on_stat=False, darkness=0.8, elev=elev,azim=azim, figsize=(10,7.7) ,\n",
    "                            threshold=1700, cmap='cubehelix_r', vmin=vmin, vmax=vmax,symmetric_cbar=False)\n",
    "    plots_fig1.append(crop_img(plot))\n",
    "\n",
    "for (elev, azim) in [(180, 0), (180, 180)]:\n",
    "    plot=plot_surf_stat_map(lv, lf, stat_map=-embed[:lv.shape[0],0], bg_map=lh_sulc, \n",
    "                            bg_on_stat=False, darkness=0.8, elev=elev,azim=azim, figsize=(10,7.5), \n",
    "                            threshold=1e-50, cmap='cubehelix_r', symmetric_cbar=False,\n",
    "                           vmin=embed_vmin, vmax=embed_vmax)\n",
    "    plots_fig1.append(crop_img(plot))\n",
    "\n",
    "for (elev, azim) in [(180, 0), (180, 180)]:\n",
    "    plot=plot_surf_stat_map(rv, rf, stat_map=-embed[lv.shape[0]:,0], bg_map=rh_sulc, \n",
    "                            bg_on_stat=False, darkness=0.8, elev=elev,azim=azim, figsize=(10,7.7) ,\n",
    "                            threshold=1e-50, cmap='cubehelix_r',symmetric_cbar=False, \n",
    "                           vmin=embed_vmin, vmax=embed_vmax)\n",
    "    plots_fig1.append(crop_img(plot))"
   ]
  },
  {
   "cell_type": "code",
   "execution_count": null,
   "metadata": {
    "collapsed": true
   },
   "outputs": [],
   "source": [
    "fig = brain_fig(plots_fig1)"
   ]
  },
  {
   "cell_type": "code",
   "execution_count": null,
   "metadata": {
    "collapsed": true
   },
   "outputs": [],
   "source": [
    "sns.set_style('whitegrid',{'axes.grid': False})\n",
    "sns.set_context('poster', font_scale=1.2)\n",
    "scatter_mask = np.where(lower>1500)\n",
    "\n",
    "xlim = (-2.5, 2.5)\n",
    "ylim = (1600, 2350)\n",
    "yticks = [1700, 1900,2100, 2300]\n",
    "scatter_color = sns.xkcd_rgb['brownish purple']\n",
    "fig = sns.jointplot(-embed[:,0][scatter_mask], \n",
    "                    lower[scatter_mask],\n",
    "                    stat_func=None,space=0,ylim=ylim,xlim=xlim,\n",
    "                    kind=\"kde\", size=6, color=scatter_color)\n",
    "fig.set_axis_labels('FC1', 'T1 lower', fontsize=20)\n",
    "fig.ax_joint.set_yticks(yticks);\n",
    "\n",
    "fig = sns.jointplot(-embed[:,0][scatter_mask], \n",
    "                    upper[scatter_mask],\n",
    "                    stat_func=None,space=0,ylim=ylim,xlim=xlim,\n",
    "                    kind=\"kde\", size=6, color=scatter_color)\n",
    "fig.set_axis_labels('FC1', 'T1 upper', fontsize=20)\n",
    "fig.ax_joint.set_yticks(yticks);"
   ]
  }
 ],
 "metadata": {
  "kernelspec": {
   "display_name": "Python 2",
   "language": "python",
   "name": "python2"
  },
  "language_info": {
   "codemirror_mode": {
    "name": "ipython",
    "version": 2
   },
   "file_extension": ".py",
   "mimetype": "text/x-python",
   "name": "python",
   "nbconvert_exporter": "python",
   "pygments_lexer": "ipython2",
   "version": "2.7.11"
  }
 },
 "nbformat": 4,
 "nbformat_minor": 0
}
