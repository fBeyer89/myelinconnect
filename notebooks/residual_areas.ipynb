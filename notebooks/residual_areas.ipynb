{
 "cells": [
  {
   "cell_type": "code",
   "execution_count": 1,
   "metadata": {
    "collapsed": true
   },
   "outputs": [],
   "source": [
    "%matplotlib inline"
   ]
  },
  {
   "cell_type": "code",
   "execution_count": 3,
   "metadata": {
    "collapsed": true
   },
   "outputs": [],
   "source": [
    "import numpy as np\n",
    "import matplotlib.pyplot as plt\n",
    "from vtk_rw import read_vtk\n",
    "from plotting import plot_surf_stat_map"
   ]
  },
  {
   "cell_type": "code",
   "execution_count": 8,
   "metadata": {
    "collapsed": true
   },
   "outputs": [],
   "source": [
    "def load_pickle(pkl_file):\n",
    "    pkl_in = open(pkl_file, 'r')\n",
    "    pkl_dict = pickle.load(pkl_in)\n",
    "    pkl_in.close()\n",
    "    return pkl_dict"
   ]
  },
  {
   "cell_type": "code",
   "execution_count": 5,
   "metadata": {
    "collapsed": true
   },
   "outputs": [],
   "source": [
    "lh_mesh_file = '/scr/ilz3/myelinconnect/new_groupavg/surfs/lowres/inflated/lh_lowres_new_infl50.vtk'\n",
    "lh_sulc_file = '/scr/ilz3/myelinconnect/new_groupavg/surfs/lowres/sulc/lh_sulc.npy'\n",
    "\n",
    "rh_mesh_file = '/scr/ilz3/myelinconnect/new_groupavg/surfs/lowres/inflated/rh_lowres_new_infl50.vtk'\n",
    "rh_sulc_file = '/scr/ilz3/myelinconnect/new_groupavg/surfs/lowres/sulc/rh_sulc.npy'\n",
    "\n",
    "t1_predict_file_0 = '/scr/ilz3/myelinconnect/new_groupavg/model/linear_combination/t1avg/both_t1avg_by_fc_maps_0.pkl'\n",
    "t1_predict_file_10 = '/scr/ilz3/myelinconnect/new_groupavg/model/linear_combination/t1avg/both_t1avg_by_fc_maps_0to10.pkl'\n"
   ]
  },
  {
   "cell_type": "code",
   "execution_count": 6,
   "metadata": {
    "collapsed": true
   },
   "outputs": [],
   "source": [
    "lh_sulc = np.load(lh_sulc_file)\n",
    "lv, lf, _ = read_vtk(lh_mesh_file)\n",
    "rh_sulc = np.load(rh_sulc_file)\n",
    "rv, rf, _ = read_vtk(rh_mesh_file)"
   ]
  },
  {
   "cell_type": "code",
   "execution_count": 7,
   "metadata": {
    "collapsed": false
   },
   "outputs": [
    {
     "ename": "NameError",
     "evalue": "name 'load_pickle' is not defined",
     "output_type": "error",
     "traceback": [
      "\u001b[1;31m---------------------------------------------------------------------------\u001b[0m",
      "\u001b[1;31mNameError\u001b[0m                                 Traceback (most recent call last)",
      "\u001b[1;32m<ipython-input-7-4fe790a3a6b3>\u001b[0m in \u001b[0;36m<module>\u001b[1;34m()\u001b[0m\n\u001b[1;32m----> 1\u001b[1;33m \u001b[0mt1_predict_0\u001b[0m \u001b[1;33m=\u001b[0m \u001b[0mload_pickle\u001b[0m\u001b[1;33m(\u001b[0m\u001b[0mt1_predict_file_0\u001b[0m\u001b[1;33m)\u001b[0m\u001b[1;33m\u001b[0m\u001b[0m\n\u001b[0m\u001b[0;32m      2\u001b[0m \u001b[0mt1_predict_10\u001b[0m \u001b[1;33m=\u001b[0m \u001b[0mload_pickle\u001b[0m\u001b[1;33m(\u001b[0m\u001b[0mt1_predict_file_10\u001b[0m\u001b[1;33m)\u001b[0m\u001b[1;33m\u001b[0m\u001b[0m\n",
      "\u001b[1;31mNameError\u001b[0m: name 'load_pickle' is not defined"
     ]
    }
   ],
   "source": [
    "t1_predict_0 = load_pickle(t1_predict_file_0)\n",
    "t1_predict_10 = load_pickle(t1_predict_file_10)"
   ]
  },
  {
   "cell_type": "code",
   "execution_count": null,
   "metadata": {
    "collapsed": true
   },
   "outputs": [],
   "source": [
    "vmax = max(np.abs([t1_predict_0['residuals'].min(), t1_predict_0['residuals'].max(), \n",
    "               t1_predict_10['residuals'].min(), t1_predict_10['residuals'].max()]))\n",
    "\n",
    "sns.set_style('white')\n",
    "sns.set_context('poster')\n",
    "cropped_res_lh = []\n",
    "cropped_res_rh = []\n",
    "\n",
    "for data in [t1_predict_0['residuals'], t1_predict_10['residuals']]:\n",
    "    for (elev, azim) in [(180, 0), (180, 180)]:\n",
    "        plot_lh=plot_surf_stat_map(lv, lf, stat_map=data[:lv.shape[0]], bg_map=lh_sulc, bg_on_stat=True, darkness=0.4, \n",
    "                            elev=elev,azim=azim, figsize=(10,9) ,threshold=1e-50, cmap='RdBu_r',\n",
    "                            vmax=vmax, symmetric_cbar='auto')\n",
    "        cropped_res_lh.append(crop_img(plot_lh))\n",
    "        plot_rh=plot_surf_stat_map(rv, rf, stat_map=data[lv.shape[0]:], bg_map=rh_sulc, bg_on_stat=True, darkness=0.4, \n",
    "                            elev=elev,azim=azim, figsize=(10,7.5) ,threshold=1e-50, cmap='RdBu_r',\n",
    "                            vmax=vmax, symmetric_cbar='auto')\n",
    "        cropped_res_rh.append(crop_img(plot_rh))"
   ]
  }
 ],
 "metadata": {
  "kernelspec": {
   "display_name": "Python 2",
   "language": "python",
   "name": "python2"
  },
  "language_info": {
   "codemirror_mode": {
    "name": "ipython",
    "version": 2
   },
   "file_extension": ".py",
   "mimetype": "text/x-python",
   "name": "python",
   "nbconvert_exporter": "python",
   "pygments_lexer": "ipython2",
   "version": "2.7.11"
  }
 },
 "nbformat": 4,
 "nbformat_minor": 0
}
