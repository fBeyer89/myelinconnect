{
 "cells": [
  {
   "cell_type": "code",
   "execution_count": 1,
   "metadata": {
    "collapsed": true
   },
   "outputs": [],
   "source": [
    "%matplotlib inline"
   ]
  },
  {
   "cell_type": "code",
   "execution_count": 4,
   "metadata": {
    "collapsed": false
   },
   "outputs": [],
   "source": [
    "from __future__ import division\n",
    "import numpy as np\n",
    "import pandas as pd\n",
    "import matplotlib.pyplot as plt\n",
    "from vtk_rw import read_vtk\n",
    "import seaborn as sns\n",
    "from plotting import plot_surf_stat_map\n",
    "import matplotlib\n",
    "from graphs import graph_from_mesh, dijkstra, shortest_path\n",
    "import gdist\n",
    "import networkx as nx"
   ]
  },
  {
   "cell_type": "code",
   "execution_count": 5,
   "metadata": {
    "collapsed": true
   },
   "outputs": [],
   "source": [
    "sub='BP4T'"
   ]
  },
  {
   "cell_type": "code",
   "execution_count": 6,
   "metadata": {
    "collapsed": true
   },
   "outputs": [],
   "source": [
    "simple_v, simple_f, _ = read_vtk('/scr/ilz3/myelinconnect/groupavg/indv_space/%s/lowres_rh_d_def.vtk'%sub)"
   ]
  },
  {
   "cell_type": "code",
   "execution_count": 7,
   "metadata": {
    "collapsed": false
   },
   "outputs": [],
   "source": [
    "complex_v, complex_f, _ = read_vtk('/scr/ilz3/myelinconnect/struct/surf_rh/orig/mid_surface/%s_rh_mid.vtk'%sub)"
   ]
  },
  {
   "cell_type": "code",
   "execution_count": 8,
   "metadata": {
    "collapsed": true
   },
   "outputs": [],
   "source": [
    "mapping_ideal = np.load('/scr/ilz3/myelinconnect/all_data_on_simple_surf/seeds_ideal/%s_rh_highres2lowres_seeds.npy'%sub)"
   ]
  },
  {
   "cell_type": "code",
   "execution_count": 9,
   "metadata": {
    "collapsed": false
   },
   "outputs": [],
   "source": [
    "voronoi_seed_idx = mapping_ideal"
   ]
  },
  {
   "cell_type": "code",
   "execution_count": 19,
   "metadata": {
    "collapsed": true
   },
   "outputs": [],
   "source": [
    "def edge_len(nodes, triangles, edge):\n",
    "    return np.linalg.norm(nodes[edge[0]]-nodes[edge[1]])"
   ]
  },
  {
   "cell_type": "code",
   "execution_count": 20,
   "metadata": {
    "collapsed": false
   },
   "outputs": [],
   "source": [
    "def weighted_graph_from_mesh(nodes, triangles, weight_func=edge_len):\n",
    "    '''\n",
    "    Creates a weighted networkx graph from a mesh\n",
    "    '''\n",
    "    \n",
    "    import numpy as np\n",
    "    import networkx as nx\n",
    "    \n",
    "    # initiate empty graph\n",
    "    G=nx.Graph()\n",
    "    \n",
    "    # add node indices\n",
    "    G.add_nodes_from(range(len(nodes)))\n",
    "    \n",
    "    # add edges\n",
    "    G.add_edges_from(triangles[:,[0,1]])\n",
    "    G.add_edges_from(triangles[:,[0,2]])\n",
    "    G.add_edges_from(triangles[:,[1,2]])\n",
    "    \n",
    "    if weight_func is not None:\n",
    "        for e in G.edges_iter():\n",
    "            G[e[0]][e[1]]['weight']=weight_func(nodes, triangles, e)\n",
    "            G[e[1]][e[0]]['weight']=weight_func(nodes, triangles, e)\n",
    "\n",
    "    return G"
   ]
  },
  {
   "cell_type": "code",
   "execution_count": 17,
   "metadata": {
    "collapsed": false
   },
   "outputs": [],
   "source": [
    "simple_graph=graph_from_mesh(simple_v, simple_f, edge_length=True)"
   ]
  },
  {
   "cell_type": "code",
   "execution_count": 21,
   "metadata": {
    "collapsed": false
   },
   "outputs": [],
   "source": [
    "complex_weighted_graph=weighted_graph_from_mesh(complex_v, complex_f, weight_func=edge_len)"
   ]
  },
  {
   "cell_type": "code",
   "execution_count": 33,
   "metadata": {
    "collapsed": false
   },
   "outputs": [],
   "source": [
    "df = pd.DataFrame(columns=['simple e0', 'simple e1', 'simple len', \n",
    "                           'complex e0', 'complex e1', 'complex len'],\n",
    "                      index=np.arange(len(simple_graph.edges())))"
   ]
  },
  {
   "cell_type": "code",
   "execution_count": null,
   "metadata": {
    "collapsed": false
   },
   "outputs": [],
   "source": [
    "count = 0\n",
    "for e in simple_graph.edges_iter():\n",
    "    \n",
    "    df['simple e0'][count] = e[0]\n",
    "    df['simple e1'][count] = e[1]\n",
    "    df['simple len'][count] = simple_graph[e[0]][e[1]]\n",
    "\n",
    "    df['complex e0'][count] = voronoi_seed_idx[e[0]]\n",
    "    df['complex e1'][count] = voronoi_seed_idx[e[1]]\n",
    "    df['complex len'][count] = nx.dijkstra_path_length(complex_weighted_graph, \n",
    "                                                       voronoi_seed_idx[e[0]], \n",
    "                                                       voronoi_seed_idx[e[1]])\n",
    "    \n",
    "    count += 1"
   ]
  },
  {
   "cell_type": "code",
   "execution_count": null,
   "metadata": {
    "collapsed": true
   },
   "outputs": [],
   "source": []
  }
 ],
 "metadata": {
  "kernelspec": {
   "display_name": "Python 2",
   "language": "python",
   "name": "python2"
  },
  "language_info": {
   "codemirror_mode": {
    "name": "ipython",
    "version": 2
   },
   "file_extension": ".py",
   "mimetype": "text/x-python",
   "name": "python",
   "nbconvert_exporter": "python",
   "pygments_lexer": "ipython2",
   "version": "2.7.11"
  }
 },
 "nbformat": 4,
 "nbformat_minor": 0
}
