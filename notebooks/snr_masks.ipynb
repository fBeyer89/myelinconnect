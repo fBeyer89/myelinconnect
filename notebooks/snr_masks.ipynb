{
 "cells": [
  {
   "cell_type": "code",
   "execution_count": 1,
   "metadata": {
    "collapsed": true
   },
   "outputs": [],
   "source": [
    "#%matplotlib inline"
   ]
  },
  {
   "cell_type": "code",
   "execution_count": 2,
   "metadata": {
    "collapsed": true
   },
   "outputs": [],
   "source": [
    "from __future__ import division"
   ]
  },
  {
   "cell_type": "code",
   "execution_count": 3,
   "metadata": {
    "collapsed": false
   },
   "outputs": [
    {
     "name": "stderr",
     "output_type": "stream",
     "text": [
      "/home/raid3/huntenburg/workspace/anaconda2/envs/myelinconnect/lib/python2.7/site-packages/IPython/html.py:14: ShimWarning: The `IPython.html` package has been deprecated. You should import from `notebook` instead. `IPython.html.widgets` has moved to `ipywidgets`.\n",
      "  \"`IPython.html.widgets` has moved to `ipywidgets`.\", ShimWarning)\n"
     ]
    }
   ],
   "source": [
    "import numpy as np\n",
    "import pandas as pd\n",
    "import seaborn as sns\n",
    "import matplotlib.pyplot as plt\n",
    "from vtk_rw import read_vtk, write_vtk\n",
    "import nibabel as nb"
   ]
  },
  {
   "cell_type": "code",
   "execution_count": 3,
   "metadata": {
    "collapsed": false
   },
   "outputs": [],
   "source": [
    "tsnr_min_file='/scr/ilz3/myelinconnect/all_data_on_simple_surf/masks/rh_tsnr_min.npy'\n",
    "snr_min_file='/scr/ilz3/myelinconnect/all_data_on_simple_surf/masks/rh_inv2prob_min.npy'\n",
    "mask_file='/scr/ilz3/myelinconnect/all_data_on_simple_surf/masks/rh_mask.npy'\n",
    "mesh='/scr/ilz3/myelinconnect/all_data_on_simple_surf/surfs/lowres_rh_d.vtk'\n",
    "sulc_file='/scr/ilz3/myelinconnect/all_data_on_simple_surf/surfs/lowres_rh_sulc.npy'"
   ]
  },
  {
   "cell_type": "code",
   "execution_count": 4,
   "metadata": {
    "collapsed": false
   },
   "outputs": [],
   "source": [
    "tsnr_min=np.load(tsnr_min_file)\n",
    "snr_min=np.load(snr_min_file)\n",
    "mask=np.load(mask_file)\n",
    "sulc=np.load(sulc_file)\n",
    "v, f, d = read_vtk(mesh)"
   ]
  },
  {
   "cell_type": "code",
   "execution_count": 5,
   "metadata": {
    "collapsed": true
   },
   "outputs": [],
   "source": [
    "tsnr_masked = np.delete(tsnr_min,mask)\n",
    "snr_masked = np.delete(snr_min,mask)"
   ]
  },
  {
   "cell_type": "code",
   "execution_count": 6,
   "metadata": {
    "collapsed": true
   },
   "outputs": [],
   "source": [
    "from plotting import plot_surf_stat_map\n",
    "sns.set_style('white')"
   ]
  },
  {
   "cell_type": "code",
   "execution_count": 7,
   "metadata": {
    "collapsed": false
   },
   "outputs": [],
   "source": [
    "snr_thr=(snr_masked.max()-snr_masked.min())/5\n",
    "tsnr_thr=(tsnr_masked.max()-tsnr_masked.min())/5"
   ]
  },
  {
   "cell_type": "code",
   "execution_count": 8,
   "metadata": {
    "collapsed": false
   },
   "outputs": [
    {
     "name": "stdout",
     "output_type": "stream",
     "text": [
      "0.185753575861\n",
      "9.37881738087\n"
     ]
    }
   ],
   "source": [
    "print snr_thr\n",
    "print tsnr_thr"
   ]
  },
  {
   "cell_type": "code",
   "execution_count": 9,
   "metadata": {
    "collapsed": false
   },
   "outputs": [],
   "source": [
    "snr_min[mask]=0\n",
    "tsnr_min[mask]=0"
   ]
  },
  {
   "cell_type": "code",
   "execution_count": 18,
   "metadata": {
    "collapsed": false
   },
   "outputs": [],
   "source": [
    "plot = plot_surf_stat_map(v, f, stat_map=snr_min, threshold=0.2, bg_map=sulc, elev=140, azim=-180, figsize=(11,10))"
   ]
  },
  {
   "cell_type": "code",
   "execution_count": 24,
   "metadata": {
    "collapsed": false
   },
   "outputs": [],
   "source": [
    "tplot = plot_surf_stat_map(v, f, stat_map=tsnr_min, threshold=4, bg_map=sulc, elev=-180, azim=180, figsize=(11,10))"
   ]
  },
  {
   "cell_type": "code",
   "execution_count": 22,
   "metadata": {
    "collapsed": true
   },
   "outputs": [],
   "source": [
    "tplot = plot_surf_stat_map(v, f, stat_map=tsnr_min, threshold=4, bg_map=sulc, elev=-170, azim=0, figsize=(11,10))"
   ]
  },
  {
   "cell_type": "code",
   "execution_count": 25,
   "metadata": {
    "collapsed": false
   },
   "outputs": [],
   "source": [
    "plt.show()"
   ]
  },
  {
   "cell_type": "code",
   "execution_count": 46,
   "metadata": {
    "collapsed": true
   },
   "outputs": [],
   "source": [
    "mask_025 = np.where(snr_min<=0.25)\n",
    "mask_5 = np.where(tsnr_min<=5)"
   ]
  },
  {
   "cell_type": "code",
   "execution_count": 47,
   "metadata": {
    "collapsed": false
   },
   "outputs": [],
   "source": [
    "mask_025_5=np.hstack((mask_025[0], mask_5[0]))"
   ]
  },
  {
   "cell_type": "code",
   "execution_count": 48,
   "metadata": {
    "collapsed": false
   },
   "outputs": [],
   "source": [
    "mask_025_5 = np.unique(mask_025_5)"
   ]
  },
  {
   "cell_type": "code",
   "execution_count": 55,
   "metadata": {
    "collapsed": true
   },
   "outputs": [],
   "source": [
    "np.save('/scr/ilz3/myelinconnect/all_data_on_simple_surf/masks/rh_snr_025_5.npy', mask_025_5)"
   ]
  },
  {
   "cell_type": "code",
   "execution_count": 50,
   "metadata": {
    "collapsed": false
   },
   "outputs": [],
   "source": [
    "plotmask = np.zeros_like(snr_min)\n",
    "plotmask[mask_025_5]=1"
   ]
  },
  {
   "cell_type": "code",
   "execution_count": 51,
   "metadata": {
    "collapsed": false
   },
   "outputs": [
    {
     "data": {
      "text/plain": [
       "(array([    0,     1,     2, ..., 75582, 75584, 75585]),)"
      ]
     },
     "execution_count": 51,
     "metadata": {},
     "output_type": "execute_result"
    }
   ],
   "source": [
    "np.where(plotmask==1)"
   ]
  },
  {
   "cell_type": "code",
   "execution_count": 53,
   "metadata": {
    "collapsed": true
   },
   "outputs": [],
   "source": [
    "plot2 = plot_surf_stat_map(v, f, stat_map=plotmask, threshold=0.5, bg_map=sulc, elev=-160, azim=0, figsize=(11,10))"
   ]
  },
  {
   "cell_type": "code",
   "execution_count": 63,
   "metadata": {
    "collapsed": true
   },
   "outputs": [],
   "source": [
    "plt.show()"
   ]
  },
  {
   "cell_type": "code",
   "execution_count": 56,
   "metadata": {
    "collapsed": true
   },
   "outputs": [],
   "source": [
    "full_lenient=np.load('/scr/ilz3/myelinconnect/all_data_on_simple_surf/masks/rh_fullmask_02_4.npy')\n",
    "full_harsh=np.load('/scr/ilz3/myelinconnect/all_data_on_simple_surf/masks/rh_fullmask_025_5.npy')"
   ]
  },
  {
   "cell_type": "code",
   "execution_count": 57,
   "metadata": {
    "collapsed": true
   },
   "outputs": [],
   "source": [
    "plotmask_lenient = np.zeros_like(snr_min)\n",
    "plotmask_lenient[full_lenient]=1\n",
    "\n",
    "plotmask_harsh = np.zeros_like(snr_min)\n",
    "plotmask_harsh[full_harsh]=1"
   ]
  },
  {
   "cell_type": "code",
   "execution_count": 61,
   "metadata": {
    "collapsed": true
   },
   "outputs": [],
   "source": [
    "plot = plot_surf_stat_map(v, f, stat_map=plotmask_lenient, threshold=0.5, bg_map=sulc, elev=-160, azim=180, figsize=(11,10))"
   ]
  },
  {
   "cell_type": "code",
   "execution_count": 62,
   "metadata": {
    "collapsed": true
   },
   "outputs": [],
   "source": [
    "plot2 = plot_surf_stat_map(v, f, stat_map=plotmask_harsh, threshold=0.5, bg_map=sulc, elev=-160, azim=180, figsize=(11,10))"
   ]
  },
  {
   "cell_type": "raw",
   "metadata": {},
   "source": [
    "thr=-1.5\n",
    "snr_thr=np.zeros_like(snr_norm)\n",
    "snr_thr[np.where(snr_norm>=thr)]=1\n",
    "snr_thr[mask]=0"
   ]
  },
  {
   "cell_type": "raw",
   "metadata": {},
   "source": [
    "snr_hist=plt.hist(snr_norm);\n",
    "snr_hist=plt.hist(snr_masked_norm);\n",
    "plt.show()"
   ]
  },
  {
   "cell_type": "raw",
   "metadata": {},
   "source": [
    "tsnr_hist=plt.hist(tsnr_norm);\n",
    "tsnr_hist=plt.hist(tsnr_masked_norm);\n",
    "plt.show()"
   ]
  },
  {
   "cell_type": "raw",
   "metadata": {},
   "source": [
    "thr=-1.5\n",
    "tsnr_thr=np.zeros_like(tsnr_norm)\n",
    "tsnr_thr[np.where(tsnr_norm>=thr)]=1\n",
    "tsnr_thr[mask]=0"
   ]
  },
  {
   "cell_type": "raw",
   "metadata": {},
   "source": [
    "tsnr_masked_norm=(tsnr_masked - tsnr_mean)/tsnr_std\n",
    "snr_masked_norm=(snr_masked - snr_mean)/snr_std\n",
    "tsnr_norm=(tsnr_min - tsnr_mean)/tsnr_std\n",
    "snr_norm=(snr_min - snr_mean)/snr_std\n",
    "tsnr_norm[mask]=0\n",
    "snr_norm[mask]=0"
   ]
  }
 ],
 "metadata": {
  "kernelspec": {
   "display_name": "Python 2",
   "language": "python",
   "name": "python2"
  },
  "language_info": {
   "codemirror_mode": {
    "name": "ipython",
    "version": 2
   },
   "file_extension": ".py",
   "mimetype": "text/x-python",
   "name": "python",
   "nbconvert_exporter": "python",
   "pygments_lexer": "ipython2",
   "version": "2.7.11"
  }
 },
 "nbformat": 4,
 "nbformat_minor": 0
}
