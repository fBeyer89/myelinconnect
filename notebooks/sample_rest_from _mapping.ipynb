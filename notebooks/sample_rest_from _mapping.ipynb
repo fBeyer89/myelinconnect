{
 "cells": [
  {
   "cell_type": "code",
   "execution_count": 1,
   "metadata": {
    "collapsed": true
   },
   "outputs": [],
   "source": [
    "%matplotlib inline"
   ]
  },
  {
   "cell_type": "code",
   "execution_count": 2,
   "metadata": {
    "collapsed": true
   },
   "outputs": [],
   "source": [
    "import numpy as np\n",
    "import nibabel as nb\n",
    "from vtk_rw import read_vtk, write_vtk\n",
    "import matplotlib.pyplot as plt"
   ]
  },
  {
   "cell_type": "code",
   "execution_count": 3,
   "metadata": {
    "collapsed": false
   },
   "outputs": [],
   "source": [
    "mapping_x='/scr/ilz3/myelinconnect/mappings/rest2groupavg_surf/rest1_1/x/rh_lowres_new_avgsurf_groupdata.vtk'\n",
    "mapping_y='/scr/ilz3/myelinconnect/mappings/rest2groupavg_surf/rest1_1/y/rh_lowres_new_avgsurf_groupdata.vtk'\n",
    "mapping_z='/scr/ilz3/myelinconnect/mappings/rest2groupavg_surf/rest1_1/z/rh_lowres_new_avgsurf_groupdata.vtk'\n",
    "rest1_1_BP4T='/scr/ilz3/myelinconnect/resting/final/BP4T_rest1_1_denoised.nii.gz'"
   ]
  },
  {
   "cell_type": "code",
   "execution_count": 4,
   "metadata": {
    "collapsed": false
   },
   "outputs": [],
   "source": [
    "rest=nb.load(rest1_1_BP4T)\n",
    "rest_vol=rest.get_data()"
   ]
  },
  {
   "cell_type": "code",
   "execution_count": 5,
   "metadata": {
    "collapsed": true
   },
   "outputs": [],
   "source": [
    "v, f, dx = read_vtk(mapping_x)\n",
    "_, _, dy = read_vtk(mapping_y)\n",
    "_, _, dz = read_vtk(mapping_z) "
   ]
  },
  {
   "cell_type": "code",
   "execution_count": 6,
   "metadata": {
    "collapsed": false
   },
   "outputs": [],
   "source": [
    "coords = np.vstack((dx[:,0],dy[:,0],dz[:,0]))\n",
    "coords = coords.T"
   ]
  },
  {
   "cell_type": "code",
   "execution_count": 19,
   "metadata": {
    "collapsed": false
   },
   "outputs": [],
   "source": [
    "rest_mesh = np.zeros((v.shape[0], rest_vol.shape[-1]))"
   ]
  },
  {
   "cell_type": "code",
   "execution_count": 21,
   "metadata": {
    "collapsed": false
   },
   "outputs": [],
   "source": [
    "for vertex in range(rest_mesh.shape[0]):\n",
    "    if np.all(coords[vertex]==0):\n",
    "        pass\n",
    "    else:\n",
    "        coord = np.asarray(np.round(coords[vertex]), 'int64')\n",
    "        rest_mesh[vertex] = rest_vol[coord[0], coord[1], coord[2]]"
   ]
  }
 ],
 "metadata": {
  "kernelspec": {
   "display_name": "Python 2",
   "language": "python",
   "name": "python2"
  },
  "language_info": {
   "codemirror_mode": {
    "name": "ipython",
    "version": 2
   },
   "file_extension": ".py",
   "mimetype": "text/x-python",
   "name": "python",
   "nbconvert_exporter": "python",
   "pygments_lexer": "ipython2",
   "version": "2.7.11"
  }
 },
 "nbformat": 4,
 "nbformat_minor": 0
}
