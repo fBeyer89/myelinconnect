{
 "cells": [
  {
   "cell_type": "code",
   "execution_count": 1,
   "metadata": {
    "collapsed": true
   },
   "outputs": [],
   "source": [
    "%matplotlib inline"
   ]
  },
  {
   "cell_type": "code",
   "execution_count": 2,
   "metadata": {
    "collapsed": false
   },
   "outputs": [
    {
     "name": "stderr",
     "output_type": "stream",
     "text": [
      "/home/raid3/huntenburg/workspace/try_openblas/local/lib/python2.7/site-packages/matplotlib/__init__.py:872: UserWarning: axes.color_cycle is deprecated and replaced with axes.prop_cycle; please use the latter.\n",
      "  warnings.warn(self.msg_depr % (key, alt_key))\n"
     ]
    }
   ],
   "source": [
    "from __future__ import division\n",
    "import numpy as np\n",
    "import pandas as pd\n",
    "import scipy.stats as stats\n",
    "import matplotlib.pyplot as plt\n",
    "from mayavi import mlab\n",
    "import seaborn as sns\n",
    "from vtk_rw import read_vtk, write_vtk\n",
    "from plotting import plot_surf_stat_map"
   ]
  },
  {
   "cell_type": "code",
   "execution_count": 3,
   "metadata": {
    "collapsed": true
   },
   "outputs": [],
   "source": [
    "def make_cmap(c):\n",
    "    #cmap = np.asarray(sns.cubehelix_palette(c-1, start=.5, rot=-.75, reverse=True))\n",
    "    #cmap = np.asarray(sns.color_palette('cubehelix', c-1))\n",
    "    cmap = np.asarray(sns.color_palette('Reds', c-1))\n",
    "    cmap = np.concatenate((np.array([[0.4,0.4,0.4]]), cmap), axis=0)\n",
    "    cmap = np.concatenate((cmap, np.ones((c,1))), axis=1)\n",
    "    cmap_seaborn = [tuple(cmap[i]) for i in range(len(cmap))]\n",
    "\n",
    "    cmap_255=np.zeros_like(cmap)\n",
    "    for row in range(cmap.shape[0]):\n",
    "        cmap_255[row]=[np.floor(i * 255) for i in cmap[row]]\n",
    "    cmap_255=cmap_255.astype(int)\n",
    "    \n",
    "    return cmap_seaborn, cmap_255"
   ]
  },
  {
   "cell_type": "code",
   "execution_count": 4,
   "metadata": {
    "collapsed": false
   },
   "outputs": [],
   "source": [
    "mesh_file='/scr/ilz3/myelinconnect/all_data_on_simple_surf/surfs/lowres_rh_d.vtk'\n",
    "sulc_file='/scr/ilz3/myelinconnect/all_data_on_simple_surf/surfs/lowres_rh_sulc.npy'\n",
    "mask_file='/scr/ilz3/myelinconnect/all_data_on_simple_surf/masks/rh_mask.npy'\n",
    "#data_file='/scr/ilz3/myelinconnect/all_data_on_simple_surf/missampled/corr/rh_smooth_3_thr_per_session_corr_rowsum.npy'\n",
    "data_file='/scr/ilz3/myelinconnect/all_data_on_simple_surf/clust/smooth_3/mask_02_4/t1_embed/rh_t1embed_10_layer_3_7.npy'"
   ]
  },
  {
   "cell_type": "code",
   "execution_count": 5,
   "metadata": {
    "collapsed": false
   },
   "outputs": [],
   "source": [
    "data=np.load(data_file)\n",
    "sulc=np.load(sulc_file)\n",
    "mask=np.load(mask_file)\n",
    "#data[mask]=0\n",
    "v, f, d = read_vtk(mesh_file)"
   ]
  },
  {
   "cell_type": "code",
   "execution_count": 18,
   "metadata": {
    "collapsed": false
   },
   "outputs": [
    {
     "data": {
      "text/plain": [
       "(75589, 10)"
      ]
     },
     "execution_count": 18,
     "metadata": {},
     "output_type": "execute_result"
    }
   ],
   "source": [
    "data.shape"
   ]
  },
  {
   "cell_type": "code",
   "execution_count": 21,
   "metadata": {
    "collapsed": true
   },
   "outputs": [],
   "source": [
    "data_masked=np.delete(data, mask, axis=0)\n",
    "data_norm=(data_masked-np.mean(data_masked))/np.std(data_masked)"
   ]
  },
  {
   "cell_type": "code",
   "execution_count": 23,
   "metadata": {
    "collapsed": false
   },
   "outputs": [
    {
     "data": {
      "text/plain": [
       "75589"
      ]
     },
     "execution_count": 23,
     "metadata": {},
     "output_type": "execute_result"
    }
   ],
   "source": [
    "data_masked.shape[0]+mask.shape[0]"
   ]
  },
  {
   "cell_type": "code",
   "execution_count": 38,
   "metadata": {
    "collapsed": false
   },
   "outputs": [
    {
     "data": {
      "text/plain": [
       "(array([  1.60000000e+01,   3.00000000e+00,   1.00000000e+00,\n",
       "          2.00000000e+00,   3.00000000e+00,   2.00000000e+00,\n",
       "          3.00000000e+00,   4.00000000e+00,   3.00000000e+00,\n",
       "          2.00000000e+00,   3.00000000e+00,   2.00000000e+00,\n",
       "          1.00000000e+00,   1.00000000e+00,   0.00000000e+00,\n",
       "          1.00000000e+00,   1.00000000e+00,   5.00000000e+00,\n",
       "          0.00000000e+00,   3.00000000e+00,   2.00000000e+00,\n",
       "          4.00000000e+00,   2.00000000e+00,   1.00000000e+00,\n",
       "          2.00000000e+00,   2.00000000e+00,   0.00000000e+00,\n",
       "          4.00000000e+00,   4.00000000e+00,   2.00000000e+00,\n",
       "          4.00000000e+00,   3.00000000e+00,   5.00000000e+00,\n",
       "          3.00000000e+00,   1.00000000e+00,   2.00000000e+00,\n",
       "          2.00000000e+00,   3.00000000e+00,   8.00000000e+00,\n",
       "          7.00000000e+00,   3.00000000e+00,   3.00000000e+00,\n",
       "          1.00000000e+00,   6.00000000e+00,   6.00000000e+00,\n",
       "          4.00000000e+00,   3.00000000e+00,   5.00000000e+00,\n",
       "          4.00000000e+00,   3.00000000e+00,   9.00000000e+00,\n",
       "          5.00000000e+00,   5.00000000e+00,   4.00000000e+00,\n",
       "          1.00000000e+01,   8.00000000e+00,   6.00000000e+00,\n",
       "          1.10000000e+01,   1.20000000e+01,   7.00000000e+00,\n",
       "          1.30000000e+01,   8.00000000e+00,   1.30000000e+01,\n",
       "          8.00000000e+00,   1.70000000e+01,   2.10000000e+01,\n",
       "          5.70000000e+01,   1.17000000e+02,   1.47000000e+02,\n",
       "          2.00000000e+02,   6.62000000e+02,   1.93800000e+03,\n",
       "          2.25300000e+03,   2.06400000e+03,   2.12000000e+03,\n",
       "          2.52000000e+03,   2.46500000e+03,   2.25300000e+03,\n",
       "          2.04400000e+03,   1.73900000e+03,   1.59300000e+03,\n",
       "          1.57400000e+03,   1.53900000e+03,   1.63100000e+03,\n",
       "          1.62000000e+03,   7.51600000e+03,   1.76400000e+03,\n",
       "          1.92500000e+03,   2.08700000e+03,   2.39200000e+03,\n",
       "          2.77900000e+03,   3.18900000e+03,   3.52500000e+03,\n",
       "          3.75900000e+03,   3.69700000e+03,   3.50900000e+03,\n",
       "          2.26200000e+03,   8.43000000e+02,   1.21000000e+02,\n",
       "          1.40000000e+01]),\n",
       " array([ -3.89485247e-01,  -3.84903873e-01,  -3.80322499e-01,\n",
       "         -3.75741126e-01,  -3.71159752e-01,  -3.66578378e-01,\n",
       "         -3.61997004e-01,  -3.57415630e-01,  -3.52834257e-01,\n",
       "         -3.48252883e-01,  -3.43671509e-01,  -3.39090135e-01,\n",
       "         -3.34508761e-01,  -3.29927388e-01,  -3.25346014e-01,\n",
       "         -3.20764640e-01,  -3.16183266e-01,  -3.11601892e-01,\n",
       "         -3.07020519e-01,  -3.02439145e-01,  -2.97857771e-01,\n",
       "         -2.93276397e-01,  -2.88695023e-01,  -2.84113649e-01,\n",
       "         -2.79532276e-01,  -2.74950902e-01,  -2.70369528e-01,\n",
       "         -2.65788154e-01,  -2.61206780e-01,  -2.56625407e-01,\n",
       "         -2.52044033e-01,  -2.47462659e-01,  -2.42881285e-01,\n",
       "         -2.38299911e-01,  -2.33718538e-01,  -2.29137164e-01,\n",
       "         -2.24555790e-01,  -2.19974416e-01,  -2.15393042e-01,\n",
       "         -2.10811669e-01,  -2.06230295e-01,  -2.01648921e-01,\n",
       "         -1.97067547e-01,  -1.92486173e-01,  -1.87904799e-01,\n",
       "         -1.83323426e-01,  -1.78742052e-01,  -1.74160678e-01,\n",
       "         -1.69579304e-01,  -1.64997930e-01,  -1.60416557e-01,\n",
       "         -1.55835183e-01,  -1.51253809e-01,  -1.46672435e-01,\n",
       "         -1.42091061e-01,  -1.37509688e-01,  -1.32928314e-01,\n",
       "         -1.28346940e-01,  -1.23765566e-01,  -1.19184192e-01,\n",
       "         -1.14602819e-01,  -1.10021445e-01,  -1.05440071e-01,\n",
       "         -1.00858697e-01,  -9.62773233e-02,  -9.16959495e-02,\n",
       "         -8.71145757e-02,  -8.25332019e-02,  -7.79518281e-02,\n",
       "         -7.33704542e-02,  -6.87890804e-02,  -6.42077066e-02,\n",
       "         -5.96263328e-02,  -5.50449590e-02,  -5.04635852e-02,\n",
       "         -4.58822114e-02,  -4.13008376e-02,  -3.67194638e-02,\n",
       "         -3.21380900e-02,  -2.75567162e-02,  -2.29753424e-02,\n",
       "         -1.83939685e-02,  -1.38125947e-02,  -9.23122092e-03,\n",
       "         -4.64984712e-03,  -6.84733064e-05,   4.51290050e-03,\n",
       "          9.09427431e-03,   1.36756481e-02,   1.82570219e-02,\n",
       "          2.28383957e-02,   2.74197695e-02,   3.20011434e-02,\n",
       "          3.65825172e-02,   4.11638910e-02,   4.57452648e-02,\n",
       "          5.03266386e-02,   5.49080124e-02,   5.94893862e-02,\n",
       "          6.40707600e-02,   6.86521338e-02]),\n",
       " <a list of 100 Patch objects>)"
      ]
     },
     "execution_count": 38,
     "metadata": {},
     "output_type": "execute_result"
    },
    {
     "data": {
      "image/png": "[encoded data removed]",
      "text/plain": [
       "<matplotlib.figure.Figure at 0xae13f90>"
      ]
     },
     "metadata": {},
     "output_type": "display_data"
    }
   ],
   "source": [
    "sns.set_context('poster')\n",
    "sns.set_style('darkgrid')\n",
    "fig=plt.figure(figsize=(20,15))\n",
    "fig.add_subplot(211)\n",
    "plt.hist(data_masked[:,0], bins=100, color=sns.color_palette('cubehelix',10)[1], alpha=0.8);\n",
    "#plt.xticks(np.arange(0, max(data_masked)+1, 1000))\n",
    "#plt.xlim(min(data_masked), max(data_masked))\n",
    "#plt.xlabel('row sum')\n",
    "#fig.add_subplot(212)\n",
    "#plt.hist(data_norm, bins=30, color=sns.color_palette('cubehelix',10)[5], alpha=0.8);\n",
    "#plt.xticks(np.arange(-2, +3, 0.2))\n",
    "#plt.xlim(min(data_norm), max(data_norm))\n",
    "#plt.xlabel('normalized row sum')"
   ]
  },
  {
   "cell_type": "code",
   "execution_count": 7,
   "metadata": {
    "collapsed": false
   },
   "outputs": [
    {
     "ename": "AttributeError",
     "evalue": "'ZAxis' object has no attribute 'set_scale'",
     "output_type": "error",
     "traceback": [
      "\u001b[1;31m---------------------------------------------------------------------------\u001b[0m",
      "\u001b[1;31mAttributeError\u001b[0m                            Traceback (most recent call last)",
      "\u001b[1;32m<ipython-input-7-02f59b9cf6d3>\u001b[0m in \u001b[0;36m<module>\u001b[1;34m()\u001b[0m\n\u001b[0;32m      1\u001b[0m \u001b[0msns\u001b[0m\u001b[1;33m.\u001b[0m\u001b[0mset_style\u001b[0m\u001b[1;33m(\u001b[0m\u001b[1;34m'white'\u001b[0m\u001b[1;33m)\u001b[0m\u001b[1;33m\u001b[0m\u001b[0m\n\u001b[1;32m----> 2\u001b[1;33m \u001b[0mplot\u001b[0m \u001b[1;33m=\u001b[0m \u001b[0mplot_surf_stat_map\u001b[0m\u001b[1;33m(\u001b[0m\u001b[0mv\u001b[0m\u001b[1;33m,\u001b[0m \u001b[0mf\u001b[0m\u001b[1;33m,\u001b[0m \u001b[0mstat_map\u001b[0m\u001b[1;33m=\u001b[0m\u001b[0mdata\u001b[0m\u001b[1;33m[\u001b[0m\u001b[1;33m:\u001b[0m\u001b[1;33m,\u001b[0m\u001b[1;36m0\u001b[0m\u001b[1;33m]\u001b[0m\u001b[1;33m,\u001b[0m \u001b[0mbg_map\u001b[0m\u001b[1;33m=\u001b[0m\u001b[0msulc\u001b[0m\u001b[1;33m,\u001b[0m \u001b[0melev\u001b[0m\u001b[1;33m=\u001b[0m\u001b[1;36m180\u001b[0m\u001b[1;33m,\u001b[0m \u001b[0mazim\u001b[0m\u001b[1;33m=\u001b[0m\u001b[1;36m0\u001b[0m\u001b[1;33m,\u001b[0m \u001b[0mfigsize\u001b[0m\u001b[1;33m=\u001b[0m\u001b[1;33m(\u001b[0m\u001b[1;36m11\u001b[0m\u001b[1;33m,\u001b[0m\u001b[1;36m10\u001b[0m\u001b[1;33m)\u001b[0m\u001b[1;33m)\u001b[0m\u001b[1;33m\u001b[0m\u001b[0m\n\u001b[0m",
      "\u001b[1;32m/home/raid3/huntenburg/workspace/brainsurfacescripts/plotting.pyc\u001b[0m in \u001b[0;36mplot_surf_stat_map\u001b[1;34m(coords, faces, stat_map, elev, azim, cmap, threshold, bg_map, bg_on_stat, alpha, vmax, symmetric_cbar, figsize, **kwargs)\u001b[0m\n\u001b[0;32m     42\u001b[0m     \u001b[1;32melse\u001b[0m\u001b[1;33m:\u001b[0m\u001b[1;33m\u001b[0m\u001b[0m\n\u001b[0;32m     43\u001b[0m         \u001b[0mfig\u001b[0m \u001b[1;33m=\u001b[0m \u001b[0mplt\u001b[0m\u001b[1;33m.\u001b[0m\u001b[0mfigure\u001b[0m\u001b[1;33m(\u001b[0m\u001b[1;33m)\u001b[0m\u001b[1;33m\u001b[0m\u001b[0m\n\u001b[1;32m---> 44\u001b[1;33m     \u001b[0max\u001b[0m \u001b[1;33m=\u001b[0m \u001b[0mfig\u001b[0m\u001b[1;33m.\u001b[0m\u001b[0madd_subplot\u001b[0m\u001b[1;33m(\u001b[0m\u001b[1;36m111\u001b[0m\u001b[1;33m,\u001b[0m \u001b[0mprojection\u001b[0m\u001b[1;33m=\u001b[0m\u001b[1;34m'3d'\u001b[0m\u001b[1;33m,\u001b[0m \u001b[0mxlim\u001b[0m\u001b[1;33m=\u001b[0m\u001b[0mlimits\u001b[0m\u001b[1;33m,\u001b[0m \u001b[0mylim\u001b[0m\u001b[1;33m=\u001b[0m\u001b[0mlimits\u001b[0m\u001b[1;33m)\u001b[0m\u001b[1;33m\u001b[0m\u001b[0m\n\u001b[0m\u001b[0;32m     45\u001b[0m     \u001b[0max\u001b[0m\u001b[1;33m.\u001b[0m\u001b[0mview_init\u001b[0m\u001b[1;33m(\u001b[0m\u001b[0melev\u001b[0m\u001b[1;33m=\u001b[0m\u001b[0melev\u001b[0m\u001b[1;33m,\u001b[0m \u001b[0mazim\u001b[0m\u001b[1;33m=\u001b[0m\u001b[0mazim\u001b[0m\u001b[1;33m)\u001b[0m\u001b[1;33m\u001b[0m\u001b[0m\n\u001b[0;32m     46\u001b[0m     \u001b[0max\u001b[0m\u001b[1;33m.\u001b[0m\u001b[0mset_axis_off\u001b[0m\u001b[1;33m(\u001b[0m\u001b[1;33m)\u001b[0m\u001b[1;33m\u001b[0m\u001b[0m\n",
      "\u001b[1;32m/home/raid3/huntenburg/workspace/try_openblas/local/lib/python2.7/site-packages/matplotlib/figure.pyc\u001b[0m in \u001b[0;36madd_subplot\u001b[1;34m(self, *args, **kwargs)\u001b[0m\n\u001b[0;32m   1003\u001b[0m                     \u001b[0mself\u001b[0m\u001b[1;33m.\u001b[0m\u001b[0m_axstack\u001b[0m\u001b[1;33m.\u001b[0m\u001b[0mremove\u001b[0m\u001b[1;33m(\u001b[0m\u001b[0max\u001b[0m\u001b[1;33m)\u001b[0m\u001b[1;33m\u001b[0m\u001b[0m\n\u001b[0;32m   1004\u001b[0m \u001b[1;33m\u001b[0m\u001b[0m\n\u001b[1;32m-> 1005\u001b[1;33m             \u001b[0ma\u001b[0m \u001b[1;33m=\u001b[0m \u001b[0msubplot_class_factory\u001b[0m\u001b[1;33m(\u001b[0m\u001b[0mprojection_class\u001b[0m\u001b[1;33m)\u001b[0m\u001b[1;33m(\u001b[0m\u001b[0mself\u001b[0m\u001b[1;33m,\u001b[0m \u001b[1;33m*\u001b[0m\u001b[0margs\u001b[0m\u001b[1;33m,\u001b[0m \u001b[1;33m**\u001b[0m\u001b[0mkwargs\u001b[0m\u001b[1;33m)\u001b[0m\u001b[1;33m\u001b[0m\u001b[0m\n\u001b[0m\u001b[0;32m   1006\u001b[0m \u001b[1;33m\u001b[0m\u001b[0m\n\u001b[0;32m   1007\u001b[0m         \u001b[0mself\u001b[0m\u001b[1;33m.\u001b[0m\u001b[0m_axstack\u001b[0m\u001b[1;33m.\u001b[0m\u001b[0madd\u001b[0m\u001b[1;33m(\u001b[0m\u001b[0mkey\u001b[0m\u001b[1;33m,\u001b[0m \u001b[0ma\u001b[0m\u001b[1;33m)\u001b[0m\u001b[1;33m\u001b[0m\u001b[0m\n",
      "\u001b[1;32m/home/raid3/huntenburg/workspace/try_openblas/local/lib/python2.7/site-packages/matplotlib/axes/_subplots.pyc\u001b[0m in \u001b[0;36m__init__\u001b[1;34m(self, fig, *args, **kwargs)\u001b[0m\n\u001b[0;32m     71\u001b[0m \u001b[1;33m\u001b[0m\u001b[0m\n\u001b[0;32m     72\u001b[0m         \u001b[1;31m# _axes_class is set in the subplot_class_factory\u001b[0m\u001b[1;33m\u001b[0m\u001b[1;33m\u001b[0m\u001b[0m\n\u001b[1;32m---> 73\u001b[1;33m         \u001b[0mself\u001b[0m\u001b[1;33m.\u001b[0m\u001b[0m_axes_class\u001b[0m\u001b[1;33m.\u001b[0m\u001b[0m__init__\u001b[0m\u001b[1;33m(\u001b[0m\u001b[0mself\u001b[0m\u001b[1;33m,\u001b[0m \u001b[0mfig\u001b[0m\u001b[1;33m,\u001b[0m \u001b[0mself\u001b[0m\u001b[1;33m.\u001b[0m\u001b[0mfigbox\u001b[0m\u001b[1;33m,\u001b[0m \u001b[1;33m**\u001b[0m\u001b[0mkwargs\u001b[0m\u001b[1;33m)\u001b[0m\u001b[1;33m\u001b[0m\u001b[0m\n\u001b[0m\u001b[0;32m     74\u001b[0m \u001b[1;33m\u001b[0m\u001b[0m\n\u001b[0;32m     75\u001b[0m     \u001b[1;32mdef\u001b[0m \u001b[0m__reduce__\u001b[0m\u001b[1;33m(\u001b[0m\u001b[0mself\u001b[0m\u001b[1;33m)\u001b[0m\u001b[1;33m:\u001b[0m\u001b[1;33m\u001b[0m\u001b[0m\n",
      "\u001b[1;32m/usr/lib/pymodules/python2.7/mpl_toolkits/mplot3d/axes3d.pyc\u001b[0m in \u001b[0;36m__init__\u001b[1;34m(self, fig, rect, *args, **kwargs)\u001b[0m\n\u001b[0;32m     76\u001b[0m         Axes.__init__(self, fig, rect,\n\u001b[0;32m     77\u001b[0m                       \u001b[0mframeon\u001b[0m\u001b[1;33m=\u001b[0m\u001b[0mTrue\u001b[0m\u001b[1;33m,\u001b[0m\u001b[1;33m\u001b[0m\u001b[0m\n\u001b[1;32m---> 78\u001b[1;33m                       *args, **kwargs)\n\u001b[0m\u001b[0;32m     79\u001b[0m         \u001b[1;31m# Disable drawing of axes by base class\u001b[0m\u001b[1;33m\u001b[0m\u001b[1;33m\u001b[0m\u001b[0m\n\u001b[0;32m     80\u001b[0m         \u001b[0mAxes\u001b[0m\u001b[1;33m.\u001b[0m\u001b[0mset_axis_off\u001b[0m\u001b[1;33m(\u001b[0m\u001b[0mself\u001b[0m\u001b[1;33m)\u001b[0m\u001b[1;33m\u001b[0m\u001b[0m\n",
      "\u001b[1;32m/home/raid3/huntenburg/workspace/try_openblas/local/lib/python2.7/site-packages/matplotlib/axes/_base.pyc\u001b[0m in \u001b[0;36m__init__\u001b[1;34m(self, fig, rect, axisbg, frameon, sharex, sharey, label, xscale, yscale, **kwargs)\u001b[0m\n\u001b[0;32m    518\u001b[0m         \u001b[0mself\u001b[0m\u001b[1;33m.\u001b[0m\u001b[0m_hold\u001b[0m \u001b[1;33m=\u001b[0m \u001b[0mrcParams\u001b[0m\u001b[1;33m[\u001b[0m\u001b[1;34m'axes.hold'\u001b[0m\u001b[1;33m]\u001b[0m\u001b[1;33m\u001b[0m\u001b[0m\n\u001b[0;32m    519\u001b[0m         \u001b[0mself\u001b[0m\u001b[1;33m.\u001b[0m\u001b[0m_connected\u001b[0m \u001b[1;33m=\u001b[0m \u001b[1;33m{\u001b[0m\u001b[1;33m}\u001b[0m  \u001b[1;31m# a dict from events to (id, func)\u001b[0m\u001b[1;33m\u001b[0m\u001b[0m\n\u001b[1;32m--> 520\u001b[1;33m         \u001b[0mself\u001b[0m\u001b[1;33m.\u001b[0m\u001b[0mcla\u001b[0m\u001b[1;33m(\u001b[0m\u001b[1;33m)\u001b[0m\u001b[1;33m\u001b[0m\u001b[0m\n\u001b[0m\u001b[0;32m    521\u001b[0m         \u001b[1;31m# funcs used to format x and y - fall back on major formatters\u001b[0m\u001b[1;33m\u001b[0m\u001b[1;33m\u001b[0m\u001b[0m\n\u001b[0;32m    522\u001b[0m         \u001b[0mself\u001b[0m\u001b[1;33m.\u001b[0m\u001b[0mfmt_xdata\u001b[0m \u001b[1;33m=\u001b[0m \u001b[0mNone\u001b[0m\u001b[1;33m\u001b[0m\u001b[0m\n",
      "\u001b[1;32m/usr/lib/pymodules/python2.7/mpl_toolkits/mplot3d/axes3d.pyc\u001b[0m in \u001b[0;36mcla\u001b[1;34m(self)\u001b[0m\n\u001b[0;32m    840\u001b[0m             \u001b[0mself\u001b[0m\u001b[1;33m.\u001b[0m\u001b[0mzaxis\u001b[0m\u001b[1;33m.\u001b[0m\u001b[0mset_scale\u001b[0m\u001b[1;33m(\u001b[0m\u001b[0mself\u001b[0m\u001b[1;33m.\u001b[0m\u001b[0m_sharez\u001b[0m\u001b[1;33m.\u001b[0m\u001b[0mzaxis\u001b[0m\u001b[1;33m.\u001b[0m\u001b[0mget_scale\u001b[0m\u001b[1;33m(\u001b[0m\u001b[1;33m)\u001b[0m\u001b[1;33m)\u001b[0m\u001b[1;33m\u001b[0m\u001b[0m\n\u001b[0;32m    841\u001b[0m         \u001b[1;32melse\u001b[0m\u001b[1;33m:\u001b[0m\u001b[1;33m\u001b[0m\u001b[0m\n\u001b[1;32m--> 842\u001b[1;33m             \u001b[0mself\u001b[0m\u001b[1;33m.\u001b[0m\u001b[0mzaxis\u001b[0m\u001b[1;33m.\u001b[0m\u001b[0mset_scale\u001b[0m\u001b[1;33m(\u001b[0m\u001b[1;34m'linear'\u001b[0m\u001b[1;33m)\u001b[0m\u001b[1;33m\u001b[0m\u001b[0m\n\u001b[0m\u001b[0;32m    843\u001b[0m \u001b[1;33m\u001b[0m\u001b[0m\n\u001b[0;32m    844\u001b[0m         \u001b[0mself\u001b[0m\u001b[1;33m.\u001b[0m\u001b[0m_autoscaleZon\u001b[0m \u001b[1;33m=\u001b[0m \u001b[0mTrue\u001b[0m\u001b[1;33m\u001b[0m\u001b[0m\n",
      "\u001b[1;31mAttributeError\u001b[0m: 'ZAxis' object has no attribute 'set_scale'"
     ]
    },
    {
     "data": {
      "text/plain": [
       "<matplotlib.figure.Figure at 0x30e7910>"
      ]
     },
     "metadata": {},
     "output_type": "display_data"
    }
   ],
   "source": [
    "sns.set_style('white')\n",
    "plot = plot_surf_stat_map(v, f, stat_map=data[:,0], bg_map=sulc, elev=180, azim=0, figsize=(11,10))"
   ]
  },
  {
   "cell_type": "code",
   "execution_count": null,
   "metadata": {
    "collapsed": false
   },
   "outputs": [],
   "source": [
    "gradient = np.linspace(0, 1, 256)\n",
    "gradient = np.vstack((gradient, gradient))\n",
    "\n",
    "plt.imshow(gradient, aspect='auto', cmap=cbar)\n",
    "plt.axis('off')"
   ]
  },
  {
   "cell_type": "code",
   "execution_count": 7,
   "metadata": {
    "collapsed": true
   },
   "outputs": [],
   "source": [
    "x=v[:,0]\n",
    "y=v[:,1]\n",
    "z=v[:,2]\n",
    "triangles=f\n",
    "pal, pal_255 = make_cmap(10)"
   ]
  },
  {
   "cell_type": "code",
   "execution_count": 9,
   "metadata": {
    "collapsed": false
   },
   "outputs": [
    {
     "data": {
      "image/png": "[encoded data removed]",
      "text/plain": [
       "<matplotlib.figure.Figure at 0x4b97d90>"
      ]
     },
     "metadata": {},
     "output_type": "display_data"
    }
   ],
   "source": [
    "sns.palplot(pal)"
   ]
  },
  {
   "cell_type": "code",
   "execution_count": 42,
   "metadata": {
    "collapsed": true
   },
   "outputs": [],
   "source": [
    "data_thr=data[:,0]\n",
    "data_thr[mask]=0\n",
    "data_thr[np.where(data_masked[:,0]<-0.1)]=-0.1"
   ]
  },
  {
   "cell_type": "code",
   "execution_count": 43,
   "metadata": {
    "collapsed": false
   },
   "outputs": [
    {
     "data": {
      "text/plain": [
       "(0,)"
      ]
     },
     "execution_count": 43,
     "metadata": {},
     "output_type": "execute_result"
    }
   ],
   "source": [
    "np.where(data_masked[:,0]<-0.1)[0].shape"
   ]
  },
  {
   "cell_type": "code",
   "execution_count": 44,
   "metadata": {
    "collapsed": false
   },
   "outputs": [],
   "source": [
    "mlab.figure(bgcolor=(1, 1, 1))\n",
    "img = mlab.triangular_mesh(x,y,z,triangles,scalars=data_thr, colormap='RdBu')\n",
    "#lut = img.module_manager.scalar_lut_manager.lut.table.to_array()\n",
    "#img.module_manager.scalar_lut_manager.lut.table = pal_255\n",
    "mlab.draw()\n",
    "mlab.show()"
   ]
  },
  {
   "cell_type": "code",
   "execution_count": 9,
   "metadata": {
    "collapsed": false
   },
   "outputs": [
    {
     "data": {
      "text/plain": [
       "(75589,)"
      ]
     },
     "execution_count": 9,
     "metadata": {},
     "output_type": "execute_result"
    }
   ],
   "source": [
    "data[:,0].shape"
   ]
  },
  {
   "cell_type": "code",
   "execution_count": null,
   "metadata": {
    "collapsed": true
   },
   "outputs": [],
   "source": []
  }
 ],
 "metadata": {
  "kernelspec": {
   "display_name": "Python 2",
   "language": "python",
   "name": "python2"
  },
  "language_info": {
   "codemirror_mode": {
    "name": "ipython",
    "version": 2
   },
   "file_extension": ".py",
   "mimetype": "text/x-python",
   "name": "python",
   "nbconvert_exporter": "python",
   "pygments_lexer": "ipython2",
   "version": "2.7.3"
  }
 },
 "nbformat": 4,
 "nbformat_minor": 0
}
