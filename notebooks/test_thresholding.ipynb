{
 "cells": [
  {
   "cell_type": "code",
   "execution_count": 2,
   "metadata": {
    "collapsed": true
   },
   "outputs": [],
   "source": [
    "%matplotlib inline"
   ]
  },
  {
   "cell_type": "code",
   "execution_count": 3,
   "metadata": {
    "collapsed": true
   },
   "outputs": [],
   "source": [
    "import numpy as np\n",
    "import matplotlib.pyplot as plt"
   ]
  },
  {
   "cell_type": "code",
   "execution_count": 4,
   "metadata": {
    "collapsed": false
   },
   "outputs": [],
   "source": [
    "A = np.random.randint(-50,50,size=(500,100))"
   ]
  },
  {
   "cell_type": "code",
   "execution_count": 5,
   "metadata": {
    "collapsed": false
   },
   "outputs": [],
   "source": [
    "# Full matrix with ones on diagonal\n",
    "A_corr = np.corrcoef(A)"
   ]
  },
  {
   "cell_type": "code",
   "execution_count": 6,
   "metadata": {
    "collapsed": false
   },
   "outputs": [],
   "source": [
    "# Full matrix with zeros on diagonal\n",
    "A_corr_zero = A_corr - np.eye(A_corr.shape[0])"
   ]
  },
  {
   "cell_type": "code",
   "execution_count": 7,
   "metadata": {
    "collapsed": false
   },
   "outputs": [],
   "source": [
    "# Full matrix with diagonal removed\n",
    "A_corr_none = A_corr[A_corr != 1.0]"
   ]
  },
  {
   "cell_type": "code",
   "execution_count": 8,
   "metadata": {
    "collapsed": true
   },
   "outputs": [],
   "source": [
    "# Upper triangular with ones on diagonal\n",
    "A_corr_upper = A_corr[np.triu_indices(A_corr.shape[0])]"
   ]
  },
  {
   "cell_type": "code",
   "execution_count": 9,
   "metadata": {
    "collapsed": true
   },
   "outputs": [],
   "source": [
    "# Upper triangular with zeros on diagonal\n",
    "A_corr_upper_zero = A_corr_zero[np.triu_indices(A_corr.shape[0])]"
   ]
  },
  {
   "cell_type": "code",
   "execution_count": 10,
   "metadata": {
    "collapsed": true
   },
   "outputs": [],
   "source": [
    "# Upper triangular with diagonal removed\n",
    "A_corr_upper_none = A_corr_upper[A_corr_upper != 1.0]"
   ]
  },
  {
   "cell_type": "code",
   "execution_count": 11,
   "metadata": {
    "collapsed": false
   },
   "outputs": [
    {
     "name": "stdout",
     "output_type": "stream",
     "text": [
      "Ones on diagonal: \n",
      "Full   0.130521266954\n",
      "Upper  0.131699700515\n",
      "\n",
      "Zeros on diagonal: \n",
      "Full   0.129325304229\n",
      "Upper  0.129233943996\n",
      "\n",
      "Removed diagonal: \n",
      "Full   0.129480115617\n",
      "Upper  0.129480115617\n"
     ]
    }
   ],
   "source": [
    "print \"Ones on diagonal: \"\n",
    "print \"Full  \", np.percentile(A_corr,90)\n",
    "print \"Upper \", np.percentile(A_corr_upper, 90)\n",
    "print\n",
    "print \"Zeros on diagonal: \"\n",
    "print \"Full  \", np.percentile(A_corr_zero, 90)\n",
    "print \"Upper \",np.percentile(A_corr_upper_zero, 90)\n",
    "print\n",
    "print \"Removed diagonal: \"\n",
    "print \"Full  \",np.percentile(A_corr_none, 90)\n",
    "print \"Upper \",np.percentile(A_corr_upper_none, 90)"
   ]
  },
  {
   "cell_type": "code",
   "execution_count": 19,
   "metadata": {
    "collapsed": false
   },
   "outputs": [
    {
     "data": {
      "text/plain": [
       "<matplotlib.text.Text at 0x7f1838ecc510>"
      ]
     },
     "execution_count": 19,
     "metadata": {},
     "output_type": "execute_result"
    },
    {
     "data": {
      "text/plain": [
       "<matplotlib.figure.Figure at 0x7f18542fa190>"
      ]
     },
     "metadata": {},
     "output_type": "display_data"
    },
    {
     "data": {
      "image/png": "[encoded data removed]",
      "text/plain": [
       "<matplotlib.figure.Figure at 0x7f1838fbbf90>"
      ]
     },
     "metadata": {},
     "output_type": "display_data"
    }
   ],
   "source": [
    "# this is how it looks like\n",
    "thr = np.percentile(A_corr_upper_none, 90)\n",
    "A_corr_thr = np.zeros_like(A_corr)\n",
    "A_corr_thr[np.where(A_corr_zero>thr)] = 1\n",
    "fig = plt.figure(figsize=(8,8))\n",
    "plt.matshow(A_corr_thr, cmap='gray')\n",
    "plt.title('Removed diagonal threshold')"
   ]
  },
  {
   "cell_type": "code",
   "execution_count": null,
   "metadata": {
    "collapsed": true
   },
   "outputs": [],
   "source": []
  }
 ],
 "metadata": {
  "kernelspec": {
   "display_name": "Python 2",
   "language": "python",
   "name": "python2"
  },
  "language_info": {
   "codemirror_mode": {
    "name": "ipython",
    "version": 2
   },
   "file_extension": ".py",
   "mimetype": "text/x-python",
   "name": "python",
   "nbconvert_exporter": "python",
   "pygments_lexer": "ipython2",
   "version": "2.7.6"
  }
 },
 "nbformat": 4,
 "nbformat_minor": 0
}
