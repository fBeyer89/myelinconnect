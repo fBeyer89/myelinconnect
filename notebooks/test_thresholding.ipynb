{
 "cells": [
  {
   "cell_type": "code",
   "execution_count": 1,
   "metadata": {
    "collapsed": true
   },
   "outputs": [],
   "source": [
    "%matplotlib inline"
   ]
  },
  {
   "cell_type": "code",
   "execution_count": 11,
   "metadata": {
    "collapsed": true
   },
   "outputs": [],
   "source": [
    "import numpy as np\n",
    "import matplotlib.pyplot as plt"
   ]
  },
  {
   "cell_type": "code",
   "execution_count": 27,
   "metadata": {
    "collapsed": false
   },
   "outputs": [],
   "source": [
    "A = np.random.randint(-50,50,size=(500,100))"
   ]
  },
  {
   "cell_type": "code",
   "execution_count": 28,
   "metadata": {
    "collapsed": false
   },
   "outputs": [],
   "source": [
    "A_corr = np.corrcoef(A)"
   ]
  },
  {
   "cell_type": "code",
   "execution_count": 34,
   "metadata": {
    "collapsed": true
   },
   "outputs": [],
   "source": [
    "# Full matrix with ones on diagonal\n",
    "thr_a_one = np.percentile(A_corr,90)"
   ]
  },
  {
   "cell_type": "code",
   "execution_count": 39,
   "metadata": {
    "collapsed": false
   },
   "outputs": [],
   "source": [
    "# Full matrix with zeros on diagonal\n",
    "A_corr_zero = A_corr - np.eye(A_corr.shape[0])\n",
    "thr_a_zero = np.percentile(A_corr_zero, 90)"
   ]
  },
  {
   "cell_type": "code",
   "execution_count": 50,
   "metadata": {
    "collapsed": false
   },
   "outputs": [],
   "source": [
    "# Full matrix with diagonal removed\n",
    "A_corr_none = A_corr[A_corr != 1.0]\n",
    "thr_a_none = np.percentile(A_corr_none, 90)"
   ]
  },
  {
   "cell_type": "code",
   "execution_count": 79,
   "metadata": {
    "collapsed": true
   },
   "outputs": [],
   "source": [
    "# Upper triangular with ones on diagonal\n",
    "A_corr_upper = A_corr[np.triu_indices(A_corr.shape[0])]\n",
    "thr_b_one = np.percentile(A_corr_upper, 90)"
   ]
  },
  {
   "cell_type": "code",
   "execution_count": 81,
   "metadata": {
    "collapsed": true
   },
   "outputs": [],
   "source": [
    "# Upper triangular with zeros on diagonal\n",
    "A_corr_upper_zero = A_corr_zero[np.triu_indices(A_corr.shape[0])]\n",
    "thr_b_zero = np.percentile(A_corr_upper_zero, 90)"
   ]
  },
  {
   "cell_type": "code",
   "execution_count": 88,
   "metadata": {
    "collapsed": true
   },
   "outputs": [],
   "source": [
    "# Upper triangular with removing diagonal\n",
    "A_corr_upper_none = A_corr_upper[A_corr_upper != 1.0]\n",
    "thr_b_none = np.percentile(A_corr_upper_none, 90)"
   ]
  },
  {
   "cell_type": "code",
   "execution_count": 95,
   "metadata": {
    "collapsed": false
   },
   "outputs": [
    {
     "name": "stdout",
     "output_type": "stream",
     "text": [
      "Ones on diagonal: \n",
      "Full  0.129629155094\n",
      "Upper 0.130607770326\n",
      "\n",
      "Zeros on diagonal: \n",
      "Full  0.128412179778\n",
      "Upper  0.128271483596\n",
      "\n",
      "Removed diagonal: \n",
      "Full  0.12855306379\n",
      "Upper  0.12855306379\n"
     ]
    }
   ],
   "source": [
    "print \"Ones on diagonal: \"\n",
    "print \"Full \", thr_a_one\n",
    "print \"Upper\",thr_b_one\n",
    "print\n",
    "print \"Zeros on diagonal: \"\n",
    "print \"Full \",thr_a_zero\n",
    "print \"Upper \",thr_b_zero\n",
    "print\n",
    "print \"Removed diagonal: \"\n",
    "print \"Full \",thr_a_none\n",
    "print \"Upper \",thr_b_none"
   ]
  }
 ],
 "metadata": {
  "kernelspec": {
   "display_name": "Python 2",
   "language": "python",
   "name": "python2"
  },
  "language_info": {
   "codemirror_mode": {
    "name": "ipython",
    "version": 2
   },
   "file_extension": ".py",
   "mimetype": "text/x-python",
   "name": "python",
   "nbconvert_exporter": "python",
   "pygments_lexer": "ipython2",
   "version": "2.7.6"
  }
 },
 "nbformat": 4,
 "nbformat_minor": 0
}
