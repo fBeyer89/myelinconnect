{
 "cells": [
  {
   "cell_type": "code",
   "execution_count": 1,
   "metadata": {
    "collapsed": true
   },
   "outputs": [],
   "source": [
    "%matplotlib inline"
   ]
  },
  {
   "cell_type": "code",
   "execution_count": 2,
   "metadata": {
    "collapsed": true
   },
   "outputs": [],
   "source": [
    "import numpy as np\n",
    "from vtk_rw import read_vtk\n",
    "from sklearn import linear_model\n",
    "import scipy.stats as stats\n",
    "import pickle\n",
    "import matplotlib.pyplot as plt\n",
    "import itertools\n",
    "import pandas as pd"
   ]
  },
  {
   "cell_type": "markdown",
   "metadata": {},
   "source": [
    "### prepare data"
   ]
  },
  {
   "cell_type": "code",
   "execution_count": 3,
   "metadata": {
    "collapsed": true
   },
   "outputs": [],
   "source": [
    "rh_mesh_file='/scr/ilz3/myelinconnect/new_groupavg/surfs/lowres/inflated/rh_lowres_new_infl50.vtk'\n",
    "lh_mesh_file='/scr/ilz3/myelinconnect/new_groupavg/surfs/lowres/inflated/lh_lowres_new_infl50.vtk'\n",
    "full_mask_file='/scr/ilz3/myelinconnect/new_groupavg/masks/fullmask_lh_rh_new.npy'\n",
    "rh_t1_file='/scr/ilz3/myelinconnect/new_groupavg/t1/smooth_3/rh_t1_avg_smooth_3.npy'\n",
    "lh_t1_file='/scr/ilz3/myelinconnect/new_groupavg/t1/smooth_3/lh_t1_avg_smooth_3.npy'\n",
    "embed_file='/scr/ilz3/myelinconnect/new_groupavg/embed/both_smooth_3_embed.npy'\n",
    "embed_dict_file='/scr/ilz3/myelinconnect/new_groupavg/embed/both_smooth_3_embed_dict.pkl'"
   ]
  },
  {
   "cell_type": "code",
   "execution_count": 92,
   "metadata": {
    "collapsed": false
   },
   "outputs": [],
   "source": [
    "lv,_,_ = read_vtk(lh_mesh_file)\n",
    "lh_t1 = np.load(lh_t1_file)\n",
    "rv,_,_ = read_vtk(rh_mesh_file)\n",
    "rh_t1 = np.load(rh_t1_file)\n",
    "\n",
    "mask = np.load(full_mask_file)\n",
    "\n",
    "# prepare embedding (normalized from entry in dict)\n",
    "pkl_in = open(embed_dict_file, 'r')\n",
    "embed_dict=pickle.load(pkl_in)\n",
    "pkl_in.close()\n",
    "\n",
    "embed_masked = np.zeros((embed_dict['vectors'].shape[0], embed_dict['vectors'].shape[1]-1))\n",
    "for comp in range(100):\n",
    "    embed_masked[:,comp]=(embed_dict['vectors'][:,comp+1]/embed_dict['vectors'][:,0])\n",
    "    #embed_masked /= np.linalg.norm(embed_masked, axis=0)\n",
    "\n",
    "# unmask the embedding, that has been saved in masked form\n",
    "idcs=np.arange(0,(lv.shape[0]+rv.shape[0]))\n",
    "nonmask=np.delete(idcs, mask)\n",
    "embed = np.zeros(((lv.shape[0]+rv.shape[0]),100))\n",
    "embed[nonmask] = embed_masked\n",
    "\n",
    "# extend mask to nodes that have a t1avg < 1500\n",
    "full_t1 = np.concatenate((lh_t1, rh_t1))\n",
    "fullmask = np.unique(np.concatenate((mask,np.where(full_t1<=1500)[0])))\n",
    "fullmask = np.asarray(fullmask, dtype='int64')\n",
    "nonmask_bigmask=np.delete(idcs, fullmask)\n",
    "\n",
    "# mask embedding and t1\n",
    "masked_t1 = np.delete(full_t1, fullmask)\n",
    "masked_embed = np.delete(embed, fullmask, axis=0)\n",
    "\n",
    "# normalize vectors to norm 1 (so that BIC derivation works)\n",
    "masked_embed /= np.linalg.norm(masked_embed, axis=0)\n",
    "masked_t1 /= np.linalg.norm(masked_t1, axis=0)"
   ]
  },
  {
   "cell_type": "markdown",
   "metadata": {},
   "source": [
    "### run single model"
   ]
  },
  {
   "cell_type": "code",
   "execution_count": 93,
   "metadata": {
    "collapsed": true
   },
   "outputs": [],
   "source": [
    "maps = range(10)"
   ]
  },
  {
   "cell_type": "code",
   "execution_count": 94,
   "metadata": {
    "collapsed": false
   },
   "outputs": [],
   "source": [
    "clf = linear_model.LinearRegression()\n",
    "clf.fit(masked_embed[:,maps], masked_t1)\n",
    "\n",
    "modelled_fit = clf.predict(masked_embed[:,maps])\n",
    "residuals = masked_t1 - clf.predict(masked_embed[:,maps])"
   ]
  },
  {
   "cell_type": "code",
   "execution_count": 95,
   "metadata": {
    "collapsed": false
   },
   "outputs": [
    {
     "name": "stdout",
     "output_type": "stream",
     "text": [
      "0.62172677432\n",
      "[-0.03592487  0.01281974  0.00231125  0.00203072 -0.01735593 -0.02114851\n",
      " -0.0148418   0.00568999  0.01135257 -0.01313917]\n"
     ]
    }
   ],
   "source": [
    "print clf.score(masked_embed[:,maps], masked_t1)\n",
    "print clf.coef_"
   ]
  },
  {
   "cell_type": "markdown",
   "metadata": {},
   "source": [
    "### calculate BIC for model"
   ]
  },
  {
   "cell_type": "code",
   "execution_count": 96,
   "metadata": {
    "collapsed": true
   },
   "outputs": [],
   "source": [
    "def BIC(params, residuals):\n",
    "    '''\n",
    "    parameters : free parameters to the model\n",
    "    residuals : residuals resulting from predicting the actual data using the model with parameters p (not squared)\n",
    "    '''\n",
    "    # infer number of free parameters and sample points\n",
    "    p = params.shape[0]\n",
    "    n = residuals.shape[0]\n",
    "    \n",
    "    # estimate for parameter and residual variance, both assumed to be Gaussian distributed\n",
    "    sigma2_p = (1./p) * np.sum(params**2)\n",
    "    sigma2_res = (1./n) * np.sum(residuals**2)\n",
    "    \n",
    "    # approximation for bic through taylor expansion around optimal parameters\n",
    "    bic = 1 + p + p * np.log(1+(sigma2_p/sigma2_res)) #+ np.log(2*np.pi*sigma2_res)\n",
    "    \n",
    "    return bic"
   ]
  },
  {
   "cell_type": "code",
   "execution_count": 98,
   "metadata": {
    "collapsed": false
   },
   "outputs": [
    {
     "data": {
      "text/plain": [
       "109.92837775158164"
      ]
     },
     "execution_count": 98,
     "metadata": {},
     "output_type": "execute_result"
    }
   ],
   "source": [
    "BIC(clf.coef_, residuals)"
   ]
  },
  {
   "cell_type": "markdown",
   "metadata": {},
   "source": [
    "### iterate over all possible models"
   ]
  },
  {
   "cell_type": "code",
   "execution_count": 99,
   "metadata": {
    "collapsed": false
   },
   "outputs": [],
   "source": [
    "maps = range(10)\n",
    "combinations = []\n",
    "\n",
    "for i in range(len(maps)):\n",
    "    element = [list(x) for x in itertools.combinations(maps, i+1)]\n",
    "    combinations.extend(element)"
   ]
  },
  {
   "cell_type": "code",
   "execution_count": 100,
   "metadata": {
    "collapsed": false
   },
   "outputs": [
    {
     "data": {
      "text/plain": [
       "1023"
      ]
     },
     "execution_count": 100,
     "metadata": {},
     "output_type": "execute_result"
    }
   ],
   "source": [
    "len(combinations)"
   ]
  },
  {
   "cell_type": "code",
   "execution_count": 101,
   "metadata": {
    "collapsed": false
   },
   "outputs": [],
   "source": [
    "df = pd.DataFrame(columns=[\"Maps\", \"Pearson's r\", \"R squared\", \"BIC\"], index=range(len(combinations)))"
   ]
  },
  {
   "cell_type": "code",
   "execution_count": 102,
   "metadata": {
    "collapsed": false,
    "scrolled": true
   },
   "outputs": [],
   "source": [
    "for c in range(len(combinations)):\n",
    "    maps=combinations[c]\n",
    "    clf = linear_model.LinearRegression()\n",
    "    clf.fit(masked_embed[:,maps], masked_t1)\n",
    "\n",
    "    modelled_fit = clf.predict(masked_embed[:,maps])\n",
    "    residuals = masked_t1 - clf.predict(masked_embed[:,maps])\n",
    "    \n",
    "    df[\"Maps\"][c] = tuple(maps)\n",
    "    df[\"Pearson's r\"][c] = stats.pearsonr(modelled_fit, masked_t1)\n",
    "    df[\"R squared\"][c] = clf.score(masked_embed[:,maps], masked_t1)\n",
    "    df[\"BIC\"][c] = BIC(clf.coef_, residuals)"
   ]
  },
  {
   "cell_type": "code",
   "execution_count": 111,
   "metadata": {
    "collapsed": false
   },
   "outputs": [
    {
     "data": {
      "text/html": [
       "<div>\n",
       "<table border=\"1\" class=\"dataframe\">\n",
       "  <thead>\n",
       "    <tr style=\"text-align: right;\">\n",
       "      <th></th>\n",
       "      <th>Maps</th>\n",
       "      <th>Pearson's r</th>\n",
       "      <th>R squared</th>\n",
       "      <th>BIC</th>\n",
       "    </tr>\n",
       "  </thead>\n",
       "  <tbody>\n",
       "    <tr>\n",
       "      <th>967</th>\n",
       "      <td>(0, 1, 2, 3, 4, 5, 6, 7)</td>\n",
       "      <td>(0.744381634757, 0.0)</td>\n",
       "      <td>0.554104</td>\n",
       "      <td>87.69841</td>\n",
       "    </tr>\n",
       "    <tr>\n",
       "      <th>968</th>\n",
       "      <td>(0, 1, 2, 3, 4, 5, 6, 8)</td>\n",
       "      <td>(0.758754233113, 0.0)</td>\n",
       "      <td>0.575708</td>\n",
       "      <td>88.40385</td>\n",
       "    </tr>\n",
       "    <tr>\n",
       "      <th>969</th>\n",
       "      <td>(0, 1, 2, 3, 4, 5, 6, 9)</td>\n",
       "      <td>(0.765191746935, 0.0)</td>\n",
       "      <td>0.5855184</td>\n",
       "      <td>88.72294</td>\n",
       "    </tr>\n",
       "    <tr>\n",
       "      <th>970</th>\n",
       "      <td>(0, 1, 2, 3, 4, 5, 7, 8)</td>\n",
       "      <td>(0.730458652025, 0.0)</td>\n",
       "      <td>0.5335698</td>\n",
       "      <td>87.01511</td>\n",
       "    </tr>\n",
       "    <tr>\n",
       "      <th>971</th>\n",
       "      <td>(0, 1, 2, 3, 4, 5, 7, 9)</td>\n",
       "      <td>(0.737254960237, 0.0)</td>\n",
       "      <td>0.5435449</td>\n",
       "      <td>87.33559</td>\n",
       "    </tr>\n",
       "    <tr>\n",
       "      <th>972</th>\n",
       "      <td>(0, 1, 2, 3, 4, 5, 8, 9)</td>\n",
       "      <td>(0.751652139435, 0.0)</td>\n",
       "      <td>0.5649809</td>\n",
       "      <td>88.03047</td>\n",
       "    </tr>\n",
       "    <tr>\n",
       "      <th>973</th>\n",
       "      <td>(0, 1, 2, 3, 4, 6, 7, 8)</td>\n",
       "      <td>(0.694676824703, 0.0)</td>\n",
       "      <td>0.4825759</td>\n",
       "      <td>85.4363</td>\n",
       "    </tr>\n",
       "    <tr>\n",
       "      <th>974</th>\n",
       "      <td>(0, 1, 2, 3, 4, 6, 7, 9)</td>\n",
       "      <td>(0.701955794978, 0.0)</td>\n",
       "      <td>0.4927419</td>\n",
       "      <td>85.76297</td>\n",
       "    </tr>\n",
       "    <tr>\n",
       "      <th>975</th>\n",
       "      <td>(0, 1, 2, 3, 4, 6, 8, 9)</td>\n",
       "      <td>(0.717053192948, 0.0)</td>\n",
       "      <td>0.5141653</td>\n",
       "      <td>86.44683</td>\n",
       "    </tr>\n",
       "    <tr>\n",
       "      <th>976</th>\n",
       "      <td>(0, 1, 2, 3, 4, 7, 8, 9)</td>\n",
       "      <td>(0.686950767382, 0.0)</td>\n",
       "      <td>0.4719014</td>\n",
       "      <td>85.06785</td>\n",
       "    </tr>\n",
       "    <tr>\n",
       "      <th>977</th>\n",
       "      <td>(0, 1, 2, 3, 5, 6, 7, 8)</td>\n",
       "      <td>(0.717873723834, 0.0)</td>\n",
       "      <td>0.5153427</td>\n",
       "      <td>86.4688</td>\n",
       "    </tr>\n",
       "    <tr>\n",
       "      <th>978</th>\n",
       "      <td>(0, 1, 2, 3, 5, 6, 7, 9)</td>\n",
       "      <td>(0.724768470087, 0.0)</td>\n",
       "      <td>0.5252893</td>\n",
       "      <td>86.78576</td>\n",
       "    </tr>\n",
       "    <tr>\n",
       "      <th>979</th>\n",
       "      <td>(0, 1, 2, 3, 5, 6, 8, 9)</td>\n",
       "      <td>(0.739531826651, 0.0)</td>\n",
       "      <td>0.5469073</td>\n",
       "      <td>87.48312</td>\n",
       "    </tr>\n",
       "    <tr>\n",
       "      <th>980</th>\n",
       "      <td>(0, 1, 2, 3, 5, 7, 8, 9)</td>\n",
       "      <td>(0.710426473617, 0.0)</td>\n",
       "      <td>0.5047058</td>\n",
       "      <td>86.10411</td>\n",
       "    </tr>\n",
       "    <tr>\n",
       "      <th>981</th>\n",
       "      <td>(0, 1, 2, 3, 6, 7, 8, 9)</td>\n",
       "      <td>(0.673110187887, 0.0)</td>\n",
       "      <td>0.4530773</td>\n",
       "      <td>84.49644</td>\n",
       "    </tr>\n",
       "    <tr>\n",
       "      <th>982</th>\n",
       "      <td>(0, 1, 2, 4, 5, 6, 7, 8)</td>\n",
       "      <td>(0.762915253187, 0.0)</td>\n",
       "      <td>0.5820397</td>\n",
       "      <td>88.60524</td>\n",
       "    </tr>\n",
       "    <tr>\n",
       "      <th>983</th>\n",
       "      <td>(0, 1, 2, 4, 5, 6, 7, 9)</td>\n",
       "      <td>(0.769347976361, 0.0)</td>\n",
       "      <td>0.5918963</td>\n",
       "      <td>88.92805</td>\n",
       "    </tr>\n",
       "    <tr>\n",
       "      <th>984</th>\n",
       "      <td>(0, 1, 2, 4, 5, 6, 8, 9)</td>\n",
       "      <td>(0.783296919978, 0.0)</td>\n",
       "      <td>0.6135541</td>\n",
       "      <td>89.65473</td>\n",
       "    </tr>\n",
       "    <tr>\n",
       "      <th>985</th>\n",
       "      <td>(0, 1, 2, 4, 5, 7, 8, 9)</td>\n",
       "      <td>(0.755940900682, 0.0)</td>\n",
       "      <td>0.5714466</td>\n",
       "      <td>88.23697</td>\n",
       "    </tr>\n",
       "    <tr>\n",
       "      <th>986</th>\n",
       "      <td>(0, 1, 2, 4, 6, 7, 8, 9)</td>\n",
       "      <td>(0.721418859804, 0.0)</td>\n",
       "      <td>0.5204452</td>\n",
       "      <td>86.63974</td>\n",
       "    </tr>\n",
       "    <tr>\n",
       "      <th>987</th>\n",
       "      <td>(0, 1, 2, 5, 6, 7, 8, 9)</td>\n",
       "      <td>(0.743825815099, 0.0)</td>\n",
       "      <td>0.5532768</td>\n",
       "      <td>87.68272</td>\n",
       "    </tr>\n",
       "    <tr>\n",
       "      <th>988</th>\n",
       "      <td>(0, 1, 3, 4, 5, 6, 7, 8)</td>\n",
       "      <td>(0.76276423895, 0.0)</td>\n",
       "      <td>0.5818093</td>\n",
       "      <td>88.59885</td>\n",
       "    </tr>\n",
       "    <tr>\n",
       "      <th>989</th>\n",
       "      <td>(0, 1, 3, 4, 5, 6, 7, 9)</td>\n",
       "      <td>(0.769146885917, 0.0)</td>\n",
       "      <td>0.5915869</td>\n",
       "      <td>88.91787</td>\n",
       "    </tr>\n",
       "    <tr>\n",
       "      <th>990</th>\n",
       "      <td>(0, 1, 3, 4, 5, 6, 8, 9)</td>\n",
       "      <td>(0.783120556653, 0.0)</td>\n",
       "      <td>0.6132778</td>\n",
       "      <td>89.64591</td>\n",
       "    </tr>\n",
       "    <tr>\n",
       "      <th>991</th>\n",
       "      <td>(0, 1, 3, 4, 5, 7, 8, 9)</td>\n",
       "      <td>(0.755759550088, 0.0)</td>\n",
       "      <td>0.5711725</td>\n",
       "      <td>88.22856</td>\n",
       "    </tr>\n",
       "    <tr>\n",
       "      <th>992</th>\n",
       "      <td>(0, 1, 3, 4, 6, 7, 8, 9)</td>\n",
       "      <td>(0.721293725129, 0.0)</td>\n",
       "      <td>0.5202646</td>\n",
       "      <td>86.63605</td>\n",
       "    </tr>\n",
       "    <tr>\n",
       "      <th>993</th>\n",
       "      <td>(0, 1, 3, 5, 6, 7, 8, 9)</td>\n",
       "      <td>(0.743616463594, 0.0)</td>\n",
       "      <td>0.5529654</td>\n",
       "      <td>87.67269</td>\n",
       "    </tr>\n",
       "    <tr>\n",
       "      <th>994</th>\n",
       "      <td>(0, 1, 4, 5, 6, 7, 8, 9)</td>\n",
       "      <td>(0.787154978856, 0.0)</td>\n",
       "      <td>0.619613</td>\n",
       "      <td>89.85439</td>\n",
       "    </tr>\n",
       "    <tr>\n",
       "      <th>995</th>\n",
       "      <td>(0, 2, 3, 4, 5, 6, 7, 8)</td>\n",
       "      <td>(0.7389003782, 0.0)</td>\n",
       "      <td>0.5459738</td>\n",
       "      <td>87.41876</td>\n",
       "    </tr>\n",
       "    <tr>\n",
       "      <th>996</th>\n",
       "      <td>(0, 2, 3, 4, 5, 6, 7, 9)</td>\n",
       "      <td>(0.745612307155, 0.0)</td>\n",
       "      <td>0.5559377</td>\n",
       "      <td>87.7401</td>\n",
       "    </tr>\n",
       "    <tr>\n",
       "      <th>997</th>\n",
       "      <td>(0, 2, 3, 4, 5, 6, 8, 9)</td>\n",
       "      <td>(0.760010182601, 0.0)</td>\n",
       "      <td>0.5776155</td>\n",
       "      <td>88.45034</td>\n",
       "    </tr>\n",
       "    <tr>\n",
       "      <th>998</th>\n",
       "      <td>(0, 2, 3, 4, 5, 7, 8, 9)</td>\n",
       "      <td>(0.731774023105, 0.0)</td>\n",
       "      <td>0.5354932</td>\n",
       "      <td>87.06003</td>\n",
       "    </tr>\n",
       "    <tr>\n",
       "      <th>999</th>\n",
       "      <td>(0, 2, 3, 4, 6, 7, 8, 9)</td>\n",
       "      <td>(0.696012227584, 0.0)</td>\n",
       "      <td>0.484433</td>\n",
       "      <td>85.47573</td>\n",
       "    </tr>\n",
       "    <tr>\n",
       "      <th>1000</th>\n",
       "      <td>(0, 2, 3, 5, 6, 7, 8, 9)</td>\n",
       "      <td>(0.718940025853, 0.0)</td>\n",
       "      <td>0.5168748</td>\n",
       "      <td>86.49411</td>\n",
       "    </tr>\n",
       "    <tr>\n",
       "      <th>1001</th>\n",
       "      <td>(0, 2, 4, 5, 6, 7, 8, 9)</td>\n",
       "      <td>(0.7641745831, 0.0)</td>\n",
       "      <td>0.5839628</td>\n",
       "      <td>88.65296</td>\n",
       "    </tr>\n",
       "    <tr>\n",
       "      <th>1002</th>\n",
       "      <td>(0, 3, 4, 5, 6, 7, 8, 9)</td>\n",
       "      <td>(0.763962029216, 0.0)</td>\n",
       "      <td>0.583638</td>\n",
       "      <td>88.64209</td>\n",
       "    </tr>\n",
       "    <tr>\n",
       "      <th>1005</th>\n",
       "      <td>(1, 2, 3, 4, 5, 6, 8, 9)</td>\n",
       "      <td>(0.569933787975, 0.0)</td>\n",
       "      <td>0.3248245</td>\n",
       "      <td>80.07604</td>\n",
       "    </tr>\n",
       "    <tr>\n",
       "      <th>1009</th>\n",
       "      <td>(1, 2, 4, 5, 6, 7, 8, 9)</td>\n",
       "      <td>(0.575732986146, 0.0)</td>\n",
       "      <td>0.3314685</td>\n",
       "      <td>80.31413</td>\n",
       "    </tr>\n",
       "    <tr>\n",
       "      <th>1010</th>\n",
       "      <td>(1, 3, 4, 5, 6, 7, 8, 9)</td>\n",
       "      <td>(0.575456021705, 0.0)</td>\n",
       "      <td>0.3311496</td>\n",
       "      <td>80.30242</td>\n",
       "    </tr>\n",
       "    <tr>\n",
       "      <th>1012</th>\n",
       "      <td>(0, 1, 2, 3, 4, 5, 6, 7, 8)</td>\n",
       "      <td>(0.763549410994, 0.0)</td>\n",
       "      <td>0.5830077</td>\n",
       "      <td>98.53374</td>\n",
       "    </tr>\n",
       "    <tr>\n",
       "      <th>1013</th>\n",
       "      <td>(0, 1, 2, 3, 4, 5, 6, 7, 9)</td>\n",
       "      <td>(0.769949084576, 0.0)</td>\n",
       "      <td>0.5928216</td>\n",
       "      <td>98.89486</td>\n",
       "    </tr>\n",
       "    <tr>\n",
       "      <th>1014</th>\n",
       "      <td>(0, 1, 2, 3, 4, 5, 6, 8, 9)</td>\n",
       "      <td>(0.783878534354, 0.0)</td>\n",
       "      <td>0.6144656</td>\n",
       "      <td>99.71223</td>\n",
       "    </tr>\n",
       "    <tr>\n",
       "      <th>1015</th>\n",
       "      <td>(0, 1, 2, 3, 4, 5, 7, 8, 9)</td>\n",
       "      <td>(0.756521194957, 0.0)</td>\n",
       "      <td>0.5723243</td>\n",
       "      <td>98.11446</td>\n",
       "    </tr>\n",
       "    <tr>\n",
       "      <th>1016</th>\n",
       "      <td>(0, 1, 2, 3, 4, 6, 7, 8, 9)</td>\n",
       "      <td>(0.722093913309, 0.0)</td>\n",
       "      <td>0.5214196</td>\n",
       "      <td>96.32217</td>\n",
       "    </tr>\n",
       "    <tr>\n",
       "      <th>1017</th>\n",
       "      <td>(0, 1, 2, 3, 5, 6, 7, 8, 9)</td>\n",
       "      <td>(0.744425917302, 0.0)</td>\n",
       "      <td>0.5541699</td>\n",
       "      <td>97.49142</td>\n",
       "    </tr>\n",
       "    <tr>\n",
       "      <th>1018</th>\n",
       "      <td>(0, 1, 2, 4, 5, 6, 7, 8, 9)</td>\n",
       "      <td>(0.787909844148, 0.0)</td>\n",
       "      <td>0.6208019</td>\n",
       "      <td>99.94712</td>\n",
       "    </tr>\n",
       "    <tr>\n",
       "      <th>1019</th>\n",
       "      <td>(0, 1, 3, 4, 5, 6, 7, 8, 9)</td>\n",
       "      <td>(0.787736465473, 0.0)</td>\n",
       "      <td>0.6205287</td>\n",
       "      <td>99.93728</td>\n",
       "    </tr>\n",
       "    <tr>\n",
       "      <th>1020</th>\n",
       "      <td>(0, 2, 3, 4, 5, 6, 7, 8, 9)</td>\n",
       "      <td>(0.764767967026, 0.0)</td>\n",
       "      <td>0.58487</td>\n",
       "      <td>98.58426</td>\n",
       "    </tr>\n",
       "    <tr>\n",
       "      <th>1021</th>\n",
       "      <td>(1, 2, 3, 4, 5, 6, 7, 8, 9)</td>\n",
       "      <td>(0.576487875945, 0.0)</td>\n",
       "      <td>0.3323383</td>\n",
       "      <td>89.20463</td>\n",
       "    </tr>\n",
       "    <tr>\n",
       "      <th>1022</th>\n",
       "      <td>(0, 1, 2, 3, 4, 5, 6, 7, 8, 9)</td>\n",
       "      <td>(0.788496527779, 0.0)</td>\n",
       "      <td>0.6217268</td>\n",
       "      <td>109.9284</td>\n",
       "    </tr>\n",
       "  </tbody>\n",
       "</table>\n",
       "</div>"
      ],
      "text/plain": [
       "                                Maps            Pearson's r  R squared  \\\n",
       "967         (0, 1, 2, 3, 4, 5, 6, 7)  (0.744381634757, 0.0)   0.554104   \n",
       "968         (0, 1, 2, 3, 4, 5, 6, 8)  (0.758754233113, 0.0)   0.575708   \n",
       "969         (0, 1, 2, 3, 4, 5, 6, 9)  (0.765191746935, 0.0)  0.5855184   \n",
       "970         (0, 1, 2, 3, 4, 5, 7, 8)  (0.730458652025, 0.0)  0.5335698   \n",
       "971         (0, 1, 2, 3, 4, 5, 7, 9)  (0.737254960237, 0.0)  0.5435449   \n",
       "972         (0, 1, 2, 3, 4, 5, 8, 9)  (0.751652139435, 0.0)  0.5649809   \n",
       "973         (0, 1, 2, 3, 4, 6, 7, 8)  (0.694676824703, 0.0)  0.4825759   \n",
       "974         (0, 1, 2, 3, 4, 6, 7, 9)  (0.701955794978, 0.0)  0.4927419   \n",
       "975         (0, 1, 2, 3, 4, 6, 8, 9)  (0.717053192948, 0.0)  0.5141653   \n",
       "976         (0, 1, 2, 3, 4, 7, 8, 9)  (0.686950767382, 0.0)  0.4719014   \n",
       "977         (0, 1, 2, 3, 5, 6, 7, 8)  (0.717873723834, 0.0)  0.5153427   \n",
       "978         (0, 1, 2, 3, 5, 6, 7, 9)  (0.724768470087, 0.0)  0.5252893   \n",
       "979         (0, 1, 2, 3, 5, 6, 8, 9)  (0.739531826651, 0.0)  0.5469073   \n",
       "980         (0, 1, 2, 3, 5, 7, 8, 9)  (0.710426473617, 0.0)  0.5047058   \n",
       "981         (0, 1, 2, 3, 6, 7, 8, 9)  (0.673110187887, 0.0)  0.4530773   \n",
       "982         (0, 1, 2, 4, 5, 6, 7, 8)  (0.762915253187, 0.0)  0.5820397   \n",
       "983         (0, 1, 2, 4, 5, 6, 7, 9)  (0.769347976361, 0.0)  0.5918963   \n",
       "984         (0, 1, 2, 4, 5, 6, 8, 9)  (0.783296919978, 0.0)  0.6135541   \n",
       "985         (0, 1, 2, 4, 5, 7, 8, 9)  (0.755940900682, 0.0)  0.5714466   \n",
       "986         (0, 1, 2, 4, 6, 7, 8, 9)  (0.721418859804, 0.0)  0.5204452   \n",
       "987         (0, 1, 2, 5, 6, 7, 8, 9)  (0.743825815099, 0.0)  0.5532768   \n",
       "988         (0, 1, 3, 4, 5, 6, 7, 8)   (0.76276423895, 0.0)  0.5818093   \n",
       "989         (0, 1, 3, 4, 5, 6, 7, 9)  (0.769146885917, 0.0)  0.5915869   \n",
       "990         (0, 1, 3, 4, 5, 6, 8, 9)  (0.783120556653, 0.0)  0.6132778   \n",
       "991         (0, 1, 3, 4, 5, 7, 8, 9)  (0.755759550088, 0.0)  0.5711725   \n",
       "992         (0, 1, 3, 4, 6, 7, 8, 9)  (0.721293725129, 0.0)  0.5202646   \n",
       "993         (0, 1, 3, 5, 6, 7, 8, 9)  (0.743616463594, 0.0)  0.5529654   \n",
       "994         (0, 1, 4, 5, 6, 7, 8, 9)  (0.787154978856, 0.0)   0.619613   \n",
       "995         (0, 2, 3, 4, 5, 6, 7, 8)    (0.7389003782, 0.0)  0.5459738   \n",
       "996         (0, 2, 3, 4, 5, 6, 7, 9)  (0.745612307155, 0.0)  0.5559377   \n",
       "997         (0, 2, 3, 4, 5, 6, 8, 9)  (0.760010182601, 0.0)  0.5776155   \n",
       "998         (0, 2, 3, 4, 5, 7, 8, 9)  (0.731774023105, 0.0)  0.5354932   \n",
       "999         (0, 2, 3, 4, 6, 7, 8, 9)  (0.696012227584, 0.0)   0.484433   \n",
       "1000        (0, 2, 3, 5, 6, 7, 8, 9)  (0.718940025853, 0.0)  0.5168748   \n",
       "1001        (0, 2, 4, 5, 6, 7, 8, 9)    (0.7641745831, 0.0)  0.5839628   \n",
       "1002        (0, 3, 4, 5, 6, 7, 8, 9)  (0.763962029216, 0.0)   0.583638   \n",
       "1005        (1, 2, 3, 4, 5, 6, 8, 9)  (0.569933787975, 0.0)  0.3248245   \n",
       "1009        (1, 2, 4, 5, 6, 7, 8, 9)  (0.575732986146, 0.0)  0.3314685   \n",
       "1010        (1, 3, 4, 5, 6, 7, 8, 9)  (0.575456021705, 0.0)  0.3311496   \n",
       "1012     (0, 1, 2, 3, 4, 5, 6, 7, 8)  (0.763549410994, 0.0)  0.5830077   \n",
       "1013     (0, 1, 2, 3, 4, 5, 6, 7, 9)  (0.769949084576, 0.0)  0.5928216   \n",
       "1014     (0, 1, 2, 3, 4, 5, 6, 8, 9)  (0.783878534354, 0.0)  0.6144656   \n",
       "1015     (0, 1, 2, 3, 4, 5, 7, 8, 9)  (0.756521194957, 0.0)  0.5723243   \n",
       "1016     (0, 1, 2, 3, 4, 6, 7, 8, 9)  (0.722093913309, 0.0)  0.5214196   \n",
       "1017     (0, 1, 2, 3, 5, 6, 7, 8, 9)  (0.744425917302, 0.0)  0.5541699   \n",
       "1018     (0, 1, 2, 4, 5, 6, 7, 8, 9)  (0.787909844148, 0.0)  0.6208019   \n",
       "1019     (0, 1, 3, 4, 5, 6, 7, 8, 9)  (0.787736465473, 0.0)  0.6205287   \n",
       "1020     (0, 2, 3, 4, 5, 6, 7, 8, 9)  (0.764767967026, 0.0)    0.58487   \n",
       "1021     (1, 2, 3, 4, 5, 6, 7, 8, 9)  (0.576487875945, 0.0)  0.3323383   \n",
       "1022  (0, 1, 2, 3, 4, 5, 6, 7, 8, 9)  (0.788496527779, 0.0)  0.6217268   \n",
       "\n",
       "           BIC  \n",
       "967   87.69841  \n",
       "968   88.40385  \n",
       "969   88.72294  \n",
       "970   87.01511  \n",
       "971   87.33559  \n",
       "972   88.03047  \n",
       "973    85.4363  \n",
       "974   85.76297  \n",
       "975   86.44683  \n",
       "976   85.06785  \n",
       "977    86.4688  \n",
       "978   86.78576  \n",
       "979   87.48312  \n",
       "980   86.10411  \n",
       "981   84.49644  \n",
       "982   88.60524  \n",
       "983   88.92805  \n",
       "984   89.65473  \n",
       "985   88.23697  \n",
       "986   86.63974  \n",
       "987   87.68272  \n",
       "988   88.59885  \n",
       "989   88.91787  \n",
       "990   89.64591  \n",
       "991   88.22856  \n",
       "992   86.63605  \n",
       "993   87.67269  \n",
       "994   89.85439  \n",
       "995   87.41876  \n",
       "996    87.7401  \n",
       "997   88.45034  \n",
       "998   87.06003  \n",
       "999   85.47573  \n",
       "1000  86.49411  \n",
       "1001  88.65296  \n",
       "1002  88.64209  \n",
       "1005  80.07604  \n",
       "1009  80.31413  \n",
       "1010  80.30242  \n",
       "1012  98.53374  \n",
       "1013  98.89486  \n",
       "1014  99.71223  \n",
       "1015  98.11446  \n",
       "1016  96.32217  \n",
       "1017  97.49142  \n",
       "1018  99.94712  \n",
       "1019  99.93728  \n",
       "1020  98.58426  \n",
       "1021  89.20463  \n",
       "1022  109.9284  "
      ]
     },
     "execution_count": 111,
     "metadata": {},
     "output_type": "execute_result"
    }
   ],
   "source": [
    "df.iloc[np.where(df['BIC']>80)]"
   ]
  },
  {
   "cell_type": "code",
   "execution_count": 90,
   "metadata": {
    "collapsed": false
   },
   "outputs": [
    {
     "data": {
      "text/plain": [
       "Maps                                           (3,)\n",
       "Pearson's r    (0.0290484147859, 6.11279139765e-24)\n",
       "R squared                              0.0008438104\n",
       "BIC                                        18.24924\n",
       "Name: 3, dtype: object"
      ]
     },
     "execution_count": 90,
     "metadata": {},
     "output_type": "execute_result"
    }
   ],
   "source": [
    "df.iloc[np.argmin(df[\"BIC\"])]"
   ]
  },
  {
   "cell_type": "code",
   "execution_count": 91,
   "metadata": {
    "collapsed": false
   },
   "outputs": [
    {
     "data": {
      "text/plain": [
       "[<matplotlib.lines.Line2D at 0x7f79b7261a50>]"
      ]
     },
     "execution_count": 91,
     "metadata": {},
     "output_type": "execute_result"
    },
    {
     "data": {
      "image/png": "[encoded data removed]",
      "text/plain": [
       "<matplotlib.figure.Figure at 0x7f79b72e5990>"
      ]
     },
     "metadata": {},
     "output_type": "display_data"
    }
   ],
   "source": [
    "import seaborn as sns\n",
    "fig = plt.figure(figsize=(20,10))\n",
    "plt.plot(df[\"BIC\"])\n",
    "plt.plot([len(df['Maps'][i]) for i in range(len(df['Maps']))])"
   ]
  },
  {
   "cell_type": "code",
   "execution_count": null,
   "metadata": {
    "collapsed": true
   },
   "outputs": [],
   "source": []
  },
  {
   "cell_type": "code",
   "execution_count": null,
   "metadata": {
    "collapsed": true
   },
   "outputs": [],
   "source": []
  },
  {
   "cell_type": "code",
   "execution_count": null,
   "metadata": {
    "collapsed": true
   },
   "outputs": [],
   "source": []
  },
  {
   "cell_type": "code",
   "execution_count": null,
   "metadata": {
    "collapsed": true
   },
   "outputs": [],
   "source": []
  },
  {
   "cell_type": "markdown",
   "metadata": {},
   "source": [
    "### Schwartz weights"
   ]
  },
  {
   "cell_type": "markdown",
   "metadata": {},
   "source": [
    "schwartz[i] can be interpreted as the probability that i is the best model ( in the BIC sense, ie the true generating model is beyond the candidate models, hence schwartz[i] is the probability for i to be the true generating model)"
   ]
  },
  {
   "cell_type": "code",
   "execution_count": 51,
   "metadata": {
    "collapsed": true
   },
   "outputs": [],
   "source": [
    "def Schwartz(bic_all):\n",
    "    \n",
    "    best = bic_all[np.argmin(bic_all)]\n",
    "    schwartz = []\n",
    "    \n",
    "    for model in bic_all:\n",
    "        bic_diff = model - best\n",
    "        schwartz.append(np.exp(-bic_diff/2.))\n",
    "    \n",
    "    schwartz = schwartz / np.sum(schwartz)\n",
    "    \n",
    "    return schwartz\n",
    "    "
   ]
  },
  {
   "cell_type": "markdown",
   "metadata": {},
   "source": [
    "### Evidence ration of Schwartz weights\n",
    "expressing how many times more likely model i is than model j\n",
    "resp. normalized probability that i is preferred over j"
   ]
  },
  {
   "cell_type": "raw",
   "metadata": {
    "collapsed": true
   },
   "source": [
    "evidence = schwartz[i]/schwartz[j]\n",
    "norm_evidence = schwartz[i] / (schwartz[i]+schwartz[j])"
   ]
  }
 ],
 "metadata": {
  "kernelspec": {
   "display_name": "Python 2",
   "language": "python",
   "name": "python2"
  },
  "language_info": {
   "codemirror_mode": {
    "name": "ipython",
    "version": 2
   },
   "file_extension": ".py",
   "mimetype": "text/x-python",
   "name": "python",
   "nbconvert_exporter": "python",
   "pygments_lexer": "ipython2",
   "version": "2.7.11"
  }
 },
 "nbformat": 4,
 "nbformat_minor": 0
}
