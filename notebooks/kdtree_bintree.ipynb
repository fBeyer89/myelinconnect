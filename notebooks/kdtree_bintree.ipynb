{
 "cells": [
  {
   "cell_type": "code",
   "execution_count": 1,
   "metadata": {
    "collapsed": false
   },
   "outputs": [],
   "source": [
    "import numpy as np\n",
    "from __future__ import division\n",
    "import scipy.spatial as spatial\n",
    "from vtk_rw import read_vtk\n",
    "import sys\n",
    "from bintrees import FastAVLTree"
   ]
  },
  {
   "cell_type": "code",
   "execution_count": 2,
   "metadata": {
    "collapsed": false
   },
   "outputs": [],
   "source": [
    "# load the meshes\n",
    "complex_v,complex_f, complex_d = read_vtk('/scr/ilz3/myelinconnect/struct/surf_lh/orig/mid_surface/BP4T_lh_mid.vtk')"
   ]
  },
  {
   "cell_type": "code",
   "execution_count": 3,
   "metadata": {
    "collapsed": true
   },
   "outputs": [],
   "source": [
    "simple_v, simple_f, simple_d = read_vtk('/scr/ilz3/myelinconnect/groupavg/indv_space/BP4T/lowres_lh_d_def.vtk')"
   ]
  },
  {
   "cell_type": "markdown",
   "metadata": {},
   "source": [
    "## Map simple to complex mesh"
   ]
  },
  {
   "cell_type": "code",
   "execution_count": 4,
   "metadata": {
    "collapsed": true
   },
   "outputs": [],
   "source": [
    "# find those points on the individuals complex mesh that correspond best to the simplified group mesh in subject space\n",
    "inaccuracy, mapping = spatial.KDTree(complex_v).query(simple_v)"
   ]
  },
  {
   "cell_type": "code",
   "execution_count": 5,
   "metadata": {
    "collapsed": false
   },
   "outputs": [],
   "source": [
    "# find coordinates of those points in the highres mesh\n",
    "voronoi_seed_idx = mapping\n",
    "voronoi_seed_coord = complex_v[mapping]"
   ]
  },
  {
   "cell_type": "code",
   "execution_count": 6,
   "metadata": {
    "collapsed": false
   },
   "outputs": [],
   "source": [
    "# double check differences\n",
    "dist = np.linalg.norm((voronoi_seed_coord - simple_v), axis=1)\n",
    "if any(dist != inaccuracy):\n",
    "    sys.exit(\"simple to complex mesh mapping not correct\")"
   ]
  },
  {
   "cell_type": "markdown",
   "metadata": {},
   "source": [
    "## Convert highres mesh into graph containing edge length"
   ]
  },
  {
   "cell_type": "code",
   "execution_count": 7,
   "metadata": {
    "collapsed": true
   },
   "outputs": [],
   "source": [
    "def graph_from_mesh(nodes, triangles, node_coords= False, edge_length=False):\n",
    "    import networkx as nx\n",
    "    \n",
    "    # initiate empty graph\n",
    "    G=nx.Graph()\n",
    "    \n",
    "    # add node indices\n",
    "    G.add_nodes_from(range(len(nodes)))\n",
    "    \n",
    "    # add edges\n",
    "    G.add_edges_from(triangles[:,[0,1]])\n",
    "    G.add_edges_from(triangles[:,[0,2]])\n",
    "    G.add_edges_from(triangles[:,[1,2]])\n",
    "    \n",
    "    # caution! this adds a key 'coords' to the node\n",
    "    # which will also be picked up by .neighbors methods\n",
    "    if node_coords:\n",
    "        for n in G.nodes_iter():\n",
    "            G[n]['coords']=nodes[n]\n",
    "    \n",
    "    if edge_length:\n",
    "        for e in G.edges_iter():\n",
    "            G[e[0]][e[1]]['length']=np.linalg.norm(nodes[e[0]]-nodes[e[1]])\n",
    "\n",
    "    return G"
   ]
  },
  {
   "cell_type": "code",
   "execution_count": 8,
   "metadata": {
    "collapsed": false
   },
   "outputs": [],
   "source": [
    "complex_graph = graph_from_mesh(complex_v, complex_f, edge_length=True)"
   ]
  },
  {
   "cell_type": "markdown",
   "metadata": {},
   "source": [
    "## Initiate labelling"
   ]
  },
  {
   "cell_type": "code",
   "execution_count": 49,
   "metadata": {
    "collapsed": false
   },
   "outputs": [],
   "source": [
    "# make a labelling container to be filled with the search tree\n",
    "# first column are the vertex indices of the complex mesh\n",
    "# second column are the labels from the simple mesh (-1 for all but the corresponding points for now)\n",
    "labelling = np.zeros((complex_v.shape[0],2), dtype='int64')-1\n",
    "labelling[:,0] = range(complex_v.shape[0])\n",
    "\n",
    "for i in range(voronoi_seed_idx.shape[0]):\n",
    "    labelling[voronoi_seed_idx[i]][1] = i"
   ]
  },
  {
   "cell_type": "markdown",
   "metadata": {},
   "source": [
    "## Initiate AVLTree for binary search"
   ]
  },
  {
   "cell_type": "code",
   "execution_count": 50,
   "metadata": {
    "collapsed": true
   },
   "outputs": [],
   "source": [
    "# build the binary tree\n",
    "# binary search trees: https://en.wikipedia.org/wiki/Binary_search_tree\n",
    "# balanced binary trees: https://en.wikipedia.org/wiki/AVL_tree, \n",
    "# using them as heaps: http://samueldotj.com/blog/?s=binary+tree\n",
    "# implementation used: https://pypi.python.org/pypi/bintrees/2.0.2 (cython implementation)\n",
    "tree = FastAVLTree()\n",
    "# organisation of the tree will be\n",
    "# key: edge length\n",
    "# value: tuple of vertices (source, target)"
   ]
  },
  {
   "cell_type": "code",
   "execution_count": 51,
   "metadata": {
    "collapsed": false
   },
   "outputs": [],
   "source": [
    "# function to find unlabelled neighbours of a node in the graph and add them to the tree correctly\n",
    "def add_neighbours(node, graph, labels, tree):\n",
    "\n",
    "    # find direct neighbours of the node\n",
    "    neighbours = np.array(graph.neighbors(node))\n",
    "    \n",
    "    # check that they don't already have a label\n",
    "    unlabelled = neighbours[np.where(labels[neighbours][:,1]==-1)[0]]\n",
    "    \n",
    "    # insert source neighbour pair with edge length to tree\n",
    "    for u in unlabelled:\n",
    "        tree.insert(graph[node][u]['length'],(node, u))\n",
    "    \n",
    "    return tree"
   ]
  },
  {
   "cell_type": "code",
   "execution_count": 52,
   "metadata": {
    "collapsed": false
   },
   "outputs": [],
   "source": [
    "# find all neighbours of the voronoi seeds\n",
    "for v in voronoi_seed_idx:\n",
    "    add_neighbours(v, complex_graph, labelling, tree)"
   ]
  },
  {
   "cell_type": "markdown",
   "metadata": {},
   "source": [
    "## Competetive fast marching"
   ]
  },
  {
   "cell_type": "code",
   "execution_count": null,
   "metadata": {
    "collapsed": false,
    "scrolled": true
   },
   "outputs": [],
   "source": [
    "%%time\n",
    "while any(labelling[:,1]==-1):\n",
    "    \n",
    "    while tree.count > 0:\n",
    "        # pop the item with minimum edge length\n",
    "        min_item = tree.pop_min()\n",
    "        source = min_item[1][0]\n",
    "        target = min_item[1][1]\n",
    "\n",
    "        #if target no label yet (but source does!), assign label of source\n",
    "        if labelling[target][1] == -1:\n",
    "            if labelling[source][1] == -1:\n",
    "                sys.exit('Source has no label, something went wrong!')\n",
    "            else:\n",
    "                # assign label of source to target\n",
    "                labelling[target][1] = labelling[source][1]\n",
    "\n",
    "        # add neighbours of target to tree\n",
    "        add_neighbours(target, complex_graph, labelling, tree)"
   ]
  },
  {
   "cell_type": "code",
   "execution_count": 22,
   "metadata": {
    "collapsed": false
   },
   "outputs": [],
   "source": [
    "from vtk_rw import write_vtk"
   ]
  },
  {
   "cell_type": "code",
   "execution_count": 31,
   "metadata": {
    "collapsed": false
   },
   "outputs": [],
   "source": [
    "write_vtk('/scr/ilz3/myelinconnect/groupavg/indv_space/BP4T/labelling_lh.vtk', complex_v, complex_f, data=labelling[:,1, np.newaxis])"
   ]
  },
  {
   "cell_type": "code",
   "execution_count": null,
   "metadata": {
    "collapsed": true
   },
   "outputs": [],
   "source": []
  }
 ],
 "metadata": {
  "kernelspec": {
   "display_name": "Python 2",
   "language": "python",
   "name": "python2"
  },
  "language_info": {
   "codemirror_mode": {
    "name": "ipython",
    "version": 2
   },
   "file_extension": ".py",
   "mimetype": "text/x-python",
   "name": "python",
   "nbconvert_exporter": "python",
   "pygments_lexer": "ipython2",
   "version": "2.7.3"
  }
 },
 "nbformat": 4,
 "nbformat_minor": 0
}
