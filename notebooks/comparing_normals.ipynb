{
 "cells": [
  {
   "cell_type": "code",
   "execution_count": 1,
   "metadata": {
    "collapsed": true
   },
   "outputs": [],
   "source": [
    "%matplotlib inline"
   ]
  },
  {
   "cell_type": "code",
   "execution_count": 2,
   "metadata": {
    "collapsed": false
   },
   "outputs": [
    {
     "name": "stderr",
     "output_type": "stream",
     "text": [
      "/home/raid3/huntenburg/workspace/anaconda2/envs/myelinconnect/lib/python2.7/site-packages/IPython/html.py:14: ShimWarning: The `IPython.html` package has been deprecated. You should import from `notebook` instead. `IPython.html.widgets` has moved to `ipywidgets`.\n",
      "  \"`IPython.html.widgets` has moved to `ipywidgets`.\", ShimWarning)\n"
     ]
    }
   ],
   "source": [
    "from __future__ import division\n",
    "import numpy as np\n",
    "import pandas as pd\n",
    "import matplotlib.pyplot as plt\n",
    "from vtk_rw import read_vtk\n",
    "import seaborn as sns"
   ]
  },
  {
   "cell_type": "markdown",
   "metadata": {},
   "source": [
    "### calculated from mesh"
   ]
  },
  {
   "cell_type": "markdown",
   "metadata": {},
   "source": [
    "https://sites.google.com/site/dlampetest/python/calculating-normals-of-a-triangle-mesh-using-numpy"
   ]
  },
  {
   "cell_type": "code",
   "execution_count": 3,
   "metadata": {
    "collapsed": true
   },
   "outputs": [],
   "source": [
    "def calculate_normals(vertices, faces):\n",
    "    \n",
    "    triangles = vertices[faces]\n",
    "    face_normals = np.cross( triangles[::,1 ] - triangles[::,0]  , triangles[::,2 ] - triangles[::,0] )\n",
    "    #face_normals /= np.linalg.norm(face_normals, axis=1)[:,np.newaxis]\n",
    "    face_normals /= 2 # weighting by surface area of the triangle, which is half the length of the normal\n",
    "    \n",
    "    vertex_normals = np.zeros(vertices.shape, dtype=vertices.dtype )\n",
    "    vertex_normals[faces[:,0]] += face_normals\n",
    "    vertex_normals[faces[:,1]] += face_normals\n",
    "    vertex_normals[faces[:,2]] += face_normals\n",
    "    vertex_normals /= np.linalg.norm(vertex_normals, axis=1)[:,np.newaxis]\n",
    "    \n",
    "    return vertex_normals"
   ]
  },
  {
   "cell_type": "markdown",
   "metadata": {},
   "source": [
    "### from meshlab in object file"
   ]
  },
  {
   "cell_type": "code",
   "execution_count": 4,
   "metadata": {
    "collapsed": false
   },
   "outputs": [],
   "source": [
    "def read_obj(obj_file):\n",
    "    obj_df=pd.read_csv(obj_file, header=None, engine='python', comment='#', sep=' ')\n",
    "    obj_df=obj_df.dropna()\n",
    "\n",
    "    vertex_df = obj_df.loc[np.where(obj_df[0] == 'v')[0]][[1,2,3]]\n",
    "    vertex_array = np.asarray(vertex_df, dtype='float')\n",
    "\n",
    "    if 'vn' in list(obj_df[0]):\n",
    "        normals_df = obj_df.loc[np.where(obj_df[0] == 'vn')[0]][[1,2,3]]\n",
    "        normals_array = np.asarray(normals_df, dtype='float')\n",
    "    else:\n",
    "        normals_array = np.empty(0)\n",
    "\n",
    "    faces_df = obj_df.loc[np.where(obj_df[0] == 'f')[0]][[1,2,3]]\n",
    "    faces_array = np.asarray(faces_df).copy()\n",
    "    for i in range(faces_array.shape[0]):\n",
    "        for j in range(faces_array.shape[1]):\n",
    "            faces_array[i][j]=int(faces_array[i][j].split('//')[0])\n",
    "    faces_array = np.asarray(faces_array, dtype='int64')-1\n",
    "    \n",
    "    return vertex_array, faces_array, normals_array"
   ]
  },
  {
   "cell_type": "markdown",
   "metadata": {},
   "source": [
    "### comparing normals"
   ]
  },
  {
   "cell_type": "code",
   "execution_count": 5,
   "metadata": {
    "collapsed": false
   },
   "outputs": [],
   "source": [
    "def compare_normals(normals_a, normals_b):\n",
    "    diff_rad = np.zeros((normals_a.shape[0],))\n",
    "    for i in range(normals_a.shape[0]):\n",
    "        diff_rad[i] = np.arccos(np.dot(normals_a[i], normals_b[i]))\n",
    "    \n",
    "    diff_deg = diff_rad  * (180/np.pi)\n",
    "    return diff_rad, diff_deg"
   ]
  },
  {
   "cell_type": "code",
   "execution_count": 6,
   "metadata": {
    "collapsed": false
   },
   "outputs": [],
   "source": [
    "simple_v, simple_f, obj_simple_normals = read_obj('/scr/ilz3/myelinconnect/groupavg/indv_space/BP4T/lowres_rh_d_def.obj')"
   ]
  },
  {
   "cell_type": "code",
   "execution_count": 7,
   "metadata": {
    "collapsed": false
   },
   "outputs": [],
   "source": [
    "calc_simple_normals = calculate_normals(simple_v, simple_f)"
   ]
  },
  {
   "cell_type": "code",
   "execution_count": 8,
   "metadata": {
    "collapsed": true
   },
   "outputs": [],
   "source": [
    "complex_v, complex_f, obj_complex_normals = read_obj('/scr/ilz3/myelinconnect/struct/surf_rh/orig/mid_surface/BP4T_rh_mid.obj')"
   ]
  },
  {
   "cell_type": "code",
   "execution_count": 16,
   "metadata": {
    "collapsed": true
   },
   "outputs": [],
   "source": [
    "calc_complex_normals = calculate_normals(complex_v, complex_f)"
   ]
  },
  {
   "cell_type": "code",
   "execution_count": 17,
   "metadata": {
    "collapsed": true
   },
   "outputs": [],
   "source": [
    "mapping = np.load('/scr/ilz3/myelinconnect/all_data_on_simple_surf/seeds/BP4T_rh_highres2lowres_seeds.npy')"
   ]
  },
  {
   "cell_type": "code",
   "execution_count": 18,
   "metadata": {
    "collapsed": false
   },
   "outputs": [],
   "source": [
    "obj_diff_rad, obj_diff_deg = compare_normals(obj_simple_normals, obj_complex_normals[mapping])"
   ]
  },
  {
   "cell_type": "code",
   "execution_count": 19,
   "metadata": {
    "collapsed": true
   },
   "outputs": [],
   "source": [
    "calc_diff_rad, calc_diff_deg = compare_normals(calc_simple_normals, calc_complex_normals[mapping])"
   ]
  },
  {
   "cell_type": "code",
   "execution_count": 20,
   "metadata": {
    "collapsed": false
   },
   "outputs": [
    {
     "data": {
      "image/png": "[encoded data removed]",
      "text/plain": [
       "<matplotlib.figure.Figure at 0x7f41eaed0490>"
      ]
     },
     "metadata": {},
     "output_type": "display_data"
    }
   ],
   "source": [
    "plt.hist(np.nan_to_num(obj_diff_deg), bins=20, alpha=0.8);\n",
    "plt.hist(np.nan_to_num(calc_diff_deg), bins=20, alpha=0.3, color='darkred');"
   ]
  },
  {
   "cell_type": "code",
   "execution_count": 21,
   "metadata": {
    "collapsed": false
   },
   "outputs": [
    {
     "data": {
      "image/png": "[encoded data removed]",
      "text/plain": [
       "<matplotlib.figure.Figure at 0x7f41b079ff10>"
      ]
     },
     "metadata": {},
     "output_type": "display_data"
    }
   ],
   "source": [
    "plt.hist(np.nan_to_num(obj_diff_rad), bins=20, alpha=0.8);\n",
    "plt.hist(np.nan_to_num(calc_diff_rad), bins=20, alpha=0.3, color='darkred');"
   ]
  },
  {
   "cell_type": "code",
   "execution_count": 22,
   "metadata": {
    "collapsed": false
   },
   "outputs": [],
   "source": [
    "simple_calc_vs_obj_rad, simple_calc_vs_obj_deg = compare_normals(obj_simple_normals, calc_simple_normals)"
   ]
  },
  {
   "cell_type": "code",
   "execution_count": 23,
   "metadata": {
    "collapsed": true
   },
   "outputs": [],
   "source": [
    "complex_calc_vs_obj_rad, complex_calc_vs_obj_deg = compare_normals(obj_complex_normals, calc_complex_normals)"
   ]
  },
  {
   "cell_type": "code",
   "execution_count": 24,
   "metadata": {
    "collapsed": false
   },
   "outputs": [
    {
     "data": {
      "image/png": "[encoded data removed]",
      "text/plain": [
       "<matplotlib.figure.Figure at 0x7f41e4f18fd0>"
      ]
     },
     "metadata": {},
     "output_type": "display_data"
    }
   ],
   "source": [
    "plt.hist(np.nan_to_num(simple_calc_vs_obj_deg), bins=20);"
   ]
  },
  {
   "cell_type": "code",
   "execution_count": 25,
   "metadata": {
    "collapsed": false
   },
   "outputs": [
    {
     "data": {
      "image/png": "[encoded data removed]",
      "text/plain": [
       "<matplotlib.figure.Figure at 0x7f41ebde5f50>"
      ]
     },
     "metadata": {},
     "output_type": "display_data"
    }
   ],
   "source": [
    "plt.hist(np.nan_to_num(complex_calc_vs_obj_deg), bins=20);"
   ]
  },
  {
   "cell_type": "markdown",
   "metadata": {
    "collapsed": true
   },
   "source": [
    "### updating voronoi function to take into account normals"
   ]
  },
  {
   "cell_type": "code",
   "execution_count": null,
   "metadata": {
    "collapsed": true
   },
   "outputs": [],
   "source": [
    "def find_voronoi_seeds(simple_vertices, complex_vertices):\n",
    "    '''\n",
    "    Finds those points on the complex mesh that correspoind best to the\n",
    "    simple mesh while forcing a one-to-one mapping\n",
    "    '''\n",
    "    import numpy as np\n",
    "    import scipy.spatial as spatial\n",
    "    # make array for writing in final voronoi seed indices\n",
    "    voronoi_seed_idx = np.zeros((simple_vertices.shape[0],), dtype='int64')-1\n",
    "    missing = np.where(voronoi_seed_idx==-1)[0].shape[0]\n",
    "    mapping_single = np.zeros_like(voronoi_seed_idx)\n",
    "\n",
    "    neighbours = 0\n",
    "    col = 0\n",
    "\n",
    "    while missing != 0:\n",
    "\n",
    "        neighbours += 100\n",
    "        # find nearest neighbours\n",
    "        inaccuracy, mapping  = spatial.KDTree(complex_vertices).query(simple_vertices, k=neighbours)\n",
    "        # go through columns of nearest neighbours until unique mapping is\n",
    "        # achieved, if not before end of neighbours, extend number of neighbours\n",
    "        while col < neighbours:\n",
    "            # find all missing voronoi seed indices\n",
    "            missing_idx = np.where(voronoi_seed_idx==-1)[0]\n",
    "            missing = missing_idx.shape[0]\n",
    "            if missing == 0:\n",
    "                break\n",
    "            else:\n",
    "                # for missing entries fill in next neighbour\n",
    "                mapping_single[missing_idx]=np.copy(mapping[missing_idx,col])\n",
    "                # find unique values in mapping_single\n",
    "                unique, double_idx = np.unique(mapping_single, return_inverse = True)\n",
    "                # empty voronoi seed index\n",
    "                voronoi_seed_idx = np.zeros((simple_vertices.shape[0],), dtype='int64')-1\n",
    "                # fill voronoi seed idx with unique values\n",
    "                for u in range(unique.shape[0]):\n",
    "                    # find the indices of this value in mapping\n",
    "                    entries = np.where(double_idx==u)[0]\n",
    "                    # set the first entry to the value\n",
    "                    voronoi_seed_idx[entries[0]] = unique[u]\n",
    "                # go to next column\n",
    "                col += 1 \n",
    "                \n",
    "    return voronoi_seed_idx, inaccuracy"
   ]
  },
  {
   "cell_type": "code",
   "execution_count": 9,
   "metadata": {
    "collapsed": false
   },
   "outputs": [],
   "source": [
    "simple_vertices=simple_v\n",
    "simple_faces=simple_f\n",
    "complex_vertices=complex_v\n",
    "complex_faces=complex_f"
   ]
  },
  {
   "cell_type": "code",
   "execution_count": 10,
   "metadata": {
    "collapsed": true
   },
   "outputs": [],
   "source": [
    "cutoff_euclid=2.0\n",
    "cutoff_rad = np.pi/2"
   ]
  },
  {
   "cell_type": "code",
   "execution_count": 11,
   "metadata": {
    "collapsed": false
   },
   "outputs": [],
   "source": [
    "def find_voronoi_seeds(simple_vertices, simple_faces, complex_vertices, complex_faces, cutoff_euclid=2.0, cutoff_rad=(np.pi/2)):\n",
    "    '''\n",
    "    Finds those points on the complex mesh that correspond best to the\n",
    "    simple mesh (taking into accound euclidian distance and direction of normals)\n",
    "    while forcing a one-to-one mapping\n",
    "    '''\n",
    "    from bintrees import FastAVLTree\n",
    "    import scipy.spatial as spatial\n",
    "\n",
    "    neighbours = 100\n",
    "\n",
    "    # calculate normals for simple and complex vertices\n",
    "    simple_normals = calculate_normals(simple_vertices, simple_faces)\n",
    "    complex_normals = calculate_normals(complex_vertices, complex_faces)\n",
    "\n",
    "    # find nearest neighbours of simple vertices on complex mesh using kdtree\n",
    "    inaccuracy, mapping  = spatial.KDTree(complex_vertices).query(simple_vertices, k=neighbours)\n",
    "\n",
    "    # create tidy long-format lists\n",
    "    simple_idxs = np.asarray([neighbours*[simple_idx] for simple_idx in range(simple_vertices.shape[0])]).flatten()\n",
    "    candidate_idxs = mapping.flatten()\n",
    "    diff_euclid = inaccuracy.flatten()\n",
    "\n",
    "    # for each vertex pair calculate the angle between their normals\n",
    "    diff_normals, _ = compare_normals(simple_normals[simple_idxs], complex_normals[candidate_idxs])\n",
    "\n",
    "    # remove those pairs that have an angle > 90° and/or distance > 2 mm\n",
    "    mask = np.unique(np.concatenate((np.where(diff_euclid>cutoff_euclid)[0], np.where(diff_normals>cutoff_rad)[0])))\n",
    "    diff_normals = np.delete(diff_normals, mask)\n",
    "    diff_euclid = np.delete(diff_euclid, mask)\n",
    "    simple_idxs = np.delete(simple_idxs, mask)\n",
    "    candidate_idxs = np.delete(candidate_idxs, mask)\n",
    "\n",
    "    # calculate scores for each vertex pair\n",
    "    scores = (diff_normals-np.mean(diff_normals)) + (diff_euclid-np.mean(diff_euclid))\n",
    "\n",
    "    # make a binary search tree from the scores and vertex pairs, \n",
    "    # organisation is key: score, values: tuple(simple_vertex, candiate_complex_vertex)\n",
    "    tree = FastAVLTree(zip(scores, zip(simple_idxs, candidate_idxs)))\n",
    "\n",
    "    voronoi_seed_idx = np.zeros((simple_vertices.shape[0],), dtype='int64')-1\n",
    "    missing = np.where(voronoi_seed_idx==-1)[0].shape[0]\n",
    "\n",
    "    while missing > 0:\n",
    "\n",
    "        min_item =  tree.pop_min()\n",
    "        simple_idx = min_item[1][0]\n",
    "        candidate_idx = min_item[1][1]\n",
    "\n",
    "        if (voronoi_seed_idx[simple_idx] == -1):\n",
    "            if candidate_idx not in voronoi_seed_idx:\n",
    "                voronoi_seed_idx[simple_idx] = candidate_idx\n",
    "            else:\n",
    "                pass\n",
    "        else:\n",
    "            pass\n",
    "\n",
    "        missing = np.where(voronoi_seed_idx==-1)[0].shape[0]\n",
    "\n",
    "        if tree.count > 0:\n",
    "            print \"tree is empty\"\n",
    "            break\n",
    "\n",
    "    return voronoi_seed_idx, inaccuracy"
   ]
  },
  {
   "cell_type": "code",
   "execution_count": 33,
   "metadata": {
    "collapsed": false
   },
   "outputs": [
    {
     "data": {
      "text/plain": [
       "(array([   1410.,    8095.,   20639.,   39058.,   64011.,   93197.,\n",
       "         127030.,  165372.,  207334.,  251534.,  300810.,  350005.,\n",
       "         403252.,  455405.,  504093.,  547536.,  572877.,  527549.,\n",
       "         391912.,  275404.]),\n",
       " array([-1.36339085, -1.26389091, -1.16439096, -1.06489102, -0.96539108,\n",
       "        -0.86589113, -0.76639119, -0.66689124, -0.5673913 , -0.46789136,\n",
       "        -0.36839141, -0.26889147, -0.16939152, -0.06989158,  0.02960836,\n",
       "         0.12910831,  0.22860825,  0.3281082 ,  0.42760814,  0.52710808,\n",
       "         0.62660803]),\n",
       " <a list of 20 Patch objects>)"
      ]
     },
     "execution_count": 33,
     "metadata": {},
     "output_type": "execute_result"
    },
    {
     "data": {
      "image/png": "[encoded data removed]",
      "text/plain": [
       "<matplotlib.figure.Figure at 0x7f813857a910>"
      ]
     },
     "metadata": {},
     "output_type": "display_data"
    }
   ],
   "source": [
    "plt.hist(diff_normals-np.mean(diff_normals), alpha=0.5, bins=20)\n",
    "plt.hist((diff_euclid-np.mean(diff_euclid)), alpha=0.5, bins=20, color='darkred')"
   ]
  },
  {
   "cell_type": "code",
   "execution_count": 34,
   "metadata": {
    "collapsed": true
   },
   "outputs": [],
   "source": [
    "scores = (diff_normals-np.mean(diff_normals)) + (diff_euclid-np.mean(diff_euclid))"
   ]
  },
  {
   "cell_type": "code",
   "execution_count": 35,
   "metadata": {
    "collapsed": false
   },
   "outputs": [
    {
     "data": {
      "image/png": "[encoded data removed]",
      "text/plain": [
       "<matplotlib.figure.Figure at 0x7f813814bfd0>"
      ]
     },
     "metadata": {},
     "output_type": "display_data"
    }
   ],
   "source": [
    "plt.hist(scores);"
   ]
  },
  {
   "cell_type": "code",
   "execution_count": 38,
   "metadata": {
    "collapsed": true
   },
   "outputs": [],
   "source": [
    "tree = FastAVLTree(zip(scores, zip(simple_idxs, candidate_idxs)))"
   ]
  },
  {
   "cell_type": "code",
   "execution_count": 39,
   "metadata": {
    "collapsed": true
   },
   "outputs": [],
   "source": [
    "voronoi_seed_idx = np.zeros((simple_vertices.shape[0],), dtype='int64')-1\n",
    "missing = np.where(voronoi_seed_idx==-1)[0].shape[0]"
   ]
  },
  {
   "cell_type": "code",
   "execution_count": null,
   "metadata": {
    "collapsed": true
   },
   "outputs": [],
   "source": [
    "while missing > 0:"
   ]
  },
  {
   "cell_type": "code",
   "execution_count": 44,
   "metadata": {
    "collapsed": false
   },
   "outputs": [],
   "source": [
    "min_item =  tree.pop_min()\n",
    "simple_idx = min_item[1][0]\n",
    "candidate_idx = min_item[1][1]"
   ]
  },
  {
   "cell_type": "code",
   "execution_count": 45,
   "metadata": {
    "collapsed": false
   },
   "outputs": [
    {
     "data": {
      "text/plain": [
       "44945"
      ]
     },
     "execution_count": 45,
     "metadata": {},
     "output_type": "execute_result"
    }
   ],
   "source": [
    "simple_idx"
   ]
  },
  {
   "cell_type": "code",
   "execution_count": 46,
   "metadata": {
    "collapsed": false
   },
   "outputs": [
    {
     "data": {
      "text/plain": [
       "404362"
      ]
     },
     "execution_count": 46,
     "metadata": {},
     "output_type": "execute_result"
    }
   ],
   "source": [
    "candidate_idx"
   ]
  },
  {
   "cell_type": "code",
   "execution_count": 49,
   "metadata": {
    "collapsed": false
   },
   "outputs": [],
   "source": [
    "test_normals_simple =calculate_normals(simple_v, simple_f)\n",
    "test_normals_complex =calculate_normals(complex_v, complex_f)"
   ]
  },
  {
   "cell_type": "code",
   "execution_count": 65,
   "metadata": {
    "collapsed": false
   },
   "outputs": [],
   "source": [
    "test_normal, _ = compare_normals(test_normals_simple[simple_idx][np.newaxis, :], test_normals_complex[candidate_idx][np.newaxis, :])"
   ]
  },
  {
   "cell_type": "code",
   "execution_count": 66,
   "metadata": {
    "collapsed": false
   },
   "outputs": [],
   "source": [
    "test_euclid = inaccuracy[simple_idx][np.where(mapping[simple_idx]==candidate_idx)]"
   ]
  },
  {
   "cell_type": "code",
   "execution_count": 67,
   "metadata": {
    "collapsed": false
   },
   "outputs": [
    {
     "data": {
      "text/plain": [
       "array([-1.9845857])"
      ]
     },
     "execution_count": 67,
     "metadata": {},
     "output_type": "execute_result"
    }
   ],
   "source": [
    "test_normal - np.mean(diff_normals) + test_euclid - np.mean(diff_euclid)"
   ]
  },
  {
   "cell_type": "code",
   "execution_count": 68,
   "metadata": {
    "collapsed": false
   },
   "outputs": [
    {
     "data": {
      "text/plain": [
       "-1.9845856972274425"
      ]
     },
     "execution_count": 68,
     "metadata": {},
     "output_type": "execute_result"
    }
   ],
   "source": [
    "min_item[0]"
   ]
  },
  {
   "cell_type": "code",
   "execution_count": 71,
   "metadata": {
    "collapsed": false
   },
   "outputs": [],
   "source": [
    "if (voronoi_seed_idx[simple_idx] == -1):\n",
    "    if candidate_idx not in voronoi_seed_idx:\n",
    "        voronoi_seed_idx[simple_idx] = candidate_idx\n",
    "    else:\n",
    "        pass\n",
    "else:\n",
    "    pass\n",
    "\n",
    "missing = np.where(voronoi_seed_idx==-1)[0].shape[0]\n",
    "\n",
    "if tree.count > 0:\n",
    "    print \"tree is empty\"\n",
    "    break"
   ]
  },
  {
   "cell_type": "code",
   "execution_count": 73,
   "metadata": {
    "collapsed": false
   },
   "outputs": [
    {
     "data": {
      "text/plain": [
       "404362"
      ]
     },
     "execution_count": 73,
     "metadata": {},
     "output_type": "execute_result"
    }
   ],
   "source": [
    "voronoi_seed_idx[simple_idx]"
   ]
  },
  {
   "cell_type": "code",
   "execution_count": 74,
   "metadata": {
    "collapsed": false
   },
   "outputs": [
    {
     "data": {
      "text/plain": [
       "True"
      ]
     },
     "execution_count": 74,
     "metadata": {},
     "output_type": "execute_result"
    }
   ],
   "source": [
    "candidate_idx in voronoi_seed_idx"
   ]
  },
  {
   "cell_type": "code",
   "execution_count": 75,
   "metadata": {
    "collapsed": false
   },
   "outputs": [
    {
     "data": {
      "text/plain": [
       "75588"
      ]
     },
     "execution_count": 75,
     "metadata": {},
     "output_type": "execute_result"
    }
   ],
   "source": [
    "missing"
   ]
  },
  {
   "cell_type": "code",
   "execution_count": null,
   "metadata": {
    "collapsed": true
   },
   "outputs": [],
   "source": []
  }
 ],
 "metadata": {
  "kernelspec": {
   "display_name": "Python 2",
   "language": "python",
   "name": "python2"
  },
  "language_info": {
   "codemirror_mode": {
    "name": "ipython",
    "version": 2
   },
   "file_extension": ".py",
   "mimetype": "text/x-python",
   "name": "python",
   "nbconvert_exporter": "python",
   "pygments_lexer": "ipython2",
   "version": "2.7.11"
  }
 },
 "nbformat": 4,
 "nbformat_minor": 0
}
