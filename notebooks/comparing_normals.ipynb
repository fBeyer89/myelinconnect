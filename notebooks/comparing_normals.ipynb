{
 "cells": [
  {
   "cell_type": "code",
   "execution_count": 1,
   "metadata": {
    "collapsed": true
   },
   "outputs": [],
   "source": [
    "%matplotlib inline"
   ]
  },
  {
   "cell_type": "code",
   "execution_count": 2,
   "metadata": {
    "collapsed": false
   },
   "outputs": [
    {
     "name": "stderr",
     "output_type": "stream",
     "text": [
      "/home/raid3/huntenburg/workspace/anaconda2/envs/myelinconnect/lib/python2.7/site-packages/IPython/html.py:14: ShimWarning: The `IPython.html` package has been deprecated. You should import from `notebook` instead. `IPython.html.widgets` has moved to `ipywidgets`.\n",
      "  \"`IPython.html.widgets` has moved to `ipywidgets`.\", ShimWarning)\n"
     ]
    }
   ],
   "source": [
    "from __future__ import division\n",
    "import numpy as np\n",
    "import pandas as pd\n",
    "import matplotlib.pyplot as plt\n",
    "from vtk_rw import read_vtk\n",
    "import seaborn as sns"
   ]
  },
  {
   "cell_type": "markdown",
   "metadata": {},
   "source": [
    "### calculated from mesh"
   ]
  },
  {
   "cell_type": "markdown",
   "metadata": {},
   "source": [
    "https://sites.google.com/site/dlampetest/python/calculating-normals-of-a-triangle-mesh-using-numpy"
   ]
  },
  {
   "cell_type": "code",
   "execution_count": 136,
   "metadata": {
    "collapsed": true
   },
   "outputs": [],
   "source": [
    "def calculate_normals(vertices, faces):\n",
    "    \n",
    "    triangles = vertices[faces]\n",
    "    face_normals = np.cross( triangles[::,1 ] - triangles[::,0]  , triangles[::,2 ] - triangles[::,0] )\n",
    "    #face_normals /= np.linalg.norm(face_normals, axis=1)[:,np.newaxis]\n",
    "    face_normals /= 2 # weighting by surface area of the triangle, which is half the length of the normal\n",
    "    \n",
    "    vertex_normals = np.zeros(vertices.shape, dtype=vertices.dtype )\n",
    "    vertex_normals[faces[:,0]] += face_normals\n",
    "    vertex_normals[faces[:,1]] += face_normals\n",
    "    vertex_normals[faces[:,2]] += face_normals\n",
    "    vertex_normals /= np.linalg.norm(vertex_normals, axis=1)[:,np.newaxis]\n",
    "    \n",
    "    return vertex_normals"
   ]
  },
  {
   "cell_type": "markdown",
   "metadata": {},
   "source": [
    "### from meshlab in object file"
   ]
  },
  {
   "cell_type": "code",
   "execution_count": 36,
   "metadata": {
    "collapsed": false
   },
   "outputs": [],
   "source": [
    "def read_obj(obj_file):\n",
    "    obj_df=pd.read_csv(obj_file, header=None, engine='python', comment='#', sep=' ')\n",
    "    obj_df=obj_df.dropna()\n",
    "\n",
    "    vertex_df = obj_df.loc[np.where(obj_df[0] == 'v')[0]][[1,2,3]]\n",
    "    vertex_array = np.asarray(vertex_df, dtype='float')\n",
    "\n",
    "    if 'vn' in list(obj_df[0]):\n",
    "        normals_df = obj_df.loc[np.where(obj_df[0] == 'vn')[0]][[1,2,3]]\n",
    "        normals_array = np.asarray(normals_df, dtype='float')\n",
    "    else:\n",
    "        normals_array = np.empty(0)\n",
    "\n",
    "    faces_df = obj_df.loc[np.where(obj_df[0] == 'f')[0]][[1,2,3]]\n",
    "    faces_array = np.asarray(faces_df).copy()\n",
    "    for i in range(faces_array.shape[0]):\n",
    "        for j in range(faces_array.shape[1]):\n",
    "            faces_array[i][j]=int(faces_array[i][j].split('//')[0])\n",
    "    faces_array = np.asarray(faces_array, dtype='int64')-1\n",
    "    \n",
    "    return vertex_array, faces_array, normals_array"
   ]
  },
  {
   "cell_type": "markdown",
   "metadata": {},
   "source": [
    "### comparing normals"
   ]
  },
  {
   "cell_type": "code",
   "execution_count": 148,
   "metadata": {
    "collapsed": false
   },
   "outputs": [],
   "source": [
    "def compare_normals(normals_a, normals_b):\n",
    "    diff_rad = np.zeros((normals_a.shape[0],))\n",
    "    for i in range(normals_a.shape[0]):\n",
    "        diff_rad[i] = np.arccos(np.dot(normals_a[i], normals_b[i]))\n",
    "    \n",
    "    diff_deg = diff_rad  * (180/np.pi)\n",
    "    return diff_rad, diff_deg"
   ]
  },
  {
   "cell_type": "code",
   "execution_count": 38,
   "metadata": {
    "collapsed": true
   },
   "outputs": [],
   "source": [
    "simple_v, simple_f, obj_simple_normals = read_obj('/scr/ilz3/myelinconnect/groupavg/indv_space/BP4T/lowres_rh_d_def.obj')"
   ]
  },
  {
   "cell_type": "code",
   "execution_count": 39,
   "metadata": {
    "collapsed": false
   },
   "outputs": [],
   "source": [
    "calc_simple_normals = calc_normals(simple_v, simple_f)"
   ]
  },
  {
   "cell_type": "code",
   "execution_count": 40,
   "metadata": {
    "collapsed": true
   },
   "outputs": [],
   "source": [
    "complex_v, complex_f, obj_complex_normals = read_obj('/scr/ilz3/myelinconnect/struct/surf_rh/orig/mid_surface/BP4T_rh_mid.obj')"
   ]
  },
  {
   "cell_type": "code",
   "execution_count": 41,
   "metadata": {
    "collapsed": true
   },
   "outputs": [],
   "source": [
    "calc_complex_normals = calc_normals(complex_v, complex_f)"
   ]
  },
  {
   "cell_type": "code",
   "execution_count": 42,
   "metadata": {
    "collapsed": true
   },
   "outputs": [],
   "source": [
    "mapping = np.load('/scr/ilz3/myelinconnect/all_data_on_simple_surf/seeds/BP4T_rh_highres2lowres_seeds.npy')"
   ]
  },
  {
   "cell_type": "code",
   "execution_count": 43,
   "metadata": {
    "collapsed": false
   },
   "outputs": [],
   "source": [
    "obj_diff_rad, obj_diff_deg = compare_normals(obj_simple_normals, obj_complex_normals[mapping])"
   ]
  },
  {
   "cell_type": "code",
   "execution_count": 44,
   "metadata": {
    "collapsed": true
   },
   "outputs": [],
   "source": [
    "calc_diff_rad, calc_diff_deg = compare_normals(calc_simple_normals, calc_complex_normals[mapping])"
   ]
  },
  {
   "cell_type": "code",
   "execution_count": 45,
   "metadata": {
    "collapsed": false
   },
   "outputs": [
    {
     "data": {
      "image/png": "[encoded data removed]",
      "text/plain": [
       "<matplotlib.figure.Figure at 0x7f51866f7390>"
      ]
     },
     "metadata": {},
     "output_type": "display_data"
    }
   ],
   "source": [
    "plt.hist(np.nan_to_num(obj_diff_deg), bins=20, alpha=0.8);\n",
    "plt.hist(np.nan_to_num(calc_diff_deg), bins=20, alpha=0.3, color='darkred');"
   ]
  },
  {
   "cell_type": "code",
   "execution_count": 46,
   "metadata": {
    "collapsed": false
   },
   "outputs": [
    {
     "data": {
      "image/png": "[encoded data removed]",
      "text/plain": [
       "<matplotlib.figure.Figure at 0x7f51866f7310>"
      ]
     },
     "metadata": {},
     "output_type": "display_data"
    }
   ],
   "source": [
    "plt.hist(np.nan_to_num(obj_diff_rad), bins=20, alpha=0.8);\n",
    "plt.hist(np.nan_to_num(calc_diff_rad), bins=20, alpha=0.3, color='darkred');"
   ]
  },
  {
   "cell_type": "code",
   "execution_count": 47,
   "metadata": {
    "collapsed": true
   },
   "outputs": [],
   "source": [
    "simple_calc_vs_obj_rad, simple_calc_vs_obj_deg = compare_normals(obj_simple_normals, calc_simple_normals)"
   ]
  },
  {
   "cell_type": "code",
   "execution_count": 48,
   "metadata": {
    "collapsed": true
   },
   "outputs": [],
   "source": [
    "complex_calc_vs_obj_rad, complex_calc_vs_obj_deg = compare_normals(obj_complex_normals, calc_complex_normals)"
   ]
  },
  {
   "cell_type": "code",
   "execution_count": 49,
   "metadata": {
    "collapsed": false
   },
   "outputs": [
    {
     "data": {
      "image/png": "[encoded data removed]",
      "text/plain": [
       "<matplotlib.figure.Figure at 0x7f5189aa4110>"
      ]
     },
     "metadata": {},
     "output_type": "display_data"
    }
   ],
   "source": [
    "plt.hist(np.nan_to_num(simple_calc_vs_obj_deg), bins=20);"
   ]
  },
  {
   "cell_type": "code",
   "execution_count": 50,
   "metadata": {
    "collapsed": false
   },
   "outputs": [
    {
     "data": {
      "image/png": "[encoded data removed]",
      "text/plain": [
       "<matplotlib.figure.Figure at 0x7f5189a7c350>"
      ]
     },
     "metadata": {},
     "output_type": "display_data"
    }
   ],
   "source": [
    "plt.hist(np.nan_to_num(complex_calc_vs_obj_deg), bins=20);"
   ]
  },
  {
   "cell_type": "markdown",
   "metadata": {
    "collapsed": true
   },
   "source": [
    "### updating voronoi function to take into account normals"
   ]
  },
  {
   "cell_type": "code",
   "execution_count": null,
   "metadata": {
    "collapsed": true
   },
   "outputs": [],
   "source": [
    "def find_voronoi_seeds(simple_vertices, complex_vertices):\n",
    "    '''\n",
    "    Finds those points on the complex mesh that correspoind best to the\n",
    "    simple mesh while forcing a one-to-one mapping\n",
    "    '''\n",
    "    import numpy as np\n",
    "    import scipy.spatial as spatial\n",
    "    # make array for writing in final voronoi seed indices\n",
    "    voronoi_seed_idx = np.zeros((simple_vertices.shape[0],), dtype='int64')-1\n",
    "    missing = np.where(voronoi_seed_idx==-1)[0].shape[0]\n",
    "    mapping_single = np.zeros_like(voronoi_seed_idx)\n",
    "\n",
    "    neighbours = 0\n",
    "    col = 0\n",
    "\n",
    "    while missing != 0:\n",
    "\n",
    "        neighbours += 100\n",
    "        # find nearest neighbours\n",
    "        inaccuracy, mapping  = spatial.KDTree(complex_vertices).query(simple_vertices, k=neighbours)\n",
    "        # go through columns of nearest neighbours until unique mapping is\n",
    "        # achieved, if not before end of neighbours, extend number of neighbours\n",
    "        while col < neighbours:\n",
    "            # find all missing voronoi seed indices\n",
    "            missing_idx = np.where(voronoi_seed_idx==-1)[0]\n",
    "            missing = missing_idx.shape[0]\n",
    "            if missing == 0:\n",
    "                break\n",
    "            else:\n",
    "                # for missing entries fill in next neighbour\n",
    "                mapping_single[missing_idx]=np.copy(mapping[missing_idx,col])\n",
    "                # find unique values in mapping_single\n",
    "                unique, double_idx = np.unique(mapping_single, return_inverse = True)\n",
    "                # empty voronoi seed index\n",
    "                voronoi_seed_idx = np.zeros((simple_vertices.shape[0],), dtype='int64')-1\n",
    "                # fill voronoi seed idx with unique values\n",
    "                for u in range(unique.shape[0]):\n",
    "                    # find the indices of this value in mapping\n",
    "                    entries = np.where(double_idx==u)[0]\n",
    "                    # set the first entry to the value\n",
    "                    voronoi_seed_idx[entries[0]] = unique[u]\n",
    "                # go to next column\n",
    "                col += 1 \n",
    "                \n",
    "    return voronoi_seed_idx, inaccuracy"
   ]
  },
  {
   "cell_type": "code",
   "execution_count": 84,
   "metadata": {
    "collapsed": true
   },
   "outputs": [],
   "source": [
    "from bintrees import FastAVLTree\n",
    "import scipy.spatial as spatial"
   ]
  },
  {
   "cell_type": "code",
   "execution_count": 52,
   "metadata": {
    "collapsed": true
   },
   "outputs": [],
   "source": [
    "tree = FastAVLTree()\n",
    "# organisation will be key: mapping score, values: tuple(simple_vertex, candiate_complex_vertex)"
   ]
  },
  {
   "cell_type": "code",
   "execution_count": 88,
   "metadata": {
    "collapsed": true
   },
   "outputs": [],
   "source": [
    "complex_vertices = complex_v\n",
    "simple_vertices = simple_v\n",
    "neighbours = 100"
   ]
  },
  {
   "cell_type": "code",
   "execution_count": 89,
   "metadata": {
    "collapsed": false
   },
   "outputs": [],
   "source": [
    "inaccuracy, mapping  = spatial.KDTree(complex_vertices).query(simple_vertices, k=neighbours)"
   ]
  },
  {
   "cell_type": "code",
   "execution_count": 123,
   "metadata": {
    "collapsed": false
   },
   "outputs": [],
   "source": [
    "simple_idxs = np.asarray([neighbours*[simple_idx] for simple_idx in range(simple_vertices.shape[0])]).flatten()"
   ]
  },
  {
   "cell_type": "code",
   "execution_count": 94,
   "metadata": {
    "collapsed": false
   },
   "outputs": [],
   "source": [
    "candidate_idxs = mapping.flatten()"
   ]
  },
  {
   "cell_type": "code",
   "execution_count": 95,
   "metadata": {
    "collapsed": true
   },
   "outputs": [],
   "source": [
    "vertex_pairs = zip(simple_idxs, candidate_idxs)"
   ]
  },
  {
   "cell_type": "code",
   "execution_count": 118,
   "metadata": {
    "collapsed": false
   },
   "outputs": [],
   "source": [
    "simple_normals = calculate_normals(simple_vertices, simple_f)\n",
    "complex_normals = calculate_normals(complex_vertices, complex_f)"
   ]
  },
  {
   "cell_type": "code",
   "execution_count": 189,
   "metadata": {
    "collapsed": false,
    "scrolled": true
   },
   "outputs": [],
   "source": [
    "_, diff_normals = compare_normals(simple_normals[simple_idxs], complex_normals[candidate_idxs])"
   ]
  },
  {
   "cell_type": "code",
   "execution_count": 173,
   "metadata": {
    "collapsed": false
   },
   "outputs": [],
   "source": [
    "scores = inaccuracy.flatten() + diff_normals"
   ]
  },
  {
   "cell_type": "code",
   "execution_count": 174,
   "metadata": {
    "collapsed": true
   },
   "outputs": [],
   "source": [
    "tree_seq = zip(scores, vertex_pairs)"
   ]
  },
  {
   "cell_type": "code",
   "execution_count": 175,
   "metadata": {
    "collapsed": false
   },
   "outputs": [],
   "source": [
    "tree = FastAVLTree(tree_seq)"
   ]
  },
  {
   "cell_type": "code",
   "execution_count": 176,
   "metadata": {
    "collapsed": false
   },
   "outputs": [
    {
     "data": {
      "text/plain": [
       "array([ 1.77701094,  1.77833458,  1.78485551, ...,  2.10294553,\n",
       "        2.12555753,  2.12903435])"
      ]
     },
     "execution_count": 176,
     "metadata": {},
     "output_type": "execute_result"
    }
   ],
   "source": [
    "inaccuracy.flatten()"
   ]
  },
  {
   "cell_type": "code",
   "execution_count": 177,
   "metadata": {
    "collapsed": false
   },
   "outputs": [
    {
     "data": {
      "text/plain": [
       "array([ 0.26341964,  0.27345084,  0.28022562, ...,  0.21498595,\n",
       "        0.77541723,  1.04226541])"
      ]
     },
     "execution_count": 177,
     "metadata": {},
     "output_type": "execute_result"
    }
   ],
   "source": [
    "diff_normals"
   ]
  },
  {
   "cell_type": "code",
   "execution_count": 178,
   "metadata": {
    "collapsed": false
   },
   "outputs": [
    {
     "data": {
      "text/plain": [
       "(0.068743590254932693, (44945, 404362))"
      ]
     },
     "execution_count": 178,
     "metadata": {},
     "output_type": "execute_result"
    }
   ],
   "source": [
    "tree.pop_min()"
   ]
  },
  {
   "cell_type": "code",
   "execution_count": 154,
   "metadata": {
    "collapsed": false
   },
   "outputs": [
    {
     "data": {
      "text/plain": [
       "(array([2]),)"
      ]
     },
     "execution_count": 154,
     "metadata": {},
     "output_type": "execute_result"
    }
   ],
   "source": [
    "np.where(mapping[57500]==529557)"
   ]
  },
  {
   "cell_type": "code",
   "execution_count": 156,
   "metadata": {
    "collapsed": false
   },
   "outputs": [
    {
     "data": {
      "text/plain": [
       "0.21646827953304151"
      ]
     },
     "execution_count": 156,
     "metadata": {},
     "output_type": "execute_result"
    }
   ],
   "source": [
    "inaccuracy[57500][2]"
   ]
  },
  {
   "cell_type": "code",
   "execution_count": 158,
   "metadata": {
    "collapsed": false
   },
   "outputs": [
    {
     "data": {
      "text/plain": [
       "array([ 0.64585196, -0.39990079,  0.6503496 ])"
      ]
     },
     "execution_count": 158,
     "metadata": {},
     "output_type": "execute_result"
    }
   ],
   "source": [
    "simple_normals[57500]"
   ]
  },
  {
   "cell_type": "code",
   "execution_count": 159,
   "metadata": {
    "collapsed": false
   },
   "outputs": [
    {
     "data": {
      "text/plain": [
       "array([ 0.64775829, -0.39786095,  0.64970445])"
      ]
     },
     "execution_count": 159,
     "metadata": {},
     "output_type": "execute_result"
    }
   ],
   "source": [
    "complex_normals[529557]"
   ]
  },
  {
   "cell_type": "code",
   "execution_count": 171,
   "metadata": {
    "collapsed": false
   },
   "outputs": [],
   "source": [
    "test_rad, test_deg =compare_normals(simple_normals[57500][np.newaxis, :], complex_normals[529557][np.newaxis,:])"
   ]
  },
  {
   "cell_type": "code",
   "execution_count": 187,
   "metadata": {
    "collapsed": false
   },
   "outputs": [
    {
     "data": {
      "text/plain": [
       "array([ 0.21933381])"
      ]
     },
     "execution_count": 187,
     "metadata": {},
     "output_type": "execute_result"
    }
   ],
   "source": [
    "inaccuracy[57500][2] + test_rad"
   ]
  },
  {
   "cell_type": "code",
   "execution_count": null,
   "metadata": {
    "collapsed": true
   },
   "outputs": [],
   "source": [
    "def find_voronoi_seeds(simple_vertices, simple_faces, complex_vertices, complex_faces):\n",
    "    '''\n",
    "    Finds those points on the complex mesh that correspond best to the\n",
    "    simple mesh (taking into accound euclidian distance and direction of normals)\n",
    "    while forcing a one-to-one mapping\n",
    "    '''\n",
    "    from bintrees import FastAVLTree\n",
    "    import scipy.spatial as spatial\n",
    "    \n",
    "    neighbours = 100\n",
    "    \n",
    "    # calculate normals for simple and complex vertices\n",
    "    simple_normals = calculate_normals(simple_vertices, simple_faces)\n",
    "    complex_normals = calculate_normals(complex_vertices, complex_faces)\n",
    "    \n",
    "    # find nearest neighbours of simple vertices on complex mesh using kdtree\n",
    "    inaccuracy, mapping  = spatial.KDTree(complex_vertices).query(simple_vertices, k=neighbours)\n",
    "    \n",
    "    # create tidy long-format lists\n",
    "    simple_idxs = np.asarray([neighbours*[simple_idx] for simple_idx in range(simple_vertices.shape[0])]).flatten()\n",
    "    candidate_idxs = mapping.flatten()\n",
    "    diff_euclid = inaccuray.flatten()\n",
    "    \n",
    "    # for each vertex pair calculate the angle between their normals\n",
    "    _, diff_normals = compare_normals(simple_normals[simple_idxs], complex_normals[candidate_idxs])\n",
    "    \n",
    "    # remove those pairs that have an angle > 90° and/or distance > 2 mm\n",
    "    keep = np.unique(np.concatenate((np.where(diff_normals < 90)[0], np.where(diff_euclid < 2)[0])))\n",
    "    diff_normals = diff_normals[keep]\n",
    "    diff_euclid = diff_euclid[keep]\n",
    "    simple_idxs = simple_idxs[keep]\n",
    "    candidate_idxs = candidate_idxs[keep]\n",
    "    \n",
    "    # calculate scores for each vertex pair\n",
    "    ###  weighting??  ####\n",
    "    scores = diff_normals + diff_euclid\n",
    "    \n",
    "    # make a binary search tree from the scores and vertex pairs, \n",
    "    # organisation is key: score, values: tuple(simple_vertex, candiate_complex_vertex)\n",
    "    tree = FastAVLTree(zip(scores, zip(simple_idxs, candidate_idxs)))\n",
    "    \n",
    "    \n"
   ]
  },
  {
   "cell_type": "code",
   "execution_count": 217,
   "metadata": {
    "collapsed": true
   },
   "outputs": [],
   "source": []
  },
  {
   "cell_type": "code",
   "execution_count": 218,
   "metadata": {
    "collapsed": false
   },
   "outputs": [],
   "source": [
    "diff_normals = diff_normals[keep]\n",
    "simple_idxs = simple_idxs[keep]\n",
    "candidate_idxs = candidate_idxs[keep]"
   ]
  },
  {
   "cell_type": "code",
   "execution_count": 219,
   "metadata": {
    "collapsed": false
   },
   "outputs": [
    {
     "data": {
      "text/plain": [
       "(array([  1.35533000e+05,   8.73234000e+05,   2.14197800e+06,\n",
       "          2.94810000e+06,   1.00066300e+06,   2.63921000e+05,\n",
       "          8.27320000e+04,   3.25220000e+04,   1.81130000e+04,\n",
       "          1.34930000e+04,   1.50390000e+04,   1.58000000e+04,\n",
       "          8.28400000e+03,   2.97400000e+03,   1.94400000e+03,\n",
       "          1.96400000e+03,   8.43000000e+02,   8.98000000e+02,\n",
       "          4.72000000e+02,   3.93000000e+02]),\n",
       " array([ 0.0100008 ,  0.48435804,  0.95871529,  1.43307253,  1.90742977,\n",
       "         2.38178702,  2.85614426,  3.3305015 ,  3.80485875,  4.27921599,\n",
       "         4.75357323,  5.22793047,  5.70228772,  6.17664496,  6.6510022 ,\n",
       "         7.12535945,  7.59971669,  8.07407393,  8.54843118,  9.02278842,\n",
       "         9.49714566]),\n",
       " <a list of 20 Patch objects>)"
      ]
     },
     "execution_count": 219,
     "metadata": {},
     "output_type": "execute_result"
    },
    {
     "data": {
      "image/png": "[encoded data removed]",
      "text/plain": [
       "<matplotlib.figure.Figure at 0x7f5185ed0a90>"
      ]
     },
     "metadata": {},
     "output_type": "display_data"
    }
   ],
   "source": [
    "plt.hist(diff_euclid, bins=20)"
   ]
  },
  {
   "cell_type": "code",
   "execution_count": null,
   "metadata": {
    "collapsed": true
   },
   "outputs": [],
   "source": []
  }
 ],
 "metadata": {
  "kernelspec": {
   "display_name": "Python 2",
   "language": "python",
   "name": "python2"
  },
  "language_info": {
   "codemirror_mode": {
    "name": "ipython",
    "version": 2
   },
   "file_extension": ".py",
   "mimetype": "text/x-python",
   "name": "python",
   "nbconvert_exporter": "python",
   "pygments_lexer": "ipython2",
   "version": "2.7.11"
  }
 },
 "nbformat": 4,
 "nbformat_minor": 0
}
