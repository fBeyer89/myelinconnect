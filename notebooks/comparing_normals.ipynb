{
 "cells": [
  {
   "cell_type": "code",
   "execution_count": 122,
   "metadata": {
    "collapsed": true
   },
   "outputs": [],
   "source": [
    "%matplotlib inline"
   ]
  },
  {
   "cell_type": "code",
   "execution_count": 123,
   "metadata": {
    "collapsed": false
   },
   "outputs": [],
   "source": [
    "from __future__ import division\n",
    "import numpy as np\n",
    "import pandas as pd\n",
    "import matplotlib.pyplot as plt\n",
    "from vtk_rw import read_vtk\n",
    "import seaborn as sns"
   ]
  },
  {
   "cell_type": "markdown",
   "metadata": {},
   "source": [
    "### calculated from mesh"
   ]
  },
  {
   "cell_type": "markdown",
   "metadata": {},
   "source": [
    "https://sites.google.com/site/dlampetest/python/calculating-normals-of-a-triangle-mesh-using-numpy"
   ]
  },
  {
   "cell_type": "code",
   "execution_count": 79,
   "metadata": {
    "collapsed": true
   },
   "outputs": [],
   "source": [
    "def calculate_normals(vertices, faces):\n",
    "    \n",
    "    triangles = vertices[faces]\n",
    "    face_normals = np.cross( triangles[::,1 ] - triangles[::,0]  , triangles[::,2 ] - triangles[::,0] )\n",
    "    #face_normals /= np.linalg.norm(face_normals, axis=1)[:,np.newaxis]\n",
    "    face_normals /= 2 # weighting by surface area of the triangle, which is half the length of the normal\n",
    "    \n",
    "    vertex_normals = np.zeros(vertices.shape, dtype=vertices.dtype)\n",
    "    vertex_count = np.zeros(vertices.shape[0])\n",
    "    \n",
    "    for face in range(face_normals.shape[0]):\n",
    "        vertex_normals[faces[face,0]] += face_normals[face]\n",
    "        vertex_normals[faces[face,0]] += 1\n",
    "        vertex_normals[faces[face,1]] += face_normals[face]\n",
    "        vertex_normals[faces[face,1]] += 1\n",
    "        vertex_normals[faces[face,2]] += face_normals[face]\n",
    "        vertex_normals[faces[face,2]] += 1\n",
    "    \n",
    "    vertex_normals[faces[:,0]] += face_normals\n",
    "    vertex_normals[faces[:,1]] += face_normals\n",
    "    vertex_normals[faces[:,2]] += face_normals\n",
    "   \n",
    "    # here divide by actual number of faces, then normalize in the compare function\n",
    "    vertex_normals /= np.linalg.norm(vertex_normals, axis=1)[:,np.newaxis]\n",
    "    \n",
    "    return vertex_normals"
   ]
  },
  {
   "cell_type": "markdown",
   "metadata": {},
   "source": [
    "### from meshlab in object file"
   ]
  },
  {
   "cell_type": "code",
   "execution_count": 80,
   "metadata": {
    "collapsed": false
   },
   "outputs": [],
   "source": [
    "def read_obj(obj_file):\n",
    "    obj_df=pd.read_csv(obj_file, header=None, engine='python', comment='#', sep=' ')\n",
    "    obj_df=obj_df.dropna()\n",
    "\n",
    "    vertex_df = obj_df.loc[np.where(obj_df[0] == 'v')[0]][[1,2,3]]\n",
    "    vertex_array = np.asarray(vertex_df, dtype='float')\n",
    "\n",
    "    if 'vn' in list(obj_df[0]):\n",
    "        normals_df = obj_df.loc[np.where(obj_df[0] == 'vn')[0]][[1,2,3]]\n",
    "        normals_array = np.asarray(normals_df, dtype='float')\n",
    "    else:\n",
    "        normals_array = np.empty(0)\n",
    "\n",
    "    faces_df = obj_df.loc[np.where(obj_df[0] == 'f')[0]][[1,2,3]]\n",
    "    faces_array = np.asarray(faces_df).copy()\n",
    "    for i in range(faces_array.shape[0]):\n",
    "        for j in range(faces_array.shape[1]):\n",
    "            faces_array[i][j]=int(faces_array[i][j].split('//')[0])\n",
    "    faces_array = np.asarray(faces_array, dtype='int64')-1\n",
    "    \n",
    "    return vertex_array, faces_array, normals_array"
   ]
  },
  {
   "cell_type": "markdown",
   "metadata": {},
   "source": [
    "### comparing normals"
   ]
  },
  {
   "cell_type": "code",
   "execution_count": 81,
   "metadata": {
    "collapsed": false
   },
   "outputs": [],
   "source": [
    "def compare_normals(normals_a, normals_b):\n",
    "    diff_rad = np.zeros((normals_a.shape[0],))\n",
    "    for i in range(normals_a.shape[0]):\n",
    "        diff_rad[i] = np.arccos(np.dot(normals_a[i], normals_b[i]))\n",
    "    \n",
    "    diff_deg = diff_rad  * (180/np.pi)\n",
    "    return diff_rad, diff_deg"
   ]
  },
  {
   "cell_type": "code",
   "execution_count": 82,
   "metadata": {
    "collapsed": false
   },
   "outputs": [],
   "source": [
    "simple_v, simple_f, obj_simple_normals = read_obj('/scr/ilz3/myelinconnect/groupavg/indv_space/BP4T/lowres_rh_d_def.obj')"
   ]
  },
  {
   "cell_type": "code",
   "execution_count": 94,
   "metadata": {
    "collapsed": false
   },
   "outputs": [],
   "source": [
    "obj_simple_normals /= np.linalg.norm(obj_simple_normals, axis=1)[:,np.newaxis]"
   ]
  },
  {
   "cell_type": "code",
   "execution_count": 95,
   "metadata": {
    "collapsed": false
   },
   "outputs": [],
   "source": [
    "calc_simple_normals = calculate_normals(simple_v, simple_f)"
   ]
  },
  {
   "cell_type": "code",
   "execution_count": 96,
   "metadata": {
    "collapsed": true
   },
   "outputs": [],
   "source": [
    "complex_v, complex_f, obj_complex_normals = read_obj('/scr/ilz3/myelinconnect/struct/surf_rh/orig/mid_surface/BP4T_rh_mid.obj')"
   ]
  },
  {
   "cell_type": "code",
   "execution_count": 97,
   "metadata": {
    "collapsed": true
   },
   "outputs": [],
   "source": [
    "obj_complex_normals /= np.linalg.norm(obj_complex_normals, axis=1)[:,np.newaxis]"
   ]
  },
  {
   "cell_type": "code",
   "execution_count": 98,
   "metadata": {
    "collapsed": true
   },
   "outputs": [],
   "source": [
    "calc_complex_normals = calculate_normals(complex_v, complex_f)"
   ]
  },
  {
   "cell_type": "code",
   "execution_count": 108,
   "metadata": {
    "collapsed": true
   },
   "outputs": [],
   "source": [
    "seed_mapping = np.load('/scr/ilz3/myelinconnect/all_data_on_simple_surf/seeds/BP4T_rh_highres2lowres_seeds.npy')"
   ]
  },
  {
   "cell_type": "code",
   "execution_count": 109,
   "metadata": {
    "collapsed": false
   },
   "outputs": [],
   "source": [
    "obj_diff_rad, obj_diff_deg = compare_normals(obj_simple_normals, obj_complex_normals[seed_mapping])"
   ]
  },
  {
   "cell_type": "code",
   "execution_count": 110,
   "metadata": {
    "collapsed": true
   },
   "outputs": [],
   "source": [
    "calc_diff_rad, calc_diff_deg = compare_normals(calc_simple_normals, calc_complex_normals[seed_mapping])"
   ]
  },
  {
   "cell_type": "code",
   "execution_count": 111,
   "metadata": {
    "collapsed": false
   },
   "outputs": [
    {
     "data": {
      "image/png": "[encoded data removed]",
      "text/plain": [
       "<matplotlib.figure.Figure at 0x7f2315ce0310>"
      ]
     },
     "metadata": {},
     "output_type": "display_data"
    }
   ],
   "source": [
    "plt.hist(np.nan_to_num(obj_diff_deg), bins=20, alpha=0.8);\n",
    "plt.hist(np.nan_to_num(calc_diff_deg), bins=20, alpha=0.3, color='darkred');"
   ]
  },
  {
   "cell_type": "code",
   "execution_count": 41,
   "metadata": {
    "collapsed": false
   },
   "outputs": [],
   "source": [
    "obj_simple_normals_norm = obj_simple_normals/np.linalg.norm(obj_simple_normals, axis=1)[:,np.newaxis]\n",
    "obj_complex_normals_norm = obj_complex_normals/np.linalg.norm(obj_complex_normals, axis=1)[:,np.newaxis]"
   ]
  },
  {
   "cell_type": "code",
   "execution_count": 42,
   "metadata": {
    "collapsed": false
   },
   "outputs": [],
   "source": [
    "simple_calc_vs_obj_rad, simple_calc_vs_obj_deg = compare_normals(obj_simple_normals_norm, calc_simple_normals)"
   ]
  },
  {
   "cell_type": "code",
   "execution_count": 43,
   "metadata": {
    "collapsed": true
   },
   "outputs": [],
   "source": [
    "complex_calc_vs_obj_rad, complex_calc_vs_obj_deg = compare_normals(obj_complex_normals_norm, calc_complex_normals)"
   ]
  },
  {
   "cell_type": "code",
   "execution_count": 46,
   "metadata": {
    "collapsed": false
   },
   "outputs": [
    {
     "data": {
      "image/png": "[encoded data removed]",
      "text/plain": [
       "<matplotlib.figure.Figure at 0x7f2315f38510>"
      ]
     },
     "metadata": {},
     "output_type": "display_data"
    }
   ],
   "source": [
    "plt.hist(simple_calc_vs_obj_deg, bins=20);"
   ]
  },
  {
   "cell_type": "code",
   "execution_count": 47,
   "metadata": {
    "collapsed": false
   },
   "outputs": [
    {
     "data": {
      "image/png": "[encoded data removed]",
      "text/plain": [
       "<matplotlib.figure.Figure at 0x7f2315decc90>"
      ]
     },
     "metadata": {},
     "output_type": "display_data"
    }
   ],
   "source": [
    "plt.hist(complex_calc_vs_obj_deg, bins=20);"
   ]
  },
  {
   "cell_type": "markdown",
   "metadata": {
    "collapsed": true
   },
   "source": [
    "### updating voronoi function to take into account normals"
   ]
  },
  {
   "cell_type": "raw",
   "metadata": {
    "collapsed": true
   },
   "source": [
    "def old_find_voronoi_seeds(simple_vertices, complex_vertices):\n",
    "    '''\n",
    "    Finds those points on the complex mesh that correspoind best to the\n",
    "    simple mesh while forcing a one-to-one mapping\n",
    "    '''\n",
    "    import numpy as np\n",
    "    import scipy.spatial as spatial\n",
    "    # make array for writing in final voronoi seed indices\n",
    "    voronoi_seed_idx = np.zeros((simple_vertices.shape[0],), dtype='int64')-1\n",
    "    missing = np.where(voronoi_seed_idx==-1)[0].shape[0]\n",
    "    mapping_single = np.zeros_like(voronoi_seed_idx)\n",
    "\n",
    "    neighbours = 0\n",
    "    col = 0\n",
    "\n",
    "    while missing != 0:\n",
    "\n",
    "        neighbours += 100\n",
    "        # find nearest neighbours\n",
    "        inaccuracy, mapping  = spatial.KDTree(complex_vertices).query(simple_vertices, k=neighbours)\n",
    "        # go through columns of nearest neighbours until unique mapping is\n",
    "        # achieved, if not before end of neighbours, extend number of neighbours\n",
    "        while col < neighbours:\n",
    "            # find all missing voronoi seed indices\n",
    "            missing_idx = np.where(voronoi_seed_idx==-1)[0]\n",
    "            missing = missing_idx.shape[0]\n",
    "            if missing == 0:\n",
    "                break\n",
    "            else:\n",
    "                # for missing entries fill in next neighbour\n",
    "                mapping_single[missing_idx]=np.copy(mapping[missing_idx,col])\n",
    "                # find unique values in mapping_single\n",
    "                unique, double_idx = np.unique(mapping_single, return_inverse = True)\n",
    "                # empty voronoi seed index\n",
    "                voronoi_seed_idx = np.zeros((simple_vertices.shape[0],), dtype='int64')-1\n",
    "                # fill voronoi seed idx with unique values\n",
    "                for u in range(unique.shape[0]):\n",
    "                    # find the indices of this value in mapping\n",
    "                    entries = np.where(double_idx==u)[0]\n",
    "                    # set the first entry to the value\n",
    "                    voronoi_seed_idx[entries[0]] = unique[u]\n",
    "                # go to next column\n",
    "                col += 1 \n",
    "                \n",
    "    return voronoi_seed_idx, inaccuracy"
   ]
  },
  {
   "cell_type": "code",
   "execution_count": 51,
   "metadata": {
    "collapsed": false
   },
   "outputs": [],
   "source": [
    "simple_vertices=simple_v\n",
    "simple_faces=simple_f\n",
    "complex_vertices=complex_v\n",
    "complex_faces=complex_f"
   ]
  },
  {
   "cell_type": "code",
   "execution_count": 52,
   "metadata": {
    "collapsed": true
   },
   "outputs": [],
   "source": [
    "cutoff_euclid=2.0\n",
    "cutoff_rad = np.pi/2"
   ]
  },
  {
   "cell_type": "code",
   "execution_count": 53,
   "metadata": {
    "collapsed": false
   },
   "outputs": [],
   "source": [
    "#def find_voronoi_seeds(simple_vertices, simple_faces, complex_vertices, complex_faces, cutoff_euclid=2.0, cutoff_rad=(np.pi/2)):\n",
    "'''\n",
    "Finds those points on the complex mesh that correspond best to the\n",
    "simple mesh (taking into accound euclidian distance and direction of normals)\n",
    "while forcing a one-to-one mapping\n",
    "'''\n",
    "from bintrees import FastAVLTree\n",
    "import scipy.spatial as spatial\n",
    "\n",
    "\n",
    "# calculate normals for simple and complex vertices\n",
    "simple_normals = calculate_normals(simple_vertices, simple_faces)\n",
    "complex_normals = calculate_normals(complex_vertices, complex_faces)\n",
    "\n",
    "# prepare array to store seeds\n",
    "voronoi_seed_idx = np.zeros((simple_vertices.shape[0],), dtype='int64')-1\n",
    "missing = np.where(voronoi_seed_idx==-1)[0].shape[0]\n",
    "\n",
    "# initialize with all vertices and small number of neighbours\n",
    "remaining_idxs = range(simple_vertices.shape[0])\n",
    "neighbours = 10\n",
    "\n",
    "#while missing > 0:\n",
    "\n",
    "# find nearest neighbours of simple vertices on complex mesh using kdtree\n",
    "inaccuracy, mapping  = spatial.KDTree(complex_vertices).query(simple_vertices[remaining_idxs], k=neighbours)\n",
    "\n",
    "# create tidy long-format lists\n",
    "simple_idxs = np.asarray([neighbours*[simple_idx] for simple_idx in remaining_idxs]).flatten()\n",
    "candidate_idxs = mapping.flatten()\n",
    "diff_euclid = inaccuracy.flatten()\n",
    "\n",
    "# for each vertex pair calculate the angle between their normals\n",
    "diff_normals, _ = compare_normals(simple_normals[simple_idxs], complex_normals[candidate_idxs])\n",
    "\n",
    "# remove those pairs that have an angle > 90° and/or distance > 2 mm\n",
    "mask = np.unique(np.concatenate((np.where(diff_euclid>cutoff_euclid)[0], np.where(diff_normals>cutoff_rad)[0])))\n",
    "diff_normals = np.delete(diff_normals, mask)\n",
    "diff_euclid = np.delete(diff_euclid, mask)\n",
    "simple_idxs = np.delete(simple_idxs, mask)\n",
    "candidate_idxs = np.delete(candidate_idxs, mask)\n",
    "\n",
    "# calculate scores for each vertex pair\n",
    "scores = (diff_normals-np.mean(diff_normals)) + (diff_euclid-np.mean(diff_euclid))\n",
    "\n",
    "# make a binary search tree from the scores and vertex pairs, \n",
    "# organisation is key: score, values: tuple(simple_vertex, candiate_complex_vertex)\n",
    "tree = FastAVLTree(zip(scores, zip(simple_idxs, candidate_idxs)))\n",
    "\n",
    "while tree.count > 0:\n",
    "\n",
    "    min_item =  tree.pop_min()\n",
    "    simple_idx = min_item[1][0]\n",
    "    candidate_idx = min_item[1][1]\n",
    "\n",
    "    if (voronoi_seed_idx[simple_idx] == -1):\n",
    "        if candidate_idx not in voronoi_seed_idx:\n",
    "            voronoi_seed_idx[simple_idx] = candidate_idx\n",
    "        else:\n",
    "            pass\n",
    "    else:\n",
    "        pass\n",
    "\n",
    "    missing = np.where(voronoi_seed_idx==-1)[0].shape[0]\n",
    "    if missing == 0:\n",
    "        break\n",
    "\n",
    "# if the tree is empty, but there are still seeds missing, increase the number of nearest neighbours\n",
    "# and repeat procedure, but only for those simple vertices that have not been matched yet\n",
    "neighbours *= 2\n",
    "remaining_idxs = np.where(voronoi_seed_idx==-1)[0]\n",
    "\n",
    "#return voronoi_seed_idx, inaccuracy"
   ]
  },
  {
   "cell_type": "code",
   "execution_count": 70,
   "metadata": {
    "collapsed": false
   },
   "outputs": [],
   "source": [
    "# find nearest neighbours of simple vertices on complex mesh using kdtree\n",
    "inaccuracy, mapping  = spatial.KDTree(complex_vertices).query(simple_vertices[remaining_idxs], k=neighbours)\n",
    "\n",
    "# create tidy long-format lists\n",
    "simple_idxs = np.asarray([neighbours*[simple_idx] for simple_idx in remaining_idxs]).flatten()\n",
    "candidate_idxs = mapping.flatten()\n",
    "diff_euclid = inaccuracy.flatten()\n",
    "\n",
    "# for each vertex pair calculate the angle between their normals\n",
    "diff_normals, _ = compare_normals(simple_normals[simple_idxs], complex_normals[candidate_idxs])\n",
    "\n",
    "# remove those pairs that have an angle > 90° and/or distance > 2 mm\n",
    "mask = np.unique(np.concatenate((np.where(diff_euclid>cutoff_euclid)[0], np.where(diff_normals>cutoff_rad)[0])))\n",
    "diff_normals = np.delete(diff_normals, mask)\n",
    "diff_euclid = np.delete(diff_euclid, mask)\n",
    "simple_idxs = np.delete(simple_idxs, mask)\n",
    "candidate_idxs = np.delete(candidate_idxs, mask)\n",
    "\n",
    "# calculate scores for each vertex pair\n",
    "scores = (diff_normals-np.mean(diff_normals)) + (diff_euclid-np.mean(diff_euclid))\n",
    "\n",
    "# make a binary search tree from the scores and vertex pairs, \n",
    "# organisation is key: score, values: tuple(simple_vertex, candiate_complex_vertex)\n",
    "tree = FastAVLTree(zip(scores, zip(simple_idxs, candidate_idxs)))\n",
    "\n",
    "while tree.count > 0:\n",
    "\n",
    "    min_item =  tree.pop_min()\n",
    "    simple_idx = min_item[1][0]\n",
    "    candidate_idx = min_item[1][1]\n",
    "\n",
    "    if (voronoi_seed_idx[simple_idx] == -1):\n",
    "        if candidate_idx not in voronoi_seed_idx:\n",
    "            voronoi_seed_idx[simple_idx] = candidate_idx\n",
    "        else:\n",
    "            pass\n",
    "    else:\n",
    "        pass\n",
    "\n",
    "    missing = np.where(voronoi_seed_idx==-1)[0].shape[0]\n",
    "    if missing == 0:\n",
    "        break"
   ]
  },
  {
   "cell_type": "code",
   "execution_count": 75,
   "metadata": {
    "collapsed": false
   },
   "outputs": [
    {
     "data": {
      "text/plain": [
       "12425"
      ]
     },
     "execution_count": 75,
     "metadata": {},
     "output_type": "execute_result"
    }
   ],
   "source": [
    "missing"
   ]
  },
  {
   "cell_type": "code",
   "execution_count": 76,
   "metadata": {
    "collapsed": false
   },
   "outputs": [
    {
     "data": {
      "text/plain": [
       "(14020, 20)"
      ]
     },
     "execution_count": 76,
     "metadata": {},
     "output_type": "execute_result"
    }
   ],
   "source": [
    "mapping.shape"
   ]
  },
  {
   "cell_type": "code",
   "execution_count": 33,
   "metadata": {
    "collapsed": false
   },
   "outputs": [
    {
     "data": {
      "text/plain": [
       "(array([   1410.,    8095.,   20639.,   39058.,   64011.,   93197.,\n",
       "         127030.,  165372.,  207334.,  251534.,  300810.,  350005.,\n",
       "         403252.,  455405.,  504093.,  547536.,  572877.,  527549.,\n",
       "         391912.,  275404.]),\n",
       " array([-1.36339085, -1.26389091, -1.16439096, -1.06489102, -0.96539108,\n",
       "        -0.86589113, -0.76639119, -0.66689124, -0.5673913 , -0.46789136,\n",
       "        -0.36839141, -0.26889147, -0.16939152, -0.06989158,  0.02960836,\n",
       "         0.12910831,  0.22860825,  0.3281082 ,  0.42760814,  0.52710808,\n",
       "         0.62660803]),\n",
       " <a list of 20 Patch objects>)"
      ]
     },
     "execution_count": 33,
     "metadata": {},
     "output_type": "execute_result"
    },
    {
     "data": {
      "image/png": "[encoded data removed]",
      "text/plain": [
       "<matplotlib.figure.Figure at 0x7f813857a910>"
      ]
     },
     "metadata": {},
     "output_type": "display_data"
    }
   ],
   "source": [
    "plt.hist(diff_normals-np.mean(diff_normals), alpha=0.5, bins=20)\n",
    "plt.hist((diff_euclid-np.mean(diff_euclid)), alpha=0.5, bins=20, color='darkred')"
   ]
  },
  {
   "cell_type": "code",
   "execution_count": 34,
   "metadata": {
    "collapsed": true
   },
   "outputs": [],
   "source": [
    "scores = (diff_normals-np.mean(diff_normals)) + (diff_euclid-np.mean(diff_euclid))"
   ]
  },
  {
   "cell_type": "code",
   "execution_count": 35,
   "metadata": {
    "collapsed": false
   },
   "outputs": [
    {
     "data": {
      "image/png": "[encoded data removed]",
      "text/plain": [
       "<matplotlib.figure.Figure at 0x7f813814bfd0>"
      ]
     },
     "metadata": {},
     "output_type": "display_data"
    }
   ],
   "source": [
    "plt.hist(scores);"
   ]
  },
  {
   "cell_type": "code",
   "execution_count": 38,
   "metadata": {
    "collapsed": true
   },
   "outputs": [],
   "source": [
    "tree = FastAVLTree(zip(scores, zip(simple_idxs, candidate_idxs)))"
   ]
  },
  {
   "cell_type": "code",
   "execution_count": 39,
   "metadata": {
    "collapsed": true
   },
   "outputs": [],
   "source": [
    "voronoi_seed_idx = np.zeros((simple_vertices.shape[0],), dtype='int64')-1\n",
    "missing = np.where(voronoi_seed_idx==-1)[0].shape[0]"
   ]
  },
  {
   "cell_type": "code",
   "execution_count": 44,
   "metadata": {
    "collapsed": false
   },
   "outputs": [],
   "source": [
    "min_item =  tree.pop_min()\n",
    "simple_idx = min_item[1][0]\n",
    "candidate_idx = min_item[1][1]"
   ]
  },
  {
   "cell_type": "code",
   "execution_count": 45,
   "metadata": {
    "collapsed": false
   },
   "outputs": [
    {
     "data": {
      "text/plain": [
       "44945"
      ]
     },
     "execution_count": 45,
     "metadata": {},
     "output_type": "execute_result"
    }
   ],
   "source": [
    "simple_idx"
   ]
  },
  {
   "cell_type": "code",
   "execution_count": 46,
   "metadata": {
    "collapsed": false
   },
   "outputs": [
    {
     "data": {
      "text/plain": [
       "404362"
      ]
     },
     "execution_count": 46,
     "metadata": {},
     "output_type": "execute_result"
    }
   ],
   "source": [
    "candidate_idx"
   ]
  },
  {
   "cell_type": "code",
   "execution_count": 49,
   "metadata": {
    "collapsed": false
   },
   "outputs": [],
   "source": [
    "test_normals_simple =calculate_normals(simple_v, simple_f)\n",
    "test_normals_complex =calculate_normals(complex_v, complex_f)"
   ]
  },
  {
   "cell_type": "code",
   "execution_count": 65,
   "metadata": {
    "collapsed": false
   },
   "outputs": [],
   "source": [
    "test_normal, _ = compare_normals(test_normals_simple[simple_idx][np.newaxis, :], test_normals_complex[candidate_idx][np.newaxis, :])"
   ]
  },
  {
   "cell_type": "code",
   "execution_count": 66,
   "metadata": {
    "collapsed": false
   },
   "outputs": [],
   "source": [
    "test_euclid = inaccuracy[simple_idx][np.where(mapping[simple_idx]==candidate_idx)]"
   ]
  },
  {
   "cell_type": "code",
   "execution_count": 67,
   "metadata": {
    "collapsed": false
   },
   "outputs": [
    {
     "data": {
      "text/plain": [
       "array([-1.9845857])"
      ]
     },
     "execution_count": 67,
     "metadata": {},
     "output_type": "execute_result"
    }
   ],
   "source": [
    "test_normal - np.mean(diff_normals) + test_euclid - np.mean(diff_euclid)"
   ]
  },
  {
   "cell_type": "markdown",
   "metadata": {},
   "source": [
    "### check new mapping"
   ]
  },
  {
   "cell_type": "code",
   "execution_count": 113,
   "metadata": {
    "collapsed": false
   },
   "outputs": [],
   "source": [
    "seed_mapping_fixed = np.load('/scr/ilz3/myelinconnect/all_data_on_simple_surf/seeds_fixed/BP4T_rh_highres2lowres_seeds_test.npy')"
   ]
  },
  {
   "cell_type": "code",
   "execution_count": 117,
   "metadata": {
    "collapsed": true
   },
   "outputs": [],
   "source": [
    "obj_diff_rad_fixed, obj_diff_deg_fixed = compare_normals(obj_simple_normals, obj_complex_normals[seed_mapping_fixed])"
   ]
  },
  {
   "cell_type": "code",
   "execution_count": 118,
   "metadata": {
    "collapsed": true
   },
   "outputs": [],
   "source": [
    "calc_diff_rad_fixed, calc_diff_deg_fixed = compare_normals(calc_simple_normals, calc_complex_normals[seed_mapping_fixed])"
   ]
  },
  {
   "cell_type": "code",
   "execution_count": 120,
   "metadata": {
    "collapsed": false
   },
   "outputs": [
    {
     "data": {
      "image/png": "[encoded data removed]",
      "text/plain": [
       "<matplotlib.figure.Figure at 0x7f22e5126a90>"
      ]
     },
     "metadata": {},
     "output_type": "display_data"
    }
   ],
   "source": [
    "plt.hist(np.nan_to_num(obj_diff_deg_fixed), bins=20, alpha=0.8);\n",
    "plt.hist(np.nan_to_num(calc_diff_deg_fixed), bins=10, alpha=0.3, color='darkred');"
   ]
  },
  {
   "cell_type": "code",
   "execution_count": null,
   "metadata": {
    "collapsed": true
   },
   "outputs": [],
   "source": []
  }
 ],
 "metadata": {
  "kernelspec": {
   "display_name": "Python 2",
   "language": "python",
   "name": "python2"
  },
  "language_info": {
   "codemirror_mode": {
    "name": "ipython",
    "version": 2
   },
   "file_extension": ".py",
   "mimetype": "text/x-python",
   "name": "python",
   "nbconvert_exporter": "python",
   "pygments_lexer": "ipython2",
   "version": "2.7.11"
  }
 },
 "nbformat": 4,
 "nbformat_minor": 0
}
