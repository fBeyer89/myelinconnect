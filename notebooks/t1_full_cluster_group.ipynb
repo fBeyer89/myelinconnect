{
 "cells": [
  {
   "cell_type": "code",
   "execution_count": 1,
   "metadata": {
    "collapsed": false
   },
   "outputs": [],
   "source": [
    "%gui wx\n",
    "%matplotlib inline"
   ]
  },
  {
   "cell_type": "markdown",
   "metadata": {},
   "source": [
    "#### load libraries, functions, colormap"
   ]
  },
  {
   "cell_type": "code",
   "execution_count": 2,
   "metadata": {
    "collapsed": false
   },
   "outputs": [],
   "source": [
    "from __future__ import division"
   ]
  },
  {
   "cell_type": "code",
   "execution_count": 3,
   "metadata": {
    "collapsed": false
   },
   "outputs": [],
   "source": [
    "import numpy as np\n",
    "import pandas as pd\n",
    "import scipy.stats as stats\n",
    "import matplotlib.pyplot as plt\n",
    "from mayavi import mlab\n",
    "import seaborn as sns\n",
    "from vtk_rw import read_vtk, write_vtk"
   ]
  },
  {
   "cell_type": "markdown",
   "metadata": {},
   "source": [
    "cmap created with sns.palplot(sns.color_palette(\"Set2\", 7)), then adding grey in the beginning. For use with mayavi transformed to array, added alpha value and multiply all by 255"
   ]
  },
  {
   "cell_type": "code",
   "execution_count": 4,
   "metadata": {
    "collapsed": false
   },
   "outputs": [],
   "source": [
    "cmap_7=np.zeros((8,4))\n",
    "cmap_7[0,:]=[0.6, 0.6, 0.6, 1]\n",
    "cmap_7[7,:]=[0.8, 0.6151497514677574, 0.11111, 1]\n",
    "cmap_7[2,:]=[0.89573241682613591, 0.76784315109252932, 0.58182240093455595,1]\n",
    "cmap_7[3,:]=[0.86, 0.37119999999999997, 0.34,1]\n",
    "cmap_7[4,:]=[0.9677975592919913, 0.44127456009157356, 0.5358103155058701,1]\n",
    "cmap_7[5,:]=[0.46810256823426105, 0.6699492535792404, 0.1928958739904499,1]\n",
    "cmap_7[6,:]=[0.20125317221201128, 0.6907920815379025, 0.6,1]\n",
    "cmap_7[1,:]=[0.21044753832183283, 0.55, 0.7,1]\n",
    "cmap_255_7=np.zeros_like(cmap_7)\n",
    "for row in range(cmap_7.shape[0]):\n",
    "    cmap_255_7[row]=[np.floor(i * 255) for i in cmap_7[row]]\n",
    "cmap_255_7=cmap_255_7.astype(int)\n",
    "\n",
    "cmap_8=np.zeros((9,4))\n",
    "cmap_8[0,:]=[0.6, 0.6, 0.6, 1]\n",
    "cmap_8[8,:]=[0.8, 0.6151497514677574, 0.11111, 1]\n",
    "cmap_8[2,:]=[0.89573241682613591, 0.76784315109252932, 0.58182240093455595,1]\n",
    "cmap_8[3,:]=[0.86, 0.37119999999999997, 0.34,1]\n",
    "#cmap_8[4,:]=[0.9677975592919913, 0.44127456009157356, 0.5358103155058701,1]\n",
    "cmap_8[4,:]=[0.75, 0.4, 0.5,1]\n",
    "cmap_8[5,:]=[0.8616090647292522, 0.536495730113334, 0.19548899031476086,1]\n",
    "cmap_8[6,:]=[0.46810256823426105, 0.6699492535792404, 0.1928958739904499,1]\n",
    "cmap_8[7,:]=[0.20125317221201128, 0.6907920815379025, 0.6,1]\n",
    "cmap_8[1,:]=[0.21044753832183283, 0.55, 0.7,1]\n",
    "#cmap_9[0,:]=[0.0,0.0,0.0,1.0]\n",
    "cmap_255_8=np.zeros_like(cmap_8)\n",
    "for row in range(cmap_8.shape[0]):\n",
    "    cmap_255_8[row]=[np.floor(i * 255) for i in cmap_8[row]]\n",
    "cmap_255_8=cmap_255_8.astype(int)\n",
    "\n",
    "cmap_9=np.zeros((10,4))\n",
    "cmap_9[0,:]=[0.6, 0.6, 0.6, 1]\n",
    "cmap_9[9,:]=[0.8, 0.6151497514677574, 0.11111, 1]\n",
    "cmap_9[2,:]=[0.89573241682613591, 0.76784315109252932, 0.58182240093455595,1]\n",
    "cmap_9[3,:]=[0.86, 0.37119999999999997, 0.34,1]\n",
    "cmap_9[4,:]=[0.9677975592919913, 0.44127456009157356, 0.5358103155058701,1]\n",
    "cmap_9[5,:]=[0.75, 0.4, 0.5,1]\n",
    "cmap_9[6,:]=[0.8616090647292522, 0.536495730113334, 0.19548899031476086,1]\n",
    "cmap_9[7,:]=[0.46810256823426105, 0.6699492535792404, 0.1928958739904499,1]\n",
    "cmap_9[8,:]=[0.20125317221201128, 0.6907920815379025, 0.6,1]\n",
    "cmap_9[1,:]=[0.21044753832183283, 0.55, 0.7,1]\n",
    "#cmap_9[0,:]=[0.0,0.0,0.0,1.0]\n",
    "cmap_255_9=np.zeros_like(cmap_9)\n",
    "for row in range(cmap_9.shape[0]):\n",
    "    cmap_255_9[row]=[np.floor(i * 255) for i in cmap_9[row]]\n",
    "cmap_255_9=cmap_255_9.astype(int)\n",
    "\n",
    "cmap=[cmap_7, cmap_8, cmap_9]\n",
    "cmap_255=[cmap_255_7, cmap_255_8, cmap_255_9]"
   ]
  },
  {
   "cell_type": "markdown",
   "metadata": {},
   "source": [
    "#### load relevant files for subject and hemisphere"
   ]
  },
  {
   "cell_type": "code",
   "execution_count": 26,
   "metadata": {
    "collapsed": false
   },
   "outputs": [],
   "source": [
    "hemi='rh'\n",
    "embed=3\n",
    "k=17\n",
    "pal=cmap[0]\n",
    "pal_255=cmap_255[0]\n",
    "\n",
    "mesh_file = '/scr/ilz3/myelinconnect/all_data_on_simple_surf/surfs/lowres_%s_d.vtk'%hemi\n",
    "mask_file = '/scr/ilz3/myelinconnect/all_data_on_simple_surf/masks/%s_mask.1D.roi'%hemi\n",
    "embed_file='/scr/ilz3/myelinconnect/all_data_on_simple_surf/clust_old/raw/%s_embed_%s.csv'%(hemi, str(embed))\n",
    "kmeans_file='/scr/ilz3/myelinconnect/all_data_on_simple_surf/clust_old/raw/%s_kmeans_%s_embed_%s.csv'%(hemi, str(k), str(embed))\n",
    "\n",
    "\n",
    "#func_file=data_dir+'rest1_1_meshsmooth_%s/%s_%s_mid_simple_0.01_rest_%s_smoothdata.vtk'%(smooth, sub, hemi, hemi)\n",
    "#t1_file=data_dir+'t1_smooth_1.5_mesh/%s_%s_mid_simple_0.01_t1_smooth1.5_%s.vtk'%(sub, hemi, hemi)\n",
    "#var_file=data_dir+'/results_k%s_s%s_other/%s_%s_cluster_var.csv'%(str(n_components_kmeans),smooth, sub, hemi)\n",
    "#t_file=data_dir+'/results_k%s_s%s_other/%s_%s_cluster_avg_t.csv'%(str(n_components_kmeans),smooth, sub, hemi)\n",
    "#p_file=data_dir+'/results_k%s_s%s_other/%s_%s_cluster_avg_p.csv'%(str(n_components_kmeans),smooth, sub, hemi)\n",
    "#fig_file=data_dir+'/results_k%s_s%s_other/%s_%s_cluster_violins.svg'%(str(n_components_kmeans),smooth, sub, hemi)"
   ]
  },
  {
   "cell_type": "code",
   "execution_count": 27,
   "metadata": {
    "collapsed": false
   },
   "outputs": [],
   "source": [
    "v,f,d = read_vtk(mesh_file)\n",
    "\n",
    "mask = np.loadtxt(mask_file)[:,0]\n",
    "embed=np.loadtxt(embed_file, delimiter=',')\n",
    "clust=np.loadtxt(kmeans_file, delimiter=',')\n",
    "\n",
    "x=v[:,0]\n",
    "y=v[:,1]\n",
    "z=v[:,2]\n",
    "triangles=f"
   ]
  },
  {
   "cell_type": "code",
   "execution_count": 28,
   "metadata": {
    "collapsed": false
   },
   "outputs": [],
   "source": [
    "mlab.figure(bgcolor=(1, 1, 1))\n",
    "img = mlab.triangular_mesh(x,y,z,triangles,scalars=clust, colormap='spectral')\n",
    "#lut = img.module_manager.scalar_lut_manager.lut.table.to_array()\n",
    "#img.module_manager.scalar_lut_manager.lut.table = pal_255\n",
    "mlab.draw()\n",
    "mlab.show()"
   ]
  },
  {
   "cell_type": "markdown",
   "metadata": {},
   "source": [
    "#### Get T1 values in all clusters"
   ]
  },
  {
   "cell_type": "code",
   "execution_count": null,
   "metadata": {
    "collapsed": false
   },
   "outputs": [],
   "source": [
    "# make a list of dictionaries for each cluster k0, k1, ...(0=mask to max kmeans) \n",
    "# and subcluster s0_1, s1_1, s1_2, ..(1 to max subcluster, no 0 subcluster)\n",
    "t1_clust={}\n",
    "for c in range(int(clust.max()+1)):\n",
    "    t1_clust['k'+str(c)]=[]\n",
    "\n",
    "# write all t1 values in one cluster into the list of its dictionary\n",
    "for i in range(len(t1)):\n",
    "    if t1[i]>1000:\n",
    "        k=int(clust[i])\n",
    "        t1_clust['k'+str(k)].append(t1[i])"
   ]
  },
  {
   "cell_type": "markdown",
   "metadata": {},
   "source": [
    "#### Compare variance of kmeans cluster vs all other clusters and mean between all clusters"
   ]
  },
  {
   "cell_type": "code",
   "execution_count": null,
   "metadata": {
    "collapsed": false
   },
   "outputs": [],
   "source": [
    "levene_array=np.zeros((6,int(clust.max())))\n",
    "col=[]\n",
    "sigk=[]\n",
    "for c1 in range(int(clust.max())):\n",
    "    a=t1_clust['k'+str(c1+1)]\n",
    "    b=[]\n",
    "    for c2 in range(int(clust.max())):\n",
    "        if (c2+1) != (c1+1):\n",
    "            b+=t1_clust['k'+str(c2+1)]\n",
    "    W,p=stats.levene(a, b)\n",
    "    col.append(int(c1+1))\n",
    "    levene_array[0,c1]=W\n",
    "    levene_array[1,c1]=p\n",
    "    levene_array[2,c1]=np.var(a)\n",
    "    levene_array[3,c1]=np.var(b)\n",
    "    if p <(0.05/int(clust.max())):\n",
    "        levene_array[4,c1]=True\n",
    "    else:\n",
    "        levene_array[4,c1]=False\n",
    "    \n",
    "    if np.var(a)<np.var(b):\n",
    "        levene_array[5,c1]=True\n",
    "    else:\n",
    "        levene_array[5,c1]=False\n",
    "        \n",
    "    if (levene_array[4,c1]==True) and (levene_array[5,c1]==True):\n",
    "        sigk.append(c1+1)\n",
    "    #print 'levene k'+str(c1+1)+' vs all other clusters:', W, p\n",
    "    #print 'variance k'+str(c1+1), np.var(a)\n",
    "    #print 'variance all others', np.var(b)\n",
    "    #print ''\n",
    "\n",
    "\n",
    "    \n",
    "levene_df=pd.DataFrame(levene_array, columns=col, index=['W', 'p', 'var k', 'var other', 'p<0.05/k', 'var decrease'])\n",
    "levene_df.to_csv(var_file)"
   ]
  },
  {
   "cell_type": "code",
   "execution_count": null,
   "metadata": {
    "collapsed": false
   },
   "outputs": [],
   "source": [
    "t_array=np.zeros((int(clust.max()),int(clust.max())))\n",
    "p_array=np.zeros((int(clust.max()),int(clust.max())))\n",
    "col2=[]\n",
    "for c1 in range(int(clust.max())):\n",
    "    for c2 in range(int(clust.max())):\n",
    "        if c2>=c1:\n",
    "            a=t1_clust['k'+str(c1+1)]\n",
    "            b=t1_clust['k'+str(c2+1)]\n",
    "            t,p=stats.ttest_ind(a, b)\n",
    "            t_array[c1][c2]=t\n",
    "            p_array[c1][c2]=p\n",
    "    col2.append(c1+1)\n",
    "t_df=pd.DataFrame(t_array, columns=col2, index=col2)\n",
    "p_df=pd.DataFrame(p_array, columns=col2, index=col2)\n",
    "\n",
    "t_df.to_csv(t_file)\n",
    "p_df.to_csv(p_file)"
   ]
  },
  {
   "cell_type": "markdown",
   "metadata": {},
   "source": [
    "#### Plot clustering, T1 values, Levene's statistics and T statistics"
   ]
  },
  {
   "cell_type": "code",
   "execution_count": null,
   "metadata": {
    "collapsed": false
   },
   "outputs": [],
   "source": [
    "plot_list=[]\n",
    "for c in range(int(clust.max())):\n",
    "    plot_list+=[np.array(t1_clust['k'+str(c+1)])]\n",
    "    \n",
    "names=[]\n",
    "for c in range(int(clust.max())):\n",
    "    names.append(str(c+1))"
   ]
  },
  {
   "cell_type": "code",
   "execution_count": null,
   "metadata": {
    "collapsed": false
   },
   "outputs": [],
   "source": [
    "sns.palplot(pal)"
   ]
  },
  {
   "cell_type": "code",
   "execution_count": null,
   "metadata": {
    "collapsed": false
   },
   "outputs": [],
   "source": [
    "sns.set_context('notebook', font_scale=1.8)\n",
    "fig = plt.figure(figsize=(10,10))\n",
    "sns.violinplot(plot_list, color=pal[1:], names=names, saturation=1)\n",
    "sns.axlabel('cluster #','T1 value', fontsize=22)\n",
    "savefig(fig_file)"
   ]
  },
  {
   "cell_type": "raw",
   "metadata": {},
   "source": [
    "mlab.figure(bgcolor=(1, 1, 1))\n",
    "img = mlab.triangular_mesh(xt,yt,zt,trianglest,scalars=clust, colormap='Set2')\n",
    "lut = img.module_manager.scalar_lut_manager.lut.table.to_array()\n",
    "img.module_manager.scalar_lut_manager.lut.table = pal_255\n",
    "mlab.draw()\n",
    "mlab.show()"
   ]
  },
  {
   "cell_type": "markdown",
   "metadata": {},
   "source": [
    "Variance comparison"
   ]
  },
  {
   "cell_type": "code",
   "execution_count": null,
   "metadata": {
    "collapsed": false
   },
   "outputs": [],
   "source": [
    "pd.options.display.float_format = '{:,.2e}'.format\n",
    "levene_df"
   ]
  },
  {
   "cell_type": "code",
   "execution_count": null,
   "metadata": {
    "collapsed": false
   },
   "outputs": [],
   "source": [
    "pd.options.display.float_format = '{:,.0f}'.format\n",
    "levene_df.tail(2)"
   ]
  },
  {
   "cell_type": "code",
   "execution_count": null,
   "metadata": {
    "collapsed": false
   },
   "outputs": [],
   "source": [
    "sig=np.zeros_like(clust)\n",
    "for i in sigk: \n",
    "    sig[clust == i] = i"
   ]
  },
  {
   "cell_type": "code",
   "execution_count": null,
   "metadata": {
    "collapsed": false
   },
   "outputs": [],
   "source": [
    "sigk"
   ]
  },
  {
   "cell_type": "code",
   "execution_count": null,
   "metadata": {
    "collapsed": false
   },
   "outputs": [],
   "source": [
    "allcort=np.where(clust!=0)[0].shape[0]\n",
    "sigcort=np.where(sig!=0)[0].shape[0]\n",
    "sigpart=sigcort/allcort\n",
    "print float(sigpart)"
   ]
  },
  {
   "cell_type": "code",
   "execution_count": null,
   "metadata": {
    "collapsed": false
   },
   "outputs": [],
   "source": [
    "mlab.figure(bgcolor=(1, 1, 1))\n",
    "img = mlab.triangular_mesh(xt,yt,zt,trianglest,scalars=sig, colormap='Set2')\n",
    "lut = img.module_manager.scalar_lut_manager.lut.table.to_array()\n",
    "img.module_manager.scalar_lut_manager.lut.table = pal_255\n",
    "mlab.draw()\n",
    "mlab.show()"
   ]
  },
  {
   "cell_type": "markdown",
   "metadata": {},
   "source": [
    "T test (T values, p values)"
   ]
  },
  {
   "cell_type": "code",
   "execution_count": null,
   "metadata": {
    "collapsed": false
   },
   "outputs": [],
   "source": [
    "pd.options.display.float_format = '{:,.2f}'.format\n",
    "t_df"
   ]
  },
  {
   "cell_type": "code",
   "execution_count": null,
   "metadata": {
    "collapsed": false
   },
   "outputs": [],
   "source": [
    "pd.options.display.float_format = '{:,.2e}'.format\n",
    "p_df"
   ]
  }
 ],
 "metadata": {
  "kernelspec": {
   "display_name": "Python 2",
   "language": "python",
   "name": "python2"
  },
  "language_info": {
   "codemirror_mode": {
    "name": "ipython",
    "version": 2
   },
   "file_extension": ".py",
   "mimetype": "text/x-python",
   "name": "python",
   "nbconvert_exporter": "python",
   "pygments_lexer": "ipython2",
   "version": "2.7.3"
  }
 },
 "nbformat": 4,
 "nbformat_minor": 0
}
