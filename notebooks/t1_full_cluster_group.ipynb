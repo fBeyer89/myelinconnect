{
 "cells": [
  {
   "cell_type": "code",
   "execution_count": 1,
   "metadata": {
    "collapsed": false
   },
   "outputs": [],
   "source": [
    "%gui wx\n",
    "%matplotlib inline"
   ]
  },
  {
   "cell_type": "code",
   "execution_count": 2,
   "metadata": {
    "collapsed": false
   },
   "outputs": [],
   "source": [
    "from __future__ import division\n",
    "import numpy as np\n",
    "import pandas as pd\n",
    "import scipy.stats as stats\n",
    "import matplotlib.pyplot as plt\n",
    "from mayavi import mlab\n",
    "import seaborn as sns\n",
    "from vtk_rw import read_vtk, write_vtk\n",
    "import operator"
   ]
  },
  {
   "cell_type": "code",
   "execution_count": 3,
   "metadata": {
    "collapsed": false
   },
   "outputs": [],
   "source": [
    "def make_cmap(c):\n",
    "    cmap = np.asarray(sns.color_palette('cubehelix', c-1))\n",
    "    cmap = np.concatenate((np.array([[0.4,0.4,0.4]]), cmap), axis=0)\n",
    "    cmap = np.concatenate((cmap, np.ones((c,1))), axis=1)\n",
    "    cmap_seaborn = [tuple(cmap[i]) for i in range(len(cmap))]\n",
    "\n",
    "    cmap_255=np.zeros_like(cmap)\n",
    "    for row in range(cmap.shape[0]):\n",
    "        cmap_255[row]=[np.floor(i * 255) for i in cmap[row]]\n",
    "    cmap_255=cmap_255.astype(int)\n",
    "    \n",
    "    return cmap_seaborn, cmap_255"
   ]
  },
  {
   "cell_type": "code",
   "execution_count": 4,
   "metadata": {
    "collapsed": true
   },
   "outputs": [],
   "source": [
    "def chebapprox(profiles, degree):\n",
    "    profiles=np.array(profiles)\n",
    "    cheb_coeffs=np.zeros((profiles.shape[0],degree+1))\n",
    "    cheb_polynoms=np.zeros((profiles.shape[0],profiles.shape[1]))\n",
    "    for c in range(profiles.shape[0]):\n",
    "        x=np.array(range(profiles.shape[1]))\n",
    "        y=profiles[c]\n",
    "        cheb_coeffs[c]=np.polynomial.chebyshev.chebfit(x, y, degree)\n",
    "        cheb_polynoms[c]=np.polynomial.chebyshev.chebval(x, cheb_coeffs[c])\n",
    "    return cheb_coeffs, cheb_polynoms"
   ]
  },
  {
   "cell_type": "markdown",
   "metadata": {},
   "source": [
    "### load data"
   ]
  },
  {
   "cell_type": "code",
   "execution_count": 5,
   "metadata": {
    "collapsed": false
   },
   "outputs": [],
   "source": [
    "hemi='rh'\n",
    "embed=3\n",
    "k=7\n",
    "pal, pal_255 = make_cmap(k+1)\n",
    "\n",
    "mesh_file = '/scr/ilz3/myelinconnect/all_data_on_simple_surf/surfs/lowres_%s_d.vtk'%hemi\n",
    "mask_file = '/scr/ilz3/myelinconnect/all_data_on_simple_surf/masks/%s_mask.1D.roi'%hemi\n",
    "embed_file='/scr/ilz3/myelinconnect/all_data_on_simple_surf/clust_old/thr/%s_embed_%s.csv'%(hemi, str(embed))\n",
    "kmeans_file='/scr/ilz3/myelinconnect/all_data_on_simple_surf/clust_old/thr/%s_kmeans_%s_embed_%s.csv'%(hemi, str(k), str(embed))\n",
    "t1_file = '/scr/ilz3/myelinconnect/all_data_on_simple_surf/t1/avg_%s_profiles.npy'%(hemi)\n",
    "\n",
    "#var_file=data_dir+'/results_k%s_s%s_other/%s_%s_cluster_var.csv'%(str(n_components_kmeans),smooth, sub, hemi)\n",
    "#t_file=data_dir+'/results_k%s_s%s_other/%s_%s_cluster_avg_t.csv'%(str(n_components_kmeans),smooth, sub, hemi)\n",
    "#p_file=data_dir+'/results_k%s_s%s_other/%s_%s_cluster_avg_p.csv'%(str(n_components_kmeans),smooth, sub, hemi)\n",
    "#fig_file=data_dir+'/results_k%s_s%s_other/%s_%s_cluster_violins.svg'%(str(n_components_kmeans),smooth, sub, hemi)"
   ]
  },
  {
   "cell_type": "code",
   "execution_count": 6,
   "metadata": {
    "collapsed": false
   },
   "outputs": [],
   "source": [
    "v,f,d = read_vtk(mesh_file)\n",
    "x=v[:,0]\n",
    "y=v[:,1]\n",
    "z=v[:,2]\n",
    "triangles=f\n",
    "\n",
    "\n",
    "mask = np.loadtxt(mask_file)[:,0]\n",
    "embed=np.loadtxt(embed_file, delimiter=',')\n",
    "clust=np.loadtxt(kmeans_file, delimiter=',')\n",
    "t1=np.load(t1_file)"
   ]
  },
  {
   "cell_type": "markdown",
   "metadata": {},
   "source": [
    "### plot cluster / embedding"
   ]
  },
  {
   "cell_type": "code",
   "execution_count": 7,
   "metadata": {
    "collapsed": false
   },
   "outputs": [
    {
     "name": "stderr",
     "output_type": "stream",
     "text": [
      "/usr/lib/python2.7/dist-packages/traits/has_traits.py:1928: FutureWarning: comparison to `None` will result in an elementwise object comparison in the future.\n",
      "  setattr( self, name, value )\n"
     ]
    }
   ],
   "source": [
    "mlab.figure(bgcolor=(1, 1, 1))\n",
    "img = mlab.triangular_mesh(x,y,z,triangles,scalars=clust, colormap='RdBu')\n",
    "lut = img.module_manager.scalar_lut_manager.lut.table.to_array()\n",
    "img.module_manager.scalar_lut_manager.lut.table = pal_255\n",
    "mlab.draw()\n",
    "mlab.show()"
   ]
  },
  {
   "cell_type": "markdown",
   "metadata": {},
   "source": [
    "### Get T1 values in all clusters"
   ]
  },
  {
   "cell_type": "code",
   "execution_count": 120,
   "metadata": {
    "collapsed": false
   },
   "outputs": [],
   "source": [
    "# make a list of dictionaries for each cluster k0, k1, ...(0=mask to max kmeans) \n",
    "t1_clust={}\n",
    "for c in range(int(clust.max()+1)):\n",
    "    t1_clust['k'+str(c)]=[]\n",
    "\n",
    "# write all t1 profiles in one cluster into the list of its dictionary\n",
    "for i in range(len(t1)):\n",
    "    k=int(clust[i])\n",
    "    t1_clust['k'+str(k)].append(t1[i])\n",
    "    \n",
    "# make other dictionaries with 3 to 7 intracortical profiles and averages, thresholded  1400 to 2500 mean\n",
    "t1_clust_37={}\n",
    "t1_clust_37_avg={}\n",
    "t1_clust_37_coeff_0={}\n",
    "t1_clust_37_coeff_1={}\n",
    "t1_clust_37_coeff_2={}\n",
    "t1_clust_37_coeff_3={}\n",
    "for c in range(int(clust.max()+1)):\n",
    "    t1_clust_37['k'+str(c)]=[pro[3:8] for pro in t1_clust['k'+str(c)]\n",
    "                            if np.mean(pro[3:8]) < 2500\n",
    "                            and np.mean(pro[3:8]) > 1500]\n",
    "    t1_clust_37_avg['k'+str(c)]=[np.mean(pro_37) for pro_37 in t1_clust_37['k'+str(c)]]\n",
    "    \n",
    "    cheb_coeffs, cheb_polynoms = chebapprox(t1_clust_37['k'+str(c)], 10)\n",
    "    \n",
    "    t1_clust_37_coeff_0['k'+str(c)]=[cheb_coeffs[j][0] for j in range(len(t1_clust_37['k'+str(c)]))]\n",
    "    t1_clust_37_coeff_1['k'+str(c)]=[cheb_coeffs[j][1] for j in range(len(t1_clust_37['k'+str(c)]))]\n",
    "    t1_clust_37_coeff_2['k'+str(c)]=[cheb_coeffs[j][2] for j in range(len(t1_clust_37['k'+str(c)]))]\n",
    "    t1_clust_37_coeff_3['k'+str(c)]=[cheb_coeffs[j][3] for j in range(len(t1_clust_37['k'+str(c)]))]\n"
   ]
  },
  {
   "cell_type": "markdown",
   "metadata": {},
   "source": [
    "### Compare variance of kmeans cluster vs all other clusters and mean between all clusters"
   ]
  },
  {
   "cell_type": "code",
   "execution_count": 121,
   "metadata": {
    "collapsed": false
   },
   "outputs": [],
   "source": [
    "T = t1_clust_37_avg"
   ]
  },
  {
   "cell_type": "code",
   "execution_count": 122,
   "metadata": {
    "collapsed": false
   },
   "outputs": [],
   "source": [
    "levene_array=np.zeros((6,int(clust.max())))\n",
    "col=[]\n",
    "sigk=[]\n",
    "for c1 in range(int(clust.max())):\n",
    "    a=T['k'+str(c1+1)]\n",
    "    b=[]\n",
    "    for c2 in range(int(clust.max())):\n",
    "        if (c2+1) != (c1+1):\n",
    "            b+=T['k'+str(c2+1)]\n",
    "    W,p=stats.levene(a, b)\n",
    "    col.append(int(c1+1))\n",
    "    levene_array[0,c1]=W\n",
    "    levene_array[1,c1]=p\n",
    "    levene_array[2,c1]=np.var(a)\n",
    "    levene_array[3,c1]=np.var(b)\n",
    "    if p <(0.05/int(clust.max())):\n",
    "        levene_array[4,c1]=True\n",
    "    else:\n",
    "        levene_array[4,c1]=False\n",
    "    \n",
    "    if np.var(a)<np.var(b):\n",
    "        levene_array[5,c1]=True\n",
    "    else:\n",
    "        levene_array[5,c1]=False\n",
    "        \n",
    "    if (levene_array[4,c1]==True) and (levene_array[5,c1]==True):\n",
    "        sigk.append(c1+1)\n",
    "\n",
    "levene_df=pd.DataFrame(levene_array, columns=col, index=['W', 'p', 'var k', 'var other', 'p<0.05/k', 'var decrease'])\n",
    "#levene_df.to_csv(var_file)\n",
    "\n",
    "\n",
    "t_array=np.zeros((int(clust.max()),int(clust.max())))\n",
    "p_array=np.zeros((int(clust.max()),int(clust.max())))\n",
    "col2=[]\n",
    "for c1 in range(int(clust.max())):\n",
    "    for c2 in range(int(clust.max())):\n",
    "        if c2>=c1:\n",
    "            a=T['k'+str(c1+1)]\n",
    "            b=T['k'+str(c2+1)]\n",
    "            t,p=stats.ttest_ind(a, b)\n",
    "            t_array[c1][c2]=t\n",
    "            p_array[c1][c2]=p\n",
    "    col2.append(c1+1)\n",
    "t_df=pd.DataFrame(t_array, columns=col2, index=col2)\n",
    "p_df=pd.DataFrame(p_array, columns=col2, index=col2)\n",
    "\n",
    "#t_df.to_csv(t_file)\n",
    "#p_df.to_csv(p_file)"
   ]
  },
  {
   "cell_type": "markdown",
   "metadata": {},
   "source": [
    "### Plot clustering, T1 values, Levene's statistics and T statistics"
   ]
  },
  {
   "cell_type": "code",
   "execution_count": 123,
   "metadata": {
    "collapsed": false
   },
   "outputs": [],
   "source": [
    "means = {}\n",
    "for c in range(int(clust.max())):\n",
    "    means['k'+str(c+1)] = np.mean(T['k'+str(c+1)])\n",
    "sorted_means = sorted(means.items(), key=operator.itemgetter(1))\n",
    "sorted_pal = [pal[int(sorted_means[p][0][1])] for p in range(len(sorted_means))] \n",
    "\n",
    "plot_list=[]\n",
    "cluster_list=[]\n",
    "for m in range(len(sorted_means)):\n",
    "    plot_list+=T[sorted_means[m][0]]\n",
    "    cluster_list+=len(T[sorted_means[m][0]])*[sorted_means[m][0]]\n",
    "    \n",
    "plot_df=pd.DataFrame(columns=['t1', 'cluster'])\n",
    "plot_df['t1']=plot_list\n",
    "plot_df['cluster']=cluster_list"
   ]
  },
  {
   "cell_type": "code",
   "execution_count": 124,
   "metadata": {
    "collapsed": false
   },
   "outputs": [
    {
     "data": {
      "image/png": "[encoded data removed]",
      "text/plain": [
       "<matplotlib.figure.Figure at 0x987ab10>"
      ]
     },
     "metadata": {},
     "output_type": "display_data"
    }
   ],
   "source": [
    "sns.palplot(sorted_pal)"
   ]
  },
  {
   "cell_type": "code",
   "execution_count": 125,
   "metadata": {
    "collapsed": false
   },
   "outputs": [
    {
     "data": {
      "image/png": "[encoded data removed]",
      "text/plain": [
       "<matplotlib.figure.Figure at 0xb34db10>"
      ]
     },
     "metadata": {},
     "output_type": "display_data"
    }
   ],
   "source": [
    "sns.set_context('notebook', font_scale=1.8)\n",
    "fig = plt.figure(figsize=(10,10))\n",
    "sns.violinplot(x='cluster', y='t1',data=plot_df, palette=sorted_pal, saturation=1, inner='box')\n",
    "sns.axlabel('','', fontsize=22)\n",
    "#savefig(fig_file)"
   ]
  },
  {
   "cell_type": "markdown",
   "metadata": {},
   "source": [
    "Variance comparison"
   ]
  },
  {
   "cell_type": "code",
   "execution_count": 126,
   "metadata": {
    "collapsed": false
   },
   "outputs": [
    {
     "data": {
      "text/html": [
       "<div style=\"max-height:1000px;max-width:1500px;overflow:auto;\">\n",
       "<table border=\"1\" class=\"dataframe\">\n",
       "  <thead>\n",
       "    <tr style=\"text-align: right;\">\n",
       "      <th></th>\n",
       "      <th>1</th>\n",
       "      <th>2</th>\n",
       "      <th>3</th>\n",
       "      <th>4</th>\n",
       "      <th>5</th>\n",
       "      <th>6</th>\n",
       "      <th>7</th>\n",
       "    </tr>\n",
       "  </thead>\n",
       "  <tbody>\n",
       "    <tr>\n",
       "      <th>W</th>\n",
       "      <td>4.19e+03</td>\n",
       "      <td>1.74e+03</td>\n",
       "      <td>2.79e+02</td>\n",
       "      <td>3.36e+02</td>\n",
       "      <td> 7.28e+02</td>\n",
       "      <td>1.74e+03</td>\n",
       "      <td> 8.04e+02</td>\n",
       "    </tr>\n",
       "    <tr>\n",
       "      <th>p</th>\n",
       "      <td>0.00e+00</td>\n",
       "      <td>0.00e+00</td>\n",
       "      <td>1.36e-62</td>\n",
       "      <td>8.12e-75</td>\n",
       "      <td>2.06e-159</td>\n",
       "      <td>0.00e+00</td>\n",
       "      <td>7.52e-176</td>\n",
       "    </tr>\n",
       "    <tr>\n",
       "      <th>var k</th>\n",
       "      <td>8.37e+03</td>\n",
       "      <td>7.14e+03</td>\n",
       "      <td>1.45e+04</td>\n",
       "      <td>1.31e+04</td>\n",
       "      <td> 1.03e+04</td>\n",
       "      <td>9.43e+03</td>\n",
       "      <td> 1.62e+04</td>\n",
       "    </tr>\n",
       "    <tr>\n",
       "      <th>var other</th>\n",
       "      <td>1.83e+04</td>\n",
       "      <td>1.64e+04</td>\n",
       "      <td>1.86e+04</td>\n",
       "      <td>1.81e+04</td>\n",
       "      <td> 1.76e+04</td>\n",
       "      <td>1.87e+04</td>\n",
       "      <td> 1.66e+04</td>\n",
       "    </tr>\n",
       "    <tr>\n",
       "      <th>p&lt;0.05/k</th>\n",
       "      <td>1.00e+00</td>\n",
       "      <td>1.00e+00</td>\n",
       "      <td>1.00e+00</td>\n",
       "      <td>1.00e+00</td>\n",
       "      <td> 1.00e+00</td>\n",
       "      <td>1.00e+00</td>\n",
       "      <td> 1.00e+00</td>\n",
       "    </tr>\n",
       "    <tr>\n",
       "      <th>var decrease</th>\n",
       "      <td>1.00e+00</td>\n",
       "      <td>1.00e+00</td>\n",
       "      <td>1.00e+00</td>\n",
       "      <td>1.00e+00</td>\n",
       "      <td> 1.00e+00</td>\n",
       "      <td>1.00e+00</td>\n",
       "      <td> 1.00e+00</td>\n",
       "    </tr>\n",
       "  </tbody>\n",
       "</table>\n",
       "</div>"
      ],
      "text/plain": [
       "                    1        2        3        4         5        6         7\n",
       "W            4.19e+03 1.74e+03 2.79e+02 3.36e+02  7.28e+02 1.74e+03  8.04e+02\n",
       "p            0.00e+00 0.00e+00 1.36e-62 8.12e-75 2.06e-159 0.00e+00 7.52e-176\n",
       "var k        8.37e+03 7.14e+03 1.45e+04 1.31e+04  1.03e+04 9.43e+03  1.62e+04\n",
       "var other    1.83e+04 1.64e+04 1.86e+04 1.81e+04  1.76e+04 1.87e+04  1.66e+04\n",
       "p<0.05/k     1.00e+00 1.00e+00 1.00e+00 1.00e+00  1.00e+00 1.00e+00  1.00e+00\n",
       "var decrease 1.00e+00 1.00e+00 1.00e+00 1.00e+00  1.00e+00 1.00e+00  1.00e+00"
      ]
     },
     "execution_count": 126,
     "metadata": {},
     "output_type": "execute_result"
    }
   ],
   "source": [
    "pd.options.display.float_format = '{:,.2e}'.format\n",
    "levene_df"
   ]
  },
  {
   "cell_type": "code",
   "execution_count": 127,
   "metadata": {
    "collapsed": false
   },
   "outputs": [
    {
     "data": {
      "text/html": [
       "<div style=\"max-height:1000px;max-width:1500px;overflow:auto;\">\n",
       "<table border=\"1\" class=\"dataframe\">\n",
       "  <thead>\n",
       "    <tr style=\"text-align: right;\">\n",
       "      <th></th>\n",
       "      <th>1</th>\n",
       "      <th>2</th>\n",
       "      <th>3</th>\n",
       "      <th>4</th>\n",
       "      <th>5</th>\n",
       "      <th>6</th>\n",
       "      <th>7</th>\n",
       "    </tr>\n",
       "  </thead>\n",
       "  <tbody>\n",
       "    <tr>\n",
       "      <th>p&lt;0.05/k</th>\n",
       "      <td>1</td>\n",
       "      <td>1</td>\n",
       "      <td>1</td>\n",
       "      <td>1</td>\n",
       "      <td>1</td>\n",
       "      <td>1</td>\n",
       "      <td>1</td>\n",
       "    </tr>\n",
       "    <tr>\n",
       "      <th>var decrease</th>\n",
       "      <td>1</td>\n",
       "      <td>1</td>\n",
       "      <td>1</td>\n",
       "      <td>1</td>\n",
       "      <td>1</td>\n",
       "      <td>1</td>\n",
       "      <td>1</td>\n",
       "    </tr>\n",
       "  </tbody>\n",
       "</table>\n",
       "</div>"
      ],
      "text/plain": [
       "              1  2  3  4  5  6  7\n",
       "p<0.05/k      1  1  1  1  1  1  1\n",
       "var decrease  1  1  1  1  1  1  1"
      ]
     },
     "execution_count": 127,
     "metadata": {},
     "output_type": "execute_result"
    }
   ],
   "source": [
    "pd.options.display.float_format = '{:,.0f}'.format\n",
    "levene_df.tail(2)"
   ]
  },
  {
   "cell_type": "code",
   "execution_count": 128,
   "metadata": {
    "collapsed": false
   },
   "outputs": [],
   "source": [
    "sig=np.zeros_like(clust)\n",
    "for i in sigk: \n",
    "    sig[clust == i] = i"
   ]
  },
  {
   "cell_type": "code",
   "execution_count": 129,
   "metadata": {
    "collapsed": false
   },
   "outputs": [
    {
     "data": {
      "text/plain": [
       "[1, 2, 3, 4, 5, 6, 7]"
      ]
     },
     "execution_count": 129,
     "metadata": {},
     "output_type": "execute_result"
    }
   ],
   "source": [
    "sigk"
   ]
  },
  {
   "cell_type": "code",
   "execution_count": 102,
   "metadata": {
    "collapsed": false
   },
   "outputs": [
    {
     "name": "stdout",
     "output_type": "stream",
     "text": [
      "0.731818848014\n"
     ]
    }
   ],
   "source": [
    "allcort=np.where(clust!=0)[0].shape[0]\n",
    "sigcort=np.where(sig!=0)[0].shape[0]\n",
    "sigpart=sigcort/allcort\n",
    "print float(sigpart)"
   ]
  },
  {
   "cell_type": "code",
   "execution_count": 63,
   "metadata": {
    "collapsed": false
   },
   "outputs": [],
   "source": [
    "mlab.figure(bgcolor=(1, 1, 1))\n",
    "img = mlab.triangular_mesh(x,y,z,triangles,scalars=sig, colormap='Set2')\n",
    "lut = img.module_manager.scalar_lut_manager.lut.table.to_array()\n",
    "img.module_manager.scalar_lut_manager.lut.table = pal_255\n",
    "mlab.draw()\n",
    "mlab.show()"
   ]
  },
  {
   "cell_type": "markdown",
   "metadata": {},
   "source": [
    "T test (T values, p values)"
   ]
  },
  {
   "cell_type": "code",
   "execution_count": 64,
   "metadata": {
    "collapsed": false
   },
   "outputs": [
    {
     "data": {
      "text/html": [
       "<div style=\"max-height:1000px;max-width:1500px;overflow:auto;\">\n",
       "<table border=\"1\" class=\"dataframe\">\n",
       "  <thead>\n",
       "    <tr style=\"text-align: right;\">\n",
       "      <th></th>\n",
       "      <th>1</th>\n",
       "      <th>2</th>\n",
       "      <th>3</th>\n",
       "      <th>4</th>\n",
       "      <th>5</th>\n",
       "      <th>6</th>\n",
       "      <th>7</th>\n",
       "    </tr>\n",
       "  </thead>\n",
       "  <tbody>\n",
       "    <tr>\n",
       "      <th>1</th>\n",
       "      <td>0.00</td>\n",
       "      <td>-71.84</td>\n",
       "      <td>-22.79</td>\n",
       "      <td>-32.86</td>\n",
       "      <td>-53.52</td>\n",
       "      <td>-44.64</td>\n",
       "      <td>-1.71</td>\n",
       "    </tr>\n",
       "    <tr>\n",
       "      <th>2</th>\n",
       "      <td>0.00</td>\n",
       "      <td>  0.00</td>\n",
       "      <td> 53.67</td>\n",
       "      <td> 30.23</td>\n",
       "      <td> 18.14</td>\n",
       "      <td> 32.13</td>\n",
       "      <td>66.05</td>\n",
       "    </tr>\n",
       "    <tr>\n",
       "      <th>3</th>\n",
       "      <td>0.00</td>\n",
       "      <td>  0.00</td>\n",
       "      <td>  0.00</td>\n",
       "      <td>-16.27</td>\n",
       "      <td>-35.26</td>\n",
       "      <td>-23.90</td>\n",
       "      <td>20.63</td>\n",
       "    </tr>\n",
       "    <tr>\n",
       "      <th>4</th>\n",
       "      <td>0.00</td>\n",
       "      <td>  0.00</td>\n",
       "      <td>  0.00</td>\n",
       "      <td>  0.00</td>\n",
       "      <td>-14.58</td>\n",
       "      <td> -3.19</td>\n",
       "      <td>29.77</td>\n",
       "    </tr>\n",
       "    <tr>\n",
       "      <th>5</th>\n",
       "      <td>0.00</td>\n",
       "      <td>  0.00</td>\n",
       "      <td>  0.00</td>\n",
       "      <td>  0.00</td>\n",
       "      <td>  0.00</td>\n",
       "      <td> 13.57</td>\n",
       "      <td>48.80</td>\n",
       "    </tr>\n",
       "    <tr>\n",
       "      <th>6</th>\n",
       "      <td>0.00</td>\n",
       "      <td>  0.00</td>\n",
       "      <td>  0.00</td>\n",
       "      <td>  0.00</td>\n",
       "      <td>  0.00</td>\n",
       "      <td>  0.00</td>\n",
       "      <td>40.98</td>\n",
       "    </tr>\n",
       "    <tr>\n",
       "      <th>7</th>\n",
       "      <td>0.00</td>\n",
       "      <td>  0.00</td>\n",
       "      <td>  0.00</td>\n",
       "      <td>  0.00</td>\n",
       "      <td>  0.00</td>\n",
       "      <td>  0.00</td>\n",
       "      <td> 0.00</td>\n",
       "    </tr>\n",
       "  </tbody>\n",
       "</table>\n",
       "</div>"
      ],
      "text/plain": [
       "     1      2      3      4      5      6     7\n",
       "1 0.00 -71.84 -22.79 -32.86 -53.52 -44.64 -1.71\n",
       "2 0.00   0.00  53.67  30.23  18.14  32.13 66.05\n",
       "3 0.00   0.00   0.00 -16.27 -35.26 -23.90 20.63\n",
       "4 0.00   0.00   0.00   0.00 -14.58  -3.19 29.77\n",
       "5 0.00   0.00   0.00   0.00   0.00  13.57 48.80\n",
       "6 0.00   0.00   0.00   0.00   0.00   0.00 40.98\n",
       "7 0.00   0.00   0.00   0.00   0.00   0.00  0.00"
      ]
     },
     "execution_count": 64,
     "metadata": {},
     "output_type": "execute_result"
    }
   ],
   "source": [
    "pd.options.display.float_format = '{:,.2f}'.format\n",
    "t_df"
   ]
  },
  {
   "cell_type": "code",
   "execution_count": 65,
   "metadata": {
    "collapsed": false
   },
   "outputs": [
    {
     "data": {
      "text/html": [
       "<div style=\"max-height:1000px;max-width:1500px;overflow:auto;\">\n",
       "<table border=\"1\" class=\"dataframe\">\n",
       "  <thead>\n",
       "    <tr style=\"text-align: right;\">\n",
       "      <th></th>\n",
       "      <th>1</th>\n",
       "      <th>2</th>\n",
       "      <th>3</th>\n",
       "      <th>4</th>\n",
       "      <th>5</th>\n",
       "      <th>6</th>\n",
       "      <th>7</th>\n",
       "    </tr>\n",
       "  </thead>\n",
       "  <tbody>\n",
       "    <tr>\n",
       "      <th>1</th>\n",
       "      <td>1.00e+00</td>\n",
       "      <td>0.00e+00</td>\n",
       "      <td>8.21e-114</td>\n",
       "      <td>6.62e-230</td>\n",
       "      <td> 0.00e+00</td>\n",
       "      <td> 0.00e+00</td>\n",
       "      <td> 8.72e-02</td>\n",
       "    </tr>\n",
       "    <tr>\n",
       "      <th>2</th>\n",
       "      <td>0.00e+00</td>\n",
       "      <td>1.00e+00</td>\n",
       "      <td> 0.00e+00</td>\n",
       "      <td>4.17e-193</td>\n",
       "      <td> 1.21e-72</td>\n",
       "      <td>6.35e-219</td>\n",
       "      <td> 0.00e+00</td>\n",
       "    </tr>\n",
       "    <tr>\n",
       "      <th>3</th>\n",
       "      <td>0.00e+00</td>\n",
       "      <td>0.00e+00</td>\n",
       "      <td> 1.00e+00</td>\n",
       "      <td> 4.42e-59</td>\n",
       "      <td>4.37e-263</td>\n",
       "      <td>1.80e-124</td>\n",
       "      <td> 7.35e-94</td>\n",
       "    </tr>\n",
       "    <tr>\n",
       "      <th>4</th>\n",
       "      <td>0.00e+00</td>\n",
       "      <td>0.00e+00</td>\n",
       "      <td> 0.00e+00</td>\n",
       "      <td> 1.00e+00</td>\n",
       "      <td> 1.01e-47</td>\n",
       "      <td> 1.42e-03</td>\n",
       "      <td>8.54e-191</td>\n",
       "    </tr>\n",
       "    <tr>\n",
       "      <th>5</th>\n",
       "      <td>0.00e+00</td>\n",
       "      <td>0.00e+00</td>\n",
       "      <td> 0.00e+00</td>\n",
       "      <td> 0.00e+00</td>\n",
       "      <td> 1.00e+00</td>\n",
       "      <td> 1.04e-41</td>\n",
       "      <td> 0.00e+00</td>\n",
       "    </tr>\n",
       "    <tr>\n",
       "      <th>6</th>\n",
       "      <td>0.00e+00</td>\n",
       "      <td>0.00e+00</td>\n",
       "      <td> 0.00e+00</td>\n",
       "      <td> 0.00e+00</td>\n",
       "      <td> 0.00e+00</td>\n",
       "      <td> 1.00e+00</td>\n",
       "      <td> 0.00e+00</td>\n",
       "    </tr>\n",
       "    <tr>\n",
       "      <th>7</th>\n",
       "      <td>0.00e+00</td>\n",
       "      <td>0.00e+00</td>\n",
       "      <td> 0.00e+00</td>\n",
       "      <td> 0.00e+00</td>\n",
       "      <td> 0.00e+00</td>\n",
       "      <td> 0.00e+00</td>\n",
       "      <td> 1.00e+00</td>\n",
       "    </tr>\n",
       "  </tbody>\n",
       "</table>\n",
       "</div>"
      ],
      "text/plain": [
       "         1        2         3         4         5         6         7\n",
       "1 1.00e+00 0.00e+00 8.21e-114 6.62e-230  0.00e+00  0.00e+00  8.72e-02\n",
       "2 0.00e+00 1.00e+00  0.00e+00 4.17e-193  1.21e-72 6.35e-219  0.00e+00\n",
       "3 0.00e+00 0.00e+00  1.00e+00  4.42e-59 4.37e-263 1.80e-124  7.35e-94\n",
       "4 0.00e+00 0.00e+00  0.00e+00  1.00e+00  1.01e-47  1.42e-03 8.54e-191\n",
       "5 0.00e+00 0.00e+00  0.00e+00  0.00e+00  1.00e+00  1.04e-41  0.00e+00\n",
       "6 0.00e+00 0.00e+00  0.00e+00  0.00e+00  0.00e+00  1.00e+00  0.00e+00\n",
       "7 0.00e+00 0.00e+00  0.00e+00  0.00e+00  0.00e+00  0.00e+00  1.00e+00"
      ]
     },
     "execution_count": 65,
     "metadata": {},
     "output_type": "execute_result"
    }
   ],
   "source": [
    "pd.options.display.float_format = '{:,.2e}'.format\n",
    "p_df"
   ]
  },
  {
   "cell_type": "code",
   "execution_count": null,
   "metadata": {
    "collapsed": true
   },
   "outputs": [],
   "source": []
  },
  {
   "cell_type": "code",
   "execution_count": null,
   "metadata": {
    "collapsed": true
   },
   "outputs": [],
   "source": []
  },
  {
   "cell_type": "code",
   "execution_count": null,
   "metadata": {
    "collapsed": true
   },
   "outputs": [],
   "source": []
  }
 ],
 "metadata": {
  "kernelspec": {
   "display_name": "Python 2",
   "language": "python",
   "name": "python2"
  },
  "language_info": {
   "codemirror_mode": {
    "name": "ipython",
    "version": 2
   },
   "file_extension": ".py",
   "mimetype": "text/x-python",
   "name": "python",
   "nbconvert_exporter": "python",
   "pygments_lexer": "ipython2",
   "version": "2.7.3"
  }
 },
 "nbformat": 4,
 "nbformat_minor": 0
}
