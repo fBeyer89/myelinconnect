{
 "cells": [
  {
   "cell_type": "code",
   "execution_count": 1,
   "metadata": {
    "collapsed": false
   },
   "outputs": [],
   "source": [
    "%gui wx\n",
    "%matplotlib inline"
   ]
  },
  {
   "cell_type": "code",
   "execution_count": 2,
   "metadata": {
    "collapsed": false
   },
   "outputs": [],
   "source": [
    "from __future__ import division\n",
    "import numpy as np\n",
    "import pandas as pd\n",
    "import scipy.stats as stats\n",
    "import matplotlib.pyplot as plt\n",
    "from mayavi import mlab\n",
    "import seaborn as sns\n",
    "from vtk_rw import read_vtk, write_vtk\n",
    "import operator"
   ]
  },
  {
   "cell_type": "code",
   "execution_count": 3,
   "metadata": {
    "collapsed": false
   },
   "outputs": [],
   "source": [
    "def make_cmap(c):\n",
    "    cmap = np.asarray(sns.color_palette('cubehelix', c-1))\n",
    "    cmap = np.concatenate((np.array([[0.4,0.4,0.4]]), cmap), axis=0)\n",
    "    cmap = np.concatenate((cmap, np.ones((c,1))), axis=1)\n",
    "    cmap_seaborn = [tuple(cmap[i]) for i in range(len(cmap))]\n",
    "\n",
    "    cmap_255=np.zeros_like(cmap)\n",
    "    for row in range(cmap.shape[0]):\n",
    "        cmap_255[row]=[np.floor(i * 255) for i in cmap[row]]\n",
    "    cmap_255=cmap_255.astype(int)\n",
    "    \n",
    "    return cmap_seaborn, cmap_255"
   ]
  },
  {
   "cell_type": "code",
   "execution_count": null,
   "metadata": {
    "collapsed": true
   },
   "outputs": [],
   "source": [
    "def chebapprox(profiles, degree):\n",
    "    profiles=np.array(profiles)\n",
    "    cheb_coeffs=np.zeros((profiles.shape[0],degree+1))\n",
    "    cheb_polynoms=np.zeros((profiles.shape[0],profiles.shape[1]))\n",
    "    for c in range(profiles.shape[0]):\n",
    "        x=np.array(range(profiles.shape[1]))\n",
    "        y=profiles[c]\n",
    "        cheb_coeffs[c]=np.polynomial.chebyshev.chebfit(x, y, degree)\n",
    "        cheb_polynoms[c]=np.polynomial.chebyshev.chebval(x, cheb_coeffs[c])\n",
    "    return cheb_coeffs, cheb_polynoms"
   ]
  },
  {
   "cell_type": "markdown",
   "metadata": {},
   "source": [
    "### load data"
   ]
  },
  {
   "cell_type": "code",
   "execution_count": null,
   "metadata": {
    "collapsed": false
   },
   "outputs": [],
   "source": [
    "hemi='rh'\n",
    "embed=3\n",
    "k=5\n",
    "pal, pal_255 = make_cmap(k+1)\n",
    "\n",
    "mesh_file = '/scr/ilz3/myelinconnect/all_data_on_simple_surf/surfs/lowres_%s_d.vtk'%hemi\n",
    "mask_file = '/scr/ilz3/myelinconnect/all_data_on_simple_surf/masks/%s_mask.1D.roi'%hemi\n",
    "embed_file='/scr/ilz3/myelinconnect/all_data_on_simple_surf/clust/smooth_3/avg/%s_embed_%s.csv'  %(hemi, str(embed))\n",
    "kmeans_file='/scr/ilz3/myelinconnect/all_data_on_simple_surf/clust/smooth_3/avg/%s_kmeans_%s_embed_%s.csv'%(hemi, str(k), str(embed))\n",
    "t1_file = '/scr/ilz3/myelinconnect/all_data_on_simple_surf/t1/avg_%s_profiles.npy'%(hemi)\n",
    "\n",
    "#var_file=data_dir+'/results_k%s_s%s_other/%s_%s_cluster_var.csv'%(str(n_components_kmeans),smooth, sub, hemi)\n",
    "#t_file=data_dir+'/results_k%s_s%s_other/%s_%s_cluster_avg_t.csv'%(str(n_components_kmeans),smooth, sub, hemi)\n",
    "#p_file=data_dir+'/results_k%s_s%s_other/%s_%s_cluster_avg_p.csv'%(str(n_components_kmeans),smooth, sub, hemi)\n",
    "#fig_file=data_dir+'/results_k%s_s%s_other/%s_%s_cluster_violins.svg'%(str(n_components_kmeans),smooth, sub, hemi)"
   ]
  },
  {
   "cell_type": "code",
   "execution_count": null,
   "metadata": {
    "collapsed": false
   },
   "outputs": [],
   "source": [
    "v,f,d = read_vtk(mesh_file)\n",
    "x=v[:,0]\n",
    "y=v[:,1]\n",
    "z=v[:,2]\n",
    "triangles=f\n",
    "\n",
    "\n",
    "mask = np.loadtxt(mask_file)[:,0]\n",
    "embed=np.loadtxt(embed_file, delimiter=',')\n",
    "clust=np.loadtxt(kmeans_file, delimiter=',')\n",
    "t1=np.load(t1_file)"
   ]
  },
  {
   "cell_type": "markdown",
   "metadata": {},
   "source": [
    "### plot cluster / embedding"
   ]
  },
  {
   "cell_type": "code",
   "execution_count": null,
   "metadata": {
    "collapsed": false
   },
   "outputs": [],
   "source": [
    "mlab.figure(bgcolor=(1, 1, 1))\n",
    "img = mlab.triangular_mesh(x,y,z,triangles,scalars=embed[:,1], colormap='RdBu')\n",
    "#lut = img.module_manager.scalar_lut_manager.lut.table.to_array()\n",
    "#img.module_manager.scalar_lut_manager.lut.table = pal_255\n",
    "mlab.draw()\n",
    "mlab.show()"
   ]
  },
  {
   "cell_type": "markdown",
   "metadata": {},
   "source": [
    "### Get T1 values in all clusters"
   ]
  },
  {
   "cell_type": "code",
   "execution_count": null,
   "metadata": {
    "collapsed": false
   },
   "outputs": [],
   "source": [
    "# make a list of dictionaries for each cluster k0, k1, ...(0=mask to max kmeans) \n",
    "t1_clust={}\n",
    "for c in range(int(clust.max()+1)):\n",
    "    t1_clust['k'+str(c)]=[]\n",
    "\n",
    "# write all t1 profiles in one cluster into the list of its dictionary\n",
    "for i in range(len(t1)):\n",
    "    k=int(clust[i])\n",
    "    t1_clust['k'+str(k)].append(t1[i])\n",
    "    \n",
    "# make other dictionaries with 3 to 7 intracortical profiles and averages, thresholded  1400 to 2500 mean\n",
    "t1_clust_37={}\n",
    "t1_clust_37_avg={}\n",
    "t1_clust_37_coeff_0={}\n",
    "t1_clust_37_coeff_1={}\n",
    "t1_clust_37_coeff_2={}\n",
    "t1_clust_37_coeff_3={}\n",
    "for c in range(int(clust.max()+1)):\n",
    "    t1_clust_37['k'+str(c)]=[pro[3:8] for pro in t1_clust['k'+str(c)]\n",
    "                            if np.mean(pro[3:8]) < 2500\n",
    "                            and np.mean(pro[3:8]) > 1500]\n",
    "    t1_clust_37_avg['k'+str(c)]=[np.mean(pro_37) for pro_37 in t1_clust_37['k'+str(c)]]\n",
    "    \n",
    "    cheb_coeffs, cheb_polynoms = chebapprox(t1_clust_37['k'+str(c)], 10)\n",
    "    \n",
    "    t1_clust_37_coeff_0['k'+str(c)]=[cheb_coeffs[j][0] for j in range(len(t1_clust_37['k'+str(c)]))]\n",
    "    t1_clust_37_coeff_1['k'+str(c)]=[cheb_coeffs[j][1] for j in range(len(t1_clust_37['k'+str(c)]))]\n",
    "    t1_clust_37_coeff_2['k'+str(c)]=[cheb_coeffs[j][2] for j in range(len(t1_clust_37['k'+str(c)]))]\n",
    "    t1_clust_37_coeff_3['k'+str(c)]=[cheb_coeffs[j][3] for j in range(len(t1_clust_37['k'+str(c)]))]\n"
   ]
  },
  {
   "cell_type": "markdown",
   "metadata": {},
   "source": [
    "### Compare variance of kmeans cluster vs all other clusters and mean between all clusters"
   ]
  },
  {
   "cell_type": "code",
   "execution_count": null,
   "metadata": {
    "collapsed": false
   },
   "outputs": [],
   "source": [
    "T = t1_clust_37_avg"
   ]
  },
  {
   "cell_type": "code",
   "execution_count": null,
   "metadata": {
    "collapsed": false
   },
   "outputs": [],
   "source": [
    "levene_array=np.zeros((6,int(clust.max())))\n",
    "col=[]\n",
    "sigk=[]\n",
    "for c1 in range(int(clust.max())):\n",
    "    a=T['k'+str(c1+1)]\n",
    "    b=[]\n",
    "    for c2 in range(int(clust.max())):\n",
    "        if (c2+1) != (c1+1):\n",
    "            b+=T['k'+str(c2+1)]\n",
    "    W,p=stats.levene(a, b)\n",
    "    col.append(int(c1+1))\n",
    "    levene_array[0,c1]=W\n",
    "    levene_array[1,c1]=p\n",
    "    levene_array[2,c1]=np.var(a)\n",
    "    levene_array[3,c1]=np.var(b)\n",
    "    if p <(0.05/int(clust.max())):\n",
    "        levene_array[4,c1]=True\n",
    "    else:\n",
    "        levene_array[4,c1]=False\n",
    "    \n",
    "    if np.var(a)<np.var(b):\n",
    "        levene_array[5,c1]=True\n",
    "    else:\n",
    "        levene_array[5,c1]=False\n",
    "        \n",
    "    if (levene_array[4,c1]==True) and (levene_array[5,c1]==True):\n",
    "        sigk.append(c1+1)\n",
    "\n",
    "levene_df=pd.DataFrame(levene_array, columns=col, index=['W', 'p', 'var k', 'var other', 'p<0.05/k', 'var decrease'])\n",
    "#levene_df.to_csv(var_file)\n",
    "\n",
    "\n",
    "t_array=np.zeros((int(clust.max()),int(clust.max())))\n",
    "p_array=np.zeros((int(clust.max()),int(clust.max())))\n",
    "col2=[]\n",
    "for c1 in range(int(clust.max())):\n",
    "    for c2 in range(int(clust.max())):\n",
    "        if c2>=c1:\n",
    "            a=T['k'+str(c1+1)]\n",
    "            b=T['k'+str(c2+1)]\n",
    "            t,p=stats.ttest_ind(a, b)\n",
    "            t_array[c1][c2]=t\n",
    "            p_array[c1][c2]=p\n",
    "    col2.append(c1+1)\n",
    "t_df=pd.DataFrame(t_array, columns=col2, index=col2)\n",
    "p_df=pd.DataFrame(p_array, columns=col2, index=col2)\n",
    "\n",
    "#t_df.to_csv(t_file)\n",
    "#p_df.to_csv(p_file)"
   ]
  },
  {
   "cell_type": "markdown",
   "metadata": {},
   "source": [
    "### Plot clustering, T1 values, Levene's statistics and T statistics"
   ]
  },
  {
   "cell_type": "code",
   "execution_count": null,
   "metadata": {
    "collapsed": false
   },
   "outputs": [],
   "source": [
    "means = {}\n",
    "for c in range(int(clust.max())):\n",
    "    means['k'+str(c+1)] = np.mean(T['k'+str(c+1)])\n",
    "sorted_means = sorted(means.items(), key=operator.itemgetter(1))\n",
    "sorted_pal = [pal[int(sorted_means[p][0][1])] for p in range(len(sorted_means))] \n",
    "\n",
    "plot_list=[]\n",
    "cluster_list=[]\n",
    "for m in range(len(sorted_means)):\n",
    "    plot_list+=T[sorted_means[m][0]]\n",
    "    cluster_list+=len(T[sorted_means[m][0]])*[sorted_means[m][0]]\n",
    "    \n",
    "plot_df=pd.DataFrame(columns=['t1', 'cluster'])\n",
    "plot_df['t1']=plot_list\n",
    "plot_df['cluster']=cluster_list"
   ]
  },
  {
   "cell_type": "code",
   "execution_count": null,
   "metadata": {
    "collapsed": false
   },
   "outputs": [],
   "source": [
    "sns.palplot(sorted_pal)"
   ]
  },
  {
   "cell_type": "code",
   "execution_count": null,
   "metadata": {
    "collapsed": false
   },
   "outputs": [],
   "source": [
    "sns.set_context('notebook', font_scale=1.8)\n",
    "fig = plt.figure(figsize=(10,10))\n",
    "sns.violinplot(x='cluster', y='t1',data=plot_df, palette=sorted_pal, saturation=1, inner='box')\n",
    "sns.axlabel('','', fontsize=22)\n",
    "#savefig(fig_file)"
   ]
  },
  {
   "cell_type": "markdown",
   "metadata": {},
   "source": [
    "Variance comparison"
   ]
  },
  {
   "cell_type": "code",
   "execution_count": null,
   "metadata": {
    "collapsed": false
   },
   "outputs": [],
   "source": [
    "pd.options.display.float_format = '{:,.2e}'.format\n",
    "levene_df"
   ]
  },
  {
   "cell_type": "code",
   "execution_count": null,
   "metadata": {
    "collapsed": false
   },
   "outputs": [],
   "source": [
    "pd.options.display.float_format = '{:,.0f}'.format\n",
    "levene_df.tail(2)"
   ]
  },
  {
   "cell_type": "code",
   "execution_count": null,
   "metadata": {
    "collapsed": false
   },
   "outputs": [],
   "source": [
    "sig=np.zeros_like(clust)\n",
    "for i in sigk: \n",
    "    sig[clust == i] = i"
   ]
  },
  {
   "cell_type": "code",
   "execution_count": null,
   "metadata": {
    "collapsed": false
   },
   "outputs": [],
   "source": [
    "sigk"
   ]
  },
  {
   "cell_type": "code",
   "execution_count": null,
   "metadata": {
    "collapsed": false
   },
   "outputs": [],
   "source": [
    "allcort=np.where(clust!=0)[0].shape[0]\n",
    "sigcort=np.where(sig!=0)[0].shape[0]\n",
    "sigpart=sigcort/allcort\n",
    "print float(sigpart)"
   ]
  },
  {
   "cell_type": "code",
   "execution_count": null,
   "metadata": {
    "collapsed": false
   },
   "outputs": [],
   "source": [
    "mlab.figure(bgcolor=(1, 1, 1))\n",
    "img = mlab.triangular_mesh(x,y,z,triangles,scalars=sig, colormap='Set2')\n",
    "lut = img.module_manager.scalar_lut_manager.lut.table.to_array()\n",
    "img.module_manager.scalar_lut_manager.lut.table = pal_255\n",
    "mlab.draw()\n",
    "mlab.show()"
   ]
  },
  {
   "cell_type": "markdown",
   "metadata": {},
   "source": [
    "T test (T values, p values)"
   ]
  },
  {
   "cell_type": "code",
   "execution_count": null,
   "metadata": {
    "collapsed": false
   },
   "outputs": [],
   "source": [
    "pd.options.display.float_format = '{:,.2f}'.format\n",
    "t_df"
   ]
  },
  {
   "cell_type": "code",
   "execution_count": null,
   "metadata": {
    "collapsed": false
   },
   "outputs": [],
   "source": [
    "pd.options.display.float_format = '{:,.2e}'.format\n",
    "p_df"
   ]
  },
  {
   "cell_type": "code",
   "execution_count": null,
   "metadata": {
    "collapsed": true
   },
   "outputs": [],
   "source": []
  },
  {
   "cell_type": "code",
   "execution_count": null,
   "metadata": {
    "collapsed": true
   },
   "outputs": [],
   "source": []
  },
  {
   "cell_type": "code",
   "execution_count": null,
   "metadata": {
    "collapsed": true
   },
   "outputs": [],
   "source": []
  }
 ],
 "metadata": {
  "kernelspec": {
   "display_name": "Python 2",
   "language": "python",
   "name": "python2"
  },
  "language_info": {
   "codemirror_mode": {
    "name": "ipython",
    "version": 2
   },
   "file_extension": ".py",
   "mimetype": "text/x-python",
   "name": "python",
   "nbconvert_exporter": "python",
   "pygments_lexer": "ipython2",
   "version": "2.7.3"
  }
 },
 "nbformat": 4,
 "nbformat_minor": 0
}
