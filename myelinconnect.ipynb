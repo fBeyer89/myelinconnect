{
 "metadata": {
  "name": ""
 },
 "nbformat": 3,
 "nbformat_minor": 0,
 "worksheets": [
  {
   "cells": [
    {
     "cell_type": "code",
     "collapsed": false,
     "input": [
      "import numpy as np\n",
      "import pandas as pd\n",
      "import scipy.stats as stats\n",
      "import matplotlib.pyplot as plt\n",
      "from mayavi import mlab\n",
      "from sklearn.utils.arpack import eigsh\n",
      "from sklearn.cluster import KMeans"
     ],
     "language": "python",
     "metadata": {},
     "outputs": [],
     "prompt_number": 14
    },
    {
     "cell_type": "code",
     "collapsed": false,
     "input": [
      "def read_vtk(file):\n",
      "    # read full file while dropping empty lines \n",
      "    vtk_df=pd.read_csv(file, header=None)\n",
      "    vtk_df=vtk_df.dropna()\n",
      "    # extract number of vertices and faces\n",
      "    number_vertices=int(vtk_df[vtk_df[0].str.contains('POINTS')][0].iloc[0].split()[1])\n",
      "    number_faces=int(vtk_df[vtk_df[0].str.contains('POLYGONS')][0].iloc[0].split()[1])\n",
      "    # read vertices into df and array\n",
      "    start_vertices= (vtk_df[vtk_df[0].str.contains('POINTS')].index.tolist()[0])+1\n",
      "    vertex_df=pd.read_csv(file, skiprows=range(start_vertices), nrows=number_vertices, sep='\\s*', header=None)\n",
      "    if np.array(vertex_df).shape[1]==3:\n",
      "        vertex_array=np.array(vertex_df)\n",
      "    # sometimes the vtk format is weird with 9 indices per line, then it has to be reshaped\n",
      "    elif np.array(vertex_df).shape[1]==9:\n",
      "        vertex_df=pd.read_csv(file, skiprows=range(start_vertices), nrows=number_vertices/3+1, sep='\\s*', header=None)\n",
      "        vertex_array=np.array(vertex_df.iloc[0:1,0:3])\n",
      "        vertex_array=np.append(vertex_array, vertex_df.iloc[0:1,3:6], axis=0)\n",
      "        vertex_array=np.append(vertex_array, vertex_df.iloc[0:1,6:9], axis=0)\n",
      "        for row in range(1,(number_vertices/3+1)):\n",
      "            for col in [0,3,6]:\n",
      "                vertex_array=np.append(vertex_array, array(vertex_df.iloc[row:(row+1),col:(col+3)]),axis=0) \n",
      "        # strip rows containing nans\n",
      "        vertex_array=vertex_array[ ~np.isnan(vertex_array) ].reshape(number_vertices,3)\n",
      "    else:\n",
      "        print \"vertex indices out of shape\"\n",
      "    vertices = {'val' : vertex_array, 'number' : number_vertices}\n",
      "    # read faces into df and array\n",
      "    start_faces= (vtk_df[vtk_df[0].str.contains('POLYGONS')].index.tolist()[0])+1\n",
      "    face_df=pd.read_csv(file, skiprows=range(start_faces), nrows=number_faces, sep='\\s*', header=None)\n",
      "    face_array=np.array(face_df.iloc[:,1:4])\n",
      "    faces = {'val' : face_array, 'number' : number_faces}\n",
      "    # read data into df and array\n",
      "    start_data= (vtk_df[vtk_df[0].str.contains('POINT_DATA')].index.tolist()[0])+3\n",
      "    number_data = number_vertices\n",
      "    data_df=pd.read_csv(file, skiprows=range(start_data), nrows=number_data, sep='\\s*', header=None)\n",
      "    data_array=np.array(data_df)\n",
      "    data = {'val' : data_array, 'number' : number_data}\n",
      "    \n",
      "    return vertices, faces, data\n",
      "\n",
      "#TO DO: add reading comments"
     ],
     "language": "python",
     "metadata": {},
     "outputs": [],
     "prompt_number": 15
    },
    {
     "cell_type": "code",
     "collapsed": false,
     "input": [
      "def write_vtk(filename, vertices, faces, data, comment=None):\n",
      "    # infer number of vertices and faces\n",
      "    number_vertices=vertices.shape[0]\n",
      "    number_faces=faces.shape[0]\n",
      "    number_data=data.shape[0]\n",
      "    datapoints=data.shape[1]\n",
      "    # make header and subheader dataframe\n",
      "    header=['# vtk DataFile Version 3.0',\n",
      "            '%s'%comment,\n",
      "            'ASCII',\n",
      "            'DATASET POLYDATA',\n",
      "            'POINTS %i float'%number_vertices\n",
      "             ]\n",
      "    header_df=pd.DataFrame(header)\n",
      "    sub_header=['POLYGONS %i %i'%(number_faces, 4*number_faces)]\n",
      "    sub_header_df=pd.DataFrame(sub_header)    \n",
      "    sub_header2=['POINT_DATA %i'%(number_data),\n",
      "                 'SCALARS EmbedVertex float %i'%(datapoints),\n",
      "                 'LOOKUP_TABLE default']\n",
      "    sub_header_df2=pd.DataFrame(sub_header2)\n",
      "    # make dataframe from vertices\n",
      "    vertex_df=pd.DataFrame(vertices)\n",
      "    # make dataframe from faces, appending first row of 3's (indicating the polygons are triangles)\n",
      "    triangles=np.reshape(3*(np.ones(number_faces)), (number_faces,1))\n",
      "    triangles=triangles.astype(int)\n",
      "    faces=faces.astype(int)\n",
      "    faces_df=pd.DataFrame(np.concatenate((triangles,faces),axis=1))\n",
      "    # make dataframe from data\n",
      "    data_df=pd.DataFrame(data)\n",
      "    # write dfs to csv\n",
      "    header_df.to_csv(filename, header=None, index=False)\n",
      "    with open(filename, 'a') as f:\n",
      "        vertex_df.to_csv(f, header=False, index=False, float_format='%.3f', sep=' ')\n",
      "    with open(filename, 'a') as f:\n",
      "        sub_header_df.to_csv(f, header=False, index=False)\n",
      "    with open(filename, 'a') as f:\n",
      "        faces_df.to_csv(f, header=False, index=False, float_format='%.0f', sep=' ')\n",
      "    with open(filename, 'a') as f:\n",
      "        sub_header_df2.to_csv(f, header=False, index=False)\n",
      "    with open(filename, 'a') as f:\n",
      "        data_df.to_csv(f, header=False, index=False, float_format='%.16f', sep=' ')\n",
      "        \n",
      "#TO DO: add write texture"
     ],
     "language": "python",
     "metadata": {},
     "outputs": [],
     "prompt_number": 16
    },
    {
     "cell_type": "code",
     "collapsed": false,
     "input": [
      "sub='HJJT'\n",
      "hemi='lh'\n",
      "n_components_embedding=3\n",
      "n_components_kmeans=7"
     ],
     "language": "python",
     "metadata": {},
     "outputs": [],
     "prompt_number": 17
    },
    {
     "cell_type": "code",
     "collapsed": false,
     "input": [
      "func_file='/scr/ilz3/myelinconnect/final_struct_space/rest1_1_meshsmooth_3/%s_%s_mid_simple_0.01_rest_%s_smoothdata.vtk'%(sub, hemi, hemi)\n",
      "t1_file='/scr/ilz3/myelinconnect/final_struct_space/t1_smooth_1.5_mesh/%s_%s_mid_simple_0.01_t1_smooth1.5_%s.vtk'%(sub, hemi, hemi)\n",
      "embed=np.loadtxt(\"/scr/ilz3/myelinconnect/final_struct_space/clustering/%s_%s_mid_simple_0.01_rest_%s_smoothdata_embed_%s.csv\"%(sub, hemi, hemi, str(n_components_embedding)), delimiter=',')\n",
      "kmeans=np.loadtxt(\"/scr/ilz3/myelinconnect/final_struct_space/clustering/%s_%s_mid_simple_0.01_rest_%s_smoothdata_embed_%s_kmeans_%s.csv\"%(sub, hemi, hemi, str(n_components_embedding), str(n_components_kmeans)), delimiter=',')"
     ],
     "language": "python",
     "metadata": {},
     "outputs": [],
     "prompt_number": 18
    },
    {
     "cell_type": "heading",
     "level": 4,
     "metadata": {},
     "source": [
      "viewing and writing kmeans"
     ]
    },
    {
     "cell_type": "code",
     "collapsed": false,
     "input": [
      "v,f,d=read_vtk(func_file)"
     ],
     "language": "python",
     "metadata": {},
     "outputs": [],
     "prompt_number": 19
    },
    {
     "cell_type": "code",
     "collapsed": false,
     "input": [
      "x=v['val'][:,0]\n",
      "y=v['val'][:,1]\n",
      "z=v['val'][:,2]\n",
      "triangles=f['val']\n",
      "embed_1=embed[:,0]\n",
      "embed_2=embed[:,1]\n",
      "kmeans=kmeans"
     ],
     "language": "python",
     "metadata": {},
     "outputs": [],
     "prompt_number": 21
    },
    {
     "cell_type": "code",
     "collapsed": false,
     "input": [
      "cmap=np.zeros((8,4))\n",
      "cmap[0,:]=[0.6, 0.6, 0.6, 1]\n",
      "cmap[1,:]=[0.40000000596046448, 0.7607843279838562, 0.64705884456634521, 1]\n",
      "cmap[2,:]=[0.98131487965583808, 0.55538641635109398, 0.38740485135246722,1]\n",
      "cmap[3,:]=[0.55432528607985565, 0.62711267120697922, 0.79595541393055635,1]\n",
      "cmap[4,:]=[0.90311419262605563, 0.54185316071790801, 0.76495195557089413,1]\n",
      "cmap[5,:]=[0.65371782148585622, 0.84708959004458262, 0.32827375098770734,1]\n",
      "cmap[6,:]=[0.9986312957370983, 0.85096502233954041, 0.18488274134841617,1]\n",
      "cmap[7,:]=[0.89573241682613591, 0.76784315109252932, 0.58182240093455595,1]\n",
      "for row in range(cmap.shape[0]):\n",
      "    cmap[row]=[np.floor(i * 255) for i in cmap[row]]\n",
      "cmap=cmap.astype(int)"
     ],
     "language": "python",
     "metadata": {},
     "outputs": [],
     "prompt_number": 22
    },
    {
     "cell_type": "code",
     "collapsed": false,
     "input": [
      "cmap_dark=np.zeros((8,4))\n",
      "cmap_dark[0,:]=[0.0,0.0,0.0,1]\n",
      "cmap_dark[1,:]=[0.89411765336990356, 0.10196078568696976, 0.10980392247438431,1]\n",
      "cmap_dark[2,:]=[0.21602460800432691, 0.49487120380588606, 0.71987698697576341,1]\n",
      "cmap_dark[3,:]=[0.30426760128900115, 0.68329106055054012, 0.29293349969620797,1]\n",
      "cmap_dark[4,:]=[0.60083047361934883, 0.30814303335021526, 0.63169552298153153,1]\n",
      "cmap_dark[5,:]=[1.0, 0.50591311045721465, 0.0031372549487095253,1]\n",
      "cmap_dark[6,:]=[0.99315647868549117, 0.9870049982678657, 0.19915417450315812,1]\n",
      "cmap_dark[7,:]=[0.65845446095747107, 0.34122261685483596, 0.1707958535236471,1]\n",
      "for row in range(cmap_dark.shape[0]):\n",
      "    cmap_dark[row]=[np.floor(i * 255) for i in cmap_dark[row]]\n",
      "cmap_dark=cmap_dark.astype(int)"
     ],
     "language": "python",
     "metadata": {},
     "outputs": [],
     "prompt_number": 23
    },
    {
     "cell_type": "code",
     "collapsed": false,
     "input": [
      "mlab.figure(bgcolor=(1, 1, 1))\n",
      "img = mlab.triangular_mesh(x,y,z,triangles,scalars=kmeans, colormap='hsv')\n",
      "lut = img.module_manager.scalar_lut_manager.lut.table.to_array()\n",
      "img.module_manager.scalar_lut_manager.lut.table = cmap\n",
      "mlab.draw()\n",
      "mlab.show()"
     ],
     "language": "python",
     "metadata": {},
     "outputs": [],
     "prompt_number": 111
    },
    {
     "cell_type": "code",
     "collapsed": false,
     "input": [
      "kmeans_file='/scr/ilz3/myelinconnect/final_struct_space/testing/HJJT_lh_kmeans.vtk'"
     ],
     "language": "python",
     "metadata": {},
     "outputs": []
    },
    {
     "cell_type": "code",
     "collapsed": false,
     "input": [
      "kmeans_data=np.reshape(kmeans, (len(kmeans),1))"
     ],
     "language": "python",
     "metadata": {},
     "outputs": [],
     "prompt_number": 22
    },
    {
     "cell_type": "code",
     "collapsed": false,
     "input": [
      "write_vtk(kmeans_file, v['val'], f['val'], kmeans_data)"
     ],
     "language": "python",
     "metadata": {},
     "outputs": [],
     "prompt_number": 23
    },
    {
     "cell_type": "code",
     "collapsed": false,
     "input": [
      "index=np.array(range(kmeans.shape[0]))\n",
      "oneD=np.zeros((len(kmeans),2))\n",
      "oneD[:,1]=kmeans\n",
      "oneD[:,0]=range(kmeans.shape[0])\n",
      "clust3=np.array(np.where(oneD[:,0]==3))\n",
      "clust3=clust3.reshape(clust3.shape[1],1)"
     ],
     "language": "python",
     "metadata": {},
     "outputs": [],
     "prompt_number": 25
    },
    {
     "cell_type": "code",
     "collapsed": false,
     "input": [
      "np.savetxt('/scr/ilz3/myelinconnect/final_struct_space/testing/HJJT_lh_kmeans.1D', oneD, fmt='%i', delimiter=' ')"
     ],
     "language": "python",
     "metadata": {},
     "outputs": []
    },
    {
     "cell_type": "heading",
     "level": 4,
     "metadata": {},
     "source": [
      "t1 in clusters"
     ]
    },
    {
     "cell_type": "code",
     "collapsed": false,
     "input": [
      "vt,ft,dt=read_vtk(t1_file)\n",
      "t1=dt['val'][:,0]"
     ],
     "language": "python",
     "metadata": {},
     "outputs": [],
     "prompt_number": 24
    },
    {
     "cell_type": "code",
     "collapsed": false,
     "input": [
      "# make a list of dictionaries for each cluster\n",
      "t1_clust=[]\n",
      "for clust in range(int(kmeans.max()+1)):\n",
      "    t1_clust.append({'k':clust,'val':[]})\n",
      "\n",
      "# write all t1 values in one cluster into the value list of its dictionary\n",
      "for i in range(len(t1)):\n",
      "    if t1[i] >= 1500:\n",
      "        t1_clust[int(kmeans[i])]['val'].append(t1[i])\n",
      "    #t1_clust[int(kmeans[i])]['k']=int(kmeans[i])"
     ],
     "language": "python",
     "metadata": {},
     "outputs": [],
     "prompt_number": 25
    },
    {
     "cell_type": "code",
     "collapsed": false,
     "input": [
      "# calculate mean and variance for each cluster and append to dictionary\n",
      "for i in range(len(t1_clust)):\n",
      "    t1_clust[i]['mean']=np.mean(t1_clust[i]['val'])\n",
      "    t1_clust[i]['var']=np.var(t1_clust[i]['val'])"
     ],
     "language": "python",
     "metadata": {},
     "outputs": [],
     "prompt_number": 26
    },
    {
     "cell_type": "code",
     "collapsed": false,
     "input": [
      "whole_t1=[]\n",
      "for i in range(len(t1_clust)):\n",
      "    if not i == 0:\n",
      "        whole_t1+=t1_clust[i]['val']\n",
      "whole_t1_mean=np.mean(whole_t1)\n",
      "whole_t1_var=np.var(whole_t1)"
     ],
     "language": "python",
     "metadata": {},
     "outputs": [],
     "prompt_number": 27
    },
    {
     "cell_type": "code",
     "collapsed": false,
     "input": [
      "print 'all', np.sqrt(whole_t1_var)\n",
      "for i in range(len(t1_clust)):\n",
      "    print t1_clust[i]['k'], np.sqrt(t1_clust[i]['var'])"
     ],
     "language": "python",
     "metadata": {},
     "outputs": [
      {
       "output_type": "stream",
       "stream": "stdout",
       "text": [
        "all 181.888864957\n",
        "0 238.942304764\n",
        "1 162.778424912\n",
        "2 161.653764488\n",
        "3 164.738300459\n",
        "4 147.208023807\n",
        "5 183.858727463\n",
        "6 180.465460067\n",
        "7 130.973972348\n"
       ]
      }
     ],
     "prompt_number": 29
    },
    {
     "cell_type": "code",
     "collapsed": false,
     "input": [
      "#fig=plt.figure(figsize=(40, 20))\n",
      "plt.hist(whole_t1)#(t1_clust[7]['val'])"
     ],
     "language": "python",
     "metadata": {},
     "outputs": [
      {
       "metadata": {},
       "output_type": "pyout",
       "prompt_number": 30,
       "text": [
        "(array([  66,  290, 1148, 1774, 2067, 1210,  267,   56,   13,    7]),\n",
        " array([ 1510.45043945,  1653.16291504,  1795.87539062,  1938.58786621,\n",
        "        2081.3003418 ,  2224.01281738,  2366.72529297,  2509.43776855,\n",
        "        2652.15024414,  2794.86271973,  2937.57519531]),\n",
        " <a list of 10 Patch objects>)"
       ]
      },
      {
       "metadata": {},
       "output_type": "display_data",
       "png": "[encoded data removed]",
       "text": [
        "<matplotlib.figure.Figure at 0x8af97d0>"
       ]
      }
     ],
     "prompt_number": 30
    },
    {
     "cell_type": "code",
     "collapsed": false,
     "input": [
      "stats.levene(whole_t1,t1_clust[3]['val'])"
     ],
     "language": "python",
     "metadata": {},
     "outputs": [
      {
       "metadata": {},
       "output_type": "pyout",
       "prompt_number": 31,
       "text": [
        "(29.806594786149027, 4.9099094907751093e-08)"
       ]
      }
     ],
     "prompt_number": 31
    },
    {
     "cell_type": "heading",
     "level": 4,
     "metadata": {},
     "source": [
      "making subclusters"
     ]
    },
    {
     "cell_type": "code",
     "collapsed": false,
     "input": [
      "def subcluster(kmeans, triangles):\n",
      "    # make a dictionary for kmeans clusters and subclusters\n",
      "    clust_subclust={}\n",
      "    # loop through all kmeans clusters (and the mask cluster with value zero)\n",
      "    for c in range(int(kmeans.max()+1)):\n",
      "        # add dic entry\n",
      "        clust_subclust['k'+str(c)]=[]\n",
      "        # extract all nodes of the cluster\n",
      "        clust=list(np.where(kmeans==c)[0])\n",
      "        # while not all nodes have been removed from the cluster\n",
      "        while len(clust)>0:\n",
      "            #start at currently first node in cluster\n",
      "            neighbours=[clust[0]]\n",
      "            # go through growing list of neighbours in the subcluster\n",
      "            for i in neighbours:\n",
      "                #find all triangles that contain current\n",
      "                for j in range(triangles.shape[0]):\n",
      "                    if i in triangles[j]:\n",
      "                        # add all nodes of in this triangle to the neighbours list\n",
      "                        n=list(triangles[j])\n",
      "                        # but only if they aren't already in the list and if they are in clust\n",
      "                        [neighbours.append(x) for x in n if x in clust and x not in neighbours]\n",
      "                        # remove assigned nodes from the cluster list\n",
      "                        [clust.remove(x) for x in n if x in clust]\n",
      "            # when no new neighbours can be found, add subcluster to subcluster list \n",
      "            # and start new subcluster from first node in remaining cluster list\n",
      "            clust_subclust['k'+str(c)].append(neighbours)\n",
      "    return clust_subclust"
     ],
     "language": "python",
     "metadata": {},
     "outputs": [],
     "prompt_number": 8
    },
    {
     "cell_type": "code",
     "collapsed": false,
     "input": [
      "clust_subclust=subcluster(kmeans, f['val'])"
     ],
     "language": "python",
     "metadata": {},
     "outputs": [],
     "prompt_number": 9
    },
    {
     "cell_type": "code",
     "collapsed": false,
     "input": [
      "def subclustArray(n_vertices, kmeans, subclust):\n",
      "    subclust_full = np.zeros((n_vertices, int(kmeans.max()+1)))\n",
      "    count = 0\n",
      "    for c in range(len(subclust.keys())):\n",
      "        for i in range(len(subclust['k'+str(c)])):\n",
      "            for j in subclust['k'+str(c)][i]:\n",
      "                subclust_full[j][c] = i+1\n",
      "    subclust_array=np.hstack((np.reshape(kmeans, (kmeans.shape[0],1)), subclust_full))\n",
      "    return subclust_array"
     ],
     "language": "python",
     "metadata": {},
     "outputs": [],
     "prompt_number": 34
    },
    {
     "cell_type": "code",
     "collapsed": false,
     "input": [
      "subarr=subclustArray(7734, kmeans, clust_subclust)"
     ],
     "language": "python",
     "metadata": {},
     "outputs": [],
     "prompt_number": 42
    },
    {
     "cell_type": "code",
     "collapsed": false,
     "input": [
      "def subcluster(kmeans, triangles, n_vertices):\n",
      "    # make a dictionary for kmeans clusters and subclusters\n",
      "    clust_subclust={}\n",
      "    # loop through all kmeans clusters (and the mask cluster with value zero)\n",
      "    for c in range(int(kmeans.max()+1)):\n",
      "        # add dic entry\n",
      "        clust_subclust['k'+str(c)]=[]\n",
      "        # extract all nodes of the cluster\n",
      "        clust=list(np.where(kmeans==c)[0])\n",
      "        # while not all nodes have been removed from the cluster\n",
      "        while len(clust)>0:\n",
      "            #start at currently first node in cluster\n",
      "            neighbours=[clust[0]]\n",
      "            # go through growing list of neighbours in the subcluster\n",
      "            for i in neighbours:\n",
      "                #find all triangles that contain current\n",
      "                for j in range(triangles.shape[0]):\n",
      "                    if i in triangles[j]:\n",
      "                        # add all nodes of in this triangle to the neighbours list\n",
      "                        n=list(triangles[j])\n",
      "                        # but only if they aren't already in the list and if they are in clust\n",
      "                        [neighbours.append(x) for x in n if x in clust and x not in neighbours]\n",
      "                        # remove assigned nodes from the cluster list\n",
      "                        [clust.remove(x) for x in n if x in clust]\n",
      "            # when no new neighbours can be found, add subcluster to subcluster list \n",
      "            # and start new subcluster from first node in remaining cluster list\n",
      "            clust_subclust['k'+str(c)].append(neighbours)\n",
      "    \n",
      "    # make array with original kmeans clusters and subclusters        \n",
      "    subclust_full = np.zeros((n_vertices, int(kmeans.max()+1)))\n",
      "    count = 0\n",
      "    for c in range(len(clust_subclust.keys())):\n",
      "        for i in range(len(clust_subclust['k'+str(c)])):\n",
      "            for j in clust_subclust['k'+str(c)][i]:\n",
      "                subclust_full[j][c] = i+1\n",
      "    subclust_arr=np.hstack((np.reshape(kmeans, (kmeans.shape[0],1)), subclust_full))\n",
      "    \n",
      "    return subclust_arr"
     ],
     "language": "python",
     "metadata": {},
     "outputs": [],
     "prompt_number": 37
    },
    {
     "cell_type": "code",
     "collapsed": false,
     "input": [
      "len(v['val'])"
     ],
     "language": "python",
     "metadata": {},
     "outputs": [
      {
       "metadata": {},
       "output_type": "pyout",
       "prompt_number": 47,
       "text": [
        "7734"
       ]
      }
     ],
     "prompt_number": 47
    },
    {
     "cell_type": "code",
     "collapsed": false,
     "input": [
      "subarr2=subcluster(kmeans, f['val'], n_vertices)"
     ],
     "language": "python",
     "metadata": {},
     "outputs": [],
     "prompt_number": 38
    },
    {
     "cell_type": "code",
     "collapsed": false,
     "input": [
      "np.where((subarr==subarr2)==False)"
     ],
     "language": "python",
     "metadata": {},
     "outputs": [
      {
       "metadata": {},
       "output_type": "pyout",
       "prompt_number": 44,
       "text": [
        "(array([], dtype=int64), array([], dtype=int64))"
       ]
      }
     ],
     "prompt_number": 44
    },
    {
     "cell_type": "code",
     "collapsed": false,
     "input": [
      "v,f,d=read_vtk(func_file)\n",
      "x=v['val'][:,0]\n",
      "y=v['val'][:,1]\n",
      "z=v['val'][:,2]\n",
      "triangles=f['val']"
     ],
     "language": "python",
     "metadata": {},
     "outputs": [],
     "prompt_number": 12
    },
    {
     "cell_type": "code",
     "collapsed": false,
     "input": [
      "mlab.figure(1,bgcolor=(1, 1, 1))\n",
      "img = mlab.triangular_mesh(x,y,z,triangles,scalars=subarr2[:,0], colormap='hsv')\n",
      "lut = img.module_manager.scalar_lut_manager.lut.table.to_array()\n",
      "img.module_manager.scalar_lut_manager.lut.table = cmap\n",
      "mlab.draw()\n",
      "mlab.show()"
     ],
     "language": "python",
     "metadata": {},
     "outputs": [],
     "prompt_number": 45
    },
    {
     "cell_type": "code",
     "collapsed": false,
     "input": [
      "mlab.figure(2,bgcolor=(1, 1, 1))\n",
      "img = mlab.triangular_mesh(x,y,z,triangles,scalars=subarr2[:,5], colormap='hsv')\n",
      "lut = img.module_manager.scalar_lut_manager.lut.table.to_array()\n",
      "img.module_manager.scalar_lut_manager.lut.table = cmap\n",
      "mlab.draw()\n",
      "mlab.show()"
     ],
     "language": "python",
     "metadata": {},
     "outputs": [],
     "prompt_number": 46
    },
    {
     "cell_type": "code",
     "collapsed": false,
     "input": [
      "BP4T_arr=np.loadtxt('/scr/ilz3/myelinconnect/final_struct_space/clustering/BP4T_lh_mid_simple_0.01_rest_lh_smoothdata_embed_3_kmeans_7_subclust.csv', delimiter=',')"
     ],
     "language": "python",
     "metadata": {},
     "outputs": [],
     "prompt_number": 54
    },
    {
     "cell_type": "code",
     "collapsed": false,
     "input": [
      "vb,fb,db=read_vtk('/scr/ilz3/myelinconnect/final_struct_space/rest1_1_meshsmooth_3/BP4T_lh_mid_simple_0.01_rest_lh_smoothdata.vtk')"
     ],
     "language": "python",
     "metadata": {},
     "outputs": [],
     "prompt_number": 48
    },
    {
     "cell_type": "code",
     "collapsed": false,
     "input": [
      "xb=vb['val'][:,0]\n",
      "yb=vb['val'][:,1]\n",
      "zb=vb['val'][:,2]\n",
      "trib=fb['val']"
     ],
     "language": "python",
     "metadata": {},
     "outputs": [],
     "prompt_number": 50
    },
    {
     "cell_type": "code",
     "collapsed": false,
     "input": [
      "mlab.figure(3,bgcolor=(1, 1, 1))\n",
      "img = mlab.triangular_mesh(xb,yb,zb,trib,scalars=BP4T_arr[:,7], colormap='hsv')\n",
      "lut = img.module_manager.scalar_lut_manager.lut.table.to_array()\n",
      "img.module_manager.scalar_lut_manager.lut.table = cmap\n",
      "mlab.draw()\n",
      "mlab.show()"
     ],
     "language": "python",
     "metadata": {},
     "outputs": [],
     "prompt_number": 63
    }
   ],
   "metadata": {}
  }
 ]
}