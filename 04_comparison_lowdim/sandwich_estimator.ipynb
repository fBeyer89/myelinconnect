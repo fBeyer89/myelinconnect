{
 "cells": [
  {
   "cell_type": "code",
   "execution_count": 1,
   "metadata": {
    "collapsed": true
   },
   "outputs": [],
   "source": [
    "%matplotlib inline"
   ]
  },
  {
   "cell_type": "code",
   "execution_count": 20,
   "metadata": {
    "collapsed": false
   },
   "outputs": [],
   "source": [
    "from __future__ import division\n",
    "import numpy as np\n",
    "import pandas as pd\n",
    "import matplotlib.pyplot as plt\n",
    "import pickle\n",
    "from vtk_rw import read_vtk\n",
    "import seaborn as sns\n",
    "from scipy.optimize import curve_fit\n",
    "import sklearn"
   ]
  },
  {
   "cell_type": "code",
   "execution_count": 3,
   "metadata": {
    "collapsed": false
   },
   "outputs": [],
   "source": [
    "def load_pickle(pkl_file):\n",
    "    pkl_in = open(pkl_file, 'r')\n",
    "    pkl_dict = pickle.load(pkl_in)\n",
    "    pkl_in.close()\n",
    "    return pkl_dict"
   ]
  },
  {
   "cell_type": "code",
   "execution_count": 7,
   "metadata": {
    "collapsed": false
   },
   "outputs": [],
   "source": [
    "infl=150\n",
    "lh_mesh_file = '/scr/ilz3/myelinconnect/new_groupavg/surfs/lowres/inflated/lh_lowres_new_taubin_%i.vtk'%infl\n",
    "lh_sulc_file = '/scr/ilz3/myelinconnect/new_groupavg/surfs/lowres/inflated/lh_lowres_new_taubin_%i_sulc.npy'%infl\n",
    "rh_mesh_file = '/scr/ilz3/myelinconnect/new_groupavg/surfs/lowres/inflated/rh_lowres_new_taubin_%i.vtk'%infl\n",
    "rh_sulc_file = '/scr/ilz3/myelinconnect/new_groupavg/surfs/lowres/inflated/rh_lowres_new_taubin_%i_sulc.npy'%infl\n",
    "fullmask_file = '/scr/ilz3/myelinconnect/new_groupavg/masks/fullmask_lh_rh_new.npy'\n",
    "lh_sulc = np.load(lh_sulc_file)\n",
    "lv, lf, _ = read_vtk(lh_mesh_file)\n",
    "rh_sulc = np.load(rh_sulc_file)\n",
    "rv, rf, _ = read_vtk(rh_mesh_file)\n",
    "fullmask = np.load(fullmask_file)"
   ]
  },
  {
   "cell_type": "markdown",
   "metadata": {},
   "source": [
    "### Load and prep embeddings"
   ]
  },
  {
   "cell_type": "code",
   "execution_count": 8,
   "metadata": {
    "collapsed": false
   },
   "outputs": [],
   "source": [
    "embed_file='/scr/ilz3/myelinconnect/new_groupavg/embed/both_smooth_3_embed.npy'\n",
    "embed_viz_file='/scr/ilz3/myelinconnect/new_groupavg/embed/both_smooth_3_embed_viz.npy'\n",
    "dict_file='/scr/ilz3/myelinconnect/new_groupavg/embed/both_smooth_3_embed_dict.pkl'\n",
    "dict_viz_file='/scr/ilz3/myelinconnect/new_groupavg/embed/both_smooth_3_embed_dict_viz.pkl'\n",
    "\n",
    "embed_dict = load_pickle(dict_file)\n",
    "eigenval=embed_dict['lambdas']\n",
    "perc_var = eigenval/np.sum(eigenval)*100\n",
    "# normalize vectors\n",
    "embed_masked = np.zeros((embed_dict['vectors'].shape[0], embed_dict['vectors'].shape[1]-1))\n",
    "for comp in range(100):\n",
    "    embed_masked[:,comp]=(embed_dict['vectors'][:,comp+1]/embed_dict['vectors'][:,0])\n",
    "\n",
    "# unmask the embedding, that has been saved in masked form\n",
    "idcs=np.arange(0,(lv.shape[0]+rv.shape[0]))\n",
    "nonmask=np.delete(idcs, fullmask)\n",
    "embed = np.zeros(((lv.shape[0]+rv.shape[0]),100))\n",
    "embed[nonmask] = embed_masked"
   ]
  },
  {
   "cell_type": "markdown",
   "metadata": {},
   "source": [
    "### Load models"
   ]
  },
  {
   "cell_type": "code",
   "execution_count": 9,
   "metadata": {
    "collapsed": true
   },
   "outputs": [],
   "source": [
    "t1_predict_file_0 = '/scr/ilz3/myelinconnect/new_groupavg/model/linear_combination/t1avg/smooth_1.5/both_t1avg_by_fc_maps_0.pkl'\n",
    "t1_predict_file_best = '/scr/ilz3/myelinconnect/new_groupavg/model/linear_combination/t1avg/smooth_1.5/both_t1avg_by_fc_maps_best.pkl'\n",
    "t1_predict_0 = load_pickle(t1_predict_file_0)\n",
    "t1_predict_best = load_pickle(t1_predict_file_best)"
   ]
  },
  {
   "cell_type": "code",
   "execution_count": 12,
   "metadata": {
    "collapsed": true
   },
   "outputs": [],
   "source": [
    "scatter_mask = np.where(t1_predict_0['t1']>1500)\n",
    "FC1 = -embed[:,0][scatter_mask]\n",
    "T1 = t1_predict_0['t1'][scatter_mask]\n",
    "\n",
    "xdata = FC1\n",
    "ydata = (T1-np.mean(T1))/np.std(T1)\n",
    "x = np.linspace(-2,2,100) #xdata.min(), xdata.max(), 100)"
   ]
  },
  {
   "cell_type": "code",
   "execution_count": 13,
   "metadata": {
    "collapsed": true
   },
   "outputs": [],
   "source": [
    "FCbest=t1_predict_best['modelled_fit'][scatter_mask]\n",
    "xbest = np.linspace(1850,2150,100)"
   ]
  },
  {
   "cell_type": "markdown",
   "metadata": {},
   "source": [
    "### Calculate p values with sandwich estimator"
   ]
  },
  {
   "cell_type": "code",
   "execution_count": 14,
   "metadata": {
    "collapsed": false
   },
   "outputs": [
    {
     "name": "stdout",
     "output_type": "stream",
     "text": [
      "Pearson FC1: -0.528208342431\n",
      "Spearman FC1: -0.546362242198\n",
      "\n",
      "Pearson FC1,5,6: 0.667511548784\n",
      "Spearman FC1,5,6: 0.705016286249\n"
     ]
    }
   ],
   "source": [
    "import scipy.stats as stats\n",
    "print \"Pearson FC1:\", stats.pearsonr(embed[:,0][scatter_mask],t1_predict_0['t1'][scatter_mask])[0]\n",
    "print \"Spearman FC1:\", stats.spearmanr(embed[:,0][scatter_mask],t1_predict_0['t1'][scatter_mask])[0]\n",
    "print ''\n",
    "print \"Pearson FC1,5,6:\",stats.pearsonr(t1_predict_best['modelled_fit'][scatter_mask],t1_predict_0['t1'][scatter_mask])[0]\n",
    "print \"Spearman FC1,5,6:\", stats.spearmanr(t1_predict_best['modelled_fit'][scatter_mask],t1_predict_0['t1'][scatter_mask])[0]\n"
   ]
  },
  {
   "cell_type": "code",
   "execution_count": 15,
   "metadata": {
    "collapsed": false
   },
   "outputs": [],
   "source": [
    "import statsmodels.api as sm\n",
    "import statsmodels.stats as sms\n",
    "#X = np.column_stack((np.ones(FC1.shape), FC1))\n",
    "X = np.column_stack((np.ones(FC1.shape), FC1, -embed[:,4][scatter_mask], -embed[:,5][scatter_mask]))\n",
    "model = sm.OLS(T1, X)\n",
    "results = model.fit()"
   ]
  },
  {
   "cell_type": "code",
   "execution_count": 16,
   "metadata": {
    "collapsed": false
   },
   "outputs": [
    {
     "name": "stdout",
     "output_type": "stream",
     "text": [
      "classic covariance matrix\n",
      "[[  8.31044671e-02  -1.01266055e-03  -2.55333647e-04  -1.75812456e-04]\n",
      " [ -1.01266055e-03   8.32009562e-02  -5.72317391e-05  -3.59824890e-04]\n",
      " [ -2.55333647e-04  -5.72317391e-05   8.30262280e-02  -4.69815842e-04]\n",
      " [ -1.75812456e-04  -3.59824890e-04  -4.69815842e-04   8.30912946e-02]]\n",
      "\n",
      "Sandwich robust covariance matrix\n",
      "[[ 0.08314991 -0.00267364  0.00067727 -0.00269965]\n",
      " [-0.00267364  0.09626431 -0.01662708 -0.00412796]\n",
      " [ 0.00067727 -0.01662708  0.08385298 -0.01948418]\n",
      " [-0.00269965 -0.00412796 -0.01948418  0.09438307]]\n"
     ]
    }
   ],
   "source": [
    "print 'classic covariance matrix'\n",
    "print results.cov_params()\n",
    "print ''\n",
    "print 'Sandwich robust covariance matrix'\n",
    "sandwich=sms.sandwich_covariance.cov_white_simple(results)\n",
    "print sandwich"
   ]
  },
  {
   "cell_type": "code",
   "execution_count": 17,
   "metadata": {
    "collapsed": false
   },
   "outputs": [
    {
     "name": "stdout",
     "output_type": "stream",
     "text": [
      "Classic standard errors\n",
      "0.288278454051 0.288445759569 0.288142721565 0.288255606312\n",
      "\n",
      "Sandwich standard errors\n",
      "0.288357253422 0.310264895007 0.289573783041 0.307218273311\n"
     ]
    }
   ],
   "source": [
    "print 'Classic standard errors'\n",
    "print results.bse[0], results.bse[1], results.bse[2], results.bse[3]\n",
    "print ''\n",
    "print 'Sandwich standard errors'\n",
    "print np.sqrt(sandwich[0][0]), np.sqrt(sandwich[1][1]), np.sqrt(sandwich[2][2]), np.sqrt(sandwich[3][3])"
   ]
  },
  {
   "cell_type": "code",
   "execution_count": 18,
   "metadata": {
    "collapsed": false
   },
   "outputs": [
    {
     "name": "stdout",
     "output_type": "stream",
     "text": [
      "Classic confidence intervals\n",
      "[1983.6877226741487, 1984.8177742140294]\n",
      "[70.273112184426211, 71.403819561937681]\n",
      "[34.563933863026868, 35.693453331561791]\n",
      "[41.359776948746969, 42.489738925489632]\n",
      "\n",
      "Sandwich robust confidence intervals\n",
      "[1984.0897746291112, 1984.415722259067]\n",
      "[70.649787835237035, 71.027143911126856]\n",
      "[34.964341764677783, 35.293045429910876]\n",
      "[41.73976712490385, 42.109748749332752]\n"
     ]
    }
   ],
   "source": [
    "print 'Classic confidence intervals'\n",
    "print [results.params[0]-1.96*results.bse[0], results.params[0]+1.96*results.bse[0]]\n",
    "print [results.params[1]-1.96*results.bse[1], results.params[1]+1.96*results.bse[1]]\n",
    "print [results.params[2]-1.96*results.bse[2], results.params[2]+1.96*results.bse[2]]\n",
    "print [results.params[3]-1.96*results.bse[3], results.params[3]+1.96*results.bse[3]]\n",
    "print ''\n",
    "print 'Sandwich robust confidence intervals'\n",
    "print [results.params[0]-1.96*sandwich[0][0], results.params[0]+1.96*sandwich[0][0]]\n",
    "print [results.params[1]-1.96*sandwich[1][1], results.params[1]+1.96*sandwich[1][1]]\n",
    "print [results.params[2]-1.96*sandwich[2][2], results.params[2]+1.96*sandwich[2][2]]\n",
    "print [results.params[3]-1.96*sandwich[3][3], results.params[3]+1.96*sandwich[3][3]]"
   ]
  },
  {
   "cell_type": "code",
   "execution_count": 19,
   "metadata": {
    "collapsed": false
   },
   "outputs": [
    {
     "name": "stdout",
     "output_type": "stream",
     "text": [
      "Beta 0\n",
      "classic p 0.0\n",
      "HAC  p 0.0\n",
      "\n",
      "Beta 1\n",
      "classic p 0.0\n",
      "HAC  p 0.0\n",
      "\n",
      "Beta 2\n",
      "classic p 0.0\n",
      "HAC  p 0.0\n",
      "\n",
      "Beta 3\n",
      "classic p 0.0\n",
      "HAC  p 0.0\n"
     ]
    }
   ],
   "source": [
    "print 'Beta 0'\n",
    "print 'classic p', stats.norm.sf(abs(results.params[0]/results.bse[0]))*2\n",
    "print 'HAC  p', stats.norm.sf(abs(results.params[0]/sandwich[0][0]))*2\n",
    "print ''\n",
    "print 'Beta 1'\n",
    "print 'classic p', stats.norm.sf(abs(results.params[1]/results.bse[1]))*2\n",
    "print 'HAC  p', stats.norm.sf(abs(results.params[1]/sandwich[1][1]))*2\n",
    "print ''\n",
    "print 'Beta 2'\n",
    "print 'classic p', stats.norm.sf(abs(results.params[2]/results.bse[2]))*2\n",
    "print 'HAC  p', stats.norm.sf(abs(results.params[2]/sandwich[2][2]))*2\n",
    "print ''\n",
    "print 'Beta 3'\n",
    "print 'classic p', stats.norm.sf(abs(results.params[3]/results.bse[3]))*2\n",
    "print 'HAC  p', stats.norm.sf(abs(results.params[3]/sandwich[3][3]))*2"
   ]
  },
  {
   "cell_type": "markdown",
   "metadata": {},
   "source": [
    "To find the p-values we can first calculate the z-statistics (coefficients divided by their corresponding standard errors), and compare the squared z-statistics to a chi-squared distribution on one degree of freedom"
   ]
  },
  {
   "cell_type": "markdown",
   "metadata": {},
   "source": [
    "### Test for heteroscedasticity"
   ]
  },
  {
   "cell_type": "code",
   "execution_count": 21,
   "metadata": {
    "collapsed": false
   },
   "outputs": [
    {
     "data": {
      "text/plain": [
       "[('Lagrange multiplier statistic', 65.431817668059324),\n",
       " ('p-value', 4.0549674129473383e-14),\n",
       " ('f-value', 21.821725695864924),\n",
       " ('f p-value', 4.0234070978690622e-14)]"
      ]
     },
     "execution_count": 21,
     "metadata": {},
     "output_type": "execute_result"
    }
   ],
   "source": [
    "from statsmodels.compat import lzip\n",
    "name = ['Lagrange multiplier statistic', 'p-value',\n",
    "        'f-value', 'f p-value']\n",
    "test = sms.api.het_breushpagan(results.resid, results.model.exog)\n",
    "lzip(name, test)"
   ]
  },
  {
   "cell_type": "code",
   "execution_count": 22,
   "metadata": {
    "collapsed": false
   },
   "outputs": [
    {
     "data": {
      "text/plain": [
       "[('Lagrange multiplier statistic', 4952.5853642667898),\n",
       " ('p-value', 0.0),\n",
       " ('f-value', 573.81400019885427),\n",
       " ('f p-value', 0.0)]"
      ]
     },
     "execution_count": 22,
     "metadata": {},
     "output_type": "execute_result"
    }
   ],
   "source": [
    "test_white = sms.api.het_white(results.resid, results.model.exog)\n",
    "lzip(name, test_white)"
   ]
  },
  {
   "cell_type": "code",
   "execution_count": 23,
   "metadata": {
    "collapsed": false
   },
   "outputs": [
    {
     "data": {
      "text/plain": [
       "[('F statistic', 4952.5853642667898), ('p-value', 0.0)]"
      ]
     },
     "execution_count": 23,
     "metadata": {},
     "output_type": "execute_result"
    }
   ],
   "source": [
    "name = ['F statistic', 'p-value']\n",
    "test_gold = sms.api.het_goldfeldquandt(results.resid, results.model.exog)\n",
    "lzip(name, test_white)"
   ]
  },
  {
   "cell_type": "code",
   "execution_count": null,
   "metadata": {
    "collapsed": true
   },
   "outputs": [],
   "source": []
  }
 ],
 "metadata": {
  "kernelspec": {
   "display_name": "Python 2",
   "language": "python",
   "name": "python2"
  },
  "language_info": {
   "codemirror_mode": {
    "name": "ipython",
    "version": 2
   },
   "file_extension": ".py",
   "mimetype": "text/x-python",
   "name": "python",
   "nbconvert_exporter": "python",
   "pygments_lexer": "ipython2",
   "version": "2.7.11"
  }
 },
 "nbformat": 4,
 "nbformat_minor": 0
}
